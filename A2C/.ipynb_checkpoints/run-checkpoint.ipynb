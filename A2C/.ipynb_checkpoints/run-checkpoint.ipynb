{
 "cells": [
  {
   "cell_type": "code",
   "execution_count": 1,
   "metadata": {},
   "outputs": [],
   "source": [
    "import policynet\n",
    "import qvaluenet\n",
    "import gym\n",
    "gym.logger.set_level(40)\n",
    "import torch\n",
    "import torch\n",
    "import torch.nn as nn\n",
    "import torch.nn.functional as F\n",
    "import torch.optim as optim\n",
    "import numpy as np"
   ]
  },
  {
   "cell_type": "code",
   "execution_count": 5,
   "metadata": {},
   "outputs": [],
   "source": [
    "device = \"cuda\" if torch.cuda.is_available() else \"cpu\""
   ]
  },
  {
   "cell_type": "code",
   "execution_count": 25,
   "metadata": {},
   "outputs": [
    {
     "name": "stdout",
     "output_type": "stream",
     "text": [
      "Discrete(2) Box(4,)\n"
     ]
    }
   ],
   "source": [
    "env = gym.make('CartPole-v0')\n",
    "print(env.action_space, env.observation_space)\n",
    "# print(\"List of available actions: \", env.unwrapped)"
   ]
  },
  {
   "cell_type": "code",
   "execution_count": 7,
   "metadata": {},
   "outputs": [],
   "source": [
    "LR = 5e-4"
   ]
  },
  {
   "cell_type": "code",
   "execution_count": 8,
   "metadata": {},
   "outputs": [],
   "source": [
    "value_net = qvaluenet.network(4,1).to(device)\n",
    "policy_net = policynet.network(4,2).to(device)\n",
    "optimizer_value = optim.Adam(value_net.parameters(), lr=LR)\n",
    "optimizer_policy = optim.Adam(policy_net.parameters(), lr=LR)\n"
   ]
  },
  {
   "cell_type": "code",
   "execution_count": null,
   "metadata": {},
   "outputs": [],
   "source": [
    "state = env.reset()"
   ]
  },
  {
   "cell_type": "code",
   "execution_count": null,
   "metadata": {},
   "outputs": [],
   "source": [
    "g = torch.from_numpy(state).float().to(device)"
   ]
  },
  {
   "cell_type": "code",
   "execution_count": null,
   "metadata": {},
   "outputs": [],
   "source": [
    "state = env.reset()\n",
    "state = torch.from_numpy(state).float().to(device)\n",
    "while True:\n",
    "    \n",
    "    action = int(policy_net(state))\n",
    "    next_state, reward, done, _ = env.step(state)\n",
    "    next_state = torch.from_numpy(next_state).float().to(device)\n",
    "    \n",
    "    temp = float(value_net(next_state))\n",
    "    v_value = reward + temp\n",
    "    value_net_loss = F.mse_loss(value_net(state), reward + temp)\n",
    "    optimizer_value.zero_grad()\n",
    "    value_net_loss.backward()\n",
    "    optimizer_value.step()\n",
    "    \n",
    "    advantage_value = reward + gamma*float(value_net(next_state)) - float(value_net(state))\n",
    "    ## advantage function can be used as a baseliine \n",
    "    "
   ]
  },
  {
   "cell_type": "code",
   "execution_count": 9,
   "metadata": {},
   "outputs": [],
   "source": [
    "from collections import namedtuple\n",
    "exp = namedtuple('experience',['state','reward','next_state', 'action', 'done'])\n"
   ]
  },
  {
   "cell_type": "code",
   "execution_count": 20,
   "metadata": {},
   "outputs": [],
   "source": [
    "def collect_trajectory():\n",
    "    global exp\n",
    "    experiences = []\n",
    "    state = env.reset()\n",
    "    while True:\n",
    "        action = int(policy_net(torch.from_numpy(state).float().to(device)).argmax())\n",
    "        next_state, reward, done, _ = env.step(action)\n",
    "        experiences.append(exp(state,reward,next_state,action,done))\n",
    "        state = next_state\n",
    "        if done:\n",
    "            break\n",
    "    return experiences"
   ]
  },
  {
   "cell_type": "code",
   "execution_count": 57,
   "metadata": {},
   "outputs": [],
   "source": [
    "states, rewards, next_states, actions, dones = zip(*collect_trajectory())\n",
    "states = torch.from_numpy(np.array(states)).float().to(device)\n",
    "next_states = torch.from_numpy(np.array(next_states)).float().to(device)\n",
    "actions = torch.from_numpy(np.array(actions))\n",
    "# rewards = torch.from_numpy(np.array(rewards))"
   ]
  },
  {
   "cell_type": "code",
   "execution_count": 60,
   "metadata": {},
   "outputs": [],
   "source": [
    "gamma = 0.99\n",
    "discounts = np.array([gamma**i for i in range(1, len(rewards)+1)])\n",
    "discounted_rewards = np.multiply(np.array(rewards), discounts)\n",
    "discounted_rewards = discounted_rewards[::-1].cumsum()[::-1]"
   ]
  },
  {
   "cell_type": "code",
   "execution_count": null,
   "metadata": {},
   "outputs": [],
   "source": []
  }
 ],
 "metadata": {
  "kernelspec": {
   "display_name": "Python 3",
   "language": "python",
   "name": "python3"
  },
  "language_info": {
   "codemirror_mode": {
    "name": "ipython",
    "version": 3
   },
   "file_extension": ".py",
   "mimetype": "text/x-python",
   "name": "python",
   "nbconvert_exporter": "python",
   "pygments_lexer": "ipython3",
   "version": "3.7.3"
  }
 },
 "nbformat": 4,
 "nbformat_minor": 2
}
