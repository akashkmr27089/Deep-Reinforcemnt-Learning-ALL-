{
 "cells": [
  {
   "cell_type": "markdown",
   "metadata": {},
   "source": [
    "# REINFORCE\n",
    "\n",
    "---\n",
    "\n",
    "In this notebook, we will train REINFORCE with OpenAI Gym's Cartpole environment."
   ]
  },
  {
   "cell_type": "markdown",
   "metadata": {},
   "source": [
    "### 1. Import the Necessary Packages"
   ]
  },
  {
   "cell_type": "code",
   "execution_count": 4,
   "metadata": {},
   "outputs": [],
   "source": [
    "import gym\n",
    "gym.logger.set_level(40) # suppress warnings (please remove if gives error)\n",
    "import numpy as np\n",
    "from collections import deque\n",
    "import matplotlib.pyplot as plt\n",
    "%matplotlib inline\n",
    "\n",
    "import torch\n",
    "torch.manual_seed(0) # set random seed\n",
    "import torch.nn as nn\n",
    "import torch.nn.functional as F\n",
    "import torch.optim as optim\n",
    "from torch.distributions import Categorical"
   ]
  },
  {
   "cell_type": "markdown",
   "metadata": {},
   "source": [
    "### 2. Define the Architecture of the Policy"
   ]
  },
  {
   "cell_type": "code",
   "execution_count": 5,
   "metadata": {},
   "outputs": [
    {
     "name": "stdout",
     "output_type": "stream",
     "text": [
      "observation space: Box(6,)\n",
      "action space: Discrete(3)\n"
     ]
    }
   ],
   "source": [
    "env = gym.make('Acrobot-v1')\n",
    "env.seed(0)\n",
    "print('observation space:', env.observation_space)\n",
    "print('action space:', env.action_space)\n",
    "\n",
    "device = torch.device(\"cuda\" if torch.cuda.is_available() else \"cpu\")\n",
    "\n",
    "class Policy(nn.Module):\n",
    "    def __init__(self, s_size=4, h_size=16, a_size=2):\n",
    "        super(Policy, self).__init__()\n",
    "        self.fc1 = nn.Linear(s_size, h_size).to(device)\n",
    "        self.fc2 = nn.Linear(h_size, h_size).to(device)\n",
    "        self.fc3 = nn.Linear(h_size, a_size).to(device)\n",
    "\n",
    "    def forward(self, x):\n",
    "        x = F.relu(self.fc1(x))\n",
    "        x = F.relu(self.fc2(x))\n",
    "        x = self.fc3(x)\n",
    "        return F.softmax(x, dim=-1)\n",
    "    \n",
    "    def act(self, state):\n",
    "        state = torch.from_numpy(state).float().unsqueeze(0).to(device)\n",
    "        probs = self.forward(state).cpu()\n",
    "        m = Categorical(probs)\n",
    "        action = m.sample()\n",
    "        return action.item(), m.log_prob(action)"
   ]
  },
  {
   "cell_type": "code",
   "execution_count": null,
   "metadata": {
    "scrolled": true
   },
   "outputs": [],
   "source": [
    "state = env.reset()\n",
    "state = torch.from_numpy(state).float().to(device)\n",
    "policy = Policy()\n",
    "print(\"state\", state)\n",
    "prob = policy.forward(state)\n",
    "print(\"prob\",prob)\n",
    "g = Categorical(prob)\n",
    "print(\"categorical \",g)\n",
    "print(g.sample())"
   ]
  },
  {
   "cell_type": "code",
   "execution_count": null,
   "metadata": {},
   "outputs": [],
   "source": [
    "a = [x for x in range(1,10)]\n",
    "b = [x for x in range(20,30)]\n",
    "a = [torch.from_numpy(np.array(x)) for x in a]\n",
    "a = torch.from_numpy(np.array(a))"
   ]
  },
  {
   "cell_type": "markdown",
   "metadata": {},
   "source": [
    "### 3. Train the Agent with REINFORCE"
   ]
  },
  {
   "cell_type": "code",
   "execution_count": 6,
   "metadata": {},
   "outputs": [
    {
     "name": "stdout",
     "output_type": "stream",
     "text": [
      "Episode 100\tAverage Score: -212.32\n",
      "Episode 200\tAverage Score: -111.25\n",
      "Episode 300\tAverage Score: -91.76\n",
      "Episode 400\tAverage Score: -101.22\n",
      "Episode 500\tAverage Score: -105.87\n",
      "Episode 600\tAverage Score: -99.45\n",
      "Episode 700\tAverage Score: -107.52\n",
      "Episode 800\tAverage Score: -111.99\n",
      "Episode 900\tAverage Score: -112.48\n",
      "Episode 1000\tAverage Score: -87.78\n",
      "Episode 1100\tAverage Score: -129.95\n",
      "Episode 1200\tAverage Score: -103.75\n",
      "Episode 1300\tAverage Score: -87.76\n",
      "Episode 1400\tAverage Score: -96.87\n",
      "Episode 1500\tAverage Score: -92.15\n",
      "Episode 1600\tAverage Score: -82.78\n",
      "Episode 1700\tAverage Score: -95.07\n",
      "Episode 1800\tAverage Score: -91.60\n",
      "Episode 1900\tAverage Score: -94.84\n",
      "Episode 2000\tAverage Score: -106.00\n",
      "Episode 2100\tAverage Score: -153.89\n",
      "Episode 2200\tAverage Score: -116.15\n",
      "Episode 2300\tAverage Score: -90.58\n",
      "Episode 2400\tAverage Score: -96.53\n",
      "Episode 2500\tAverage Score: -88.98\n",
      "Episode 2600\tAverage Score: -89.25\n",
      "Episode 2700\tAverage Score: -90.14\n",
      "Episode 2800\tAverage Score: -94.77\n",
      "Episode 2900\tAverage Score: -90.99\n",
      "Episode 3000\tAverage Score: -84.11\n",
      "Episode 3100\tAverage Score: -86.95\n",
      "Episode 3200\tAverage Score: -87.27\n",
      "Episode 3300\tAverage Score: -93.69\n",
      "Episode 3400\tAverage Score: -83.74\n",
      "Episode 3500\tAverage Score: -83.24\n",
      "Episode 3600\tAverage Score: -82.78\n",
      "Episode 3700\tAverage Score: -85.57\n",
      "Episode 3800\tAverage Score: -85.88\n",
      "Episode 3900\tAverage Score: -86.64\n",
      "Episode 4000\tAverage Score: -81.26\n"
     ]
    }
   ],
   "source": [
    "policy = Policy(6,16,3).to(device)\n",
    "optimizer = optim.Adam(policy.parameters(), lr=1e-2)\n",
    "\n",
    "def reinforce(n_episodes=4000, max_t=1000, gamma=1.0, print_every=100):\n",
    "    scores_deque = deque(maxlen=100)\n",
    "    scores = []\n",
    "    for i_episode in range(1, n_episodes+1):\n",
    "        saved_log_probs = []\n",
    "        rewards = []\n",
    "        state = env.reset()\n",
    "        for t in range(max_t):\n",
    "            action, log_prob = policy.act(state)\n",
    "            saved_log_probs.append(log_prob)\n",
    "            state, reward, done, _ = env.step(action)\n",
    "            rewards.append(reward)\n",
    "            if done:\n",
    "                break \n",
    "        scores_deque.append(sum(rewards))\n",
    "        scores.append(sum(rewards))\n",
    "        \n",
    "        discounts = [gamma**i for i in range(len(rewards)+1)]\n",
    "        R = sum([a*b for a,b in zip(discounts, rewards)])\n",
    "        \n",
    "        policy_loss = []\n",
    "        for log_prob in saved_log_probs:\n",
    "            policy_loss.append(-log_prob * R)\n",
    "        policy_loss = torch.cat(policy_loss).sum()\n",
    "        \n",
    "        optimizer.zero_grad()\n",
    "        policy_loss.backward()\n",
    "        optimizer.step()\n",
    "        \n",
    "        if i_episode % print_every == 0:\n",
    "            print('Episode {}\\tAverage Score: {:.2f}'.format(i_episode, np.mean(scores_deque)))\n",
    "        if np.mean(scores_deque)>=195.0:\n",
    "            print('Environment solved in {:d} episodes!\\tAverage Score: {:.2f}'.format(i_episode-100, np.mean(scores_deque)))\n",
    "            break\n",
    "        \n",
    "    return scores\n",
    "    \n",
    "scores = reinforce()"
   ]
  },
  {
   "cell_type": "markdown",
   "metadata": {},
   "source": [
    "### 4. Plot the Scores"
   ]
  },
  {
   "cell_type": "code",
   "execution_count": null,
   "metadata": {},
   "outputs": [],
   "source": [
    "fig = plt.figure()\n",
    "ax = fig.add_subplot(111)\n",
    "plt.plot(np.arange(1, len(scores)+1), scores)\n",
    "plt.ylabel('Score')\n",
    "plt.xlabel('Episode #')\n",
    "plt.show()"
   ]
  },
  {
   "cell_type": "markdown",
   "metadata": {},
   "source": [
    "### 5. Watch a Smart Agent!"
   ]
  },
  {
   "cell_type": "code",
   "execution_count": null,
   "metadata": {},
   "outputs": [],
   "source": [
    "env = gym.make('CartPole-v0')\n",
    "\n",
    "state = env.reset()\n",
    "for t in range(1000):\n",
    "    action, logprob = policy.act(state)\n",
    "    print('\\r action {} with log prob {}'.format(action, logprob), end = ' ')\n",
    "    env.render()\n",
    "    state, reward, done, _ = env.step(action)\n",
    "    if done:\n",
    "        break \n",
    "\n",
    "env.close()"
   ]
  },
  {
   "cell_type": "code",
   "execution_count": null,
   "metadata": {},
   "outputs": [],
   "source": []
  }
 ],
 "metadata": {
  "anaconda-cloud": {},
  "kernelspec": {
   "display_name": "Python 3",
   "language": "python",
   "name": "python3"
  },
  "language_info": {
   "codemirror_mode": {
    "name": "ipython",
    "version": 3
   },
   "file_extension": ".py",
   "mimetype": "text/x-python",
   "name": "python",
   "nbconvert_exporter": "python",
   "pygments_lexer": "ipython3",
   "version": "3.7.3"
  }
 },
 "nbformat": 4,
 "nbformat_minor": 2
}
