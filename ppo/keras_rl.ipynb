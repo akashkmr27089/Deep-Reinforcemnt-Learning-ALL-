{
 "cells": [
  {
   "cell_type": "code",
   "execution_count": 1,
   "metadata": {
    "tags": []
   },
   "outputs": [
    {
     "output_type": "stream",
     "name": "stderr",
     "text": "Using TensorFlow backend.\n"
    }
   ],
   "source": [
    "import numpy as np\n",
    "import gym\n",
    "\n",
    "from keras.models import Sequential, Model\n",
    "from keras.layers import Dense, Activation, Flatten, Input, Concatenate\n",
    "from keras.optimizers import Adam\n",
    "\n",
    "from rl.agents import DDPGAgent\n",
    "from rl.memory import SequentialMemory\n",
    "from rl.random import OrnsteinUhlenbeckProcess"
   ]
  },
  {
   "cell_type": "code",
   "execution_count": 2,
   "metadata": {},
   "outputs": [],
   "source": [
    "ENV_NAME = 'MountainCarContinuous-v0'"
   ]
  },
  {
   "cell_type": "code",
   "execution_count": 3,
   "metadata": {},
   "outputs": [],
   "source": [
    "env = gym.make(ENV_NAME)\n",
    "np.random.seed(123)\n",
    "env.seed(123)\n",
    "assert len(env.action_space.shape) == 1\n",
    "nb_actions = env.action_space.shape[0]"
   ]
  },
  {
   "cell_type": "code",
   "execution_count": 4,
   "metadata": {
    "tags": []
   },
   "outputs": [
    {
     "output_type": "stream",
     "name": "stderr",
     "text": "WARNING: Logging before flag parsing goes to stderr.\nW0625 00:26:16.236955 140276171405120 deprecation_wrapper.py:119] From /home/oxygen/anaconda3/envs/py36/lib/python3.6/site-packages/keras/backend/tensorflow_backend.py:74: The name tf.get_default_graph is deprecated. Please use tf.compat.v1.get_default_graph instead.\n\nW0625 00:26:16.254884 140276171405120 deprecation_wrapper.py:119] From /home/oxygen/anaconda3/envs/py36/lib/python3.6/site-packages/keras/backend/tensorflow_backend.py:517: The name tf.placeholder is deprecated. Please use tf.compat.v1.placeholder instead.\n\nW0625 00:26:16.267619 140276171405120 deprecation_wrapper.py:119] From /home/oxygen/anaconda3/envs/py36/lib/python3.6/site-packages/keras/backend/tensorflow_backend.py:4138: The name tf.random_uniform is deprecated. Please use tf.random.uniform instead.\n\n_________________________________________________________________\nLayer (type)                 Output Shape              Param #   \n=================================================================\nflatten_1 (Flatten)          (None, 2)                 0         \n_________________________________________________________________\ndense_1 (Dense)              (None, 16)                48        \n_________________________________________________________________\nactivation_1 (Activation)    (None, 16)                0         \n_________________________________________________________________\ndense_2 (Dense)              (None, 16)                272       \n_________________________________________________________________\nactivation_2 (Activation)    (None, 16)                0         \n_________________________________________________________________\ndense_3 (Dense)              (None, 16)                272       \n_________________________________________________________________\nactivation_3 (Activation)    (None, 16)                0         \n_________________________________________________________________\ndense_4 (Dense)              (None, 1)                 17        \n_________________________________________________________________\nactivation_4 (Activation)    (None, 1)                 0         \n=================================================================\nTotal params: 609\nTrainable params: 609\nNon-trainable params: 0\n_________________________________________________________________\nNone\n__________________________________________________________________________________________________\nLayer (type)                    Output Shape         Param #     Connected to                     \n==================================================================================================\nobservation_input (InputLayer)  (None, 1, 2)         0                                            \n__________________________________________________________________________________________________\naction_input (InputLayer)       (None, 1)            0                                            \n__________________________________________________________________________________________________\nflatten_2 (Flatten)             (None, 2)            0           observation_input[0][0]          \n__________________________________________________________________________________________________\nconcatenate_1 (Concatenate)     (None, 3)            0           action_input[0][0]               \n                                                                 flatten_2[0][0]                  \n__________________________________________________________________________________________________\ndense_5 (Dense)                 (None, 32)           128         concatenate_1[0][0]              \n__________________________________________________________________________________________________\nactivation_5 (Activation)       (None, 32)           0           dense_5[0][0]                    \n__________________________________________________________________________________________________\ndense_6 (Dense)                 (None, 32)           1056        activation_5[0][0]               \n__________________________________________________________________________________________________\nactivation_6 (Activation)       (None, 32)           0           dense_6[0][0]                    \n__________________________________________________________________________________________________\ndense_7 (Dense)                 (None, 32)           1056        activation_6[0][0]               \n__________________________________________________________________________________________________\nactivation_7 (Activation)       (None, 32)           0           dense_7[0][0]                    \n__________________________________________________________________________________________________\ndense_8 (Dense)                 (None, 1)            33          activation_7[0][0]               \n__________________________________________________________________________________________________\nactivation_8 (Activation)       (None, 1)            0           dense_8[0][0]                    \n==================================================================================================\nTotal params: 2,273\nTrainable params: 2,273\nNon-trainable params: 0\n__________________________________________________________________________________________________\nNone\n"
    }
   ],
   "source": [
    "actor = Sequential()\n",
    "actor.add(Flatten(input_shape=(1,) + env.observation_space.shape))\n",
    "actor.add(Dense(16))\n",
    "actor.add(Activation('relu'))\n",
    "actor.add(Dense(16))\n",
    "actor.add(Activation('relu'))\n",
    "actor.add(Dense(16))\n",
    "actor.add(Activation('relu'))\n",
    "actor.add(Dense(nb_actions))\n",
    "actor.add(Activation('linear'))\n",
    "print(actor.summary())\n",
    "\n",
    "action_input = Input(shape=(nb_actions,), name='action_input')\n",
    "observation_input = Input(shape=(1,) + env.observation_space.shape, name='observation_input')\n",
    "flattened_observation = Flatten()(observation_input)\n",
    "x = Concatenate()([action_input, flattened_observation])\n",
    "x = Dense(32)(x)\n",
    "x = Activation('relu')(x)\n",
    "x = Dense(32)(x)\n",
    "x = Activation('relu')(x)\n",
    "x = Dense(32)(x)\n",
    "x = Activation('relu')(x)\n",
    "x = Dense(1)(x)\n",
    "x = Activation('linear')(x)\n",
    "critic = Model(inputs=[action_input, observation_input], outputs=x)\n",
    "print(critic.summary())"
   ]
  },
  {
   "cell_type": "code",
   "execution_count": 5,
   "metadata": {
    "tags": []
   },
   "outputs": [
    {
     "output_type": "stream",
     "name": "stderr",
     "text": "W0625 00:26:30.332848 140276171405120 deprecation_wrapper.py:119] From /home/oxygen/anaconda3/envs/py36/lib/python3.6/site-packages/keras/backend/tensorflow_backend.py:174: The name tf.get_default_session is deprecated. Please use tf.compat.v1.get_default_session instead.\n\nW0625 00:26:30.333665 140276171405120 deprecation_wrapper.py:119] From /home/oxygen/anaconda3/envs/py36/lib/python3.6/site-packages/keras/backend/tensorflow_backend.py:181: The name tf.ConfigProto is deprecated. Please use tf.compat.v1.ConfigProto instead.\n\nW0625 00:26:32.751868 140276171405120 deprecation_wrapper.py:119] From /home/oxygen/anaconda3/envs/py36/lib/python3.6/site-packages/keras/optimizers.py:790: The name tf.train.Optimizer is deprecated. Please use tf.compat.v1.train.Optimizer instead.\n\n"
    }
   ],
   "source": [
    "memory = SequentialMemory(limit=100000, window_length=1)\n",
    "random_process = OrnsteinUhlenbeckProcess(size=nb_actions, theta=.15, mu=0., sigma=.3)\n",
    "agent = DDPGAgent(nb_actions=nb_actions, actor=actor, critic=critic, critic_action_input=action_input,\n",
    "                  memory=memory, nb_steps_warmup_critic=100, nb_steps_warmup_actor=100,\n",
    "                  random_process=random_process, gamma=.99, target_model_update=1e-3)\n",
    "agent.compile(Adam(lr=.001, clipnorm=1.), metrics=['mae'])"
   ]
  },
  {
   "cell_type": "code",
   "execution_count": 6,
   "metadata": {
    "tags": []
   },
   "outputs": [
    {
     "output_type": "stream",
     "name": "stdout",
     "text": "Training for 50000 steps ...\nInterval 1 (0 steps performed)\n10000/10000 [==============================] - 54s 5ms/step - reward: -0.0069\n50 episodes - episode_reward: -1.377 [-5.155, -0.110] - loss: 0.000 - mean_absolute_error: 0.001 - mean_q: 0.017\n\nInterval 2 (10000 steps performed)\n10000/10000 [==============================] - 40s 4ms/step - reward: -0.0074\n50 episodes - episode_reward: -1.484 [-9.105, -0.097] - loss: 0.000 - mean_absolute_error: 0.001 - mean_q: 0.016\n\nInterval 3 (20000 steps performed)\n10000/10000 [==============================] - 32s 3ms/step - reward: -0.0066\n50 episodes - episode_reward: -1.316 [-11.323, -0.079] - loss: 0.000 - mean_absolute_error: 0.001 - mean_q: 0.013\n\nInterval 4 (30000 steps performed)\n10000/10000 [==============================] - 32s 3ms/step - reward: -0.0069\n50 episodes - episode_reward: -1.386 [-5.536, -0.124] - loss: 0.000 - mean_absolute_error: 0.000 - mean_q: 0.011\n\nInterval 5 (40000 steps performed)\n10000/10000 [==============================] - 32s 3ms/step - reward: -0.0092\ndone, took 189.835 seconds\n"
    },
    {
     "output_type": "execute_result",
     "data": {
      "text/plain": "<keras.callbacks.History at 0x7f9403d132e8>"
     },
     "metadata": {},
     "execution_count": 6
    }
   ],
   "source": [
    "agent.fit(env, nb_steps=100000, visualize=False, verbose=1, nb_max_episode_steps=200)"
   ]
  },
  {
   "cell_type": "code",
   "execution_count": null,
   "metadata": {},
   "outputs": [],
   "source": []
  }
 ],
 "metadata": {
  "language_info": {
   "codemirror_mode": {
    "name": "ipython",
    "version": 3
   },
   "file_extension": ".py",
   "mimetype": "text/x-python",
   "name": "python",
   "nbconvert_exporter": "python",
   "pygments_lexer": "ipython3",
   "version": "3.6.8-final"
  },
  "orig_nbformat": 2,
  "kernelspec": {
   "name": "python36864bitpy36condacd98d047ccbe4577af8016d2df1f7b32",
   "display_name": "Python 3.6.8 64-bit ('py36': conda)"
  }
 },
 "nbformat": 4,
 "nbformat_minor": 2
}