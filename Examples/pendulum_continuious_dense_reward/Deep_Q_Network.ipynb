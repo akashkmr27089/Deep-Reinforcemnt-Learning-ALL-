{
 "cells": [
  {
   "cell_type": "markdown",
   "metadata": {},
   "source": [
    "# Deep Q-Network (DQN)\n",
    "---\n",
    "In this notebook, you will implement a DQN agent with OpenAI Gym's LunarLander-v2 environment.\n",
    "\n",
    "### 1. Import the Necessary Packages"
   ]
  },
  {
   "cell_type": "code",
   "execution_count": 2,
   "metadata": {},
   "outputs": [],
   "source": [
    "import gym\n",
    "import random\n",
    "import torch\n",
    "import numpy as np\n",
    "from collections import deque\n",
    "import matplotlib.pyplot as plt\n",
    "%matplotlib inline"
   ]
  },
  {
   "cell_type": "markdown",
   "metadata": {},
   "source": [
    "### 2. Instantiate the Environment and Agent\n",
    "\n",
    "Initialize the environment in the code cell below."
   ]
  },
  {
   "cell_type": "code",
   "execution_count": 15,
   "metadata": {},
   "outputs": [
    {
     "name": "stderr",
     "output_type": "stream",
     "text": [
      "/home/oxygen/anaconda3/lib/python3.7/site-packages/gym/logger.py:30: UserWarning: \u001b[33mWARN: Box bound precision lowered by casting to float32\u001b[0m\n",
      "  warnings.warn(colorize('%s: %s'%('WARN', msg % args), 'yellow'))\n"
     ]
    }
   ],
   "source": [
    "env = gym.make('Pendulum-v0')\n",
    "env.seed(0)\n",
    "state = env.reset()\n",
    "low = env.action_space.low[0]\n",
    "high = env.action_space.high[0]\n",
    "action_space = 100\n",
    "state_space = 3\n",
    "possible_action = np.linspace(low, high, action_space, endpoint=False)"
   ]
  },
  {
   "cell_type": "code",
   "execution_count": 16,
   "metadata": {},
   "outputs": [
    {
     "data": {
      "text/plain": [
       "array([-2.  , -1.96, -1.92, -1.88, -1.84, -1.8 , -1.76, -1.72, -1.68,\n",
       "       -1.64, -1.6 , -1.56, -1.52, -1.48, -1.44, -1.4 , -1.36, -1.32,\n",
       "       -1.28, -1.24, -1.2 , -1.16, -1.12, -1.08, -1.04, -1.  , -0.96,\n",
       "       -0.92, -0.88, -0.84, -0.8 , -0.76, -0.72, -0.68, -0.64, -0.6 ,\n",
       "       -0.56, -0.52, -0.48, -0.44, -0.4 , -0.36, -0.32, -0.28, -0.24,\n",
       "       -0.2 , -0.16, -0.12, -0.08, -0.04,  0.  ,  0.04,  0.08,  0.12,\n",
       "        0.16,  0.2 ,  0.24,  0.28,  0.32,  0.36,  0.4 ,  0.44,  0.48,\n",
       "        0.52,  0.56,  0.6 ,  0.64,  0.68,  0.72,  0.76,  0.8 ,  0.84,\n",
       "        0.88,  0.92,  0.96,  1.  ,  1.04,  1.08,  1.12,  1.16,  1.2 ,\n",
       "        1.24,  1.28,  1.32,  1.36,  1.4 ,  1.44,  1.48,  1.52,  1.56,\n",
       "        1.6 ,  1.64,  1.68,  1.72,  1.76,  1.8 ,  1.84,  1.88,  1.92,\n",
       "        1.96])"
      ]
     },
     "execution_count": 16,
     "metadata": {},
     "output_type": "execute_result"
    }
   ],
   "source": [
    "possible_action"
   ]
  },
  {
   "cell_type": "markdown",
   "metadata": {},
   "source": [
    "Before running the next code cell, familiarize yourself with the code in **Step 2** and **Step 3** of this notebook, along with the code in `dqn_agent.py` and `model.py`.  Once you have an understanding of how the different files work together, \n",
    "- Define a neural network architecture in `model.py` that maps states to action values.  This file is mostly empty - it's up to you to define your own deep Q-network!\n",
    "- Finish the `learn` method in the `Agent` class in `dqn_agent.py`.  The sampled batch of experience tuples is already provided for you; you need only use the local and target Q-networks to compute the loss, before taking a step towards minimizing the loss.\n",
    "\n",
    "Once you have completed the code in `dqn_agent.py` and `model.py`, run the code cell below.  (_If you end up needing to make multiple changes and get unexpected behavior, please restart the kernel and run the cells from the beginning of the notebook!_)\n",
    "\n",
    "You can find the solution files, along with saved model weights for a trained agent, in the `solution/` folder.  (_Note that there are many ways to solve this exercise, and the \"solution\" is just one way of approaching the problem, to yield a trained agent._)"
   ]
  },
  {
   "cell_type": "code",
   "execution_count": 17,
   "metadata": {},
   "outputs": [
    {
     "data": {
      "text/plain": [
       "Box(3,)"
      ]
     },
     "execution_count": 17,
     "metadata": {},
     "output_type": "execute_result"
    }
   ],
   "source": [
    "env.observation_space"
   ]
  },
  {
   "cell_type": "code",
   "execution_count": 18,
   "metadata": {},
   "outputs": [
    {
     "name": "stdout",
     "output_type": "stream",
     "text": [
      "[1.0719751]\n",
      "reward -0.7138782562725786 [1.3077943]\n",
      "reward -0.730484143680905 [1.6295727]\n",
      "reward -0.9262814728749272 [-1.8971671]\n",
      "reward -1.3512418901407548 [1.6487473]\n",
      "reward -1.7271275522760159 [1.4776537]\n",
      "reward -2.5945028887534636 [-0.8181534]\n",
      "reward -3.8297750301957563 [-1.791527]\n",
      "reward -5.128363167611662 [0.32363826]\n",
      "reward -6.546044310315947 [0.7376361]\n",
      "reward -8.622016290699792 [1.4331238]\n",
      "reward -11.092932115422125 [1.2423447]\n",
      "reward -13.93492124119721 [-0.5933098]\n",
      "reward -14.424179734940019 [-1.2659587]\n",
      "reward -12.056094678446788 [-1.7325932]\n",
      "reward -9.606041152269707 [-1.9938042]\n",
      "reward -7.302507664988239 [-0.10739902]\n",
      "reward -5.327335251630833 [0.98544157]\n",
      "reward -3.976843426101604 [-0.69249815]\n",
      "reward -3.0140941160696086 [0.00994194]\n",
      "reward -2.1529321331217592 [0.8928843]\n",
      "reward -1.595766895672403 [0.1685168]\n",
      "reward -1.2531479136657868 [-0.969451]\n",
      "reward -1.0235283826531607 [1.0369396]\n",
      "reward -0.9390331645440195 [-0.8753002]\n",
      "reward -0.9854473648280974 [-0.30863008]\n",
      "reward -1.2092057813135277 [-1.5125073]\n",
      "reward -1.6107023260426838 [1.196093]\n",
      "reward -2.3451732297537995 [-0.9998381]\n",
      "reward -3.103187853576049 [1.1784436]\n",
      "reward -4.399014801171186 [0.42288896]\n",
      "reward -5.731659327645814 [-0.7736171]\n",
      "reward -7.467369077551089 [-0.53338134]\n",
      "reward -9.727843044392142 [0.24769731]\n",
      "reward -12.188470225614571 [-0.29774815]\n",
      "reward -14.535858407053736 [1.4179791]\n",
      "reward -12.735609204309972 [-1.3459656]\n",
      "reward -10.399189128936095 [0.05074476]\n",
      "reward -8.616821086885272 [-0.40632328]\n",
      "reward -6.732852782284645 [-1.2896729]\n",
      "reward -5.167618394994193 [0.8056067]\n",
      "reward -3.970156027714118 [0.27943596]\n",
      "reward -2.8093671789179275 [-1.3908778]\n",
      "reward -2.0049781643938824 [-1.8155301]\n",
      "reward -1.5250057693968078 [-1.8256698]\n",
      "reward -1.1861971469915227 [0.7911877]\n",
      "reward -0.9289333555647733 [1.9174525]\n",
      "reward -0.6755174047122273 [-1.7362025]\n",
      "reward -0.5603376089283602 [-1.8489953]\n",
      "reward -0.5587313947762997 [0.9303279]\n",
      "reward -0.5829217323322402 [1.6741393]\n",
      "reward -0.7342988390388954 [-0.14522015]\n",
      "reward -1.0846426152337303 [0.11129666]\n",
      "reward -1.523143591850218 [0.369939]\n",
      "reward -2.174869676020181 [-1.7106445]\n",
      "reward -3.1190536385973373 [0.7547133]\n",
      "reward -4.078275155455468 [1.8979774]\n",
      "reward -5.700462784056125 [-0.6438481]\n",
      "reward -7.982964466316807 [1.0190724]\n",
      "reward -10.16174117402111 [-1.9741119]\n",
      "reward -12.935130258760987 [-0.54537755]\n",
      "reward -15.014619407819275 [-0.43554765]\n",
      "reward -12.833459950091857 [-1.7891146]\n",
      "reward -10.609138700459122 [-1.6178167]\n",
      "reward -8.263266206540449 [0.7095717]\n",
      "reward -6.242131979816563 [0.70833623]\n",
      "reward -4.843008733447496 [-0.6941217]\n",
      "reward -3.6865751910669524 [0.6055937]\n",
      "reward -2.665778415811495 [1.0684378]\n",
      "reward -2.0124539665592347 [1.2533128]\n",
      "reward -1.5632494730737827 [0.2569967]\n",
      "reward -1.2521118328357475 [0.13839763]\n",
      "reward -1.035057332702773 [1.8011234]\n",
      "reward -0.9549924640914303 [0.7382419]\n",
      "reward -0.9627846151846406 [1.0900133]\n",
      "reward -1.0680727975501794 [-0.45932442]\n",
      "reward -1.267205381260916 [0.4587756]\n",
      "reward -1.6884724537583287 [1.7407088]\n",
      "reward -2.259590716463558 [0.42222726]\n",
      "reward -2.900500748449902 [-0.5759002]\n",
      "reward -3.891765417362879 [1.8896239]\n",
      "reward -5.331218458169172 [1.8285861]\n",
      "reward -6.695684305433801 [-0.6038341]\n",
      "reward -8.24175996317362 [0.35692516]\n",
      "reward -10.408948181634491 [-1.003807]\n",
      "reward -12.515939602610027 [0.6885708]\n",
      "reward -13.310598712700386 [-0.4098922]\n",
      "reward -11.255860178399859 [-1.7314565]\n",
      "reward -9.398624723150654 [0.28770083]\n",
      "reward -7.7967887470250705 [0.09274121]\n",
      "reward -6.036386708386808 [-0.703565]\n",
      "reward -4.579110031241067 [1.8416438]\n",
      "reward -3.4870338421422384 [-0.2261476]\n",
      "reward -2.4534700799031524 [-0.47149998]\n",
      "reward -1.8728614988636245 [-1.463125]\n",
      "reward -1.49711200366925 [1.4036176]\n",
      "reward -1.2869689610832333 [0.2567882]\n",
      "reward -1.1951165738213891 [-1.1576133]\n",
      "reward -1.3127382156917864 [-0.46818364]\n",
      "reward -1.537579402258638 [-0.74031866]\n",
      "reward -1.9416339799343223 [0.31607822]\n",
      "reward -2.5135471297751772 [-1.1155599]\n",
      "reward -3.420450805008218 [-0.9874489]\n",
      "reward -4.443533474175053 [-0.02460191]\n",
      "reward -5.726863380298828 [1.5956842]\n",
      "reward -7.429363003859125 [-0.19200991]\n",
      "reward -9.733157169494296 [-0.38890904]\n",
      "reward -11.919515473189639 [0.74673736]\n",
      "reward -14.06032822726772 [-0.4937131]\n",
      "reward -12.243607811191774 [1.5553223]\n",
      "reward -10.171862685549188 [-1.0631728]\n",
      "reward -8.481922686337905 [-0.92165434]\n",
      "reward -6.519602858355976 [-1.344613]\n",
      "reward -4.893660477529757 [0.65932614]\n",
      "reward -3.5739922780109388 [1.543008]\n",
      "reward -2.7459755926907556 [0.10543435]\n",
      "reward -2.16832493972276 [-0.23937641]\n",
      "reward -1.686176915865174 [0.01398271]\n",
      "reward -1.3923604486886811 [0.29964036]\n",
      "reward -1.2881092435224288 [-0.42909312]\n",
      "reward -1.344930100264069 [1.3411846]\n",
      "reward -1.599133849642915 [-1.918267]\n",
      "reward -1.948206053282393 [0.08411071]\n",
      "reward -2.7415680329043206 [-1.9932462]\n",
      "reward -3.6993324827600396 [-0.45750904]\n",
      "reward -5.274425039329424 [0.40466553]\n",
      "reward -7.064538571367274 [-1.6446755]\n",
      "reward -9.022029691147214 [0.8497243]\n",
      "reward -11.649588374676792 [0.1017922]\n",
      "reward -13.856407289486649 [-0.62253207]\n",
      "reward -13.107568894948201 [0.86631596]\n",
      "reward -11.142963310546442 [-1.3731084]\n",
      "reward -8.943407453751394 [-0.98683685]\n",
      "reward -7.2561538648248405 [-0.08695227]\n",
      "reward -5.677922862893 [-0.9980772]\n",
      "reward -4.235186479704755 [1.2762966]\n",
      "reward -3.183817354141284 [-1.4969022]\n",
      "reward -2.180955797756464 [0.8235451]\n",
      "reward -1.6502689042949144 [-1.4304622]\n",
      "reward -1.1409837862399002 [-0.52752703]\n",
      "reward -0.8871519264991505 [-1.2156374]\n",
      "reward -0.6880447430963946 [1.1636394]\n",
      "reward -0.5770741332681656 [-1.7871897]\n",
      "reward -0.5267845267156273 [-0.15317114]\n",
      "reward -0.5414777331678522 [1.50481]\n",
      "reward -0.635855044574514 [1.9919612]\n",
      "reward -0.9077198289528546 [-0.6160586]\n",
      "reward -1.4242831386688162 [1.3653263]\n",
      "reward -1.9741352006262716 [0.90685415]\n",
      "reward -2.9688275747885258 [1.1399146]\n",
      "reward -4.29462579395697 [0.22090541]\n",
      "reward -6.098297328058831 [1.159084]\n",
      "reward -8.18982385500811 [-0.43711245]\n",
      "reward -10.872873899192458 [0.3909645]\n",
      "reward -13.437503805190941 [-1.7163534]\n",
      "reward -15.560117549188222 [0.1812185]\n",
      "reward -12.939142397049618 [-0.8022366]\n",
      "reward -10.70499248927584 [-0.6644713]\n",
      "reward -8.381328453296861 [-0.31142658]\n",
      "reward -6.347128333227112 [0.7834186]\n",
      "reward -4.700860150890032 [1.1995219]\n",
      "reward -3.513928121781345 [1.1785614]\n",
      "reward -2.626874314420489 [0.8584345]\n",
      "reward -1.9470669012389792 [-0.8185653]\n",
      "reward -1.4167144236956746 [-1.8161006]\n",
      "reward -0.9328651464185459 [0.6569035]\n",
      "reward -0.5680410432393874 [1.4648154]\n",
      "reward -0.42152255799584976 [-0.39524004]\n",
      "reward -0.3346686638826195 [1.6857301]\n",
      "reward -0.24733822407074788 [-0.24795167]\n",
      "reward -0.21448077035771862 [0.59604234]\n",
      "reward -0.18773477794581844 [-0.41737095]\n",
      "reward -0.19114364172223383 [1.1492214]\n",
      "reward -0.23543956565315644 [-0.39708412]\n",
      "reward -0.28246735248992305 [0.38191766]\n",
      "reward -0.40670988136134256 [-0.9889976]\n",
      "reward -0.5680417968417959 [-0.8032816]\n",
      "reward -0.8915946406130736 [1.7338578]\n",
      "reward -1.3700988239429428 [-0.38509005]\n",
      "reward -1.791344263093964 [0.85778105]\n",
      "reward -2.61097667616701 [-1.1955465]\n",
      "reward -3.560008719291839 [-1.8843155]\n",
      "reward -5.147062426520437 [0.77164006]\n",
      "reward -7.359467071569717 [-1.348509]\n",
      "reward -9.495693616391437 [-0.6359086]\n",
      "reward -12.410608636397544 [-1.4928406]\n",
      "reward -15.355199820156653 [0.20582972]\n",
      "reward -14.540130603739748 [-1.07083]\n",
      "reward -12.093977604617802 [-0.38188794]\n",
      "reward -9.926261572534129 [-1.639348]\n",
      "reward -7.7639770465238716 [1.69747]\n",
      "reward -6.101528481435297 [-0.27777588]\n",
      "reward -4.232723875744085 [-0.57852745]\n",
      "reward -3.087117043108283 [-0.25249055]\n",
      "reward -2.2827178463945557 [-1.2673237]\n",
      "reward -1.6881153760591243 [1.3690723]\n",
      "reward -1.3929286640301703 [1.7845721]\n",
      "reward -1.0001839927774079 [0.24777974]\n",
      "reward -0.722382317122884 [-0.6833861]\n",
      "reward -0.6783166392773521 [-1.4329578]\n",
      "reward -0.7981443913468603 "
     ]
    }
   ],
   "source": [
    "#just for rendering \n",
    "for _ in range(1):\n",
    "    state = env.reset()\n",
    "    while True:\n",
    "        env.render()\n",
    "        action = env.action_space.sample()\n",
    "        print(action)\n",
    "        next_state, reward, done, info = env.step(action)\n",
    "        print('\\rreward {}'.format(reward), end= ' ')\n",
    "        state = next_state\n",
    "        if done:\n",
    "            state = env.reset()\n",
    "            break\n",
    "env.close()"
   ]
  },
  {
   "cell_type": "code",
   "execution_count": 8,
   "metadata": {},
   "outputs": [],
   "source": [
    "def in_range(val , low, high):\n",
    "    if val >= low and val < high:\n",
    "        return True\n",
    "    else:\n",
    "        return False\n",
    "\n",
    "def range_setter(val, possible_action):\n",
    "    count = 0\n",
    "    if val < possible_action[0]:\n",
    "        return -1\n",
    "    for i in range(len(possible_action)):\n",
    "        if i < len(possible_action) - 1:\n",
    "            #print(possible_action[i], possible_action[i+1])\n",
    "            if in_range(val,possible_action[i], possible_action[i+1]) == True:\n",
    "                return count\n",
    "            else:\n",
    "                count+= 1\n",
    "                continue\n",
    "    return count"
   ]
  },
  {
   "cell_type": "code",
   "execution_count": 9,
   "metadata": {},
   "outputs": [
    {
     "name": "stdout",
     "output_type": "stream",
     "text": [
      "0.07400465861560745 51\n",
      "0.9412306705637516 73\n",
      "0.9250266040341009 73\n",
      "0.596897055089912 64\n",
      "0.520861668779948 63\n",
      "0.5351635761614816 63\n",
      "0.8410209581412411 71\n",
      "0.39838472776981515 59\n",
      "0.25368620918336926 56\n",
      "0.40564452955264296 60\n"
     ]
    }
   ],
   "source": [
    "for i in range(10):\n",
    "    g = random.random()\n",
    "    print(g, range_setter(g, possible_action))"
   ]
  },
  {
   "cell_type": "markdown",
   "metadata": {},
   "source": [
    "### 3. Train the Agent with DQN\n",
    "\n",
    "Run the code cell below to train the agent from scratch.  You are welcome to amend the supplied values of the parameters in the function, to try to see if you can get better performance!"
   ]
  },
  {
   "cell_type": "code",
   "execution_count": 19,
   "metadata": {},
   "outputs": [
    {
     "name": "stdout",
     "output_type": "stream",
     "text": [
      "Episode 100\tAverage Score: -634.90 \tEps_val 0.61\n",
      "Episode 200\tAverage Score: -755.00 \tEps_val 0.37\n",
      "Episode 300\tAverage Score: -701.10 \tEps_val 0.22\n",
      "Episode 400\tAverage Score: -564.14 \tEps_val 0.13\n",
      "Episode 500\tAverage Score: -565.20 \tEps_val 0.08\n",
      "Episode 600\tAverage Score: -561.54 \tEps_val 0.05\n",
      "Episode 700\tAverage Score: -572.27 \tEps_val 0.03\n",
      "Episode 800\tAverage Score: -611.89 \tEps_val 0.02\n",
      "Episode 900\tAverage Score: -574.31 \tEps_val 0.01\n",
      "Episode 1000\tAverage Score: -557.22 \tEps_val 0.01\n",
      "Episode 1100\tAverage Score: -393.32 \tEps_val 0.01\n",
      "Episode 1200\tAverage Score: -301.60 \tEps_val 0.01\n",
      "Episode 1300\tAverage Score: -270.22 \tEps_val 0.01\n",
      "Episode 1400\tAverage Score: -230.71 \tEps_val 0.01\n",
      "Episode 1500\tAverage Score: -232.87 \tEps_val 0.01\n",
      "Episode 1600\tAverage Score: -203.10 \tEps_val 0.01\n",
      "Episode 1700\tAverage Score: -194.01 \tEps_val 0.01\n",
      "Episode 1800\tAverage Score: -180.07 \tEps_val 0.01\n",
      "Episode 1900\tAverage Score: -188.15 \tEps_val 0.01\n",
      "Episode 2000\tAverage Score: -162.64 \tEps_val 0.01\n"
     ]
    },
    {
     "data": {
      "image/png": "[encoded data removed]",
      "text/plain": [
       "<Figure size 432x288 with 1 Axes>"
      ]
     },
     "metadata": {
      "needs_background": "light"
     },
     "output_type": "display_data"
    }
   ],
   "source": [
    "from dqn_agent import Agent\n",
    "agent = Agent(state_size=state_space, action_size=action_space, possible_action=possible_action, seed=0)\n",
    "\n",
    "def dqn(n_episodes=2000, max_t=100, eps_start=1.0, eps_end=0.01, eps_decay=0.995):\n",
    "    \"\"\"Deep Q-Learning.\n",
    "    \n",
    "    Params\n",
    "    ======\n",
    "        n_episodes (int): maximum number of training episodes\n",
    "        max_t (int): maximum number of timesteps per episode\n",
    "        eps_start (float): starting value of epsilon, for epsilon-greedy action selection\n",
    "        eps_end (float): minimum value of epsilon\n",
    "        eps_decay (float): multiplicative factor (per episode) for decreasing epsilon\n",
    "    \"\"\"\n",
    "    scores = []                        # list containing scores from each episode\n",
    "    scores_window = deque(maxlen=100)  # last 100 scores\n",
    "    eps = eps_start                    # initialize epsilon\n",
    "    for i_episode in range(1, n_episodes+1):\n",
    "        state = env.reset()\n",
    "        score = 0\n",
    "        for t in range(max_t):\n",
    "            action = agent.act(state, eps).reshape(1,)\n",
    "            #print(action)\n",
    "            next_state, reward, done, _ = env.step(action)\n",
    "            agent.step(state, action, reward*10, next_state, done)\n",
    "            state = next_state\n",
    "            score += reward\n",
    "            if done:\n",
    "                break \n",
    "        scores_window.append(score)       # save most recent score\n",
    "        scores.append(score)              # save most recent score\n",
    "        eps = max(eps_end, eps_decay*eps) # decrease epsilon\n",
    "        print('\\rEpisode {}\\tAverage Score: {:.2f} \\tEps_val {:.2f}'.format(i_episode, np.mean(scores_window), eps), end=\"\")\n",
    "        if i_episode % 100 == 0:\n",
    "            print('\\rEpisode {}\\tAverage Score: {:.2f}'.format(i_episode, np.mean(scores_window)))\n",
    "        if np.mean(scores_window)>=0:\n",
    "            print('\\nEnvironment solved in {:d} episodes!\\tAverage Score: {:.2f}'.format(i_episode-100, np.mean(scores_window)))\n",
    "            torch.save(agent.qnetwork_local.state_dict(), 'checkpoint.pth')\n",
    "            break\n",
    "    return scores\n",
    "\n",
    "scores = dqn()\n",
    "\n",
    "# plot the scores\n",
    "fig = plt.figure()\n",
    "ax = fig.add_subplot(111)\n",
    "plt.plot(np.arange(len(scores)), scores)\n",
    "plt.ylabel('Score')\n",
    "plt.xlabel('Episode #')\n",
    "plt.show()"
   ]
  },
  {
   "cell_type": "markdown",
   "metadata": {},
   "source": [
    "### 4. Watch a Smart Agent!\n",
    "\n",
    "In the next code cell, you will load the trained weights from file to watch a smart agent!"
   ]
  },
  {
   "cell_type": "code",
   "execution_count": 25,
   "metadata": {},
   "outputs": [
    {
     "name": "stdout",
     "output_type": "stream",
     "text": [
      "reward -0.009141935864164528 state [0.99726502 0.07390866 0.05327956] action [-1.84]      [1.4]   "
     ]
    }
   ],
   "source": [
    "import time\n",
    "for _ in range(5):\n",
    "    state = env.reset()\n",
    "    while True:\n",
    "        env.render()\n",
    "        action = agent.act(state).reshape(1,)\n",
    "        next_state, reward, done, info = env.step(action)\n",
    "        print('\\rreward {} state {} action {} '.format(reward, state, action), end= ' ')\n",
    "        state = next_state\n",
    "        if done:\n",
    "            state = env.reset()\n",
    "            break\n",
    "env.close()"
   ]
  },
  {
   "cell_type": "code",
   "execution_count": 6,
   "metadata": {},
   "outputs": [],
   "source": [
    "env.close()"
   ]
  },
  {
   "cell_type": "code",
   "execution_count": null,
   "metadata": {},
   "outputs": [],
   "source": [
    "# load the weights from file\n",
    "#agent.qnetwork_local.load_state_dict(torch.load('checkpoint.pth'))\n",
    "import time\n",
    "import gym.wrappers as wrappers\n",
    "env = wrappers.Monitor(env, './data', force = True)\n",
    "done = 1\n",
    "state = env.reset()\n",
    "for i in range(5):\n",
    "    for j in range(200):\n",
    "        action = agent.act(state).reshape(1,)\n",
    "        env.render()\n",
    "        next_state, reward, done, _ = env.step(action)\n",
    "        time.sleep(0.05)\n",
    "        state = next_state\n",
    "        if done:\n",
    "            state = env.reset()\n",
    "            break         \n",
    "env.close()\n"
   ]
  },
  {
   "cell_type": "markdown",
   "metadata": {},
   "source": [
    "### 5. Explore\n",
    "\n",
    "In this exercise, you have implemented a DQN agent and demonstrated how to use it to solve an OpenAI Gym environment.  To continue your learning, you are encouraged to complete any (or all!) of the following tasks:\n",
    "- Amend the various hyperparameters and network architecture to see if you can get your agent to solve the environment faster.  Once you build intuition for the hyperparameters that work well with this environment, try solving a different OpenAI Gym task with discrete actions!\n",
    "- You may like to implement some improvements such as prioritized experience replay, Double DQN, or Dueling DQN! \n",
    "- Write a blog post explaining the intuition behind the DQN algorithm and demonstrating how to use it to solve an RL environment of your choosing.  "
   ]
  }
 ],
 "metadata": {
  "kernelspec": {
   "display_name": "Python 3",
   "language": "python",
   "name": "python3"
  },
  "language_info": {
   "codemirror_mode": {
    "name": "ipython",
    "version": 3
   },
   "file_extension": ".py",
   "mimetype": "text/x-python",
   "name": "python",
   "nbconvert_exporter": "python",
   "pygments_lexer": "ipython3",
   "version": "3.7.3"
  }
 },
 "nbformat": 4,
 "nbformat_minor": 2
}
