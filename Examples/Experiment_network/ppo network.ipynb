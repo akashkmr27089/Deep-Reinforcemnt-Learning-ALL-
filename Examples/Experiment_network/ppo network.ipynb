{
 "cells": [
  {
   "cell_type": "code",
   "execution_count": 4,
   "metadata": {},
   "outputs": [],
   "source": [
    "import torch\n",
    "import torch.nn as nn\n",
    "import torch.nn.functional as F\n",
    "\n",
    "device = 'cuda' if torch.cuda.is_available() else 'cpu'\n"
   ]
  },
  {
   "cell_type": "code",
   "execution_count": 20,
   "metadata": {},
   "outputs": [
    {
     "name": "stdout",
     "output_type": "stream",
     "text": [
      "ActorCritic(\n",
      "  (actor): Sequential(\n",
      "    (0): Linear(in_features=6, out_features=32, bias=True)\n",
      "    (1): Tanh()\n",
      "    (2): Linear(in_features=32, out_features=32, bias=True)\n",
      "    (3): Tanh()\n",
      "    (4): Linear(in_features=32, out_features=3, bias=True)\n",
      "    (5): Tanh()\n",
      "  )\n",
      "  (critic): Sequential(\n",
      "    (0): Linear(in_features=6, out_features=32, bias=True)\n",
      "    (1): Tanh()\n",
      "    (2): Linear(in_features=32, out_features=32, bias=True)\n",
      "    (3): Tanh()\n",
      "    (4): Linear(in_features=32, out_features=1, bias=True)\n",
      "    (5): Tanh()\n",
      "  )\n",
      ")\n"
     ]
    }
   ],
   "source": [
    "class ActorCritic(nn.Module):\n",
    "    def __init__(self, state_size, action_size, seed = 0):\n",
    "        super(ActorCritic, self).__init__()\n",
    "        self.hidden = 32\n",
    "        \n",
    "        self.actor = nn.Sequential(\n",
    "                        nn.Linear(state_size, self.hidden),\n",
    "                        nn.Tanh(),\n",
    "                        nn.Linear(self.hidden, self.hidden),\n",
    "                        nn.Tanh(),\n",
    "                        nn.Linear(self.hidden, action_size),\n",
    "                        nn.Tanh())\n",
    "        \n",
    "        self.critic = nn.Sequential(\n",
    "                        nn.Linear(state_size, self.hidden),\n",
    "                        nn.Tanh(),\n",
    "                        nn.Linear(self.hidden, self.hidden),\n",
    "                        nn.Tanh(),\n",
    "                        nn.Linear(self.hidden, 1),\n",
    "                        nn.Tanh())\n",
    "        \n",
    "        self.std = nn.Parameter(torch.zeros(action_size))  #returns an array of action_size for continous zero\n",
    "    \n",
    "    def forward(self, obs):\n",
    "        mean = self.actor(obs)\n",
    "        v = self.critic(obs)\n",
    "        dist = torch.distributions.Normal(mean, F.softplus(self.std))\n",
    "        return (v,dist)\n",
    "        \n",
    "actorcritic = ActorCritic(6,3).to(device)\n",
    "print(actorcritic)"
   ]
  },
  {
   "cell_type": "code",
   "execution_count": 25,
   "metadata": {},
   "outputs": [
    {
     "name": "stdout",
     "output_type": "stream",
     "text": [
      "State shape:  (6,)\n",
      "Number of actions:  3\n"
     ]
    }
   ],
   "source": [
    "import gym\n",
    "env = gym.make('Acrobot-v1')\n",
    "env.seed(0)\n",
    "print('State shape: ', env.observation_space.shape)\n",
    "print('Number of actions: ', env.action_space.n)"
   ]
  },
  {
   "cell_type": "code",
   "execution_count": 15,
   "metadata": {},
   "outputs": [
    {
     "data": {
      "text/plain": [
       "tensor(0., grad_fn=<SelectBackward>)"
      ]
     },
     "execution_count": 15,
     "metadata": {},
     "output_type": "execute_result"
    }
   ],
   "source": [
    "d[0]"
   ]
  },
  {
   "cell_type": "code",
   "execution_count": null,
   "metadata": {},
   "outputs": [],
   "source": []
  }
 ],
 "metadata": {
  "kernelspec": {
   "display_name": "Python 3",
   "language": "python",
   "name": "python3"
  },
  "language_info": {
   "codemirror_mode": {
    "name": "ipython",
    "version": 3
   },
   "file_extension": ".py",
   "mimetype": "text/x-python",
   "name": "python",
   "nbconvert_exporter": "python",
   "pygments_lexer": "ipython3",
   "version": "3.7.1"
  }
 },
 "nbformat": 4,
 "nbformat_minor": 4
}
