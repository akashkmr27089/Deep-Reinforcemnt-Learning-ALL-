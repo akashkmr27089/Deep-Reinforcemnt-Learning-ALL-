{
 "cells": [
  {
   "cell_type": "code",
   "execution_count": 1,
   "metadata": {},
   "outputs": [],
   "source": [
    "import torch\n",
    "import torch.nn as nn\n",
    "import torch.nn.functional as F\n",
    "import gym\n",
    "import random\n",
    "import torch\n",
    "import numpy as np\n",
    "from collections import deque\n",
    "import matplotlib.pyplot as plt\n",
    "from collections import namedtuple, deque\n",
    "import time \n",
    "import torch.optim as optim\n",
    "%matplotlib inline"
   ]
  },
  {
   "cell_type": "code",
   "execution_count": 2,
   "metadata": {},
   "outputs": [
    {
     "name": "stderr",
     "output_type": "stream",
     "text": [
      "/home/oxygen/anaconda3/lib/python3.7/site-packages/gym/logger.py:30: UserWarning: \u001b[33mWARN: Box bound precision lowered by casting to float32\u001b[0m\n",
      "  warnings.warn(colorize('%s: %s'%('WARN', msg % args), 'yellow'))\n"
     ]
    }
   ],
   "source": [
    "env = gym.make('LunarLander-v2')\n",
    "device = torch.device(\"cuda:0\" if torch.cuda.is_available() else \"cpu\")"
   ]
  },
  {
   "cell_type": "code",
   "execution_count": 28,
   "metadata": {},
   "outputs": [],
   "source": [
    "class QNetwork(nn.Module):  \n",
    "    \"\"\"Actor (Policy) Model.\"\"\"\n",
    "\n",
    "    def __init__(self, state_size, action_size, seed=0):\n",
    "\n",
    "        super(QNetwork, self).__init__()\n",
    "        self.seed = torch.manual_seed(seed)\n",
    "        self.fc1 = nn.Linear(state_size, 32)\n",
    "        self.fc2 = nn.Linear(32, 32)\n",
    "        self.fc3 = nn.Linear(32, action_size)\n",
    "\n",
    "    def forward(self, x):\n",
    "        \"\"\"Build a network that maps state -> action values.\"\"\"\n",
    "        x = self.fc1(x)\n",
    "        x = F.relu(x)\n",
    "        x = self.fc2(x)\n",
    "        x = F.relu(x)\n",
    "        x = self.fc3(x)\n",
    "        return x"
   ]
  },
  {
   "cell_type": "code",
   "execution_count": 29,
   "metadata": {},
   "outputs": [],
   "source": [
    "def exp_dist(experiences):\n",
    "    states, actions, next_states, rewards, dones = zip(*experiences)\n",
    "    next_states = torch.from_numpy(np.array(list(next_states))).to(device)\n",
    "    states = torch.from_numpy(np.array(list(states))).to(device)\n",
    "    rewards = torch.from_numpy(np.array(list(rewards))).to(device)\n",
    "    actions = torch.from_numpy(np.array(list(actions))).to(device)\n",
    "    dones = torch.from_numpy(np.array(list(dones))).to(device)\n",
    "    return (states, actions, next_states, rewards, dones)"
   ]
  },
  {
   "cell_type": "code",
   "execution_count": 30,
   "metadata": {},
   "outputs": [],
   "source": [
    "class exp_relay:\n",
    "    \n",
    "    def __init__(self, window = 1000, sample_size = 100):  \n",
    "        self.window = window\n",
    "        self.sample_size = sample_size\n",
    "        self.memory = deque(maxlen=window)\n",
    "        \n",
    "    def add(self,experience):\n",
    "        self.memory.append(experience)\n",
    "    \n",
    "    def sample_mem(self):\n",
    "        return random.sample(self.memory, self.sample_size)"
   ]
  },
  {
   "cell_type": "code",
   "execution_count": 31,
   "metadata": {},
   "outputs": [],
   "source": [
    "class Agent:\n",
    "    \n",
    "    def __init__(self, gamma, eps_min=0.01):\n",
    "        self.epsilon = 1\n",
    "        self.eps_min = eps_min\n",
    "        self.gamma = gamma\n",
    "        self.eps_decay = 0.999\n",
    "        self.nA = env.action_space.n\n",
    "        self.loss = 0\n",
    "    \n",
    "    def q_prob(self, state, network):\n",
    "        policy = np.ones(self.nA)*(self.epsilon/self.nA)\n",
    "        qstate = network.forward(state)\n",
    "        best_pos = np.argmax(policy)\n",
    "        policy[best_pos] = (1 - self.epsilon) + (self.epsilon/self.nA)\n",
    "        return policy\n",
    "    \n",
    "    def action2(self, state, policy_net):\n",
    "        if random.uniform(0,1) < self.epsilon:\n",
    "            return env.action_space.sample()\n",
    "        else:\n",
    "            return np.random.choice(np.arange(self.nA), p=self.q_prob(state, policy_net))\n",
    "        \n",
    "    def action(self, state, policy_net):\n",
    "        policy_net.eval()\n",
    "        with torch.no_grad():\n",
    "            action_values = policy_net(state)\n",
    "        policy_net.train()\n",
    "        # Epsilon-greedy action selection\n",
    "        if random.random() > self.epsilon:\n",
    "            return np.argmax(action_values.cpu().data.numpy()) #expliding\n",
    "        else:\n",
    "            return random.choice(np.arange(4))  #exploration\n",
    "\n",
    "        \n",
    "    def update(self, experiences, policy_net, target_net, optimizer, tau):\n",
    "        states, actions, next_states, rewards,dones = exp_dist(experiences)\n",
    "        current = policy_net.forward(states).gather(-1, actions.reshape(actions.size()[0],1))\n",
    "        \n",
    "        target1 = policy_net.forward(next_states)\n",
    "        max_val = target1.argmax(dim=-1)\n",
    "        final = target1.gather(-1, max_val.reshape(max_val.shape[0],1))\n",
    "        \n",
    "        target2 = target_net.forward(next_states)\n",
    "        max_val = target2.argmax(dim=-1)\n",
    "        final2  =  target2.gather(-1, max_val.reshape(max_val.shape[0],1))\n",
    "\n",
    "        data = torch.cat([final,final2],1)\n",
    "        min_val = data.argmin(dim=-1)\n",
    "        final = data.gather(-1, min_val.reshape(min_val.shape[0],1))\n",
    "        \n",
    "        target = rewards.reshape(rewards.size()[0],1) + self.gamma*final*(1-dones.reshape(dones.size()[0],1))\n",
    "        self.loss = F.mse_loss(target, current)\n",
    "        optimizer.zero_grad()\n",
    "        self.loss.backward()\n",
    "        optimizer.step()\n",
    "        # performing soft update\n",
    "        #for target_param, local_param in zip(target_net.parameters(), policy_net.parameters()):\n",
    "            #target_param.data.copy_(tau*local_param.data + (1.0-tau)*target_param.data)"
   ]
  },
  {
   "cell_type": "code",
   "execution_count": 35,
   "metadata": {},
   "outputs": [],
   "source": [
    "experience = namedtuple('experience',['state','action','next_state','reward','done'])\n",
    "state_n = 8\n",
    "learning_rate = 5e-4\n",
    "action_n = env.action_space.n\n",
    "policy_net = QNetwork(state_n, action_n).to(device)\n",
    "target_net = QNetwork(state_n, action_n).to(device)\n",
    "target_net.eval()\n",
    "target_net.load_state_dict(policy_net.state_dict())\n",
    "optimizer = optim.Adam(params=policy_net.parameters(), lr = learning_rate)"
   ]
  },
  {
   "cell_type": "code",
   "execution_count": 36,
   "metadata": {},
   "outputs": [],
   "source": [
    "gamma = 0.995; window = int(1e3); sample = 64; eps_min=0.01;update = 4\n",
    "update_freq = 4\n",
    "agent = Agent(gamma, eps_min)\n",
    "memory = exp_relay(window,sample)\n",
    "num_episode = 10000\n",
    "reward_data = []\n",
    "max_t = 1000\n",
    "tau = 1e-3\n",
    "stepup = 0"
   ]
  },
  {
   "cell_type": "code",
   "execution_count": null,
   "metadata": {},
   "outputs": [
    {
     "name": "stdout",
     "output_type": "stream",
     "text": [
      "Average rewards -86.32223486004031 with epsilon 0.07582783328659772 with loss 4.877333885369886   "
     ]
    }
   ],
   "source": [
    "for i in range(1,num_episode+1):\n",
    "    state = env.reset()\n",
    "    reward_val = 0\n",
    "    for _ in range(max_t):\n",
    "        state = torch.from_numpy(state).to(device)\n",
    "        action = agent.action(state, policy_net)\n",
    "        next_state, reward, done, _ = env.step(action)\n",
    "        if done == False:\n",
    "            done = 0\n",
    "        else:\n",
    "            done = 1\n",
    "        memory.add(experience(state.cpu().numpy(),action,next_state,reward,done))\n",
    "#         agent.epsilon = max(agent.epsilon*agent.eps_decay, agent.eps_min)\n",
    "        reward_val += reward\n",
    "        stepup = (stepup+1)%update\n",
    "        if stepup == 0:\n",
    "            if len(memory.memory) > sample:\n",
    "                experiences = memory.sample_mem()\n",
    "                agent.update(experiences, policy_net,target_net,optimizer,tau)\n",
    "        state = next_state\n",
    "        if done:\n",
    "            break\n",
    "    reward_data.append(reward_val)\n",
    "    agent.epsilon = max(agent.epsilon*agent.eps_decay, agent.eps_min)\n",
    "    print(\"\\rAverage rewards {} with epsilon {} with loss {}\".format(np.mean(reward_data[:-50]), agent.epsilon, agent.loss), end=' ')\n",
    "    if i % 100 == 0:\n",
    "        torch.save(policy_net.state_dict(), './hello64_2018_model')"
   ]
  },
  {
   "cell_type": "code",
   "execution_count": 27,
   "metadata": {},
   "outputs": [
    {
     "name": "stdout",
     "output_type": "stream",
     "text": [
      "tensor([[0.1799],\n",
      "        [0.2328],\n",
      "        [0.1933],\n",
      "        [0.2441],\n",
      "        [0.2330],\n",
      "        [0.1812],\n",
      "        [0.2406],\n",
      "        [0.2452],\n",
      "        [0.1997],\n",
      "        [0.1901],\n",
      "        [0.1989],\n",
      "        [0.2177],\n",
      "        [0.1896],\n",
      "        [0.2184],\n",
      "        [0.2021],\n",
      "        [0.1844],\n",
      "        [0.2013],\n",
      "        [0.1877],\n",
      "        [0.2055],\n",
      "        [0.1879],\n",
      "        [0.1873],\n",
      "        [0.1888],\n",
      "        [0.2313],\n",
      "        [0.2309],\n",
      "        [0.2128],\n",
      "        [0.2311],\n",
      "        [0.2005],\n",
      "        [0.2326],\n",
      "        [0.2188],\n",
      "        [0.2429],\n",
      "        [0.1997],\n",
      "        [0.1932],\n",
      "        [0.1944],\n",
      "        [0.1867],\n",
      "        [0.2292],\n",
      "        [0.2201],\n",
      "        [0.1818],\n",
      "        [0.2207],\n",
      "        [0.2141],\n",
      "        [0.2051],\n",
      "        [0.2457],\n",
      "        [0.2382],\n",
      "        [0.1938],\n",
      "        [0.1813],\n",
      "        [0.1912],\n",
      "        [0.2107],\n",
      "        [0.1868],\n",
      "        [0.2133],\n",
      "        [0.1958],\n",
      "        [0.2032],\n",
      "        [0.2070],\n",
      "        [0.1829],\n",
      "        [0.1821],\n",
      "        [0.1971],\n",
      "        [0.2233],\n",
      "        [0.2252],\n",
      "        [0.2025],\n",
      "        [0.2436],\n",
      "        [0.2441],\n",
      "        [0.1856],\n",
      "        [0.1832],\n",
      "        [0.2161],\n",
      "        [0.2270],\n",
      "        [0.2214]], device='cuda:0', grad_fn=<GatherBackward>)\n"
     ]
    }
   ],
   "source": [
    "states, actions, next_states, rewards,dones = exp_dist(experiences)\n",
    "current = policy_net.forward(states).gather(-1, actions.reshape(actions.size()[0],1))\n",
    "        \n",
    "target1 = policy_net.forward(next_states)\n",
    "max_val = target1.argmax(dim=-1)\n",
    "final = target1.gather(-1, max_val.reshape(max_val.shape[0],1))\n",
    "        \n",
    "target2 = target_net.forward(next_states)\n",
    "max_val = target2.argmax(dim=-1)\n",
    "final2  =  target2.gather(-1, max_val.reshape(max_val.shape[0],1))\n",
    "data = torch.cat([final,final2],1)\n",
    "min_val = data.argmin(dim=-1)\n",
    "final = data.gather(-1, min_val.reshape(min_val.shape[0],1))\n",
    "print(final)"
   ]
  },
  {
   "cell_type": "code",
   "execution_count": null,
   "metadata": {},
   "outputs": [],
   "source": [
    "states, actions, next_states, rewards,dones = exp_dist(experiences)\n",
    "current = policy_net.forward(states).gather(-1, actions.reshape(actions.size()[0],1))\n",
    "target = target_net.forward(next_states)\n",
    "max_val = target.argmax(dim=-1)\n",
    "final = target.gather(-1, max_val.reshape(max_val.shape[0],1))\n",
    "target = rewards.reshape(rewards.size()[0],1) + gamma*final*(1-dones.reshape(dones.size()[0],1))\n",
    "loss = F.mse_loss(target, current)\n",
    "optimizer.zero_grad()\n",
    "loss.backward()\n",
    "optimizer.step()\n",
    "print(loss)"
   ]
  },
  {
   "cell_type": "code",
   "execution_count": null,
   "metadata": {},
   "outputs": [],
   "source": [
    "rewards[0:2].size()\n",
    "current.size()"
   ]
  },
  {
   "cell_type": "code",
   "execution_count": null,
   "metadata": {},
   "outputs": [],
   "source": [
    "target = rewards + self.gamma*final*(1-dones)"
   ]
  },
  {
   "cell_type": "code",
   "execution_count": null,
   "metadata": {},
   "outputs": [],
   "source": [
    "rewards[0:2]"
   ]
  },
  {
   "cell_type": "code",
   "execution_count": null,
   "metadata": {},
   "outputs": [],
   "source": [
    "h + rewards[0:2].reshape(2,1)"
   ]
  },
  {
   "cell_type": "code",
   "execution_count": 19,
   "metadata": {},
   "outputs": [
    {
     "name": "stdout",
     "output_type": "stream",
     "text": [
      " Rewards : -100 239896433704     "
     ]
    }
   ],
   "source": [
    "experiences = []\n",
    "policy_net_infer = QNetwork(state_n, action_n).to(device)\n",
    "policy_net_infer.load_state_dict(torch.load('./hello'))\n",
    "policy_net_infer.eval()\n",
    "for _ in range(1):\n",
    "    state = env.reset()\n",
    "    while True:\n",
    "        env.render()\n",
    "        action = policy_net_infer.forward(torch.from_numpy(state).to(device)).argmax().cpu().numpy()\n",
    "        #action = env.action_space.sample()agent.epsilon = max(agent.epsilon*agent.eps_decay, agent.eps_min)\n",
    "        next_state, reward, done, _ = env.step(action)\n",
    "        print(\"\\r Rewards : {}\".format(reward), end=' ')\n",
    "        state = next_state\n",
    "        time.sleep(0.05)\n",
    "        if done:\n",
    "            break\n",
    "env.close()"
   ]
  },
  {
   "cell_type": "code",
   "execution_count": 14,
   "metadata": {},
   "outputs": [
    {
     "data": {
      "text/plain": [
       "tensor([True])"
      ]
     },
     "execution_count": 14,
     "metadata": {},
     "output_type": "execute_result"
    }
   ],
   "source": [
    "min(torch.from_numpy(np.array([25])),torch.from_numpy(np.array([20]))) == torch.from_numpy(np.array([20]))"
   ]
  },
  {
   "cell_type": "code",
   "execution_count": null,
   "metadata": {},
   "outputs": [],
   "source": [
    "g = [x for x in policy_net.parameters()]\n",
    "policy_net.fc1.weight"
   ]
  },
  {
   "cell_type": "code",
   "execution_count": null,
   "metadata": {},
   "outputs": [],
   "source": [
    "target_net.fc1.weight"
   ]
  },
  {
   "cell_type": "code",
   "execution_count": null,
   "metadata": {},
   "outputs": [],
   "source": [
    "for target_param, local_param in zip(target_net.parameters(), policy_net.parameters()):\n",
    "            target_param.data.copy_(tau*local_param.data + (1.0-tau)*target_param.data)"
   ]
  },
  {
   "cell_type": "code",
   "execution_count": null,
   "metadata": {},
   "outputs": [],
   "source": [
    "tau = 2"
   ]
  },
  {
   "cell_type": "code",
   "execution_count": null,
   "metadata": {},
   "outputs": [],
   "source": [
    "target_net.fc1.weight"
   ]
  },
  {
   "cell_type": "code",
   "execution_count": null,
   "metadata": {},
   "outputs": [],
   "source": [
    "policy_net.fc1.weight"
   ]
  },
  {
   "cell_type": "code",
   "execution_count": null,
   "metadata": {},
   "outputs": [],
   "source": []
  }
 ],
 "metadata": {
  "kernelspec": {
   "display_name": "Python 3",
   "language": "python",
   "name": "python3"
  },
  "language_info": {
   "codemirror_mode": {
    "name": "ipython",
    "version": 3
   },
   "file_extension": ".py",
   "mimetype": "text/x-python",
   "name": "python",
   "nbconvert_exporter": "python",
   "pygments_lexer": "ipython3",
   "version": "3.7.3"
  }
 },
 "nbformat": 4,
 "nbformat_minor": 2
}
