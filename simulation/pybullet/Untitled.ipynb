{
 "cells": [
  {
   "cell_type": "code",
   "execution_count": null,
   "metadata": {},
   "outputs": [],
   "source": [
    "import pybullet as pb\n",
    "import numpy as np\n",
    "import pybullet_data"
   ]
  },
  {
   "cell_type": "code",
   "execution_count": null,
   "metadata": {},
   "outputs": [],
   "source": [
    "physicsClient = pb.connect(pb.GUI)"
   ]
  },
  {
   "cell_type": "code",
   "execution_count": null,
   "metadata": {},
   "outputs": [],
   "source": [
    "pb.setAdditionalSearchPath(pybullet_data.getDataPath())"
   ]
  },
  {
   "cell_type": "code",
   "execution_count": null,
   "metadata": {},
   "outputs": [],
   "source": [
    "pybullet_data.getDataPath()"
   ]
  },
  {
   "cell_type": "code",
   "execution_count": null,
   "metadata": {},
   "outputs": [],
   "source": [
    "planeId = pb.loadURDF(\"plane.urdf\")"
   ]
  },
  {
   "cell_type": "code",
   "execution_count": null,
   "metadata": {},
   "outputs": [],
   "source": [
    "visualShapeId = pb.createVisualShape(\n",
    "    shapeType=pb.GEOM_MESH,\n",
    "    fileName='~/Desktop/pybullet/procedural_objects-master/objs/0000/tree.obj',\n",
    "    rgbaColor=None,\n",
    "    meshScale=[0.1, 0.1, 0.1])"
   ]
  },
  {
   "cell_type": "code",
   "execution_count": null,
   "metadata": {},
   "outputs": [],
   "source": [
    "collisionShapeId = pb.createCollisionShape(\n",
    "    shapeType=pb.GEOM_MESH,\n",
    "    fileName='/home/oxygen/Desktop/pybullet/procedural_objects-master/objs/0000/0000.vhacd.obj',\n",
    "    meshScale=[0.1, 0.1, 0.1])"
   ]
  },
  {
   "cell_type": "code",
   "execution_count": null,
   "metadata": {},
   "outputs": [],
   "source": [
    "multiBodyId = pb.createMultiBody(\n",
    "    baseMass=1.0,\n",
    "    baseCollisionShapeIndex=collisionShapeId, \n",
    "    baseVisualShapeIndex=visualShapeId,\n",
    "    basePosition=[0, 0, 1],\n",
    "    baseOrientation=pb.getQuaternionFromEuler([0, 0, 0]))"
   ]
  },
  {
   "cell_type": "code",
   "execution_count": null,
   "metadata": {},
   "outputs": [],
   "source": []
  }
 ],
 "metadata": {
  "kernelspec": {
   "display_name": "Python 2",
   "language": "python",
   "name": "python2"
  },
  "language_info": {
   "codemirror_mode": {
    "name": "ipython",
    "version": 3
   },
   "file_extension": ".py",
   "mimetype": "text/x-python",
   "name": "python",
   "nbconvert_exporter": "python",
   "pygments_lexer": "ipython3",
   "version": "3.6.8"
  }
 },
 "nbformat": 4,
 "nbformat_minor": 2
}
