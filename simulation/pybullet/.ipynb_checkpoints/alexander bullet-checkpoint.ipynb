{
 "cells": [
  {
   "cell_type": "code",
   "execution_count": 16,
   "metadata": {},
   "outputs": [],
   "source": [
    "import pybullet as pb\n",
    "import pybullet_data \n",
    "import os"
   ]
  },
  {
   "cell_type": "code",
   "execution_count": 17,
   "metadata": {},
   "outputs": [
    {
     "ename": "error",
     "evalue": "Only one local in-process GUI/GUI_SERVER connection allowed. Use DIRECT connection mode or start a separate GUI physics server (ExampleBrowser, App_SharedMemoryPhysics_GUI, App_SharedMemoryPhysics_VR) and connect over SHARED_MEMORY, UDP or TCP instead.",
     "output_type": "error",
     "traceback": [
      "\u001b[0;31m---------------------------------------------------------------------------\u001b[0m",
      "\u001b[0;31merror\u001b[0m                                     Traceback (most recent call last)",
      "\u001b[0;32m<ipython-input-17-fd8197dec5d9>\u001b[0m in \u001b[0;36m<module>\u001b[0;34m\u001b[0m\n\u001b[0;32m----> 1\u001b[0;31m \u001b[0mpb\u001b[0m\u001b[0;34m.\u001b[0m\u001b[0mconnect\u001b[0m\u001b[0;34m(\u001b[0m\u001b[0mpb\u001b[0m\u001b[0;34m.\u001b[0m\u001b[0mGUI\u001b[0m\u001b[0;34m)\u001b[0m   \u001b[0;31m#this is used for rendering\u001b[0m\u001b[0;34m\u001b[0m\u001b[0;34m\u001b[0m\u001b[0m\n\u001b[0m",
      "\u001b[0;31merror\u001b[0m: Only one local in-process GUI/GUI_SERVER connection allowed. Use DIRECT connection mode or start a separate GUI physics server (ExampleBrowser, App_SharedMemoryPhysics_GUI, App_SharedMemoryPhysics_VR) and connect over SHARED_MEMORY, UDP or TCP instead."
     ]
    }
   ],
   "source": [
    "pb.connect(pb.GUI)   #this is used for rendering "
   ]
  },
  {
   "cell_type": "code",
   "execution_count": 18,
   "metadata": {},
   "outputs": [],
   "source": [
    "#could be used for resetting environment\n",
    "def resetEnv(): \n",
    "    pb.resetSimulation()"
   ]
  },
  {
   "cell_type": "code",
   "execution_count": 19,
   "metadata": {},
   "outputs": [],
   "source": [
    "## pybullet_data.getDataPath() --> contains the address for other data\n",
    "pb.setAdditionalSearchPath(pybullet_data.getDataPath())\n",
    "plane = pb.loadURDF(\"plane.urdf\")"
   ]
  },
  {
   "cell_type": "code",
   "execution_count": 20,
   "metadata": {},
   "outputs": [],
   "source": [
    "# os.system(\"git clone https://github.com/ros-industrial/kuka_experimental.git\")\n",
    "robot = pb.loadURDF(\"kuka_experimental/kuka_kr210_support/urdf/kr210l150.urdf\")"
   ]
  },
  {
   "cell_type": "code",
   "execution_count": 21,
   "metadata": {},
   "outputs": [
    {
     "name": "stdout",
     "output_type": "stream",
     "text": [
      "(-0.027804, 0.00039112, 0.14035) (0.0, 0.0, 0.0, 1.0)\n"
     ]
    }
   ],
   "source": [
    "position, orientation = pb.getBasePositionAndOrientation(robot)\n",
    "print(position, orientation)"
   ]
  },
  {
   "cell_type": "code",
   "execution_count": 22,
   "metadata": {},
   "outputs": [
    {
     "data": {
      "text/plain": [
       "8"
      ]
     },
     "execution_count": 22,
     "metadata": {},
     "output_type": "execute_result"
    }
   ],
   "source": [
    "#getting the number of joints present points --> 6 joints + 2 fixed joint\n",
    "pb.getNumJoints(robot)  #getting number of joints "
   ]
  },
  {
   "cell_type": "code",
   "execution_count": 23,
   "metadata": {},
   "outputs": [
    {
     "data": {
      "text/plain": [
       "(b'joint_a3', 0, -3.66519153, 1.134464045)"
      ]
     },
     "execution_count": 23,
     "metadata": {},
     "output_type": "execute_result"
    }
   ],
   "source": [
    "#for getting the properties, joint range limits etc\n",
    "joint_index = 2\n",
    "joint_info = pb.getJointInfo(robot, joint_index)\n",
    "name, joint_type, lower_limit, upper_limit = \\\n",
    "    joint_info[1], joint_info[2], joint_info[8], joint_info[9]\n",
    "name, joint_type, lower_limit, upper_limit"
   ]
  },
  {
   "cell_type": "code",
   "execution_count": 24,
   "metadata": {},
   "outputs": [
    {
     "data": {
      "text/plain": [
       "[0.0, 0.0, 0.0, 0.0, 0.0, 0.0]"
      ]
     },
     "execution_count": 24,
     "metadata": {},
     "output_type": "execute_result"
    }
   ],
   "source": [
    "#for getting the position of each of the joints \n",
    "joint_positions = [j[0] for j in pb.getJointStates(robot, range(6))]\n",
    "joint_positions"
   ]
  },
  {
   "cell_type": "code",
   "execution_count": 25,
   "metadata": {},
   "outputs": [
    {
     "data": {
      "text/plain": [
       "(0.538471517, -0.0005601400000000145, 1.957291)"
      ]
     },
     "execution_count": 25,
     "metadata": {},
     "output_type": "execute_result"
    }
   ],
   "source": [
    "world_position, world_orientation = pb.getLinkState(robot, 2)[:2]\n",
    "world_position"
   ]
  },
  {
   "cell_type": "code",
   "execution_count": 26,
   "metadata": {},
   "outputs": [],
   "source": [
    "#simulation testing \n",
    "pb.setGravity(0,0,-9.8) ## everything should fall down\n",
    "pb.setTimeStep(0.00001) ## making simulation accurate \n",
    "pb.setRealTimeSimulation(0) #simulation in real time "
   ]
  },
  {
   "cell_type": "code",
   "execution_count": 27,
   "metadata": {},
   "outputs": [],
   "source": [
    "# setting up the control for one of the joints \n",
    "pb.setJointMotorControlArray(robot, range(6),\n",
    "                             pb.POSITION_CONTROL, \n",
    "                            targetPositions=[0.1]*6)"
   ]
  },
  {
   "cell_type": "code",
   "execution_count": 28,
   "metadata": {},
   "outputs": [],
   "source": [
    "# running simulation \n",
    "for _ in range(10000):\n",
    "    pb.stepSimulation()"
   ]
  },
  {
   "cell_type": "markdown",
   "metadata": {},
   "source": [
    "### Since it will fall in the ground we will have to attach to the ground"
   ]
  },
  {
   "cell_type": "code",
   "execution_count": 34,
   "metadata": {},
   "outputs": [],
   "source": [
    "pb.resetSimulation()\n",
    "plane = pb.loadURDF(\"plane.urdf\")\n",
    "robot = pb.loadURDF(\"kuka_experimental/kuka_kr210_support/urdf/kr210l150.urdf\",\n",
    "                   [0,0,0], useFixedBase=1)\n",
    "pb.setGravity(0,0,-9.81)\n",
    "pb.setTimeStep(0.00001)\n",
    "pb.setRealTimeSimulation(0)"
   ]
  },
  {
   "cell_type": "code",
   "execution_count": 36,
   "metadata": {},
   "outputs": [],
   "source": [
    "pb.setJointMotorControlArray(\n",
    "    robot, range(6), pb.POSITION_CONTROL,\n",
    "    targetPositions=[0.1] * 6)\n",
    "for _ in range(10000):\n",
    "    pb.stepSimulation()"
   ]
  },
  {
   "cell_type": "code",
   "execution_count": 37,
   "metadata": {},
   "outputs": [],
   "source": [
    "pb.disconnect()"
   ]
  },
  {
   "cell_type": "code",
   "execution_count": null,
   "metadata": {},
   "outputs": [],
   "source": []
  }
 ],
 "metadata": {
  "kernelspec": {
   "display_name": "Python 3",
   "language": "python",
   "name": "python3"
  },
  "language_info": {
   "codemirror_mode": {
    "name": "ipython",
    "version": 3
   },
   "file_extension": ".py",
   "mimetype": "text/x-python",
   "name": "python",
   "nbconvert_exporter": "python",
   "pygments_lexer": "ipython3",
   "version": "3.6.8"
  }
 },
 "nbformat": 4,
 "nbformat_minor": 2
}
