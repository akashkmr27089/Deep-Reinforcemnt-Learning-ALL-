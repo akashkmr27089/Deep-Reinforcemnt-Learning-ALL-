{
 "cells": [
  {
   "cell_type": "code",
   "execution_count": 1,
   "metadata": {},
   "outputs": [],
   "source": [
    "import gym\n",
    "import math\n",
    "import numpy as np\n",
    "import matplotlib.pyplot as plt\n",
    "from collections import deque\n",
    "%matplotlib inline\n",
    "\n",
    "import torch\n",
    "import torch.nn as nn\n",
    "import torch.nn.functional as F"
   ]
  },
  {
   "cell_type": "code",
   "execution_count": 2,
   "metadata": {},
   "outputs": [],
   "source": [
    "#for using gpu\n",
    "device = torch.device(\"cuda:0\" if torch.cuda.is_available() else \"cpu\")"
   ]
  },
  {
   "cell_type": "code",
   "execution_count": 3,
   "metadata": {},
   "outputs": [
    {
     "name": "stderr",
     "output_type": "stream",
     "text": [
      "/home/oxygen/anaconda3/lib/python3.7/site-packages/gym/logger.py:30: UserWarning: \u001b[33mWARN: Box bound precision lowered by casting to float32\u001b[0m\n",
      "  warnings.warn(colorize('%s: %s'%('WARN', msg % args), 'yellow'))\n"
     ]
    },
    {
     "name": "stdout",
     "output_type": "stream",
     "text": [
      "Box(1,) Box(2,)\n"
     ]
    }
   ],
   "source": [
    "env = gym.make('MountainCarContinuous-v0')\n",
    "print(env.action_space, env.observation_space)\n",
    "env.seed(101)\n",
    "np.random.seed(101)"
   ]
  },
  {
   "cell_type": "code",
   "execution_count": 45,
   "metadata": {},
   "outputs": [],
   "source": [
    "class Agent(nn.Module):\n",
    "    def __init__(self, env, action_space, state_space):\n",
    "        super(Agent, self).__init__()\n",
    "        self.env = env\n",
    "        self.a_s = action_space\n",
    "        self.s_s = state_space\n",
    "        self.h_s = 16\n",
    "        self.fc1 = nn.Linear(self.s_s, self.h_s).to(device)\n",
    "        self.fc2 = nn.Linear(self.h_s, self.a_s).to(device)\n",
    "    \n",
    "    def get_wights_dim(self):\n",
    "        return (self.s_s+1)*self.h_s + (self.h_s+1)*self.a_s\n",
    "\n",
    "    def adjust_to_weights(self,weights):\n",
    "        end = self.s_s*self.h_s + self.h_s\n",
    "        fc1_w = torch.from_numpy(weights[:self.s_s*self.h_s]).reshape(self.s_s, self.h_s)\n",
    "        fc1_b = torch.from_numpy(weights[self.s_s*self.h_s:end])\n",
    "        fc2_w = torch.from_numpy(weights[end:end+self.h_s*self.a_s]).reshape(self.h_s, self.a_s)\n",
    "        fc2_b = torch.from_numpy(weights[end+self.h_s*self.a_s:])\n",
    "        #copying weights and bias\n",
    "        self.fc1.weight.data.copy_(fc1_w.view_as(self.fc1.weight.data))\n",
    "        self.fc1.bias.data.copy_(fc1_b.view_as(self.fc1.bias.data))\n",
    "        self.fc2.weight.data.copy_(fc2_w.view_as(self.fc2.weight.data))\n",
    "        self.fc2.bias.data.copy_(fc2_b.view_as(self.fc2.bias.data))\n",
    "        \n",
    "    \n",
    "    def forward(self, x):\n",
    "        x = F.relu(self.fc1(x))\n",
    "        x = F.tanh(self.fc2(x))\n",
    "        return x.cpu().data\n",
    "        \n",
    "    def evaluate(self, weight, itera):\n",
    "        self.adjust_to_weights(weight)\n",
    "        self.state = self.env.reset()\n",
    "        scores = 0.0\n",
    "        for _ in range(itera):\n",
    "            self.state = torch.from_numpy(self.state).float().to(device)\n",
    "            action = self.forward(self.state)\n",
    "            next_state, reward, done, _ = self.env.step(action)\n",
    "            scores += reward\n",
    "            self.state = next_state\n",
    "            if done:\n",
    "                break\n",
    "        return scores\n",
    "\n",
    "agent = Agent(env, 1,2)"
   ]
  },
  {
   "cell_type": "code",
   "execution_count": 53,
   "metadata": {
    "scrolled": true
   },
   "outputs": [
    {
     "name": "stdout",
     "output_type": "stream",
     "text": [
      " Average Score -80.55932934439852\n",
      " Average Score -54.98671675460832\n",
      " Average Score -41.15999907280778\n",
      " Average Score -51.481335192480834\n",
      " Average Score -39.022604498894566\n",
      " Average Score -41.845870183367516\n",
      " Average Score -42.9917245950736\n",
      " Average Score -40.37925371691987\n",
      " Average Score -49.42347312087852\n",
      " Average Score -46.46574556594254\n"
     ]
    }
   ],
   "source": [
    "def cross_entropy(n_episode = 100, n_iter=1000, batch_per_epi=50, prob_selection=20, sigma = 0.5):\n",
    "    best_weight = np.random.randn(agent.get_wights_dim())\n",
    "    number_of_selection = int(prob_selection*batch_per_epi/100.0)\n",
    "    for i in range(n_episode):\n",
    "        memory = [best_weight + sigma*np.random.randn(agent.get_wights_dim()) for _ in range(batch_per_epi)]\n",
    "        reward = [agent.evaluate(weight, n_iter) for weight in memory]\n",
    "        arranged_index = np.array(reward).argsort()[-number_of_selection:]\n",
    "        weights = [memory[j] for j in arranged_index]  #collected top n weights according to reward\n",
    "        best_weight = (sum(weights)/number_of_selection)\n",
    "        #print(agent.fc1.weight)\n",
    "        print(' Average Score {}'.format(sum(reward)/batch_per_epi))\n",
    "        #averaging weights \n",
    "cross_entropy()"
   ]
  },
  {
   "cell_type": "code",
   "execution_count": 52,
   "metadata": {},
   "outputs": [],
   "source": [
    "state = env.reset()\n",
    "while True:\n",
    "    state = torch.from_numpy(state).float().to(device)\n",
    "    with torch.no_grad():\n",
    "        action = agent(state)\n",
    "    env.render()\n",
    "    next_state, reward, done, _ = env.step(action)\n",
    "    state = next_state\n",
    "    if done:\n",
    "        break\n",
    "\n",
    "env.close()"
   ]
  },
  {
   "cell_type": "code",
   "execution_count": 37,
   "metadata": {},
   "outputs": [
    {
     "data": {
      "text/plain": [
       "array([tensor(-0.5116, device='cuda:0', grad_fn=<AddBackward0>),\n",
       "       tensor(0.0013, device='cuda:0', grad_fn=<AddBackward0>)],\n",
       "      dtype=object)"
      ]
     },
     "execution_count": 37,
     "metadata": {},
     "output_type": "execute_result"
    }
   ],
   "source": [
    "next_state"
   ]
  },
  {
   "cell_type": "code",
   "execution_count": null,
   "metadata": {},
   "outputs": [],
   "source": [
    "state = env.reset()\n",
    "h = torch.from_numpy(state).float().to(device)\n",
    "\n",
    "\n",
    "end = self.s_s*self.h_s + self.h_s\n",
    "fc1_w = torch.from_numpy(weights[:self.s_s*self.h_s]).reshape(self.s_s, self.h_s)\n",
    "fc1_b = torch.from_numpy(weights[self.s_s*self.h_s:end])\n",
    "fc2_w = torch.from_numpy(weights[end:end+self.h_s*self.a_s]).reshape(self.h_s, self.a_c)\n",
    "fc2_b = torch.from_numpy(weights[end+self.h_s*self.a_s:])\n",
    "        \n",
    "        "
   ]
  },
  {
   "cell_type": "code",
   "execution_count": null,
   "metadata": {},
   "outputs": [],
   "source": [
    "weight = np.random.rand(agent.get_wights_dim())\n",
    "a = weight[:32].reshape(2,16)\n",
    "b = weight[32:32+16]\n",
    "c = weight[48:48+16].reshape(1,16)\n",
    "d = weight[64:]\n",
    "print(a.shape, b.shape, c.shape, d.shape)\n",
    "c = torch.from_numpy(c)"
   ]
  },
  {
   "cell_type": "code",
   "execution_count": null,
   "metadata": {},
   "outputs": [],
   "source": [
    "agent.fc2.weight.data.copy_(c.view_as(agent.fc2.weight.data))"
   ]
  },
  {
   "cell_type": "code",
   "execution_count": null,
   "metadata": {},
   "outputs": [],
   "source": [
    "agent.fc2.weight"
   ]
  },
  {
   "cell_type": "code",
   "execution_count": null,
   "metadata": {},
   "outputs": [],
   "source": [
    "agent.fc2.weight"
   ]
  },
  {
   "cell_type": "code",
   "execution_count": null,
   "metadata": {},
   "outputs": [],
   "source": [
    "sum([b,b,b])/2"
   ]
  },
  {
   "cell_type": "code",
   "execution_count": null,
   "metadata": {},
   "outputs": [],
   "source": [
    "3*16 + 17*1"
   ]
  },
  {
   "cell_type": "code",
   "execution_count": null,
   "metadata": {},
   "outputs": [],
   "source": [
    "agent.fc1.bias.size()"
   ]
  },
  {
   "cell_type": "code",
   "execution_count": null,
   "metadata": {},
   "outputs": [],
   "source": [
    "agent.fc2.weight.size()"
   ]
  },
  {
   "cell_type": "code",
   "execution_count": null,
   "metadata": {},
   "outputs": [],
   "source": [
    "agent.fc2.bias.size()"
   ]
  },
  {
   "cell_type": "code",
   "execution_count": null,
   "metadata": {},
   "outputs": [],
   "source": []
  }
 ],
 "metadata": {
  "kernelspec": {
   "display_name": "Python 3",
   "language": "python",
   "name": "python3"
  },
  "language_info": {
   "codemirror_mode": {
    "name": "ipython",
    "version": 3
   },
   "file_extension": ".py",
   "mimetype": "text/x-python",
   "name": "python",
   "nbconvert_exporter": "python",
   "pygments_lexer": "ipython3",
   "version": "3.7.3"
  }
 },
 "nbformat": 4,
 "nbformat_minor": 2
}
