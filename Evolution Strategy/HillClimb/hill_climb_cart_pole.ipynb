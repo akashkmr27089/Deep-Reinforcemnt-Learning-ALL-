{
 "cells": [
  {
   "cell_type": "code",
   "execution_count": 1,
   "metadata": {},
   "outputs": [],
   "source": [
    "import gym\n",
    "import math\n",
    "import numpy as np\n",
    "import matplotlib.pyplot as plt\n",
    "from collections import deque\n",
    "%matplotlib inline\n",
    "\n",
    "import torch\n",
    "import torch.nn as nn\n",
    "import torch.nn.functional as F"
   ]
  },
  {
   "cell_type": "code",
   "execution_count": 2,
   "metadata": {},
   "outputs": [],
   "source": [
    "#for using gpu\n",
    "device = torch.device(\"cuda:0\" if torch.cuda.is_available() else \"cpu\")"
   ]
  },
  {
   "cell_type": "code",
   "execution_count": 3,
   "metadata": {},
   "outputs": [
    {
     "name": "stdout",
     "output_type": "stream",
     "text": [
      "Discrete(2) Box(4,)\n"
     ]
    },
    {
     "name": "stderr",
     "output_type": "stream",
     "text": [
      "/home/oxygen/anaconda3/lib/python3.7/site-packages/gym/logger.py:30: UserWarning: \u001b[33mWARN: Box bound precision lowered by casting to float32\u001b[0m\n",
      "  warnings.warn(colorize('%s: %s'%('WARN', msg % args), 'yellow'))\n"
     ]
    }
   ],
   "source": [
    "env = gym.make('CartPole-v1')\n",
    "print(env.action_space, env.observation_space)\n",
    "env.seed(101)\n",
    "np.random.seed(101)"
   ]
  },
  {
   "cell_type": "code",
   "execution_count": 4,
   "metadata": {},
   "outputs": [],
   "source": [
    "class Agent(nn.Module):\n",
    "    def __init__(self, env, action_space, state_space):\n",
    "        super(Agent, self).__init__()\n",
    "        self.env = env\n",
    "        self.a_s = action_space\n",
    "        self.s_s = state_space\n",
    "        self.h_s = 16\n",
    "        self.fc1 = nn.Linear(self.s_s, self.h_s).to(device)\n",
    "        self.fc2 = nn.Linear(self.h_s, self.a_s).to(device)\n",
    "    \n",
    "    def get_wights_dim(self):\n",
    "        return (self.s_s+1)*self.h_s + (self.h_s+1)*self.a_s\n",
    "\n",
    "    def adjust_to_weights(self,weights):\n",
    "        end = self.s_s*self.h_s + self.h_s\n",
    "        fc1_w = torch.from_numpy(weights[:self.s_s*self.h_s]).reshape(self.s_s, self.h_s)\n",
    "        fc1_b = torch.from_numpy(weights[self.s_s*self.h_s:end])\n",
    "        fc2_w = torch.from_numpy(weights[end:end+self.h_s*self.a_s]).reshape(self.h_s, self.a_s)\n",
    "        fc2_b = torch.from_numpy(weights[end+self.h_s*self.a_s:])\n",
    "        #copying weights and bias\n",
    "        self.fc1.weight.data.copy_(fc1_w.view_as(self.fc1.weight.data))\n",
    "        self.fc1.bias.data.copy_(fc1_b.view_as(self.fc1.bias.data))\n",
    "        self.fc2.weight.data.copy_(fc2_w.view_as(self.fc2.weight.data))\n",
    "        self.fc2.bias.data.copy_(fc2_b.view_as(self.fc2.bias.data))\n",
    "            \n",
    "    def forward(self, x):\n",
    "        x = F.relu(self.fc1(x))\n",
    "        x = F.sigmoid(self.fc2(x))\n",
    "        if x < 0.5:\n",
    "            return 0\n",
    "        else:\n",
    "            return 1\n",
    "        \n",
    "    def evaluate(self, weight, itera):\n",
    "        self.adjust_to_weights(weight)\n",
    "        state = self.env.reset()\n",
    "        scores = 0.0\n",
    "        for _ in range(itera):\n",
    "            state = torch.from_numpy(state).float().to(device)\n",
    "            action = self.forward(state)\n",
    "            next_state, reward, done, _ = self.env.step(action)\n",
    "            scores += reward\n",
    "            state = next_state\n",
    "            if done:\n",
    "                break\n",
    "        return scores\n",
    "\n",
    "agent = Agent(env, 1,4)"
   ]
  },
  {
   "cell_type": "code",
   "execution_count": 5,
   "metadata": {
    "scrolled": false
   },
   "outputs": [
    {
     "name": "stderr",
     "output_type": "stream",
     "text": [
      "/home/oxygen/anaconda3/lib/python3.7/site-packages/torch/nn/functional.py:1351: UserWarning: nn.functional.sigmoid is deprecated. Use torch.sigmoid instead.\n",
      "  warnings.warn(\"nn.functional.sigmoid is deprecated. Use torch.sigmoid instead.\")\n"
     ]
    },
    {
     "name": "stdout",
     "output_type": "stream",
     "text": [
      "Average Score 500.0 Environment Solved in 10 iteration \n"
     ]
    },
    {
     "data": {
      "image/png": "[encoded data removed]",
      "text/plain": [
       "<Figure size 432x288 with 1 Axes>"
      ]
     },
     "metadata": {
      "needs_background": "light"
     },
     "output_type": "display_data"
    }
   ],
   "source": [
    "scores = deque(maxlen=30)\n",
    "def cross_entropy(n_episode = 30, n_iter=1000, sigma = 0.5, batch_per_epi=10):\n",
    "    best_weight = sigma*np.random.randn(agent.get_wights_dim())\n",
    "    global scores\n",
    "    for i in range(n_episode):\n",
    "        memory = [best_weight + sigma*np.random.randn(agent.get_wights_dim()) for _ in range(batch_per_epi)]\n",
    "        reward = [agent.evaluate(weight, n_iter) for weight in memory]\n",
    "        best_weight_pos = np.array(reward).argsort()[-1]\n",
    "        best_weight = memory[best_weight_pos]\n",
    "        reward = agent.evaluate(best_weight, n_iter)\n",
    "        scores.append(reward)\n",
    "        #print(agent.fc1.weight)\n",
    "        print('\\rAverage Score {}'.format(reward), end = '')\n",
    "        torch.save(agent.state_dict(), 'checkpoint_hillclimb_cartpole.pth')\n",
    "        if reward == 500.0:\n",
    "            print(\" Environment Solved in {} iteration \".format(i))\n",
    "            break\n",
    "        #averaging weights \n",
    "cross_entropy()\n",
    "\n",
    "plt.plot(scores)\n",
    "plt.xlabel('Scores')\n",
    "plt.ylabel('iteration')\n",
    "plt.show()"
   ]
  },
  {
   "cell_type": "code",
   "execution_count": 9,
   "metadata": {},
   "outputs": [
    {
     "name": "stderr",
     "output_type": "stream",
     "text": [
      "/home/oxygen/anaconda3/lib/python3.7/site-packages/torch/nn/functional.py:1351: UserWarning: nn.functional.sigmoid is deprecated. Use torch.sigmoid instead.\n",
      "  warnings.warn(\"nn.functional.sigmoid is deprecated. Use torch.sigmoid instead.\")\n"
     ]
    }
   ],
   "source": [
    "agent.load_state_dict(torch.load('checkpoint_hillclimb_cartpole.pth'))\n",
    "state = env.reset()\n",
    "while True:\n",
    "    state = torch.from_numpy(state).float().to(device)\n",
    "    with torch.no_grad():\n",
    "        action = agent.forward(state)\n",
    "    env.render()\n",
    "    next_state, reward, done, _ = env.step(action)\n",
    "    state = next_state\n",
    "    if done:\n",
    "        break\n",
    "\n",
    "env.close()"
   ]
  }
 ],
 "metadata": {
  "kernelspec": {
   "display_name": "Python 3",
   "language": "python",
   "name": "python3"
  },
  "language_info": {
   "codemirror_mode": {
    "name": "ipython",
    "version": 3
   },
   "file_extension": ".py",
   "mimetype": "text/x-python",
   "name": "python",
   "nbconvert_exporter": "python",
   "pygments_lexer": "ipython3",
   "version": "3.7.3"
  }
 },
 "nbformat": 4,
 "nbformat_minor": 2
}
