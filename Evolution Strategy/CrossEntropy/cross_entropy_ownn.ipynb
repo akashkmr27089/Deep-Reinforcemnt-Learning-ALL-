{
 "cells": [
  {
   "cell_type": "code",
   "execution_count": 1,
   "metadata": {},
   "outputs": [],
   "source": [
    "import gym\n",
    "import math\n",
    "import numpy as np\n",
    "import matplotlib.pyplot as plt\n",
    "from collections import deque\n",
    "%matplotlib inline\n",
    "\n",
    "import torch\n",
    "import torch.nn as nn\n",
    "import torch.nn.functional as F"
   ]
  },
  {
   "cell_type": "code",
   "execution_count": 2,
   "metadata": {},
   "outputs": [],
   "source": [
    "#for using gpu\n",
    "device = torch.device(\"cuda:0\" if torch.cuda.is_available() else \"cpu\")"
   ]
  },
  {
   "cell_type": "code",
   "execution_count": 3,
   "metadata": {},
   "outputs": [
    {
     "name": "stdout",
     "output_type": "stream",
     "text": [
      "Box(1,) Box(2,)\n"
     ]
    },
    {
     "name": "stderr",
     "output_type": "stream",
     "text": [
      "/home/oxygen/anaconda3/lib/python3.7/site-packages/gym/logger.py:30: UserWarning: \u001b[33mWARN: Box bound precision lowered by casting to float32\u001b[0m\n",
      "  warnings.warn(colorize('%s: %s'%('WARN', msg % args), 'yellow'))\n"
     ]
    }
   ],
   "source": [
    "env = gym.make('MountainCarContinuous-v0')\n",
    "print(env.action_space, env.observation_space)\n",
    "env.seed(101)\n",
    "np.random.seed(101)"
   ]
  },
  {
   "cell_type": "code",
   "execution_count": 4,
   "metadata": {},
   "outputs": [],
   "source": [
    "class Agent(nn.Module):\n",
    "    def __init__(self, env, action_space, state_space):\n",
    "        super(Agent, self).__init__()\n",
    "        self.env = env\n",
    "        self.a_s = action_space\n",
    "        self.s_s = state_space\n",
    "        self.h_s = 16\n",
    "        self.fc1 = nn.Linear(self.s_s, self.h_s).to(device)\n",
    "        self.fc2 = nn.Linear(self.h_s, self.a_s).to(device)\n",
    "    \n",
    "    def get_wights_dim(self):\n",
    "        return (self.s_s+1)*self.h_s + (self.h_s+1)*self.a_s\n",
    "\n",
    "    def adjust_to_weights(self,weights):\n",
    "        end = self.s_s*self.h_s + self.h_s\n",
    "        fc1_w = torch.from_numpy(weights[:self.s_s*self.h_s]).reshape(self.s_s, self.h_s)\n",
    "        fc1_b = torch.from_numpy(weights[self.s_s*self.h_s:end])\n",
    "        fc2_w = torch.from_numpy(weights[end:end+self.h_s*self.a_s]).reshape(self.h_s, self.a_s)\n",
    "        fc2_b = torch.from_numpy(weights[end+self.h_s*self.a_s:])\n",
    "        #copying weights and bias\n",
    "        self.fc1.weight.data.copy_(fc1_w.view_as(self.fc1.weight.data))\n",
    "        self.fc1.bias.data.copy_(fc1_b.view_as(self.fc1.bias.data))\n",
    "        self.fc2.weight.data.copy_(fc2_w.view_as(self.fc2.weight.data))\n",
    "        self.fc2.bias.data.copy_(fc2_b.view_as(self.fc2.bias.data))\n",
    "            \n",
    "    def forward(self, x):\n",
    "        x = F.relu(self.fc1(x))\n",
    "        x = F.tanh(self.fc2(x))\n",
    "        return x.cpu().data\n",
    "        \n",
    "    def evaluate(self, weight, itera):\n",
    "        self.adjust_to_weights(weight)\n",
    "        state = self.env.reset()\n",
    "        scores = 0.0\n",
    "        for _ in range(itera):\n",
    "            state = torch.from_numpy(state).float().to(device)\n",
    "            action = self.forward(state)\n",
    "            next_state, reward, done, _ = self.env.step(action)\n",
    "            scores += reward\n",
    "            state = next_state\n",
    "            if done:\n",
    "                break\n",
    "        return scores\n",
    "\n",
    "agent = Agent(env, 1,2)"
   ]
  },
  {
   "cell_type": "code",
   "execution_count": 5,
   "metadata": {
    "scrolled": true
   },
   "outputs": [
    {
     "name": "stderr",
     "output_type": "stream",
     "text": [
      "/home/oxygen/anaconda3/lib/python3.7/site-packages/torch/nn/functional.py:1340: UserWarning: nn.functional.tanh is deprecated. Use torch.tanh instead.\n",
      "  warnings.warn(\"nn.functional.tanh is deprecated. Use torch.tanh instead.\")\n"
     ]
    },
    {
     "name": "stdout",
     "output_type": "stream",
     "text": [
      " Average Score -5.022840426837904\n",
      " Average Score -0.4405517880810916\n",
      " Average Score -0.5454038933958927\n",
      " Average Score -0.6527626100473278\n",
      " Average Score -2.6957201970963407\n",
      " Average Score -0.9530679725511854\n",
      " Average Score -0.09952659425288421\n",
      " Average Score -0.10246435541237935\n",
      " Average Score -1.4752855993972913\n",
      " Average Score -2.441910938825497\n",
      " Average Score -5.2393235803384615\n",
      " Average Score -17.8767979698008\n",
      " Average Score -3.3377305966192603\n",
      " Average Score -2.512417888983384\n",
      " Average Score -0.40997017291483656\n",
      " Average Score -0.022365840399915203\n",
      " Average Score -4.443952108452526\n",
      " Average Score -4.437807123704333\n",
      " Average Score -17.007662968575367\n",
      " Average Score -9.852323082905519\n",
      " Average Score -12.055436396434747\n",
      " Average Score -2.469176989623034\n",
      " Average Score -15.518621880260744\n",
      " Average Score -8.338004384340454\n",
      " Average Score -0.028680089574990707\n",
      " Average Score -2.321956413558945\n",
      " Average Score -1.1240958879488454\n",
      " Average Score -0.5360040315577659\n",
      " Average Score -1.7430464440489408\n",
      " Average Score -1.580837027102597\n",
      " Average Score -3.2090854781373026\n",
      " Average Score -0.0953509711792284\n",
      " Average Score -1.0912423652644312\n",
      " Average Score -0.5324480996172916\n",
      " Average Score -0.37693309368307554\n",
      " Average Score -6.058420533033778\n",
      " Average Score -18.430293955478323\n",
      " Average Score 94.10125542706466\n",
      "Solved \n"
     ]
    }
   ],
   "source": [
    "def cross_entropy(n_episode = 100, n_iter=1000, batch_per_epi=50, prob_selection=20, sigma = 0.5):\n",
    "    best_weight = sigma*np.random.randn(agent.get_wights_dim())\n",
    "    number_of_selection = int(prob_selection*batch_per_epi/100.0)\n",
    "    scores_deque = deque(maxlen=100)\n",
    "    for i in range(n_episode):\n",
    "        memory = [best_weight + sigma*np.random.randn(agent.get_wights_dim()) for _ in range(batch_per_epi)]\n",
    "        reward = [agent.evaluate(weight, n_iter) for weight in memory]\n",
    "        arranged_index = np.array(reward).argsort()[-number_of_selection:]\n",
    "        weights = [memory[j] for j in arranged_index]  #collected top n weights according to reward\n",
    "        #best_weight = (sum(weights)/number_of_selection)\n",
    "        best_weight = np.array(weights).mean(axis = 0)\n",
    "        reward = agent.evaluate(best_weight, n_iter)\n",
    "        scores_deque.append(reward)\n",
    "        #print(agent.fc1.weight)\n",
    "        torch.save(agent.state_dict(), 'checkpoint_own.pth')\n",
    "        print(' Average Score {}'.format(reward))\n",
    "        if scores_deque[-1] >= 90.0:\n",
    "            print(\"Solved \")\n",
    "            break\n",
    "            \n",
    "        #averaging weights \n",
    "cross_entropy()"
   ]
  },
  {
   "cell_type": "code",
   "execution_count": 9,
   "metadata": {},
   "outputs": [],
   "source": [
    "agent.load_state_dict(torch.load('checkpoint_own.pth'))\n",
    "\n",
    "state = env.reset()\n",
    "while True:\n",
    "    state = torch.from_numpy(state).float().to(device)\n",
    "    with torch.no_grad():\n",
    "        action = agent(state)\n",
    "    env.render()\n",
    "    next_state, reward, done, _ = env.step(action)\n",
    "    state = next_state\n",
    "    if done:\n",
    "        break\n",
    "\n",
    "env.close()"
   ]
  },
  {
   "cell_type": "code",
   "execution_count": null,
   "metadata": {},
   "outputs": [],
   "source": []
  }
 ],
 "metadata": {
  "kernelspec": {
   "display_name": "Python 3",
   "language": "python",
   "name": "python3"
  },
  "language_info": {
   "codemirror_mode": {
    "name": "ipython",
    "version": 3
   },
   "file_extension": ".py",
   "mimetype": "text/x-python",
   "name": "python",
   "nbconvert_exporter": "python",
   "pygments_lexer": "ipython3",
   "version": "3.7.3"
  }
 },
 "nbformat": 4,
 "nbformat_minor": 2
}
