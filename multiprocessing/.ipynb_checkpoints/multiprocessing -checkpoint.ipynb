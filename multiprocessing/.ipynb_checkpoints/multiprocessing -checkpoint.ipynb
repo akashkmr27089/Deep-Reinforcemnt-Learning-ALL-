{
 "cells": [
  {
   "cell_type": "markdown",
   "metadata": {},
   "source": [
    "## Multiprocessing "
   ]
  },
  {
   "cell_type": "code",
   "execution_count": 1,
   "metadata": {},
   "outputs": [
    {
     "name": "stdout",
     "output_type": "stream",
     "text": [
      "number of cpu : 8\n"
     ]
    }
   ],
   "source": [
    "import multiprocessing as mp\n",
    "print(\"number of cpu :\", mp.cpu_count())"
   ]
  },
  {
   "cell_type": "code",
   "execution_count": 2,
   "metadata": {},
   "outputs": [],
   "source": [
    "def printing(data = 'asia'):\n",
    "    print(data)"
   ]
  },
  {
   "cell_type": "markdown",
   "metadata": {},
   "source": [
    "###  Creating a single process parallelly\n",
    "\n",
    "1. Need to used start to start the process \n",
    "2. Need to use join to wait for the program to stoop and when its done, close the program otherwise need to kill with the task manager"
   ]
  },
  {
   "cell_type": "code",
   "execution_count": 3,
   "metadata": {},
   "outputs": [
    {
     "name": "stdout",
     "output_type": "stream",
     "text": [
      "asia\n"
     ]
    }
   ],
   "source": [
    "proc = mp.Process(target = printing)\n",
    "proc.start()\n",
    "proc.join()"
   ]
  },
  {
   "cell_type": "markdown",
   "metadata": {},
   "source": [
    "### Creating a multiple process all printing differnet names \n",
    "\n",
    "1. The following implementation may not work parallely as it waits afterward for ending of one process .. and than going to another loop"
   ]
  },
  {
   "cell_type": "code",
   "execution_count": 4,
   "metadata": {},
   "outputs": [
    {
     "name": "stdout",
     "output_type": "stream",
     "text": [
      "asia\n",
      "africa\n",
      "india\n",
      "antarctica\n"
     ]
    }
   ],
   "source": [
    "names = ['asia', 'africa', 'india', 'antarctica']\n",
    "for name in names:\n",
    "    proc = mp.Process(target = printing, args=(name,))\n",
    "    proc.start();\n",
    "    proc.join()"
   ]
  },
  {
   "cell_type": "markdown",
   "metadata": {},
   "source": [
    "2. The following implementaion may work as the process are waited for after all the process have started "
   ]
  },
  {
   "cell_type": "code",
   "execution_count": 5,
   "metadata": {},
   "outputs": [
    {
     "name": "stdout",
     "output_type": "stream",
     "text": [
      "asia\n",
      "africa\n",
      "india\n",
      "antarctica\n"
     ]
    }
   ],
   "source": [
    "names = ['asia', 'africa', 'india', 'antarctica']\n",
    "prolist = []\n",
    "for name in names:\n",
    "    proc = mp.Process(target = printing, args=(name,))\n",
    "    proc.start();\n",
    "    prolist.append(proc)\n",
    "    \n",
    "for proc in prolist:\n",
    "    proc.join()"
   ]
  },
  {
   "cell_type": "markdown",
   "metadata": {},
   "source": [
    "## For better demonstartion \n",
    "1. Below are some interating functions which are created for giving insights on more about the same problem as mentioned "
   ]
  },
  {
   "cell_type": "code",
   "execution_count": 6,
   "metadata": {},
   "outputs": [],
   "source": [
    "def printing(fixed = 'my', data = 5):\n",
    "    for i in range(data): print(fixed, i)"
   ]
  },
  {
   "cell_type": "code",
   "execution_count": 7,
   "metadata": {},
   "outputs": [
    {
     "name": "stdout",
     "output_type": "stream",
     "text": [
      "data0 0\n",
      "data0 1\n",
      "data0 2\n",
      "data0 3\n",
      "data0 4\n",
      "data1 0\n",
      "data1 1\n",
      "data1 2\n",
      "data1 3\n",
      "data1 4\n",
      "data2 0\n",
      "data2 1\n",
      "data2 2\n",
      "data2 3\n",
      "data2 4\n",
      "data3 0\n",
      "data3 1\n",
      "data3 2\n",
      "data3 3\n",
      "data3 4\n"
     ]
    }
   ],
   "source": [
    "for i in range(4):\n",
    "    proc = mp.Process(target = printing, args = ('data'+str(i),5,))\n",
    "    proc.start()\n",
    "    proc.join()\n"
   ]
  },
  {
   "cell_type": "markdown",
   "metadata": {},
   "source": [
    "2. Below is the correct implementation of process which are working multiple program"
   ]
  },
  {
   "cell_type": "code",
   "execution_count": 8,
   "metadata": {},
   "outputs": [
    {
     "name": "stdout",
     "output_type": "stream",
     "text": [
      "data0 0\n",
      "data0 1\n",
      "data0 2\n",
      "data1 0\n",
      "data0 3\n",
      "data1 1\n",
      "data0 4\n",
      "data2 0\n",
      "data1 2\n",
      "data2 1\n",
      "data3 0\n",
      "data2 2\n",
      "data3 1\n",
      "data1 3\n",
      "data2 3\n",
      "data1 4\n",
      "data3 2\n",
      "data2 4\n",
      "data3 3\n",
      "data3 4\n"
     ]
    }
   ],
   "source": [
    "prolist = []\n",
    "for i in range(4):\n",
    "    proc = mp.Process(target = printing, args = ('data'+str(i),5,))\n",
    "    prolist.append(proc)\n",
    "    proc.start()\n",
    "    \n",
    "for proc in prolist:\n",
    "    proc.join()"
   ]
  },
  {
   "cell_type": "markdown",
   "metadata": {},
   "source": [
    "## Queue in Multiprocessing\n",
    "\n",
    "->this queue is used by multiprocessing library which keeps on waiting for get() until something is not being put() --> wheare as in normal queue(), this thing is not possible, it will simply say that the queue is empty.\n",
    "\n",
    "Wheaas same thing could be replicated like that of normal queue by queue().get_nowait()"
   ]
  },
  {
   "cell_type": "code",
   "execution_count": 9,
   "metadata": {},
   "outputs": [],
   "source": [
    "import queue as Q\n",
    "queue = mp.Queue()\n",
    "for i in range(5):\n",
    "    queue.put(i)\n",
    "while not queue.empty():\n",
    "    print(queue.get())\n",
    "while(True):\n",
    "    try:\n",
    "        print(queue.get_nowait())\n",
    "    except Q.Empty:  #this acts like queue is ended \n",
    "        break"
   ]
  },
  {
   "cell_type": "markdown",
   "metadata": {},
   "source": [
    "### Lock\n",
    "\n",
    "--> if there are multipule process using same segment of code, then one can use lock so than only the one who aquired the lock can access the code.\n",
    "\n",
    "--> Remaining can only access the code only when realeased\n",
    "\n",
    "acquire() and release()"
   ]
  },
  {
   "cell_type": "code",
   "execution_count": 10,
   "metadata": {},
   "outputs": [
    {
     "name": "stdout",
     "output_type": "stream",
     "text": [
      "nation\n",
      " Else Statement Executed \n"
     ]
    }
   ],
   "source": [
    "try:\n",
    "    print(\"nation\")\n",
    "except KeyboardInterrupt:\n",
    "    print(\"Intrupt\")\n",
    "else:\n",
    "    print(\" Else Statement Executed \")   # else statement occurs\n",
    "    #if there is no exception is found in try"
   ]
  },
  {
   "cell_type": "markdown",
   "metadata": {},
   "source": [
    "##### All the child process will get different process id if we include line 14 as there is a time sleep. Due to which the pc will shift its focus to another process meanwhile"
   ]
  },
  {
   "cell_type": "code",
   "execution_count": 23,
   "metadata": {},
   "outputs": [],
   "source": [
    "import queue as Q\n",
    "import time\n",
    "def task_scheduler(done_process, to_be_done_process):\n",
    "    while True:\n",
    "        #will run until the process list is not empty\n",
    "        try:\n",
    "            task = to_be_done_process.get_nowait()\n",
    "        except Q.Empty:\n",
    "            break\n",
    "        else:\n",
    "            # will be executed if there is no exception \n",
    "            print(task, mp.current_process())\n",
    "            done_process.put(task)\n",
    "            time.sleep(0.5) #if there is a time --> then the process will shift to another\n",
    "            #since there is a waiting time --> theory confirmed"
   ]
  },
  {
   "cell_type": "code",
   "execution_count": 22,
   "metadata": {},
   "outputs": [
    {
     "name": "stdout",
     "output_type": "stream",
     "text": [
      "0 <Process(Process-58, started)>\n",
      "1 <Process(Process-59, started)>\n",
      "2 <Process(Process-60, started)>\n",
      "3 <Process(Process-61, started)>\n",
      "4 <Process(Process-62, started)>\n",
      "5 <Process(Process-63, started)>\n",
      "6 <Process(Process-64, started)>\n",
      "7 <Process(Process-65, started)>\n",
      "8 <Process(Process-66, started)>\n",
      "9 <Process(Process-67, started)>\n",
      " executed process 0\n",
      " executed process 1\n",
      " executed process 2\n",
      " executed process 3\n",
      " executed process 4\n",
      " executed process 5\n",
      " executed process 6\n",
      " executed process 7\n",
      " executed process 8\n",
      " executed process 9\n"
     ]
    }
   ],
   "source": [
    "done_process = mp.Queue()\n",
    "to_be_done_process = mp.Queue()\n",
    "\n",
    "for i in range(10):\n",
    "    to_be_done_process.put(i)\n",
    "    \n",
    "processes = []\n",
    "for i in range(10):\n",
    "    proc = mp.Process(target= task_scheduler, args=(done_process, to_be_done_process))\n",
    "    processes.append(proc)\n",
    "    proc.start()\n",
    "    \n",
    "for proc in processes:\n",
    "    proc.join()\n",
    "\n",
    "while True:\n",
    "    try:\n",
    "        print(\" executed process {}\".format(done_process.get_nowait()))\n",
    "    except Q.Empty:\n",
    "        break"
   ]
  },
  {
   "cell_type": "markdown",
   "metadata": {},
   "source": [
    "## Pooling Process\n",
    "Basically dividing each of the process to multiple pools --> load balancing \n",
    "* the same is used for creating a pool of parallel process such that it keeps on accepting the argument till the list is not over."
   ]
  },
  {
   "cell_type": "code",
   "execution_count": 207,
   "metadata": {},
   "outputs": [],
   "source": [
    "work = [['A',2],['B',3],['C',1],['D',2],['F',1],['G',1]]\n",
    "\n",
    "def workdone(working_data):\n",
    "    print('working for {} for timming {}'.format(working_data[0],working_data[1]))\n",
    "    print(mp.current_process())\n",
    "    time.sleep(working_data[1])\n",
    "    print(' Process finished {} with current id {}'.format(working_data[0], mp.current_process()))\n",
    "    return mp.current_process().pid"
   ]
  },
  {
   "cell_type": "code",
   "execution_count": 208,
   "metadata": {},
   "outputs": [
    {
     "name": "stdout",
     "output_type": "stream",
     "text": [
      "working for B for timming 3\n",
      "working for A for timming 2\n",
      "working for C for timming 1\n",
      "<ForkProcess(ForkPoolWorker-1174, started daemon)>\n",
      "<ForkProcess(ForkPoolWorker-1176, started daemon)>\n",
      "<ForkProcess(ForkPoolWorker-1175, started daemon)>\n",
      " Process finished C with current id <ForkProcess(ForkPoolWorker-1176, started daemon)>\n",
      "working for D for timming 2\n",
      "<ForkProcess(ForkPoolWorker-1176, started daemon)>\n",
      " Process finished A with current id <ForkProcess(ForkPoolWorker-1174, started daemon)>\n",
      "working for F for timming 1\n",
      "<ForkProcess(ForkPoolWorker-1174, started daemon)>\n",
      " Process finished B with current id <ForkProcess(ForkPoolWorker-1175, started daemon)>\n",
      "working for G for timming 1\n",
      "<ForkProcess(ForkPoolWorker-1175, started daemon)>\n",
      " Process finished F with current id <ForkProcess(ForkPoolWorker-1174, started daemon)>\n",
      " Process finished D with current id <ForkProcess(ForkPoolWorker-1176, started daemon)>\n",
      " Process finished G with current id <ForkProcess(ForkPoolWorker-1175, started daemon)>\n",
      "[26525, 26526, 26527, 26527, 26525, 26526]\n"
     ]
    },
    {
     "name": "stderr",
     "output_type": "stream",
     "text": [
      "Process ForkPoolWorker-1175:\n",
      "Process ForkPoolWorker-1174:\n",
      "Process ForkPoolWorker-1176:\n",
      "  File \"/home/oxygen/anaconda3/lib/python3.7/multiprocessing/process.py\", line 297, in _bootstrap\n",
      "    self.run()\n",
      "Traceback (most recent call last):\n",
      "Traceback (most recent call last):\n",
      "Traceback (most recent call last):\n",
      "  File \"/home/oxygen/anaconda3/lib/python3.7/multiprocessing/process.py\", line 297, in _bootstrap\n",
      "    self.run()\n",
      "  File \"/home/oxygen/anaconda3/lib/python3.7/multiprocessing/process.py\", line 297, in _bootstrap\n",
      "    self.run()\n",
      "  File \"/home/oxygen/anaconda3/lib/python3.7/multiprocessing/process.py\", line 99, in run\n",
      "    self._target(*self._args, **self._kwargs)\n",
      "  File \"/home/oxygen/anaconda3/lib/python3.7/multiprocessing/process.py\", line 99, in run\n",
      "    self._target(*self._args, **self._kwargs)\n",
      "  File \"/home/oxygen/anaconda3/lib/python3.7/multiprocessing/pool.py\", line 110, in worker\n",
      "    task = get()\n",
      "  File \"/home/oxygen/anaconda3/lib/python3.7/multiprocessing/pool.py\", line 110, in worker\n",
      "    task = get()\n",
      "  File \"/home/oxygen/anaconda3/lib/python3.7/multiprocessing/process.py\", line 99, in run\n",
      "    self._target(*self._args, **self._kwargs)\n",
      "  File \"/home/oxygen/anaconda3/lib/python3.7/multiprocessing/queues.py\", line 352, in get\n",
      "    res = self._reader.recv_bytes()\n",
      "  File \"/home/oxygen/anaconda3/lib/python3.7/multiprocessing/pool.py\", line 110, in worker\n",
      "    task = get()\n",
      "  File \"/home/oxygen/anaconda3/lib/python3.7/multiprocessing/queues.py\", line 351, in get\n",
      "    with self._rlock:\n",
      "  File \"/home/oxygen/anaconda3/lib/python3.7/multiprocessing/queues.py\", line 351, in get\n",
      "    with self._rlock:\n",
      "  File \"/home/oxygen/anaconda3/lib/python3.7/multiprocessing/connection.py\", line 216, in recv_bytes\n",
      "    buf = self._recv_bytes(maxlength)\n",
      "  File \"/home/oxygen/anaconda3/lib/python3.7/multiprocessing/synchronize.py\", line 95, in __enter__\n",
      "    return self._semlock.__enter__()\n",
      "  File \"/home/oxygen/anaconda3/lib/python3.7/multiprocessing/synchronize.py\", line 95, in __enter__\n",
      "    return self._semlock.__enter__()\n",
      "  File \"/home/oxygen/anaconda3/lib/python3.7/multiprocessing/connection.py\", line 407, in _recv_bytes\n",
      "    buf = self._recv(4)\n",
      "  File \"/home/oxygen/anaconda3/lib/python3.7/multiprocessing/connection.py\", line 379, in _recv\n",
      "    chunk = read(handle, remaining)\n",
      "KeyboardInterrupt\n",
      "KeyboardInterrupt\n",
      "KeyboardInterrupt\n"
     ]
    }
   ],
   "source": [
    "def pool_handler():\n",
    "    p = mp.Pool(3)  #means 2 process will be executing parallely\n",
    "    h = p.map(workdone, work)  #maping workdone function to argument work\n",
    "    print(list(h))\n",
    "pool_handler()"
   ]
  },
  {
   "cell_type": "markdown",
   "metadata": {},
   "source": [
    "### Testing if the same can be used with gym "
   ]
  },
  {
   "cell_type": "code",
   "execution_count": 192,
   "metadata": {},
   "outputs": [],
   "source": [
    "import gym\n",
    "gym.logger.set_level(40)\n",
    "# from collections import namedtuple\n",
    "import multiprocessing as mp\n",
    "\n",
    "data_storage = mp.Queue()\n",
    "# exp = namedtuple('Experience',['process_id','next_state','reward'])\n"
   ]
  },
  {
   "cell_type": "code",
   "execution_count": 193,
   "metadata": {},
   "outputs": [],
   "source": [
    "def worker(data_af):\n",
    "    data = []\n",
    "    exp = namedtuple('Experience',['process_id'])\n",
    "    print(\"Process started for pid \",mp.current_process().pid)\n",
    "    env = gym.make('CartPole-v0')\n",
    "    state = env.reset()\n",
    "    while True:\n",
    "        action = env.action_space.sample()\n",
    "        next_state, reward, done, _ = env.step(action)\n",
    "#         data.append(exp(mp.current_process(), next_state, reward))\n",
    "        data.append([mp.current_process().pid,next_state,reward])\n",
    "        state = next_state\n",
    "        if done:\n",
    "            break\n",
    "    data_af.put(data) "
   ]
  },
  {
   "cell_type": "code",
   "execution_count": 194,
   "metadata": {},
   "outputs": [
    {
     "name": "stdout",
     "output_type": "stream",
     "text": [
      "Process started for pid  26255\n",
      "Process started for pid  26258\n",
      "Process started for pid  26259\n",
      "Process started for pid  26264\n",
      "Process started for pid  26267\n",
      "Process started for pid  26270\n",
      "Process started for pid  26277\n",
      "Process started for pid  26273\n",
      "Process started for pid  26283\n",
      "Process started for pid  26286\n",
      "Process started for pid  26289\n",
      "Process started for pid  26298\n",
      "Process started for pid  26292\n",
      "Process started for pid  26294\n",
      "Process started for pid  26306\n",
      "Process started for pid  26307\n",
      "Process started for pid  26316\n",
      "Process started for pid  26311\n",
      "Process started for pid  26314\n",
      "Process started for pid  26324\n",
      "8\n",
      "\n",
      "[[26255, array([ 0.02186186, -0.23642184,  0.04666768,  0.34097024]), 1.0], [26255, array([ 0.01713342, -0.43217564,  0.05348708,  0.64799657]), 1.0], [26255, array([ 0.00848991, -0.62800036,  0.06644701,  0.95703128]), 1.0], [26255, array([-0.0040701 , -0.82394991,  0.08558764,  1.26982803]), 1.0], [26255, array([-0.0205491 , -1.020054  ,  0.1109842 ,  1.58803949]), 1.0], [26255, array([-0.04095018, -1.21630593,  0.14274499,  1.91316866]), 1.0], [26255, array([-0.0652763 , -1.4126486 ,  0.18100836,  2.24651189]), 1.0], [26255, array([-0.09352927, -1.21963756,  0.2259386 ,  2.01465158]), 1.0]]\n",
      "\n",
      "28\n",
      "\n",
      "[[26258, array([-0.01229775,  0.19033194, -0.0292453 , -0.28309597]), 1.0], [26258, array([-0.00849111,  0.38585855, -0.03490722, -0.58485737]), 1.0], [26258, array([-7.73943234e-04,  5.81451636e-01, -4.66043678e-02, -8.88328908e-01]), 1.0], [26258, array([ 0.01085509,  0.77717404, -0.06437095, -1.19529048]), 1.0], [26258, array([ 0.02639857,  0.97306765, -0.08827676, -1.5074343 ]), 1.0], [26258, array([ 0.04585992,  0.77912   , -0.11842544, -1.24356531]), 1.0], [26258, array([ 0.06144232,  0.58569991, -0.14329675, -0.99020303]), 1.0], [26258, array([ 0.07315632,  0.39275634, -0.16310081, -0.74573922]), 1.0], [26258, array([ 0.08101145,  0.20021559, -0.17801559, -0.50850037]), 1.0], [26258, array([ 0.08501576,  0.00798941, -0.1881856 , -0.27677833]), 1.0], [26258, array([ 0.08517555, -0.18401923, -0.19372117, -0.04885074]), 1.0], [26258, array([ 0.08149516, -0.37591201, -0.19469818,  0.17700583]), 1.0], [26258, array([ 0.07397692, -0.17861411, -0.19115807, -0.17022973]), 1.0], [26258, array([ 0.07040464, -0.37055925, -0.19456266,  0.0565847 ]), 1.0], [26258, array([ 0.06299346, -0.17325711, -0.19343097, -0.29062577]), 1.0], [26258, array([ 0.05952831, -0.36517062, -0.19924348, -0.06463889]), 1.0], [26258, array([ 0.0522249 , -0.55696119, -0.20053626,  0.15916478]), 1.0], [26258, array([ 0.04108568, -0.7487318 , -0.19735296,  0.38249274]), 1.0], [26258, array([ 0.02611104, -0.94058463, -0.18970311,  0.60704006]), 1.0], [26258, array([ 0.00729935, -1.13261893, -0.17756231,  0.83448513]), 1.0], [26258, array([-0.01535303, -0.93557348, -0.1608726 ,  0.49163469]), 1.0], [26258, array([-0.0340645 , -0.73859156, -0.15103991,  0.15288419]), 1.0], [26258, array([-0.04883633, -0.54166593, -0.14798223, -0.1833784 ]), 1.0], [26258, array([-0.05966965, -0.34477058, -0.1516498 , -0.51884166]), 1.0], [26258, array([-0.06656506, -0.14787541, -0.16202663, -0.85520916]), 1.0], [26258, array([-0.06952257,  0.04903972, -0.17913081, -1.19414085]), 1.0], [26258, array([-0.06854177,  0.24597074, -0.20301363, -1.53719398]), 1.0], [26258, array([-0.06362236,  0.0537878 , -0.23375751, -1.31411661]), 1.0]]\n",
      "\n",
      "13\n",
      "\n",
      "[[26259, array([ 0.04602605, -0.16539506,  0.03977457,  0.28589898]), 1.0], [26259, array([ 0.04271815, -0.36106103,  0.04549255,  0.59085644]), 1.0], [26259, array([ 0.03549693, -0.16660454,  0.05730968,  0.31284369]), 1.0], [26259, array([ 0.03216484, -0.3624941 ,  0.06356656,  0.62303546]), 1.0], [26259, array([ 0.02491496, -0.16831461,  0.07602726,  0.35103047]), 1.0], [26259, array([ 0.02154867, -0.36443079,  0.08304787,  0.66668546]), 1.0], [26259, array([ 0.01426005, -0.17055605,  0.09638158,  0.40126364]), 1.0], [26259, array([ 0.01084893, -0.36690354,  0.10440686,  0.72271031]), 1.0], [26259, array([ 0.00351086, -0.56330279,  0.11886106,  1.04634484]), 1.0], [26259, array([-0.0077552 , -0.75978456,  0.13978796,  1.37385095]), 1.0], [26259, array([-0.02295089, -0.95634946,  0.16726498,  1.70678618]), 1.0], [26259, array([-0.04207788, -0.7634998 ,  0.2014007 ,  1.47049578]), 1.0], [26259, array([-0.05734787, -0.57132943,  0.23081062,  1.24687896]), 1.0]]\n",
      "\n",
      "17\n",
      "\n",
      "[[26264, array([ 0.0490162 ,  0.20293225, -0.00499945, -0.31778196]), 1.0], [26264, array([ 0.05307485,  0.00788186, -0.01135509, -0.02667986]), 1.0], [26264, array([ 0.05323248, -0.18707543, -0.01188868,  0.26239889]), 1.0], [26264, array([ 0.04949097, -0.38202568, -0.00664071,  0.55130841]), 1.0], [26264, array([ 0.04185046, -0.57705373,  0.00438546,  0.84189169]), 1.0], [26264, array([ 0.03030939, -0.77223527,  0.0212233 ,  1.1359505 ]), 1.0], [26264, array([ 0.01486468, -0.5773973 ,  0.04394231,  0.84999855]), 1.0], [26264, array([ 0.00331673, -0.38290124,  0.06094228,  0.57145095]), 1.0], [26264, array([-0.00434129, -0.18868444,  0.0723713 ,  0.29857251]), 1.0], [26264, array([-0.00811498, -0.38475938,  0.07834275,  0.61317362]), 1.0], [26264, array([-0.01581017, -0.1908146 ,  0.09060622,  0.34615797]), 1.0], [26264, array([-0.01962646, -0.38710071,  0.09752938,  0.66598121]), 1.0], [26264, array([-0.02736847, -0.58343417,  0.110849  ,  0.98771008]), 1.0], [26264, array([-0.03903716, -0.77985171,  0.1306032 ,  1.31305103]), 1.0], [26264, array([-0.05463419, -0.97636254,  0.15686422,  1.64359519]), 1.0], [26264, array([-0.07416144, -0.78338641,  0.18973613,  1.40361421]), 1.0], [26264, array([-0.08982917, -0.59105878,  0.21780841,  1.17574835]), 1.0]]\n",
      "\n",
      "21\n",
      "\n",
      "[[26270, array([-0.04827848,  0.23982134,  0.02630979, -0.32454065]), 1.0], [26270, array([-0.04348206,  0.04433485,  0.01981898, -0.02367821]), 1.0], [26270, array([-0.04259536, -0.15106564,  0.01934541,  0.27519136]), 1.0], [26270, array([-0.04561667,  0.04377504,  0.02484924, -0.01132777]), 1.0], [26270, array([-0.04474117, -0.15169431,  0.02462268,  0.28909065]), 1.0], [26270, array([-0.04777506,  0.04306803,  0.0304045 ,  0.00427404]), 1.0], [26270, array([-0.0469137 ,  0.23774104,  0.03048998, -0.27866297]), 1.0], [26270, array([-0.04215888,  0.0421977 ,  0.02491672,  0.02347838]), 1.0], [26270, array([-0.04131492,  0.23695362,  0.02538629, -0.26124007]), 1.0], [26270, array([-0.03657585,  0.43170416,  0.02016149, -0.54580898]), 1.0], [26270, array([-0.02794177,  0.62653711,  0.00924531, -0.83207194]), 1.0], [26270, array([-0.01541102,  0.8215315 , -0.00739613, -1.12183294]), 1.0], [26270, array([ 1.01960638e-03,  1.01674966e+00, -2.98327916e-02, -1.41682661e+00]), 1.0], [26270, array([ 0.0213546 ,  0.82200956, -0.05816932, -1.13361598]), 1.0], [26270, array([ 0.03779479,  1.01784255, -0.08084164, -1.44396076]), 1.0], [26270, array([ 0.05815164,  0.82380326, -0.10972086, -1.17759397]), 1.0], [26270, array([ 0.07462771,  0.63026392, -0.13327274, -0.92122393]), 1.0], [26270, array([ 0.08723299,  0.82691057, -0.15169722, -1.2526445 ]), 1.0], [26270, array([ 0.1037712 ,  0.63402193, -0.17675011, -1.01106235]), 1.0], [26270, array([ 0.11645164,  0.44164221, -0.19697135, -0.77868298]), 1.0], [26270, array([ 0.12528448,  0.63884811, -0.21254501, -1.12630785]), 1.0]]\n",
      "\n",
      "11\n",
      "\n",
      "[[26277, array([-0.02527338, -0.23347622, -0.02541736,  0.23828959]), 1.0], [26277, array([-0.02994291, -0.42822601, -0.02065156,  0.52284802]), 1.0], [26277, array([-0.03850743, -0.6230513 , -0.0101946 ,  0.80895251]), 1.0], [26277, array([-0.05096845, -0.81803208,  0.00598445,  1.09841132]), 1.0], [26277, array([-0.0673291 , -1.0132323 ,  0.02795267,  1.39296582]), 1.0], [26277, array([-0.08759374, -0.81846924,  0.05581199,  1.10915239]), 1.0], [26277, array([-0.10396313, -1.01427842,  0.07799504,  1.41880903]), 1.0], [26277, array([-0.1242487 , -1.21027432,  0.10637122,  1.73481641]), 1.0], [26277, array([-0.14845418, -1.40643678,  0.14106755,  2.05861121]), 1.0], [26277, array([-0.17658292, -1.21300968,  0.18223977,  1.81268912]), 1.0], [26277, array([-0.20084311, -1.40963421,  0.21849355,  2.15602424]), 1.0]]\n",
      "\n",
      "15\n",
      "\n",
      "[[26267, array([-0.04255672,  0.16338411, -0.0398635 , -0.34254628]), 1.0], [26267, array([-0.03928904, -0.0311487 , -0.04671443, -0.06269565]), 1.0], [26267, array([-0.03991201,  0.16461082, -0.04796834, -0.36974364]), 1.0], [26267, array([-0.03661979,  0.36038032, -0.05536321, -0.67715739]), 1.0], [26267, array([-0.02941219,  0.556226  , -0.06890636, -0.9867443 ]), 1.0], [26267, array([-0.01828767,  0.36209108, -0.08864125, -0.71647541]), 1.0], [26267, array([-0.01104584,  0.16830052, -0.10297076, -0.45295723]), 1.0], [26267, array([-0.00767983,  0.36471638, -0.1120299 , -0.77624039]), 1.0], [26267, array([-3.85507063e-04,  1.71298855e-01, -1.27554709e-01, -5.20800780e-01]), 1.0], [26267, array([ 0.00304047,  0.36796382, -0.13797072, -0.85080113]), 1.0], [26267, array([ 0.01039975,  0.17496555, -0.15498675, -0.6044896 ]), 1.0], [26267, array([ 0.01389906,  0.37187645, -0.16707654, -0.94169946]), 1.0], [26267, array([ 0.02133659,  0.17935199, -0.18591053, -0.70582638]), 1.0], [26267, array([ 0.02492363,  0.37649647, -0.20002706, -1.05079078]), 1.0], [26267, array([ 0.03245356,  0.57362768, -0.22104287, -1.39900834]), 1.0]]\n",
      "\n",
      "22\n",
      "\n",
      "[[26273, array([-0.04532536,  0.18829802,  0.03199314, -0.28373823]), 1.0], [26273, array([-0.0415594 ,  0.38294939,  0.02631838, -0.5661615 ]), 1.0], [26273, array([-0.03390042,  0.1874683 ,  0.01499515, -0.2653047 ]), 1.0], [26273, array([-0.03015105,  0.38237306,  0.00968905, -0.55322056]), 1.0], [26273, array([-0.02250359,  0.1871164 , -0.00137536, -0.25750078]), 1.0], [26273, array([-0.01876126, -0.00798589, -0.00652537,  0.03474803]), 1.0], [26273, array([-0.01892098,  0.18722902, -0.00583041, -0.25998656]), 1.0], [26273, array([-0.0151764 ,  0.38243372, -0.01103015, -0.55450276]), 1.0], [26273, array([-0.00752772,  0.5777088 , -0.0221202 , -0.85064036]), 1.0], [26273, array([ 0.00402645,  0.38289534, -0.03913301, -0.56499447]), 1.0], [26273, array([ 0.01168436,  0.18834364, -0.0504329 , -0.28489252]), 1.0], [26273, array([ 0.01545123, -0.0060241 , -0.05613075, -0.00853259]), 1.0], [26273, array([ 0.01533075,  0.18985604, -0.0563014 , -0.31838384]), 1.0], [26273, array([ 0.01912787,  0.38573279, -0.06266908, -0.62827727]), 1.0], [26273, array([ 0.02684253,  0.5816708 , -0.07523462, -0.94001998]), 1.0], [26273, array([ 0.03847594,  0.38763917, -0.09403502, -0.67189396]), 1.0], [26273, array([ 0.04622873,  0.19394148, -0.1074729 , -0.41023665]), 1.0], [26273, array([ 0.05010756,  0.39040989, -0.11567763, -0.73477517]), 1.0], [26273, array([ 0.05791575,  0.58692372, -0.13037314, -1.06150933]), 1.0], [26273, array([ 0.06965423,  0.78350827, -0.15160332, -1.39210488]), 1.0], [26273, array([ 0.08532439,  0.98015756, -0.17944542, -1.72809636]), 1.0], [26273, array([ 0.10492754,  0.78748333, -0.21400735, -1.4962    ]), 1.0]]\n",
      "\n",
      "21\n",
      "\n",
      "[[26286, array([-0.04217398,  0.23257591, -0.00243626, -0.29093719]), 1.0], [26286, array([-0.03752247,  0.03748878, -0.008255  ,  0.00097638]), 1.0], [26286, array([-0.03677269, -0.15751381, -0.00823547,  0.29104336]), 1.0], [26286, array([-0.03992297,  0.03772459, -0.00241461, -0.00422552]), 1.0], [26286, array([-0.03916847,  0.23288109, -0.00249912, -0.2976693 ]), 1.0], [26286, array([-0.03451085,  0.42803858, -0.0084525 , -0.59113936]), 1.0], [26286, array([-0.02595008,  0.23303598, -0.02027529, -0.30113092]), 1.0], [26286, array([-0.02128936,  0.03820879, -0.02629791, -0.01491073]), 1.0], [26286, array([-0.02052519, -0.15652634, -0.02659612,  0.26936027]), 1.0], [26286, array([-0.02365571,  0.03896486, -0.02120892, -0.03159117]), 1.0], [26286, array([-0.02287641,  0.23438444, -0.02184074, -0.33088956]), 1.0], [26286, array([-0.01818873,  0.42981037, -0.02845853, -0.63037921]), 1.0], [26286, array([-0.00959252,  0.62531762, -0.04106612, -0.93188702]), 1.0], [26286, array([ 0.00291383,  0.82096895, -0.05970386, -1.23718662]), 1.0], [26286, array([ 0.01933321,  0.62666272, -0.08444759, -0.9637891 ]), 1.0], [26286, array([ 0.03186647,  0.82281147, -0.10372337, -1.28176184]), 1.0], [26286, array([ 0.0483227 ,  0.62915237, -0.12935861, -1.02327442]), 1.0], [26286, array([ 0.06090574,  0.43596843, -0.1498241 , -0.77384508]), 1.0], [26286, array([ 0.06962511,  0.63279898, -0.165301  , -1.10966705]), 1.0], [26286, array([ 0.08228109,  0.82966094, -0.18749434, -1.44931229]), 1.0], [26286, array([ 0.09887431,  0.63727248, -0.21648059, -1.22058812]), 1.0]]\n",
      "\n",
      "9\n",
      "\n",
      "[[26283, array([ 0.03530165, -0.18942465,  0.03892303,  0.29936169]), 1.0], [26283, array([ 0.03151316, -0.38507917,  0.04491026,  0.60406167]), 1.0], [26283, array([ 0.02381157, -0.58079949,  0.05699149,  0.91054531]), 1.0], [26283, array([ 0.01219558, -0.77664445,  0.0752024 ,  1.22058222]), 1.0], [26283, array([-0.00333731, -0.97265069,  0.09961404,  1.53584927]), 1.0], [26283, array([-0.02279032, -0.7788593 ,  0.13033103,  1.27584135]), 1.0], [26283, array([-0.03836751, -0.97538003,  0.15584786,  1.60633132]), 1.0], [26283, array([-0.05787511, -1.17196376,  0.18797448,  1.94326712]), 1.0], [26283, array([-0.08131438, -0.97927846,  0.22683983,  1.71427008]), 1.0]]\n",
      "\n",
      "24\n",
      "\n",
      "[[26289, array([-0.03516499,  0.2397398 ,  0.00710002, -0.27519473]), 1.0], [26289, array([-0.03037019,  0.04451727,  0.00159612,  0.01971906]), 1.0], [26289, array([-0.02947985, -0.15062754,  0.0019905 ,  0.31290516]), 1.0], [26289, array([-0.0324924 , -0.34577779,  0.00824861,  0.60621516]), 1.0], [26289, array([-0.03940796, -0.15077214,  0.02037291,  0.31614171]), 1.0], [26289, array([-0.0424234 ,  0.04405378,  0.02669574,  0.02995269]), 1.0], [26289, array([-0.04154232,  0.23878293,  0.0272948 , -0.25418934]), 1.0], [26289, array([-0.03676666,  0.43350474,  0.02221101, -0.53813958]), 1.0], [26289, array([-0.02809657,  0.6283075 ,  0.01144822, -0.82374215]), 1.0], [26289, array([-0.01553042,  0.43303083, -0.00502662, -0.52748064]), 1.0], [26289, array([-0.0068698 ,  0.23797996, -0.01557624, -0.23638585]), 1.0], [26289, array([-0.0021102 ,  0.43332095, -0.02030395, -0.53394102]), 1.0], [26289, array([ 0.00655622,  0.62872247, -0.03098277, -0.83295183]), 1.0], [26289, array([ 0.01913067,  0.82425378, -0.04764181, -1.13521551]), 1.0], [26289, array([ 0.03561574,  0.62978644, -0.07034612, -0.85784688]), 1.0], [26289, array([ 0.04821147,  0.43568973, -0.08750306, -0.5880866 ]), 1.0], [26289, array([ 0.05692526,  0.63192106, -0.09926479, -0.90700053]), 1.0], [26289, array([ 0.06956369,  0.438273  , -0.1174048 , -0.64709429]), 1.0], [26289, array([ 0.07832915,  0.63481811, -0.13034669, -0.97432018]), 1.0], [26289, array([ 0.09102551,  0.44166281, -0.14983309, -0.72525857]), 1.0], [26289, array([ 0.09985876,  0.63850403, -0.16433826, -1.06109859]), 1.0], [26289, array([ 0.11262884,  0.44589423, -0.18556023, -0.82417474]), 1.0], [26289, array([ 0.12154673,  0.25372917, -0.20204373, -0.59511765]), 1.0], [26289, array([ 0.12662131,  0.06192243, -0.21394608, -0.37225754]), 1.0]]\n",
      "\n",
      "58\n",
      "\n",
      "[[26292, array([ 0.02466496, -0.24239945, -0.01892105,  0.32059264]), 1.0], [26292, array([ 0.01981697, -0.04701322, -0.01250919,  0.02200331]), 1.0], [26292, array([ 0.01887671, -0.24195356, -0.01206913,  0.31071334]), 1.0], [26292, array([ 0.01403763, -0.4369015 , -0.00585486,  0.59956571]), 1.0], [26292, array([ 0.0052996 , -0.24169813,  0.00613645,  0.30504435]), 1.0], [26292, array([ 0.00046564, -0.04666416,  0.01223734,  0.01430301]), 1.0], [26292, array([-0.00046764, -0.24195945,  0.0125234 ,  0.3108217 ]), 1.0], [26292, array([-0.00530683, -0.04701815,  0.01873983,  0.02211445]), 1.0], [26292, array([-0.00624719, -0.24240376,  0.01918212,  0.32065061]), 1.0], [26292, array([-0.01109527, -0.04756016,  0.02559513,  0.03407818]), 1.0], [26292, array([-0.01204647,  0.14718557,  0.0262767 , -0.2504206 ]), 1.0], [26292, array([-0.00910276,  0.34192262,  0.02126829, -0.53470088]), 1.0], [26292, array([-0.00226431,  0.53673913,  0.01057427, -0.82060715]), 1.0], [26292, array([ 0.00847047,  0.34147409, -0.00583787, -0.52461717]), 1.0], [26292, array([ 0.01529996,  0.14643478, -0.01633022, -0.23377952]), 1.0], [26292, array([ 0.01822865,  0.3417862 , -0.02100581, -0.53156846]), 1.0], [26292, array([ 0.02506438,  0.14696591, -0.03163718, -0.24557775]), 1.0], [26292, array([ 0.02800369,  0.34252511, -0.03654873, -0.54806953]), 1.0], [26292, array([ 0.0348542 ,  0.53814094, -0.04751012, -0.85204025]), 1.0], [26292, array([ 0.04561702,  0.34369778, -0.06455093, -0.57466735]), 1.0], [26292, array([ 0.05249097,  0.53966247, -0.07604427, -0.88696697]), 1.0], [26292, array([ 0.06328422,  0.34565053, -0.09378361, -0.61912557]), 1.0], [26292, array([ 0.07019723,  0.15195497, -0.10616613, -0.357391  ]), 1.0], [26292, array([ 0.07323633, -0.04151007, -0.11331395, -0.09998159]), 1.0], [26292, array([ 0.07240613, -0.23484105, -0.11531358,  0.15491203]), 1.0], [26292, array([ 0.06770931, -0.42813931, -0.11221534,  0.4091067 ]), 1.0], [26292, array([ 0.05914652, -0.2316201 , -0.1040332 ,  0.0832598 ]), 1.0], [26292, array([ 0.05451412, -0.42510883, -0.10236801,  0.34139311]), 1.0], [26292, array([ 0.04601194, -0.61863666, -0.09554014,  0.6001215 ]), 1.0], [26292, array([ 0.03363921, -0.81230131, -0.08353771,  0.86124758]), 1.0], [26292, array([ 0.01739318, -1.00619238, -0.06631276,  1.12653843]), 1.0], [26292, array([-0.00273066, -1.20038575, -0.04378199,  1.39770659]), 1.0], [26292, array([-0.02673838, -1.00474754, -0.01582786,  1.0916627 ]), 1.0], [26292, array([-0.04683333, -0.80942061,  0.00600539,  0.79405582]), 1.0], [26292, array([-0.06302174, -0.61438161,  0.02188651,  0.50326816]), 1.0], [26292, array([-0.07530937, -0.41957486,  0.03195187,  0.21756214]), 1.0], [26292, array([-0.08370087, -0.22492389,  0.03630311, -0.06487303]), 1.0], [26292, array([-0.08819935, -0.03034073,  0.03500565, -0.34588469]), 1.0], [26292, array([-0.08880616,  0.16426624,  0.02808796, -0.62732675]), 1.0], [26292, array([-0.08552084,  0.35898513,  0.01554142, -0.9110331 ]), 1.0], [26292, array([-0.07834114,  0.55389337, -0.00267924, -1.19879115]), 1.0], [26292, array([-0.06726327,  0.35880619, -0.02665506, -0.90694913]), 1.0], [26292, array([-0.06008715,  0.16405506, -0.04479404, -0.62276187]), 1.0], [26292, array([-0.05680604, -0.03041375, -0.05724928, -0.3445163 ]), 1.0], [26292, array([-0.05741432,  0.1654739 , -0.06413961, -0.65468849]), 1.0], [26292, array([-0.05410484, -0.02869915, -0.07723338, -0.38287193]), 1.0], [26292, array([-0.05467882, -0.22264442, -0.08489081, -0.11550531]), 1.0], [26292, array([-0.05913171, -0.4164539 , -0.08720092,  0.1492341 ]), 1.0], [26292, array([-0.06746079, -0.2201985 , -0.08421624, -0.16963505]), 1.0], [26292, array([-0.07186476, -0.02397842, -0.08760894, -0.48765236]), 1.0], [26292, array([-0.07234433, -0.2177621 , -0.09736199, -0.22381574]), 1.0], [26292, array([-0.07669957, -0.02139317, -0.1018383 , -0.54555337]), 1.0], [26292, array([-0.07712743,  0.17500118, -0.11274937, -0.86850733]), 1.0], [26292, array([-0.07362741, -0.01842109, -0.13011952, -0.61329425]), 1.0], [26292, array([-0.07399583,  0.17825607, -0.1423854 , -0.94396333]), 1.0], [26292, array([-0.07043071,  0.37497933, -0.16126467, -1.27778205]), 1.0], [26292, array([-0.06293112,  0.5717472 , -0.18682031, -1.61631085]), 1.0], [26292, array([-0.05149618,  0.76851644, -0.21914653, -1.9609352 ]), 1.0]]\n",
      "\n",
      "14\n",
      "\n",
      "[[26298, array([-0.02003274,  0.18250534, -0.01157817, -0.28620592]), 1.0], [26298, array([-0.01638263,  0.37779048, -0.01730229, -0.58251791]), 1.0], [26298, array([-0.00882682,  0.57315052, -0.02895264, -0.88060072]), 1.0], [26298, array([ 0.00263619,  0.3784336 , -0.04656466, -0.59715863]), 1.0], [26298, array([ 0.01020486,  0.57417516, -0.05850783, -0.90413778]), 1.0], [26298, array([ 0.02168836,  0.37989236, -0.07659059, -0.63040372]), 1.0], [26298, array([ 0.02928621,  0.18591797, -0.08919866, -0.36279075]), 1.0], [26298, array([ 0.03300457,  0.38218698, -0.09645448, -0.6822135 ]), 1.0], [26298, array([ 0.04064831,  0.57850671, -0.11009875, -1.00363798]), 1.0], [26298, array([ 0.05221844,  0.38501396, -0.13017151, -0.74745985]), 1.0], [26298, array([ 0.05991872,  0.58166854, -0.1451207 , -1.07810851]), 1.0], [26298, array([ 0.07155209,  0.77837765, -0.16668287, -1.41258649]), 1.0], [26298, array([ 0.08711964,  0.97512677, -0.1949346 , -1.75239809]), 1.0], [26298, array([ 0.10662218,  1.17185366, -0.22998257, -2.098848  ]), 1.0]]\n",
      "\n",
      "33\n",
      "\n",
      "[[26294, array([-0.04899059, -0.16207468, -0.01215993,  0.33523392]), 1.0], [26294, array([-0.05223208,  0.0332182 , -0.00545525,  0.03874133]), 1.0], [26294, array([-0.05156772, -0.1618251 , -0.00468042,  0.32969809]), 1.0], [26294, array([-0.05480422, -0.35688011,  0.00191354,  0.62090137]), 1.0], [26294, array([-0.06194183, -0.16178494,  0.01433156,  0.32882172]), 1.0], [26294, array([-0.06517752,  0.03313009,  0.020908  ,  0.04069254]), 1.0], [26294, array([-0.06451492, -0.16228534,  0.02172185,  0.33989812]), 1.0], [26294, array([-0.06776063, -0.35770953,  0.02851981,  0.63935097]), 1.0], [26294, array([-0.07491482, -0.16299658,  0.04130683,  0.35578401]), 1.0], [26294, array([-0.07817475,  0.03151447,  0.04842251,  0.07640706]), 1.0], [26294, array([-0.07754446, -0.16426701,  0.04995065,  0.38396571]), 1.0], [26294, array([-0.0808298 , -0.36006123,  0.05762997,  0.69197013]), 1.0], [26294, array([-0.08803103, -0.16578421,  0.07146937,  0.41797221]), 1.0], [26294, array([-0.09134671,  0.02825603,  0.07982881,  0.148649  ]), 1.0], [26294, array([-0.09078159,  0.22214948,  0.08280179, -0.1178202 ]), 1.0], [26294, array([-0.0863386 ,  0.41599345,  0.08044539, -0.38327404]), 1.0], [26294, array([-0.07801873,  0.60988657,  0.07277991, -0.6495477 ]), 1.0], [26294, array([-0.065821  ,  0.80392329,  0.05978896, -0.91845387]), 1.0], [26294, array([-0.04974253,  0.60804627,  0.04141988, -0.60759585]), 1.0], [26294, array([-0.03758161,  0.41237044,  0.02926796, -0.30215989]), 1.0], [26294, array([-0.0293342 ,  0.21684384,  0.02322476, -0.00039205]), 1.0], [26294, array([-0.02499732,  0.41162515,  0.02321692, -0.28565775]), 1.0], [26294, array([-0.01676482,  0.60640842,  0.01750377, -0.57092876]), 1.0], [26294, array([-0.00463665,  0.80128059,  0.00608519, -0.85804639]), 1.0], [26294, array([ 0.01138896,  0.99631911, -0.01107574, -1.14880972]), 1.0], [26294, array([ 0.03131534,  1.19158388, -0.03405193, -1.44494511]), 1.0], [26294, array([ 0.05514702,  0.99689707, -0.06295083, -1.16309352]), 1.0], [26294, array([ 0.07508496,  1.1927797 , -0.0862127 , -1.47483079]), 1.0], [26294, array([ 0.09894055,  0.99881055, -0.11570932, -1.21027282]), 1.0], [26294, array([ 0.11891677,  1.19522063, -0.13991477, -1.53686057]), 1.0], [26294, array([ 0.14282118,  1.00203274, -0.17065199, -1.29091138]), 1.0], [26294, array([ 0.16286183,  1.19886338, -0.19647021, -1.63179719]), 1.0], [26294, array([ 0.1868391 ,  1.39567517, -0.22910616, -1.97872675]), 1.0]]\n",
      "\n",
      "18\n",
      "\n",
      "[[26306, array([-0.01576119,  0.24235531, -0.02651593, -0.27522354]), 1.0], [26306, array([-0.01091408,  0.04762151, -0.0320204 ,  0.0089797 ]), 1.0], [26306, array([-0.00996165, -0.14702694, -0.03184081,  0.29139032]), 1.0], [26306, array([-0.01290219,  0.04853421, -0.026013  , -0.01116233]), 1.0], [26306, array([-0.01193151, -0.14620521, -0.02623625,  0.27320101]), 1.0], [26306, array([-0.01485561, -0.34094317, -0.02077223,  0.55749485]), 1.0], [26306, array([-0.02167448, -0.53576745, -0.00962233,  0.84356163]), 1.0], [26306, array([-0.03238982, -0.34051551,  0.0072489 ,  0.54786836]), 1.0], [26306, array([-0.03920013, -0.14549615,  0.01820627,  0.25747815]), 1.0], [26306, array([-0.04211006, -0.34087323,  0.02335583,  0.55584755]), 1.0], [26306, array([-0.04892752, -0.53631518,  0.03447278,  0.85579651]), 1.0], [26306, array([-0.05965383, -0.34167951,  0.05158871,  0.57414946]), 1.0], [26306, array([-0.06648742, -0.53748533,  0.0630717 ,  0.88262779]), 1.0], [26306, array([-0.07723712, -0.73340457,  0.08072426,  1.1944531 ]), 1.0], [26306, array([-0.09190521, -0.92947368,  0.10461332,  1.5113062 ]), 1.0], [26306, array([-0.11049469, -1.12569577,  0.13483944,  1.83473047]), 1.0], [26306, array([-0.1330086 , -1.32202706,  0.17153405,  2.16607701]), 1.0], [26306, array([-0.15944914, -1.12894747,  0.21485559,  1.93089212]), 1.0]]\n",
      "\n",
      "20\n",
      "\n",
      "[[26307, array([-0.00055919,  0.22514183,  0.0289241 , -0.33262097]), 1.0], [26307, array([ 0.00394364,  0.02962039,  0.02227168, -0.03095897]), 1.0], [26307, array([ 0.00453605,  0.22441599,  0.0216525 , -0.31653257]), 1.0], [26307, array([ 0.00902437,  0.02899242,  0.01532185, -0.0171006 ]), 1.0], [26307, array([ 0.00960422, -0.16634587,  0.01497984,  0.2803769 ]), 1.0], [26307, array([ 0.0062773 , -0.36167827,  0.02058738,  0.57774652]), 1.0], [26307, array([-0.00095626, -0.16685082,  0.03214231,  0.29161955]), 1.0], [26307, array([-0.00429328, -0.36241598,  0.0379747 ,  0.59426397]), 1.0], [26307, array([-0.0115416 , -0.55804831,  0.04985998,  0.89866278]), 1.0], [26307, array([-0.02270256, -0.3636363 ,  0.06783323,  0.62205994]), 1.0], [26307, array([-0.02997529, -0.16952386,  0.08027443,  0.35148859]), 1.0], [26307, array([-0.03336577, -0.36569017,  0.0873042 ,  0.66836583]), 1.0], [26307, array([-0.04067957, -0.56191068,  0.10067152,  0.98721045]), 1.0], [26307, array([-0.05191778, -0.36827032,  0.12041573,  0.72776801]), 1.0], [26307, array([-0.05928319, -0.56483295,  0.13497109,  1.05579366]), 1.0], [26307, array([-0.07057985, -0.37173276,  0.15608696,  0.8083388 ]), 1.0], [26307, array([-0.07801451, -0.17905475,  0.17225374,  0.56853878]), 1.0], [26307, array([-0.0815956 , -0.37612081,  0.18362451,  0.91015582]), 1.0], [26307, array([-0.08911802, -0.57318908,  0.20182763,  1.25447139]), 1.0], [26307, array([-0.1005818 , -0.38114058,  0.22691706,  1.03118129]), 1.0]]\n",
      "\n",
      "25\n",
      "\n",
      "[[26316, array([-0.00919597, -0.21886238, -0.03370351,  0.28588386]), 1.0], [26316, array([-0.01357322, -0.02327637, -0.02798583, -0.01723549]), 1.0], [26316, array([-0.01403874,  0.17223552, -0.02833054, -0.31861525]), 1.0], [26316, array([-0.01059403,  0.36774927, -0.03470284, -0.62009626]), 1.0], [26316, array([-0.00323905,  0.17312873, -0.04710477, -0.33854181]), 1.0], [26316, array([ 2.23527130e-04,  3.68888211e-01, -5.38756044e-02, -6.45698998e-01]), 1.0], [26316, array([ 0.00760129,  0.56471787, -0.06678958, -0.95484905]), 1.0], [26316, array([ 0.01889565,  0.37055485, -0.08588657, -0.68387541]), 1.0], [26316, array([ 0.02630675,  0.17672381, -0.09956407, -0.41942016]), 1.0], [26316, array([ 0.02984122, -0.01685678, -0.10795248, -0.15971082]), 1.0], [26316, array([ 0.02950409, -0.21028092, -0.11114669,  0.09706003]), 1.0], [26316, array([ 0.02529847, -0.40364891, -0.10920549,  0.35271237]), 1.0], [26316, array([ 0.01722549, -0.20715722, -0.10215125,  0.02768796]), 1.0], [26316, array([ 0.01308235, -0.01072997, -0.10159749, -0.29539724]), 1.0], [26316, array([ 0.01286775,  0.18568256, -0.10750543, -0.61831511]), 1.0], [26316, array([ 0.0165814 , -0.0077865 , -0.11987173, -0.36133266]), 1.0], [26316, array([ 0.01642567, -0.20101877, -0.12709839, -0.10872216]), 1.0], [26316, array([ 0.01240529, -0.00432632, -0.12927283, -0.43864742]), 1.0], [26316, array([ 0.01231877, -0.19740431, -0.13804578, -0.18934747]), 1.0], [26316, array([ 0.00837068, -0.00060512, -0.14183273, -0.52219464]), 1.0], [26316, array([ 0.00835858,  0.19619839, -0.15227662, -0.8559948 ]), 1.0], [26316, array([ 0.01228254,  0.0034428 , -0.16939652, -0.61480368]), 1.0], [26316, array([ 0.0123514 ,  0.20047601, -0.18169259, -0.95568793]), 1.0], [26316, array([ 0.01636092,  0.00820117, -0.20080635, -0.72514735]), 1.0], [26316, array([ 0.01652494,  0.20544966, -0.2153093 , -1.07371595]), 1.0]]\n",
      "\n",
      "32\n",
      "\n",
      "[[26324, array([-0.04286806, -0.24409278,  0.01364316,  0.3429272 ]), 1.0], [26324, array([-0.04774992, -0.43940615,  0.0205017 ,  0.63988095]), 1.0], [26324, array([-0.05653804, -0.24457594,  0.03329932,  0.35372413]), 1.0], [26324, array([-0.06142956, -0.04994292,  0.04037381,  0.07172464]), 1.0], [26324, array([-0.06242842, -0.24561973,  0.0418083 ,  0.37686735]), 1.0], [26324, array([-0.06734081, -0.05111574,  0.04934565,  0.09765437]), 1.0], [26324, array([-0.06836313,  0.14326552,  0.05129873, -0.17906087]), 1.0], [26324, array([-0.06549782, -0.05255156,  0.04771752,  0.12935357]), 1.0], [26324, array([-0.06654885,  0.1418555 ,  0.05030459, -0.14790147]), 1.0], [26324, array([-0.06371174,  0.33622234,  0.04734656, -0.4242996 ]), 1.0], [26324, array([-0.05698729,  0.53064274,  0.03886057, -0.70168869]), 1.0], [26324, array([-0.04637444,  0.7252051 ,  0.02482679, -0.98188978]), 1.0], [26324, array([-0.03187034,  0.52975941,  0.005189  , -0.68151326]), 1.0], [26324, array([-0.02127515,  0.72480891, -0.00844127, -0.97255801]), 1.0], [26324, array([-0.00677897,  0.52980124, -0.02789243, -0.68253863]), 1.0], [26324, array([ 0.00381705,  0.7252992 , -0.0415432 , -0.98387082]), 1.0], [26324, array([ 0.01832304,  0.92095234, -0.06122062, -1.28930751]), 1.0], [26324, array([ 0.03674209,  0.72666019, -0.08700677, -1.01640287]), 1.0], [26324, array([ 0.05127529,  0.53279928, -0.10733483, -0.75225922]), 1.0], [26324, array([ 0.06193127,  0.33930821, -0.12238001, -0.49518877]), 1.0], [26324, array([ 0.06871744,  0.14610536, -0.13228379, -0.24344195]), 1.0], [26324, array([ 0.07163955, -0.04690343, -0.13715262,  0.00476374]), 1.0], [26324, array([ 0.07070148, -0.23981912, -0.13705735,  0.25122328]), 1.0], [26324, array([ 0.0659051 , -0.04303329, -0.13203288, -0.0813562 ]), 1.0], [26324, array([ 0.06504443, -0.23603972, -0.13366001,  0.16692865]), 1.0], [26324, array([ 0.06032364, -0.03928293, -0.13032144, -0.1647533 ]), 1.0], [26324, array([ 0.05953798,  0.1574404 , -0.1336165 , -0.49554217]), 1.0], [26324, array([ 0.06268678,  0.3541685 , -0.14352734, -0.8271705 ]), 1.0], [26324, array([ 0.06977015,  0.55093066, -0.16007075, -1.16133127]), 1.0], [26324, array([ 0.08078877,  0.35821386, -0.18329738, -0.9228117 ]), 1.0], [26324, array([ 0.08795304,  0.55527559, -0.20175361, -1.2670407 ]), 1.0], [26324, array([ 0.09905856,  0.75232029, -0.22709443, -1.61552666]), 1.0]]\n",
      "\n",
      "18\n",
      "\n",
      "[[26314, array([ 0.027761  , -0.16276467, -0.03555711,  0.25085993]), 1.0], [26314, array([ 0.02450571,  0.03284653, -0.03053991, -0.05282298]), 1.0], [26314, array([ 0.02516264, -0.16182451, -0.03159637,  0.23007007]), 1.0], [26314, array([ 0.02192615,  0.03373436, -0.02699497, -0.07240962]), 1.0], [26314, array([ 0.02260084, -0.16099039, -0.02844317,  0.21163553]), 1.0], [26314, array([ 0.01938103,  0.03452645, -0.02421045, -0.08988227]), 1.0], [26314, array([ 0.02007156,  0.22998691, -0.0260081 , -0.39010421]), 1.0], [26314, array([ 0.0246713 ,  0.42546815, -0.03381018, -0.69087243]), 1.0], [26314, array([ 0.03318066,  0.62104252, -0.04762763, -0.99400463]), 1.0], [26314, array([ 0.04560151,  0.42658895, -0.06750773, -0.71665226]), 1.0], [26314, array([ 0.05413329,  0.23246305, -0.08184077, -0.44595888]), 1.0], [26314, array([ 0.05878255,  0.42864169, -0.09075995, -0.76327624]), 1.0], [26314, array([ 0.06735539,  0.62488866, -0.10602547, -1.08308191]), 1.0], [26314, array([ 0.07985316,  0.82123779, -0.12768711, -1.40706484]), 1.0], [26314, array([ 0.09627791,  0.62791064, -0.15582841, -1.15687299]), 1.0], [26314, array([ 0.10883613,  0.43512462, -0.17896587, -0.91682623]), 1.0], [26314, array([ 0.11753862,  0.63215592, -0.19730239, -1.25998834]), 1.0], [26314, array([ 0.13018174,  0.44002729, -0.22250216, -1.03501793]), 1.0]]\n",
      "\n",
      "32\n",
      "\n",
      "[[26311, array([ 0.03258214,  0.16365309,  0.04185236, -0.29561631]), 1.0], [26311, array([ 0.0358552 , -0.03203975,  0.03594003,  0.0099669 ]), 1.0], [26311, array([ 0.03521441, -0.22765821,  0.03613937,  0.3137692 ]), 1.0], [26311, array([ 0.03066124, -0.03306921,  0.04241475,  0.03269895]), 1.0], [26311, array([ 0.02999986, -0.22877294,  0.04306873,  0.33845672]), 1.0], [26311, array([ 0.0254244 , -0.03428946,  0.04983787,  0.05966032]), 1.0], [26311, array([ 0.02473861,  0.16008381,  0.05103107, -0.21689129]), 1.0], [26311, array([ 0.02794029,  0.3544405 ,  0.04669325, -0.4930502 ]), 1.0], [26311, array([ 0.0350291 ,  0.54887385,  0.03683224, -0.77065951]), 1.0], [26311, array([ 0.04600657,  0.3532649 ,  0.02141905, -0.46661885]), 1.0], [26311, array([ 0.05307187,  0.15784697,  0.01208668, -0.16726247]), 1.0], [26311, array([ 0.05622881, -0.03744589,  0.00874143,  0.12920881]), 1.0], [26311, array([ 0.05547989,  0.15754976,  0.0113256 , -0.16070353]), 1.0], [26311, array([ 0.05863089, -0.03773249,  0.00811153,  0.1355307 ]), 1.0], [26311, array([ 0.05787624, -0.23296968,  0.01082215,  0.43076162]), 1.0], [26311, array([ 0.05321684, -0.03800264,  0.01943738,  0.14150983]), 1.0], [26311, array([ 0.05245679, -0.2333975 ,  0.02226758,  0.44026098]), 1.0], [26311, array([ 0.04778884, -0.03859765,  0.0310728 ,  0.15467977]), 1.0], [26311, array([ 0.04701689, -0.2341504 ,  0.03416639,  0.45700125]), 1.0], [26311, array([ 0.04233388, -0.03952772,  0.04330642,  0.17528057]), 1.0], [26311, array([ 0.04154333, -0.23524184,  0.04681203,  0.4813046 ]), 1.0], [26311, array([ 0.03683849, -0.43099222,  0.05643812,  0.78836622]), 1.0], [26311, array([ 0.02821864, -0.23668899,  0.07220544,  0.51395944]), 1.0], [26311, array([ 0.02348486, -0.43274962,  0.08248463,  0.82849404]), 1.0], [26311, array([ 0.01482987, -0.2388464 ,  0.09905451,  0.56285108]), 1.0], [26311, array([ 0.01005294, -0.04524374,  0.11031153,  0.30294504]), 1.0], [26311, array([ 0.00914807, -0.2417508 ,  0.11637044,  0.62827989]), 1.0], [26311, array([ 0.00431305, -0.43828806,  0.12893603,  0.95522764]), 1.0], [26311, array([-0.00445271, -0.63488643,  0.14804059,  1.28547958]), 1.0], [26311, array([-0.01715044, -0.4419261 ,  0.17375018,  1.04257011]), 1.0], [26311, array([-0.02598896, -0.24948365,  0.19460158,  0.80907864]), 1.0], [26311, array([-0.03097863, -0.44666353,  0.21078315,  1.15611819]), 1.0]]\n",
      "\n"
     ]
    }
   ],
   "source": [
    "processes = []\n",
    "nos = 20\n",
    "for i in range(nos):\n",
    "    proc = mp.Process(target=worker, args=(data_storage,))\n",
    "    processes.append(proc)\n",
    "    proc.start()\n",
    "    \n",
    "for proc in processes:\n",
    "    proc.join()\n",
    "    \n",
    "while not data_storage.empty():\n",
    "    g  = data_storage.get_nowait()\n",
    "    print(len(g))\n",
    "    print()\n",
    "    print(g)\n",
    "    print()\n"
   ]
  },
  {
   "cell_type": "markdown",
   "metadata": {},
   "source": [
    "## Multiple rendering using multiple process"
   ]
  },
  {
   "cell_type": "code",
   "execution_count": 2,
   "metadata": {},
   "outputs": [],
   "source": [
    "import gym\n",
    "gym.logger.set_level(40)\n",
    "# from collections import namedtuple\n",
    "import multiprocessing as mp\n",
    "# exp = namedtuple('Experience',['process_id','next_state','reward'])"
   ]
  },
  {
   "cell_type": "code",
   "execution_count": 13,
   "metadata": {},
   "outputs": [],
   "source": [
    "data_storage = mp.Queue()\n",
    "def worker(data_af):\n",
    "    data = []\n",
    "    print(\"Process started for pid \",mp.current_process().pid)\n",
    "    env = gym.make('CartPole-v0')\n",
    "    for i in range(10):\n",
    "        state = env.reset()\n",
    "        while True:\n",
    "            env.render()\n",
    "            action = env.action_space.sample()\n",
    "            next_state, reward, done, _ = env.step(action)\n",
    "    #         data.append(exp(mp.current_process(), next_state, reward))\n",
    "            data.append([mp.current_process().pid,next_state,reward])\n",
    "            state = next_state\n",
    "            if done:\n",
    "                break\n",
    "        print('\\n {} length \\n'.format(len(data)))\n",
    "    env.close()\n",
    "    data_af.put(data)"
   ]
  },
  {
   "cell_type": "code",
   "execution_count": 14,
   "metadata": {},
   "outputs": [
    {
     "name": "stdout",
     "output_type": "stream",
     "text": [
      "Process started for pid  30468\n",
      "\n",
      " 13 length \n",
      "\n",
      "\n",
      " 30 length \n",
      "\n",
      "\n",
      " 41 length \n",
      "\n",
      "\n",
      " 53 length \n",
      "\n",
      "\n",
      " 79 length \n",
      "\n",
      "\n",
      " 130 length \n",
      "\n",
      "\n",
      " 172 length \n",
      "\n",
      "\n",
      " 198 length \n",
      "\n",
      "\n",
      " 213 length \n",
      "\n",
      "\n",
      " 229 length \n",
      "\n"
     ]
    }
   ],
   "source": [
    "processes = []\n",
    "nos = 1\n",
    "for i in range(nos):\n",
    "    proc = mp.Process(target=worker, args=(data_storage,))\n",
    "    processes.append(proc)\n",
    "    proc.start()\n",
    "    \n",
    "while not data_storage.empty():\n",
    "    g  = data_storage.get_nowait()\n",
    "    print(len(g))\n",
    "    print()\n",
    "    print(g)\n",
    "    print()\n",
    "    \n",
    "for proc in processes:\n",
    "    proc.join()"
   ]
  },
  {
   "cell_type": "markdown",
   "metadata": {},
   "source": [
    "* Data is not being passed from the queue as there is limit in queue ( the amount of data that can be stored in a queue at a time is fixed).\n",
    "* Thus before we can add the data, data should be removed so that function can be stored properly\n",
    "* Global datas are not acessible by the every child and parent. if any modifiction made by the child process may not be accessibe to parent process\n",
    "* We can use shared memeory such as queue, pipe, and manager."
   ]
  },
  {
   "cell_type": "markdown",
   "metadata": {},
   "source": [
    "## Communication using Manager "
   ]
  },
  {
   "cell_type": "markdown",
   "metadata": {},
   "source": [
    "* `Multiprocessing`, Whenever process starts, another set of process startes namely Manger process.\n",
    "* Any new process which parent process wants to create can be done by communicating with the manager.\n",
    "* The data which is stored and maintained by the manager is accessible by remaining remainied set of process.\n",
    "* Manger is not an effective way of communicaton\n",
    "* Thus for this `Queue` and `pipe` is always an effective way of communicaiton"
   ]
  },
  {
   "cell_type": "code",
   "execution_count": 128,
   "metadata": {},
   "outputs": [
    {
     "name": "stdout",
     "output_type": "stream",
     "text": [
      " Printing ['general', 11] by child process 5409\n",
      "[('Sam', 10), ('Adam', 9), ('Kevin', 9), ['general', 11]]\n"
     ]
    }
   ],
   "source": [
    "## testing manager\n",
    "import multiprocessing as mp\n",
    "\n",
    "def printing(data):\n",
    "    print(' Printing {} by child process {}'.format(data,mp.current_process().pid))\n",
    "    \n",
    "def insert_record(record, records):\n",
    "    records.append(record)\n",
    "    \n",
    "with mp.Manager() as manager:\n",
    "    record = ['general',11]\n",
    "    records = manager.list([('Sam', 10), ('Adam', 9), ('Kevin',9)]) \n",
    "    p1 = mp.Process(target = insert_record, args=(record, records,))\n",
    "    p2 = mp.Process(target = printing, args=(record,))\n",
    "    p1.start()\n",
    "    p1.join()\n",
    "    p2.start()\n",
    "    p2.join()\n",
    "    print(records)\n",
    "    "
   ]
  },
  {
   "cell_type": "markdown",
   "metadata": {},
   "source": [
    "### Creating Multiple instance of gym environment parallely and storing in another process and making data globally available "
   ]
  },
  {
   "cell_type": "code",
   "execution_count": 1,
   "metadata": {},
   "outputs": [],
   "source": [
    "import multiprocessing as mp\n",
    "from collections import namedtuple\n",
    "\n",
    "def worker(data_af):\n",
    "    print(\"Process started for pid \",mp.current_process().pid)\n",
    "    env = gym.make('CartPole-v0')\n",
    "    for i in range(10):\n",
    "        state = env.reset()\n",
    "        while True:\n",
    "            env.render()\n",
    "            action = env.action_space.sample()\n",
    "            next_state, reward, done, _ = env.step(action)\n",
    "    #         data.append(exp(mp.current_process(), next_state, reward))\n",
    "            data_af.append([mp.current_process().pid,state,next_state,reward,action])\n",
    "            state = next_state\n",
    "            if done:\n",
    "                break\n",
    "    env.close()"
   ]
  },
  {
   "cell_type": "code",
   "execution_count": 3,
   "metadata": {},
   "outputs": [
    {
     "name": "stdout",
     "output_type": "stream",
     "text": [
      "Process started for pid  4544\n",
      "Process started for pid  4546\n",
      "Process started for pid  4558\n",
      "Process started for pid  4550\n",
      "Process started for pid  4554\n",
      "Process started for pid  4566\n",
      "Process started for pid  4562\n",
      "Process started for pid  4578\n",
      "Process started for pid  4570\n",
      "Process started for pid  4574\n",
      "2076\n"
     ]
    }
   ],
   "source": [
    "nos = 10\n",
    "process = []\n",
    "data = [] \n",
    "exp = namedtuple('Experience',['pid','state','next_state','reward','action'])\n",
    "with mp.Manager() as manager:\n",
    "    records = manager.list([]) \n",
    "    for i in range(nos):\n",
    "        proc = mp.Process(target = worker, args=(records,))\n",
    "        process.append(proc)\n",
    "        proc.start()\n",
    "    \n",
    "    for proc in process:\n",
    "        proc.join()\n",
    "\n",
    "    print(len(records))\n",
    "    data = [exp(x[0],x[1],x[2],x[3],x[4]) for x in records]"
   ]
  },
  {
   "cell_type": "markdown",
   "metadata": {},
   "source": [
    "## Pipes "
   ]
  },
  {
   "cell_type": "code",
   "execution_count": 4,
   "metadata": {},
   "outputs": [],
   "source": [
    "import multiprocessing as mp"
   ]
  },
  {
   "cell_type": "code",
   "execution_count": 65,
   "metadata": {},
   "outputs": [],
   "source": [
    "import multiprocessing as mp\n",
    "from collections import namedtuple\n",
    "\n",
    "def worker(env,child):\n",
    "    print(\"Process started for pid \",mp.current_process().pid)\n",
    "#     exp = namedtuple('experience',['state','next_state','reward','action','done'])\n",
    "    for i in range(10):\n",
    "        state = env.reset()\n",
    "        while True:\n",
    "            action = env.action_space.sample()\n",
    "            next_state, reward, done, _ = env.step(action)\n",
    "            child.send([state, next_state, reward, action, done])\n",
    "            state = next_state\n",
    "            if done:\n",
    "                env.close()\n",
    "                break\n",
    "    env.close()"
   ]
  },
  {
   "cell_type": "code",
   "execution_count": 66,
   "metadata": {},
   "outputs": [
    {
     "name": "stdout",
     "output_type": "stream",
     "text": [
      "Process started for pid  9729\n",
      "[array([0.04509514, 0.04197616, 0.00904608, 0.02106077]), array([ 0.04593466, -0.15327434,  0.0094673 ,  0.31658406]), 1.0, 0, False]\n",
      "[array([ 0.04593466, -0.15327434,  0.0094673 ,  0.31658406]), array([0.04286918, 0.04171149, 0.01579898, 0.02690176]), 1.0, 1, False]\n",
      "[array([0.04286918, 0.04171149, 0.01579898, 0.02690176]), array([ 0.04370341, -0.15363342,  0.01633702,  0.32452727]), 1.0, 0, False]\n",
      "[array([ 0.04370341, -0.15363342,  0.01633702,  0.32452727]), array([0.04063074, 0.04125214, 0.02282756, 0.0370408 ]), 1.0, 1, False]\n",
      "[array([0.04063074, 0.04125214, 0.02282756, 0.0370408 ]), array([ 0.04145578, -0.15418959,  0.02356838,  0.33683774]), 1.0, 0, False]\n",
      "[array([ 0.04145578, -0.15418959,  0.02356838,  0.33683774]), array([0.03837199, 0.04058917, 0.03030513, 0.0516792 ]), 1.0, 1, False]\n",
      "[array([0.03837199, 0.04058917, 0.03030513, 0.0516792 ]), array([ 0.03918377,  0.23526377,  0.03133872, -0.23129027]), 1.0, 1, False]\n",
      "[array([ 0.03918377,  0.23526377,  0.03133872, -0.23129027]), array([ 0.04388905,  0.42992422,  0.02671291, -0.51392551]), 1.0, 1, False]\n",
      "[array([ 0.04388905,  0.42992422,  0.02671291, -0.51392551]), array([ 0.05248753,  0.23443644,  0.0164344 , -0.21294578]), 1.0, 0, False]\n",
      "[array([ 0.05248753,  0.23443644,  0.0164344 , -0.21294578]), array([ 0.05717626,  0.42931962,  0.01217548, -0.50039958]), 1.0, 1, False]\n",
      "[array([ 0.05717626,  0.42931962,  0.01217548, -0.50039958]), array([ 0.06576265,  0.62426783,  0.00216749, -0.78922072]), 1.0, 1, False]\n",
      "[array([ 0.06576265,  0.62426783,  0.00216749, -0.78922072]), array([ 0.07824801,  0.81935995, -0.01361692, -1.08122096]), 1.0, 1, False]\n",
      "[array([ 0.07824801,  0.81935995, -0.01361692, -1.08122096]), array([ 0.09463521,  0.62442037, -0.03524134, -0.79284196]), 1.0, 0, False]\n",
      "[array([ 0.09463521,  0.62442037, -0.03524134, -0.79284196]), array([ 0.10712362,  0.82000794, -0.05109818, -1.09639996]), 1.0, 1, False]\n",
      "[array([ 0.10712362,  0.82000794, -0.05109818, -1.09639996]), array([ 0.12352378,  1.01576417, -0.07302618, -1.40466738]), 1.0, 1, False]\n",
      "[array([ 0.12352378,  1.01576417, -0.07302618, -1.40466738]), array([ 0.14383906,  0.82162098, -0.10111953, -1.13567936]), 1.0, 0, False]\n",
      "[array([ 0.14383906,  0.82162098, -0.10111953, -1.13567936]), array([ 0.16027148,  0.62795675, -0.12383311, -0.87634543]), 1.0, 0, False]\n",
      "[array([ 0.16027148,  0.62795675, -0.12383311, -0.87634543]), array([ 0.17283061,  0.82452457, -0.14136002, -1.20525329]), 1.0, 1, False]\n",
      "[array([ 0.17283061,  0.82452457, -0.14136002, -1.20525329]), array([ 0.18932111,  0.63148373, -0.16546509, -0.9600019 ]), 1.0, 0, False]\n",
      "[array([ 0.18932111,  0.63148373, -0.16546509, -0.9600019 ]), array([ 0.20195078,  0.43892587, -0.18466513, -0.72353513]), 1.0, 0, False]\n",
      "[array([ 0.20195078,  0.43892587, -0.18466513, -0.72353513]), array([ 0.2107293 ,  0.63605629, -0.19913583, -1.0681868 ]), 1.0, 1, False]\n",
      "[array([ 0.2107293 ,  0.63605629, -0.19913583, -1.0681868 ]), array([ 0.22345042,  0.44404494, -0.22049957, -0.84402134]), 1.0, 0, True]\n",
      "[array([ 0.01058083, -0.03348703, -0.02987294, -0.04419905]), array([ 0.00991109, -0.22816816, -0.03075692,  0.23891102]), 1.0, 0, False]\n",
      "[array([ 0.00991109, -0.22816816, -0.03075692,  0.23891102]), array([ 0.00534773, -0.03262064, -0.0259787 , -0.06331265]), 1.0, 1, False]\n",
      "[array([ 0.00534773, -0.03262064, -0.0259787 , -0.06331265]), array([ 0.00469532, -0.22736067, -0.02724495,  0.22106195]), 1.0, 0, False]\n",
      "[array([ 0.00469532, -0.22736067, -0.02724495,  0.22106195]), array([ 0.0001481 , -0.03186009, -0.02282371, -0.0800891 ]), 1.0, 1, False]\n",
      "[array([ 0.0001481 , -0.03186009, -0.02282371, -0.0800891 ]), array([-0.0004891 ,  0.16358148, -0.02442549, -0.3798847 ]), 1.0, 1, False]\n",
      "[array([-0.0004891 ,  0.16358148, -0.02442549, -0.3798847 ]), array([ 0.00278253, -0.03118525, -0.03202319, -0.09500213]), 1.0, 0, False]\n",
      "[array([ 0.00278253, -0.03118525, -0.03202319, -0.09500213]), array([ 0.00215883,  0.16438069, -0.03392323, -0.39761385]), 1.0, 1, False]\n",
      "[array([ 0.00215883,  0.16438069, -0.03392323, -0.39761385]), array([ 0.00544644,  0.35996709, -0.04187551, -0.70079617]), 1.0, 1, False]\n",
      "[array([ 0.00544644,  0.35996709, -0.04187551, -0.70079617]), array([ 0.01264578,  0.55564374, -0.05589143, -1.00636164]), 1.0, 1, False]\n",
      "[array([ 0.01264578,  0.55564374, -0.05589143, -1.00636164]), array([ 0.02375866,  0.75146568, -0.07601866, -1.31605941]), 1.0, 1, False]\n",
      "[array([ 0.02375866,  0.75146568, -0.07601866, -1.31605941]), array([ 0.03878797,  0.94746261, -0.10233985, -1.6315337 ]), 1.0, 1, False]\n",
      "[array([ 0.03878797,  0.94746261, -0.10233985, -1.6315337 ]), array([ 0.05773722,  0.75368081, -0.13497053, -1.37241727]), 1.0, 0, False]\n",
      "[array([ 0.05773722,  0.75368081, -0.13497053, -1.37241727]), array([ 0.07281084,  0.95020737, -0.16241887, -1.70408705]), 1.0, 1, False]\n",
      "[array([ 0.07281084,  0.95020737, -0.16241887, -1.70408705]), array([ 0.09181499,  1.14678366, -0.19650061, -2.04261226]), 1.0, 1, False]\n",
      "[array([ 0.09181499,  1.14678366, -0.19650061, -2.04261226]), array([ 0.11475066,  1.34330888, -0.23735286, -2.38912725]), 1.0, 1, True]\n",
      "[array([-0.03644978, -0.02681118,  0.04206969,  0.03172083]), array([-0.036986  , -0.2225104 ,  0.04270411,  0.33737476]), 1.0, 0, False]\n",
      "[array([-0.036986  , -0.2225104 ,  0.04270411,  0.33737476]), array([-0.04143621, -0.02802133,  0.0494516 ,  0.05845833]), 1.0, 1, False]\n",
      "[array([-0.04143621, -0.02802133,  0.0494516 ,  0.05845833]), array([-0.04199663, -0.22381617,  0.05062077,  0.36632439]), 1.0, 0, False]\n",
      "[array([-0.04199663, -0.22381617,  0.05062077,  0.36632439]), array([-0.04647296, -0.02944874,  0.05794726,  0.09002286]), 1.0, 1, False]\n",
      "[array([-0.04647296, -0.02944874,  0.05794726,  0.09002286]), array([-0.04706193,  0.16479681,  0.05974772, -0.18382944]), 1.0, 1, False]\n",
      "[array([-0.04706193,  0.16479681,  0.05974772, -0.18382944]), array([-0.043766  , -0.03112689,  0.05607113,  0.12708709]), 1.0, 0, False]\n",
      "[array([-0.043766  , -0.03112689,  0.05607113,  0.12708709]), array([-0.04438853, -0.2270054 ,  0.05861287,  0.43691937]), 1.0, 0, False]\n",
      "[array([-0.04438853, -0.2270054 ,  0.05861287,  0.43691937]), array([-0.04892864, -0.42290593,  0.06735126,  0.74748786]), 1.0, 0, False]\n",
      "[array([-0.04892864, -0.42290593,  0.06735126,  0.74748786]), array([-0.05738676, -0.22877463,  0.08230101,  0.47673743]), 1.0, 1, False]\n",
      "[array([-0.05738676, -0.22877463,  0.08230101,  0.47673743]), array([-0.06196225, -0.03490531,  0.09183576,  0.21108696]), 1.0, 1, False]\n",
      "[array([-0.06196225, -0.03490531,  0.09183576,  0.21108696]), array([-0.06266036,  0.15879177,  0.0960575 , -0.05127253]), 1.0, 1, False]\n",
      "[array([-0.06266036,  0.15879177,  0.0960575 , -0.05127253]), array([-0.05948452,  0.35241449,  0.09503205, -0.31217023]), 1.0, 1, False]\n",
      "[array([-0.05948452,  0.35241449,  0.09503205, -0.31217023]), array([-0.05243623,  0.54606318,  0.08878865, -0.57343522]), 1.0, 1, False]\n",
      "[array([-0.05243623,  0.54606318,  0.08878865, -0.57343522]), array([-0.04151497,  0.3498159 ,  0.07731994, -0.25415429]), 1.0, 0, False]\n",
      "[array([-0.04151497,  0.3498159 ,  0.07731994, -0.25415429]), array([-0.03451865,  0.54375359,  0.07223686, -0.52148225]), 1.0, 1, False]\n",
      "[array([-0.03451865,  0.54375359,  0.07223686, -0.52148225]), array([-0.02364358,  0.34769313,  0.06180721, -0.20693937]), 1.0, 0, False]\n",
      "[array([-0.02364358,  0.34769313,  0.06180721, -0.20693937]), array([-0.01668972,  0.5418793 ,  0.05766842, -0.47950269]), 1.0, 1, False]\n",
      "[array([-0.01668972,  0.5418793 ,  0.05766842, -0.47950269]), array([-0.00585213,  0.34599268,  0.04807837, -0.16921609]), 1.0, 0, False]\n",
      "[array([-0.00585213,  0.34599268,  0.04807837, -0.16921609]), array([ 0.00106772,  0.54039466,  0.04469405, -0.44635251]), 1.0, 1, False]\n",
      "[array([ 0.00106772,  0.54039466,  0.04469405, -0.44635251]), array([ 0.01187561,  0.73485677,  0.035767  , -0.72461871]), 1.0, 1, False]\n",
      "[array([ 0.01187561,  0.73485677,  0.035767  , -0.72461871]), array([ 0.02657275,  0.92946632,  0.02127462, -1.00583307]), 1.0, 1, False]\n",
      "[array([ 0.02657275,  0.92946632,  0.02127462, -1.00583307]), array([ 4.51620760e-02,  1.12429780e+00,  1.15796187e-03, -1.29175989e+00]), 1.0, 1, False]\n",
      "[array([ 4.51620760e-02,  1.12429780e+00,  1.15796187e-03, -1.29175989e+00]), array([ 0.06764803,  0.92916114, -0.02467724, -0.99871466]), 1.0, 0, False]\n",
      "[array([ 0.06764803,  0.92916114, -0.02467724, -0.99871466]), array([ 0.08623125,  0.73437762, -0.04465153, -0.71388271]), 1.0, 0, False]\n",
      "[array([ 0.08623125,  0.73437762, -0.04465153, -0.71388271]), array([ 0.10091881,  0.53990135, -0.05892918, -0.43558224]), 1.0, 0, False]\n",
      "[array([ 0.10091881,  0.53990135, -0.05892918, -0.43558224]), array([ 0.11171683,  0.73580585, -0.06764083, -0.74624407]), 1.0, 1, False]\n",
      "[array([ 0.11171683,  0.73580585, -0.06764083, -0.74624407]), array([ 0.12643295,  0.93179268, -0.08256571, -1.05942329]), 1.0, 1, False]\n",
      "[array([ 0.12643295,  0.93179268, -0.08256571, -1.05942329]), array([ 0.1450688 ,  0.73785568, -0.10375418, -0.79375554]), 1.0, 0, False]\n",
      "[array([ 0.1450688 ,  0.73785568, -0.10375418, -0.79375554]), array([ 0.15982592,  0.54429931, -0.11962929, -0.53543133]), 1.0, 0, False]\n",
      "[array([ 0.15982592,  0.54429931, -0.11962929, -0.53543133]), array([ 0.1707119 ,  0.35104472, -0.13033791, -0.28270843]), 1.0, 0, False]\n",
      "[array([ 0.1707119 ,  0.35104472, -0.13033791, -0.28270843]), array([ 0.1777328 ,  0.15799938, -0.13599208, -0.03380747]), 1.0, 0, False]\n",
      "[array([ 0.1777328 ,  0.15799938, -0.13599208, -0.03380747]), array([ 0.18089279, -0.03493688, -0.13666823,  0.21306639]), 1.0, 0, False]\n",
      "[array([ 0.18089279, -0.03493688, -0.13666823,  0.21306639]), array([ 0.18019405,  0.16184747, -0.1324069 , -0.11941323]), 1.0, 1, False]\n",
      "[array([ 0.18019405,  0.16184747, -0.1324069 , -0.11941323]), array([ 0.183431  , -0.03115338, -0.13479517,  0.12874007]), 1.0, 0, False]\n",
      "[array([ 0.183431  , -0.03115338, -0.13479517,  0.12874007]), array([ 0.18280793, -0.22411269, -0.13222037,  0.37604361]), 1.0, 0, False]\n",
      "[array([ 0.18280793, -0.22411269, -0.13222037,  0.37604361]), array([ 0.17832568, -0.02738491, -0.12469949,  0.04476799]), 1.0, 1, False]\n",
      "[array([ 0.17832568, -0.02738491, -0.12469949,  0.04476799]), array([ 0.17777798, -0.2205186 , -0.12380413,  0.29565231]), 1.0, 0, False]\n",
      "[array([ 0.17777798, -0.2205186 , -0.12380413,  0.29565231]), array([ 0.17336761, -0.41367811, -0.11789109,  0.54686842]), 1.0, 0, False]\n",
      "[array([ 0.17336761, -0.41367811, -0.11789109,  0.54686842]), array([ 0.16509405, -0.21711434, -0.10695372,  0.21948957]), 1.0, 1, False]\n",
      "[array([ 0.16509405, -0.21711434, -0.10695372,  0.21948957]), array([ 0.16075176, -0.02063903, -0.10256393, -0.10492385]), 1.0, 1, False]\n",
      "[array([ 0.16075176, -0.02063903, -0.10256393, -0.10492385]), array([ 0.16033898,  0.17579178, -0.10466241, -0.42812264]), 1.0, 1, False]\n",
      "[array([ 0.16033898,  0.17579178, -0.10466241, -0.42812264]), array([ 0.16385481,  0.37222825, -0.11322486, -0.75187956]), 1.0, 1, False]\n",
      "[array([ 0.16385481,  0.37222825, -0.11322486, -0.75187956]), array([ 0.17129938,  0.56871433, -0.12826245, -1.07793853]), 1.0, 1, False]\n",
      "[array([ 0.17129938,  0.56871433, -0.12826245, -1.07793853]), array([ 0.18267367,  0.37549805, -0.14982122, -0.82810068]), 1.0, 0, False]\n",
      "[array([ 0.18267367,  0.37549805, -0.14982122, -0.82810068]), array([ 0.19018363,  0.57231595, -0.16638323, -1.16390316]), 1.0, 1, False]\n",
      "[array([ 0.19018363,  0.57231595, -0.16638323, -1.16390316]), array([ 0.20162995,  0.76916632, -0.1896613 , -1.50379232]), 1.0, 1, False]\n",
      "[array([ 0.20162995,  0.76916632, -0.1896613 , -1.50379232]), array([ 0.21701327,  0.96601566, -0.21973714, -1.84919825]), 1.0, 1, True]\n",
      "[array([ 0.04656509,  0.00410154, -0.02517687,  0.03696937]), array([ 0.04664712, -0.19065049, -0.02443749,  0.32160362]), 1.0, 0, False]\n",
      "[array([ 0.04664712, -0.19065049, -0.02443749,  0.32160362]), array([ 0.04283411, -0.38541607, -0.01800541,  0.60648085]), 1.0, 0, False]\n",
      "[array([ 0.04283411, -0.38541607, -0.01800541,  0.60648085]), array([ 0.03512579, -0.19004704, -0.0058758 ,  0.30818151]), 1.0, 1, False]\n",
      "[array([ 0.03512579, -0.19004704, -0.0058758 ,  0.30818151]), array([0.03132485, 0.00515814, 0.00028783, 0.01365132]), 1.0, 1, False]\n",
      "[array([0.03132485, 0.00515814, 0.00028783, 0.01365132]), array([ 0.03142801, -0.18996794,  0.00056086,  0.30642505]), 1.0, 0, False]\n",
      "[array([ 0.03142801, -0.18996794,  0.00056086,  0.30642505]), array([0.02762865, 0.00514601, 0.00668936, 0.01391906]), 1.0, 1, False]\n",
      "[array([0.02762865, 0.00514601, 0.00668936, 0.01391906]), array([ 0.02773157,  0.20017139,  0.00696774, -0.27664581]), 1.0, 1, False]\n",
      "[array([ 0.02773157,  0.20017139,  0.00696774, -0.27664581]), array([0.031735  , 0.00495073, 0.00143483, 0.01822657]), 1.0, 0, False]\n",
      "[array([0.031735  , 0.00495073, 0.00143483, 0.01822657]), array([ 0.03183402, -0.19019177,  0.00179936,  0.31136186]), 1.0, 0, False]\n",
      "[array([ 0.03183402, -0.19019177,  0.00179936,  0.31136186]), array([ 0.02803018, -0.38533931,  0.00802659,  0.6046117 ]), 1.0, 0, False]\n",
      "[array([ 0.02803018, -0.38533931,  0.00802659,  0.6046117 ]), array([ 0.02032339, -0.58057258,  0.02011883,  0.89981198]), 1.0, 0, False]\n",
      "[array([ 0.02032339, -0.58057258,  0.02011883,  0.89981198]), array([ 0.00871194, -0.77596131,  0.03811507,  1.1987503 ]), 1.0, 0, False]\n",
      "[array([ 0.00871194, -0.77596131,  0.03811507,  1.1987503 ]), array([-0.00680728, -0.97155516,  0.06209007,  1.50313109]), 1.0, 0, False]\n",
      "[array([-0.00680728, -0.97155516,  0.06209007,  1.50313109]), array([-0.02623839, -0.77723935,  0.0921527 ,  1.23046179]), 1.0, 1, False]\n",
      "[array([-0.02623839, -0.77723935,  0.0921527 ,  1.23046179]), array([-0.04178317, -0.97341795,  0.11676193,  1.55053567]), 1.0, 0, False]\n",
      "[array([-0.04178317, -0.97341795,  0.11676193,  1.55053567]), array([-0.06125153, -1.16973107,  0.14777265,  1.87725038]), 1.0, 0, False]\n",
      "[array([-0.06125153, -1.16973107,  0.14777265,  1.87725038]), array([-0.08464615, -1.36612385,  0.18531765,  2.21191617]), 1.0, 0, False]\n",
      "[array([-0.08464615, -1.36612385,  0.18531765,  2.21191617]), array([-0.11196863, -1.17319895,  0.22955598,  1.98165586]), 1.0, 1, True]\n",
      "[array([ 0.03430509, -0.0269139 , -0.03669796, -0.01602438]), array([ 0.03376681, -0.22149087, -0.03701845,  0.26485778]), 1.0, 0, False]\n",
      "[array([ 0.03376681, -0.22149087, -0.03701845,  0.26485778]), array([ 0.029337  , -0.41606544, -0.03172129,  0.54563874]), 1.0, 0, False]\n",
      "[array([ 0.029337  , -0.41606544, -0.03172129,  0.54563874]), array([ 0.02101569, -0.22051246, -0.02080852,  0.24313235]), 1.0, 1, False]\n",
      "[array([ 0.02101569, -0.22051246, -0.02080852,  0.24313235]), array([ 0.01660544, -0.41533111, -0.01594587,  0.52917979]), 1.0, 0, False]\n",
      "[array([ 0.01660544, -0.41533111, -0.01594587,  0.52917979]), array([ 0.00829882, -0.2199885 , -0.00536227,  0.23151524]), 1.0, 1, False]\n",
      "[array([ 0.00829882, -0.2199885 , -0.00536227,  0.23151524]), array([ 0.00389905, -0.02479034, -0.00073197, -0.0628543 ]), 1.0, 1, False]\n",
      "[array([ 0.00389905, -0.02479034, -0.00073197, -0.0628543 ]), array([ 0.00340324, -0.21990178, -0.00198905,  0.2295976 ]), 1.0, 0, False]\n",
      "[array([ 0.00340324, -0.21990178, -0.00198905,  0.2295976 ]), array([-0.0009948 , -0.02475147,  0.0026029 , -0.06371208]), 1.0, 1, False]\n",
      "[array([-0.0009948 , -0.02475147,  0.0026029 , -0.06371208]), array([-0.00148983, -0.21991064,  0.00132866,  0.22979094]), 1.0, 0, False]\n",
      "[array([-0.00148983, -0.21991064,  0.00132866,  0.22979094]), array([-0.00588804, -0.41505155,  0.00592447,  0.52289267]), 1.0, 0, False]\n",
      "[array([-0.00588804, -0.41505155,  0.00592447,  0.52289267]), array([-0.01418907, -0.61025638,  0.01638233,  0.81743657]), 1.0, 0, False]\n",
      "[array([-0.01418907, -0.61025638,  0.01638233,  0.81743657]), array([-0.0263942 , -0.41536249,  0.03273106,  0.52995114]), 1.0, 1, False]\n",
      "[array([-0.0263942 , -0.41536249,  0.03273106,  0.52995114]), array([-0.03470145, -0.61092922,  0.04333008,  0.83276533]), 1.0, 0, False]\n",
      "[array([-0.03470145, -0.61092922,  0.04333008,  0.83276533]), array([-0.04692003, -0.80661564,  0.05998539,  1.13875451]), 1.0, 0, False]\n",
      "[array([-0.04692003, -0.80661564,  0.05998539,  1.13875451]), array([-0.06305234, -0.61232715,  0.08276048,  0.86547108]), 1.0, 1, False]\n",
      "[array([-0.06305234, -0.61232715,  0.08276048,  0.86547108]), array([-0.07529889, -0.80847211,  0.1000699 ,  1.18298531]), 1.0, 0, False]\n",
      "[array([-0.07529889, -0.80847211,  0.1000699 ,  1.18298531]), array([-0.09146833, -1.00473992,  0.12372961,  1.50528566]), 1.0, 0, False]\n",
      "[array([-0.09146833, -1.00473992,  0.12372961,  1.50528566]), array([-0.11156313, -0.81131712,  0.15383532,  1.25365322]), 1.0, 1, False]\n",
      "[array([-0.11156313, -0.81131712,  0.15383532,  1.25365322]), array([-0.12778947, -1.00803773,  0.17890838,  1.59029884]), 1.0, 0, False]\n",
      "[array([-0.12778947, -1.00803773,  0.17890838,  1.59029884]), array([-0.14795023, -1.20477613,  0.21071436,  1.93301501]), 1.0, 0, True]\n",
      "[array([0.03336074, 0.02844872, 0.03594969, 0.00568509]), array([ 0.03392972,  0.22303716,  0.0360634 , -0.27544203]), 1.0, 1, False]\n",
      "[array([ 0.03392972,  0.22303716,  0.0360634 , -0.27544203]), array([ 0.03839046,  0.41762651,  0.03055456, -0.55653594]), 1.0, 1, False]\n",
      "[array([ 0.03839046,  0.41762651,  0.03055456, -0.55653594]), array([ 0.04674299,  0.61230648,  0.01942384, -0.83943794]), 1.0, 1, False]\n",
      "[array([ 0.04674299,  0.61230648,  0.01942384, -0.83943794]), array([ 0.05898912,  0.80715791,  0.00263508, -1.1259497 ]), 1.0, 1, False]\n",
      "[array([ 0.05898912,  0.80715791,  0.00263508, -1.1259497 ]), array([ 0.07513228,  1.00224523, -0.01988392, -1.41780495]), 1.0, 1, False]\n",
      "[array([ 0.07513228,  1.00224523, -0.01988392, -1.41780495]), array([ 0.09517718,  0.80737501, -0.04824001, -1.13140289]), 1.0, 0, False]\n",
      "[array([ 0.09517718,  0.80737501, -0.04824001, -1.13140289]), array([ 0.11132468,  0.61291668, -0.07086807, -0.85423179]), 1.0, 0, False]\n",
      "[array([ 0.11132468,  0.61291668, -0.07086807, -0.85423179]), array([ 0.12358302,  0.80892926, -0.08795271, -1.16833043]), 1.0, 1, False]\n",
      "[array([ 0.12358302,  0.80892926, -0.08795271, -1.16833043]), array([ 0.1397616 ,  1.00507838, -0.11131932, -1.48724159]), 1.0, 1, False]\n",
      "[array([ 0.1397616 ,  1.00507838, -0.11131932, -1.48724159]), array([ 0.15986317,  0.81147485, -0.14106415, -1.23129412]), 1.0, 0, False]\n",
      "[array([ 0.15986317,  0.81147485, -0.14106415, -1.23129412]), array([ 0.17609267,  1.00810078, -0.16569003, -1.56463882]), 1.0, 1, False]\n",
      "[array([ 0.17609267,  1.00810078, -0.16569003, -1.56463882]), array([ 0.19625468,  1.20477033, -0.19698281, -1.90409329]), 1.0, 1, False]\n",
      "[array([ 0.19625468,  1.20477033, -0.19698281, -1.90409329]), array([ 0.22035009,  1.0122482 , -0.23506467, -1.67843386]), 1.0, 0, True]\n",
      "[array([ 0.02460497,  0.03015282, -0.0016663 ,  0.01941351]), array([ 0.02520803,  0.22529863, -0.00127803, -0.27379469]), 1.0, 1, False]\n",
      "[array([ 0.02520803,  0.22529863, -0.00127803, -0.27379469]), array([ 0.029714  ,  0.03019493, -0.00675393,  0.01848487]), 1.0, 0, False]\n",
      "[array([ 0.029714  ,  0.03019493, -0.00675393,  0.01848487]), array([ 0.0303179 , -0.16482951, -0.00638423,  0.30902923]), 1.0, 0, False]\n",
      "[array([ 0.0303179 , -0.16482951, -0.00638423,  0.30902923]), array([ 2.70213114e-02, -3.59859917e-01, -2.03644013e-04,  5.99691926e-01]), 1.0, 0, False]\n",
      "[array([ 2.70213114e-02, -3.59859917e-01, -2.03644013e-04,  5.99691926e-01]), array([ 0.01982411, -0.55497902,  0.01179019,  0.8923107 ]), 1.0, 0, False]\n",
      "[array([ 0.01982411, -0.55497902,  0.01179019,  0.8923107 ]), array([ 0.00872453, -0.7502589 ,  0.02963641,  1.1886764 ]), 1.0, 0, False]\n",
      "[array([ 0.00872453, -0.7502589 ,  0.02963641,  1.1886764 ]), array([-0.00628065, -0.94575222,  0.05340994,  1.49049944]), 1.0, 0, False]\n",
      "[array([-0.00628065, -0.94575222,  0.05340994,  1.49049944]), array([-0.02519569, -1.14148217,  0.08321993,  1.79937077]), 1.0, 0, False]\n",
      "[array([-0.02519569, -1.14148217,  0.08321993,  1.79937077]), array([-0.04802533, -1.33743048,  0.11920734,  2.11671446]), 1.0, 0, False]\n",
      "[array([-0.04802533, -1.33743048,  0.11920734,  2.11671446]), array([-0.07477394, -1.53352311,  0.16154163,  2.44372998]), 1.0, 0, False]\n",
      "[array([-0.07477394, -1.53352311,  0.16154163,  2.44372998]), array([-0.10544441, -1.34010685,  0.21041623,  2.2046698 ]), 1.0, 1, True]\n",
      "[array([-0.02136553, -0.00482989, -0.00133928, -0.02336656]), array([-0.02146213,  0.19031124, -0.00180661, -0.31647175]), 1.0, 1, False]\n",
      "[array([-0.02146213,  0.19031124, -0.00180661, -0.31647175]), array([-0.01765591,  0.38545888, -0.00813605, -0.60972387]), 1.0, 1, False]\n",
      "[array([-0.01765591,  0.38545888, -0.00813605, -0.60972387]), array([-0.00994673,  0.58069361, -0.02033052, -0.90495825]), 1.0, 1, False]\n",
      "[array([-0.00994673,  0.58069361, -0.02033052, -0.90495825]), array([ 0.00166714,  0.3858528 , -0.03842969, -0.61873419]), 1.0, 0, False]\n",
      "[array([ 0.00166714,  0.3858528 , -0.03842969, -0.61873419]), array([ 0.0093842 ,  0.19128811, -0.05080437, -0.33839818]), 1.0, 0, False]\n",
      "[array([ 0.0093842 ,  0.19128811, -0.05080437, -0.33839818]), array([ 0.01320996, -0.00307549, -0.05757234, -0.06215902]), 1.0, 0, False]\n",
      "[array([ 0.01320996, -0.00307549, -0.05757234, -0.06215902]), array([ 0.01314845, -0.19732675, -0.05881552,  0.21181819]), 1.0, 0, False]\n",
      "[array([ 0.01314845, -0.19732675, -0.05881552,  0.21181819]), array([ 0.00920192, -0.39156061, -0.05457915,  0.4853834 ]), 1.0, 0, False]\n",
      "[array([ 0.00920192, -0.39156061, -0.05457915,  0.4853834 ]), array([ 0.0013707 , -0.19571265, -0.04487149,  0.1760106 ]), 1.0, 1, False]\n",
      "[array([ 0.0013707 , -0.19571265, -0.04487149,  0.1760106 ]), array([-0.00254355, -0.39016467, -0.04135127,  0.45420725]), 1.0, 0, False]\n",
      "[array([-0.00254355, -0.39016467, -0.04135127,  0.45420725]), array([-0.01034684, -0.58467826, -0.03226713,  0.7335744 ]), 1.0, 0, False]\n",
      "[array([-0.01034684, -0.58467826, -0.03226713,  0.7335744 ]), array([-0.02204041, -0.77933988, -0.01759564,  1.01592996]), 1.0, 0, False]\n",
      "[array([-0.02204041, -0.77933988, -0.01759564,  1.01592996]), array([-0.03762721, -0.58398778,  0.00272296,  0.71777431]), 1.0, 1, False]\n",
      "[array([-0.03762721, -0.58398778,  0.00272296,  0.71777431]), array([-0.04930696, -0.38890362,  0.01707844,  0.4259497 ]), 1.0, 1, False]\n",
      "[array([-0.04930696, -0.38890362,  0.01707844,  0.4259497 ]), array([-0.05708503, -0.58426326,  0.02559744,  0.72396725]), 1.0, 0, False]\n",
      "[array([-0.05708503, -0.58426326,  0.02559744,  0.72396725]), array([-0.0687703 , -0.7797297 ,  0.04007678,  1.02459568]), 1.0, 0, False]\n",
      "[array([-0.0687703 , -0.7797297 ,  0.04007678,  1.02459568]), array([-0.08436489, -0.58516371,  0.0605687 ,  0.74476046]), 1.0, 1, False]\n",
      "[array([-0.08436489, -0.58516371,  0.0605687 ,  0.74476046]), array([-0.09606817, -0.3909276 ,  0.07546391,  0.47173687]), 1.0, 1, False]\n",
      "[array([-0.09606817, -0.3909276 ,  0.07546391,  0.47173687]), array([-0.10388672, -0.58702978,  0.08489864,  0.7872183 ]), 1.0, 0, False]\n",
      "[array([-0.10388672, -0.58702978,  0.08489864,  0.7872183 ]), array([-0.11562731, -0.39317028,  0.10064301,  0.52240663]), 1.0, 1, False]\n",
      "[array([-0.11562731, -0.39317028,  0.10064301,  0.52240663]), array([-0.12349072, -0.58955407,  0.11109114,  0.8450308 ]), 1.0, 0, False]\n",
      "[array([-0.12349072, -0.58955407,  0.11109114,  0.8450308 ]), array([-0.1352818 , -0.78600225,  0.12799176,  1.1704803 ]), 1.0, 0, False]\n",
      "[array([-0.1352818 , -0.78600225,  0.12799176,  1.1704803 ]), array([-0.15100185, -0.59275568,  0.15140136,  0.92050842]), 1.0, 1, False]\n",
      "[array([-0.15100185, -0.59275568,  0.15140136,  0.92050842]), array([-0.16285696, -0.78956365,  0.16981153,  1.25668551]), 1.0, 0, False]\n",
      "[array([-0.16285696, -0.78956365,  0.16981153,  1.25668551]), array([-0.17864823, -0.59697259,  0.19494524,  1.02163907]), 1.0, 1, False]\n",
      "[array([-0.17864823, -0.59697259,  0.19494524,  1.02163907]), array([-0.19058768, -0.40490624,  0.21537802,  0.79594822]), 1.0, 1, True]\n",
      "[array([ 0.0339437 , -0.01702355, -0.03194138,  0.0490011 ]), array([ 0.03360322, -0.21167327, -0.03096135,  0.33143759]), 1.0, 0, False]\n",
      "[array([ 0.03360322, -0.21167327, -0.03096135,  0.33143759]), array([ 0.02936976, -0.40634115, -0.0243326 ,  0.61419827]), 1.0, 0, False]\n",
      "[array([ 0.02936976, -0.40634115, -0.0243326 ,  0.61419827]), array([ 0.02124294, -0.21088779, -0.01204864,  0.31395194]), 1.0, 1, False]\n",
      "[array([ 0.02124294, -0.21088779, -0.01204864,  0.31395194]), array([ 0.01702518, -0.40583605, -0.0057696 ,  0.60281089]), 1.0, 0, False]\n",
      "[array([ 0.01702518, -0.40583605, -0.0057696 ,  0.60281089]), array([ 0.00890846, -0.21063387,  0.00628662,  0.30831625]), 1.0, 1, False]\n",
      "[array([ 0.00890846, -0.21063387,  0.00628662,  0.30831625]), array([ 0.00469578, -0.01560206,  0.01245295,  0.01762257]), 1.0, 1, False]\n",
      "[array([ 0.00469578, -0.01560206,  0.01245295,  0.01762257]), array([ 0.00438374,  0.17933911,  0.0128054 , -0.27110544]), 1.0, 1, False]\n",
      "[array([ 0.00438374,  0.17933911,  0.0128054 , -0.27110544]), array([ 0.00797052, -0.01596321,  0.00738329,  0.0255887 ]), 1.0, 0, False]\n",
      "[array([ 0.00797052, -0.01596321,  0.00738329,  0.0255887 ]), array([ 0.00765126, -0.21119026,  0.00789506,  0.32059196]), 1.0, 0, False]\n",
      "[array([ 0.00765126, -0.21119026,  0.00789506,  0.32059196]), array([ 0.00342745, -0.01618163,  0.0143069 ,  0.03040926]), 1.0, 1, False]\n",
      "[array([ 0.00342745, -0.01618163,  0.0143069 ,  0.03040926]), array([ 0.00310382, -0.2115058 ,  0.01491509,  0.32757161]), 1.0, 0, False]\n",
      "[array([ 0.00310382, -0.2115058 ,  0.01491509,  0.32757161]), array([-0.00112629, -0.01659933,  0.02146652,  0.0396293 ]), 1.0, 1, False]\n",
      "[array([-0.00112629, -0.01659933,  0.02146652,  0.0396293 ]), array([-0.00145828, -0.21202243,  0.0222591 ,  0.33900708]), 1.0, 0, False]\n",
      "[array([-0.00145828, -0.21202243,  0.0222591 ,  0.33900708]), array([-0.00569873, -0.40745392,  0.02903925,  0.63862534]), 1.0, 0, False]\n",
      "[array([-0.00569873, -0.40745392,  0.02903925,  0.63862534]), array([-0.01384781, -0.21274866,  0.04181175,  0.35522692]), 1.0, 1, False]\n",
      "[array([-0.01384781, -0.21274866,  0.04181175,  0.35522692]), array([-0.01810278, -0.01824537,  0.04891629,  0.07601605]), 1.0, 1, False]\n",
      "[array([-0.01810278, -0.01824537,  0.04891629,  0.07601605]), array([-0.01846769,  0.17614244,  0.05043661, -0.20084123]), 1.0, 1, False]\n",
      "[array([-0.01846769,  0.17614244,  0.05043661, -0.20084123]), array([-0.01494484,  0.37050812,  0.04641979, -0.47719692]), 1.0, 1, False]\n",
      "[array([-0.01494484,  0.37050812,  0.04641979, -0.47719692]), array([-0.00753468,  0.56494497,  0.03687585, -0.75489551]), 1.0, 1, False]\n",
      "[array([-0.00753468,  0.56494497,  0.03687585, -0.75489551]), array([ 0.00376422,  0.3693346 ,  0.02177794, -0.45084038]), 1.0, 0, False]\n",
      "[array([ 0.00376422,  0.3693346 ,  0.02177794, -0.45084038]), array([ 0.01115091,  0.17391151,  0.01276113, -0.15137307]), 1.0, 0, False]\n",
      "[array([ 0.01115091,  0.17391151,  0.01276113, -0.15137307]), array([ 0.01462914,  0.36884843,  0.00973367, -0.44000297]), 1.0, 1, False]\n",
      "[array([ 0.01462914,  0.36884843,  0.00973367, -0.44000297]), array([ 0.02200611,  0.17359009,  0.00093361, -0.14426767]), 1.0, 0, False]\n",
      "[array([ 0.02200611,  0.17359009,  0.00093361, -0.14426767]), array([ 0.02547791, -0.02154522, -0.00195174,  0.14870965]), 1.0, 0, False]\n",
      "[array([ 0.02547791, -0.02154522, -0.00195174,  0.14870965]), array([ 0.02504701, -0.21663917,  0.00102245,  0.4407762 ]), 1.0, 0, False]\n",
      "[array([ 0.02504701, -0.21663917,  0.00102245,  0.4407762 ]), array([ 0.02071423, -0.0215317 ,  0.00983797,  0.14841575]), 1.0, 1, False]\n",
      "[array([ 0.02071423, -0.0215317 ,  0.00983797,  0.14841575]), array([ 0.02028359,  0.173448  ,  0.01280629, -0.14114732]), 1.0, 1, False]\n",
      "[array([ 0.02028359,  0.173448  ,  0.01280629, -0.14114732]), array([ 0.02375255,  0.36838422,  0.00998334, -0.42976273]), 1.0, 1, False]\n",
      "[array([ 0.02375255,  0.36838422,  0.00998334, -0.42976273]), array([ 0.03112024,  0.56336338,  0.00138809, -0.71928185]), 1.0, 1, False]\n",
      "[array([ 0.03112024,  0.56336338,  0.00138809, -0.71928185]), array([ 0.0423875 ,  0.7584661 , -0.01299755, -1.01152754]), 1.0, 1, False]\n",
      "[array([ 0.0423875 ,  0.7584661 , -0.01299755, -1.01152754]), array([ 0.05755683,  0.56351996, -0.0332281 , -0.72295421]), 1.0, 0, False]\n",
      "[array([ 0.05755683,  0.56351996, -0.0332281 , -0.72295421]), array([ 0.06882723,  0.36887298, -0.04768718, -0.44091217]), 1.0, 0, False]\n",
      "[array([ 0.06882723,  0.36887298, -0.04768718, -0.44091217]), array([ 0.07620469,  0.56463621, -0.05650543, -0.74823791]), 1.0, 1, False]\n",
      "[array([ 0.07620469,  0.56463621, -0.05650543, -0.74823791]), array([ 0.08749741,  0.76049025, -0.07147019, -1.05815386]), 1.0, 1, False]\n",
      "[array([ 0.08749741,  0.76049025, -0.07147019, -1.05815386]), array([ 0.10270721,  0.56638422, -0.09263326, -0.78873246]), 1.0, 0, False]\n",
      "[array([ 0.10270721,  0.56638422, -0.09263326, -0.78873246]), array([ 0.1140349 ,  0.76264806, -0.10840791, -1.10906128]), 1.0, 1, False]\n",
      "[array([ 0.1140349 ,  0.76264806, -0.10840791, -1.10906128]), array([ 0.12928786,  0.56910463, -0.13058914, -0.85225993]), 1.0, 0, False]\n",
      "[array([ 0.12928786,  0.56910463, -0.13058914, -0.85225993]), array([ 0.14066995,  0.76574195, -0.14763434, -1.18298864]), 1.0, 1, False]\n",
      "[array([ 0.14066995,  0.76574195, -0.14763434, -1.18298864]), array([ 0.15598479,  0.9624383 , -0.17129411, -1.51807061]), 1.0, 1, False]\n",
      "[array([ 0.15598479,  0.9624383 , -0.17129411, -1.51807061]), array([ 0.17523356,  0.7697516 , -0.20165552, -1.28338507]), 1.0, 0, False]\n",
      "[array([ 0.17523356,  0.7697516 , -0.20165552, -1.28338507]), array([ 0.19062859,  0.9667876 , -0.22732322, -1.63183578]), 1.0, 1, True]\n",
      "[array([-0.00199791,  0.03125912, -0.02436451,  0.02416468]), array([-0.00137273,  0.22672185, -0.02388122, -0.27610486]), 1.0, 1, False]\n",
      "[array([-0.00137273,  0.22672185, -0.02388122, -0.27610486]), array([ 0.00316171,  0.42217623, -0.02940331, -0.57622324]), 1.0, 1, False]\n",
      "[array([ 0.00316171,  0.42217623, -0.02940331, -0.57622324]), array([ 0.01160523,  0.61769774, -0.04092778, -0.87802206]), 1.0, 1, False]\n",
      "[array([ 0.01160523,  0.61769774, -0.04092778, -0.87802206]), array([ 0.02395919,  0.42315515, -0.05848822, -0.59848196]), 1.0, 0, False]\n",
      "[array([ 0.02395919,  0.42315515, -0.05848822, -0.59848196]), array([ 0.03242229,  0.6190446 , -0.07045786, -0.90899942]), 1.0, 1, False]\n",
      "[array([ 0.03242229,  0.6190446 , -0.07045786, -0.90899942]), array([ 0.04480318,  0.81504585, -0.08863785, -1.22296932]), 1.0, 1, False]\n",
      "[array([ 0.04480318,  0.81504585, -0.08863785, -1.22296932]), array([ 0.0611041 ,  1.01119071, -0.11309724, -1.54205701]), 1.0, 1, False]\n",
      "[array([ 0.0611041 ,  1.01119071, -0.11309724, -1.54205701]), array([ 0.08132791,  1.2074761 , -0.14393838, -1.86778383]), 1.0, 1, False]\n",
      "[array([ 0.08132791,  1.2074761 , -0.14393838, -1.86778383]), array([ 0.10547743,  1.40385009, -0.18129405, -2.20147059]), 1.0, 1, False]\n",
      "[array([ 0.10547743,  1.40385009, -0.18129405, -2.20147059]), array([ 0.13355444,  1.6001959 , -0.22532346, -2.54417145]), 1.0, 1, True]\n"
     ]
    }
   ],
   "source": [
    "parent,child = mp.Pipe()\n",
    "env = gym.make('CartPole-v0')\n",
    "proc = mp.Process(target = worker, args = (env,child,))\n",
    "proc.start()\n",
    "for i in range(10):\n",
    "    while True:\n",
    "        data = parent.recv()\n",
    "        print(data)\n",
    "        if data[-1] is True:\n",
    "            break\n",
    "proc.join()"
   ]
  },
  {
   "cell_type": "markdown",
   "metadata": {},
   "source": [
    "### Process to run multiple processes and collect data in one part"
   ]
  },
  {
   "cell_type": "code",
   "execution_count": 67,
   "metadata": {},
   "outputs": [
    {
     "ename": "SyntaxError",
     "evalue": "unexpected EOF while parsing (<ipython-input-67-8f32e6ed9252>, line 1)",
     "output_type": "error",
     "traceback": [
      "\u001b[0;36m  File \u001b[0;32m\"<ipython-input-67-8f32e6ed9252>\"\u001b[0;36m, line \u001b[0;32m1\u001b[0m\n\u001b[0;31m    def sync(parent,data):\u001b[0m\n\u001b[0m                          ^\u001b[0m\n\u001b[0;31mSyntaxError\u001b[0m\u001b[0;31m:\u001b[0m unexpected EOF while parsing\n"
     ]
    }
   ],
   "source": [
    "def sync(parent,data):\n",
    "    for i in range(10):\n",
    "    while True:\n",
    "        data = parent.recv()\n",
    "        print(data)\n",
    "        if data[-1] is True:\n",
    "            break\n",
    "proc.join()"
   ]
  },
  {
   "cell_type": "code",
   "execution_count": 62,
   "metadata": {},
   "outputs": [],
   "source": [
    "nos = 10\n",
    "process = []\n",
    "parent_collection = []\n",
    "main_data = [] \n",
    "for i in range(nos):\n",
    "    parent,child = mp.Pipe()\n",
    "    env = gym.make('CartPole-v0')\n",
    "    proc = mp.Process(target = worker, args = (env,child,))\n",
    "    process.append(proc)\n",
    "    parent_collection.append(parent)\n",
    "\n",
    "with mp.Manager() as manager:\n",
    "    data = manager.list([])\n",
    "    proc = mp.Process(target = sync, args=(parent,data,))\n",
    "    proc.start()\n",
    "    proc.join()\n",
    "    main_data = [x for x in data]\n",
    "    \n",
    "for i in range(10):\n",
    "    while True:\n",
    "        data = parent.recv()\n",
    "        print(data)\n",
    "        if data[-1] is True:\n",
    "            break\n",
    "proc.join()"
   ]
  },
  {
   "cell_type": "code",
   "execution_count": 50,
   "metadata": {},
   "outputs": [
    {
     "name": "stdout",
     "output_type": "stream",
     "text": [
      "Process started for pid  9075\n",
      "[array([-0.00407652,  0.04051155,  0.01150213, -0.03399888]), array([-0.00326629, -0.15477344,  0.01082215,  0.26229078]), 1.0, 0, False]\n",
      "[array([-0.00326629, -0.15477344,  0.01082215,  0.26229078]), array([-0.00636176, -0.35004819,  0.01606797,  0.5583674 ]), 1.0, 0, False]\n",
      "[array([-0.00636176, -0.35004819,  0.01606797,  0.5583674 ]), array([-0.01336272, -0.54539196,  0.02723532,  0.85606901]), 1.0, 0, False]\n",
      "[array([-0.01336272, -0.54539196,  0.02723532,  0.85606901]), array([-0.02427056, -0.35065151,  0.0443567 ,  0.57207286]), 1.0, 1, False]\n",
      "[array([-0.02427056, -0.35065151,  0.0443567 ,  0.57207286]), array([-0.03128359, -0.15617868,  0.05579815,  0.29368714]), 1.0, 1, False]\n",
      "[array([-0.03128359, -0.15617868,  0.05579815,  0.29368714]), array([-0.03440716, -0.35204993,  0.0616719 ,  0.6034329 ]), 1.0, 0, False]\n",
      "[array([-0.03440716, -0.35204993,  0.0616719 ,  0.6034329 ]), array([-0.04144816, -0.54797776,  0.07374055,  0.91488596]), 1.0, 0, False]\n",
      "[array([-0.04144816, -0.54797776,  0.07374055,  0.91488596]), array([-0.05240772, -0.35392643,  0.09203827,  0.64626009]), 1.0, 1, False]\n",
      "[array([-0.05240772, -0.35392643,  0.09203827,  0.64626009]), array([-0.05948624, -0.16019929,  0.10496348,  0.38392038]), 1.0, 1, False]\n",
      "[array([-0.05948624, -0.16019929,  0.10496348,  0.38392038]), array([-0.06269023,  0.03328802,  0.11264188,  0.12608936]), 1.0, 1, False]\n",
      "[array([-0.06269023,  0.03328802,  0.11264188,  0.12608936]), array([-0.06202447, -0.16325231,  0.11516367,  0.45207825]), 1.0, 0, False]\n",
      "[array([-0.06202447, -0.16325231,  0.11516367,  0.45207825]), array([-0.06528952, -0.3597985 ,  0.12420524,  0.77872798]), 1.0, 0, False]\n",
      "[array([-0.06528952, -0.3597985 ,  0.12420524,  0.77872798]), array([-0.07248549, -0.55638941,  0.13977979,  1.10776519]), 1.0, 0, False]\n",
      "[array([-0.07248549, -0.55638941,  0.13977979,  1.10776519]), array([-0.08361327, -0.36335347,  0.1619351 ,  0.86199695]), 1.0, 1, False]\n",
      "[array([-0.08361327, -0.36335347,  0.1619351 ,  0.86199695]), array([-0.09088034, -0.56026601,  0.17917504,  1.20090261]), 1.0, 0, False]\n",
      "[array([-0.09088034, -0.56026601,  0.17917504,  1.20090261]), array([-0.10208566, -0.36785546,  0.20319309,  0.96930328]), 1.0, 1, False]\n",
      "[array([-0.10208566, -0.36785546,  0.20319309,  0.96930328]), array([-0.10944277, -0.17595487,  0.22257916,  0.74670283]), 1.0, 1, True]\n"
     ]
    }
   ],
   "source": []
  },
  {
   "cell_type": "code",
   "execution_count": 44,
   "metadata": {},
   "outputs": [
    {
     "data": {
      "text/plain": [
       "True"
      ]
     },
     "execution_count": 44,
     "metadata": {},
     "output_type": "execute_result"
    }
   ],
   "source": [
    "data[-1]"
   ]
  },
  {
   "cell_type": "code",
   "execution_count": 29,
   "metadata": {},
   "outputs": [],
   "source": [
    "a.send(exp('data'))"
   ]
  },
  {
   "cell_type": "code",
   "execution_count": 30,
   "metadata": {},
   "outputs": [
    {
     "data": {
      "text/plain": [
       "exp(name='data')"
      ]
     },
     "execution_count": 30,
     "metadata": {},
     "output_type": "execute_result"
    }
   ],
   "source": [
    "b.recv()"
   ]
  },
  {
   "cell_type": "code",
   "execution_count": 32,
   "metadata": {},
   "outputs": [
    {
     "data": {
      "text/plain": [
       "['__class__',\n",
       " '__del__',\n",
       " '__delattr__',\n",
       " '__dict__',\n",
       " '__dir__',\n",
       " '__doc__',\n",
       " '__enter__',\n",
       " '__eq__',\n",
       " '__exit__',\n",
       " '__format__',\n",
       " '__ge__',\n",
       " '__getattribute__',\n",
       " '__gt__',\n",
       " '__hash__',\n",
       " '__init__',\n",
       " '__init_subclass__',\n",
       " '__le__',\n",
       " '__lt__',\n",
       " '__module__',\n",
       " '__ne__',\n",
       " '__new__',\n",
       " '__reduce__',\n",
       " '__reduce_ex__',\n",
       " '__repr__',\n",
       " '__setattr__',\n",
       " '__sizeof__',\n",
       " '__str__',\n",
       " '__subclasshook__',\n",
       " '__weakref__',\n",
       " '_bad_message_length',\n",
       " '_check_closed',\n",
       " '_check_readable',\n",
       " '_check_writable',\n",
       " '_close',\n",
       " '_handle',\n",
       " '_poll',\n",
       " '_read',\n",
       " '_readable',\n",
       " '_recv',\n",
       " '_recv_bytes',\n",
       " '_send',\n",
       " '_send_bytes',\n",
       " '_writable',\n",
       " '_write',\n",
       " 'close',\n",
       " 'closed',\n",
       " 'fileno',\n",
       " 'poll',\n",
       " 'readable',\n",
       " 'recv',\n",
       " 'recv_bytes',\n",
       " 'recv_bytes_into',\n",
       " 'send',\n",
       " 'send_bytes',\n",
       " 'writable']"
      ]
     },
     "execution_count": 32,
     "metadata": {},
     "output_type": "execute_result"
    }
   ],
   "source": [
    "dir(a)"
   ]
  },
  {
   "cell_type": "code",
   "execution_count": null,
   "metadata": {},
   "outputs": [],
   "source": []
  }
 ],
 "metadata": {
  "kernelspec": {
   "display_name": "Python 3",
   "language": "python",
   "name": "python3"
  },
  "language_info": {
   "codemirror_mode": {
    "name": "ipython",
    "version": 3
   },
   "file_extension": ".py",
   "mimetype": "text/x-python",
   "name": "python",
   "nbconvert_exporter": "python",
   "pygments_lexer": "ipython3",
   "version": "3.7.3"
  }
 },
 "nbformat": 4,
 "nbformat_minor": 2
}
