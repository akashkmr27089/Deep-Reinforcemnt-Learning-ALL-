{
 "cells": [
  {
   "cell_type": "markdown",
   "metadata": {},
   "source": [
    "## Multiprocessing "
   ]
  },
  {
   "cell_type": "code",
   "execution_count": null,
   "metadata": {},
   "outputs": [],
   "source": [
    "import multiprocessing as mp\n",
    "print(\"number of cpu :\", mp.cpu_count())"
   ]
  },
  {
   "cell_type": "code",
   "execution_count": null,
   "metadata": {},
   "outputs": [],
   "source": [
    "def printing(data = 'asia'):\n",
    "    print(data)"
   ]
  },
  {
   "cell_type": "markdown",
   "metadata": {},
   "source": [
    "###  Creating a single process parallelly\n",
    "\n",
    "1. Need to used start to start the process \n",
    "2. Need to use join to wait for the program to stoop and when its done, close the program otherwise need to kill with the task manager"
   ]
  },
  {
   "cell_type": "code",
   "execution_count": null,
   "metadata": {},
   "outputs": [],
   "source": [
    "proc = mp.Process(target = printing)\n",
    "proc.start()\n",
    "proc.join()"
   ]
  },
  {
   "cell_type": "markdown",
   "metadata": {},
   "source": [
    "### Creating a multiple process all printing differnet names \n",
    "\n",
    "1. The following implementation may not work parallely as it waits afterward for ending of one process .. and than going to another loop"
   ]
  },
  {
   "cell_type": "code",
   "execution_count": null,
   "metadata": {},
   "outputs": [],
   "source": [
    "names = ['asia', 'africa', 'india', 'antarctica']\n",
    "for name in names:\n",
    "    proc = mp.Process(target = printing, args=(name,))\n",
    "    proc.start();\n",
    "    proc.join()"
   ]
  },
  {
   "cell_type": "markdown",
   "metadata": {},
   "source": [
    "2. The following implementaion may work as the process are waited for after all the process have started "
   ]
  },
  {
   "cell_type": "code",
   "execution_count": null,
   "metadata": {},
   "outputs": [],
   "source": [
    "names = ['asia', 'africa', 'india', 'antarctica']\n",
    "prolist = []\n",
    "for name in names:\n",
    "    proc = mp.Process(target = printing, args=(name,))\n",
    "    proc.start();\n",
    "    prolist.append(proc)\n",
    "    \n",
    "for proc in prolist:\n",
    "    proc.join()"
   ]
  },
  {
   "cell_type": "markdown",
   "metadata": {},
   "source": [
    "## For better demonstartion \n",
    "1. Below are some interating functions which are created for giving insights on more about the same problem as mentioned "
   ]
  },
  {
   "cell_type": "code",
   "execution_count": null,
   "metadata": {},
   "outputs": [],
   "source": [
    "def printing(fixed = 'my', data = 5):\n",
    "    for i in range(data): print(fixed, i)"
   ]
  },
  {
   "cell_type": "code",
   "execution_count": null,
   "metadata": {},
   "outputs": [],
   "source": [
    "for i in range(4):\n",
    "    proc = mp.Process(target = printing, args = ('data'+str(i),5,))\n",
    "    proc.start()\n",
    "    proc.join()\n"
   ]
  },
  {
   "cell_type": "markdown",
   "metadata": {},
   "source": [
    "2. Below is the correct implementation of process which are working multiple program"
   ]
  },
  {
   "cell_type": "code",
   "execution_count": null,
   "metadata": {},
   "outputs": [],
   "source": [
    "prolist = []\n",
    "for i in range(4):\n",
    "    proc = mp.Process(target = printing, args = ('data'+str(i),5,))\n",
    "    prolist.append(proc)\n",
    "    proc.start()\n",
    "    \n",
    "for proc in prolist:\n",
    "    proc.join()"
   ]
  },
  {
   "cell_type": "markdown",
   "metadata": {},
   "source": [
    "## Queue in Multiprocessing\n",
    "\n",
    "->this queue is used by multiprocessing library which keeps on waiting for get() until something is not being put() --> wheare as in normal queue(), this thing is not possible, it will simply say that the queue is empty.\n",
    "\n",
    "Wheaas same thing could be replicated like that of normal queue by queue().get_nowait()"
   ]
  },
  {
   "cell_type": "code",
   "execution_count": null,
   "metadata": {},
   "outputs": [],
   "source": [
    "import queue as Q\n",
    "queue = mp.Queue()\n",
    "for i in range(5):\n",
    "    queue.put(i)\n",
    "while not queue.empty():\n",
    "    print(queue.get())\n",
    "while(True):\n",
    "    try:\n",
    "        print(queue.get_nowait())\n",
    "    except Q.Empty:  #this acts like queue is ended \n",
    "        break"
   ]
  },
  {
   "cell_type": "markdown",
   "metadata": {},
   "source": [
    "### Lock\n",
    "\n",
    "--> if there are multipule process using same segment of code, then one can use lock so than only the one who aquired the lock can access the code.\n",
    "\n",
    "--> Remaining can only access the code only when realeased\n",
    "\n",
    "acquire() and release()"
   ]
  },
  {
   "cell_type": "code",
   "execution_count": null,
   "metadata": {},
   "outputs": [],
   "source": [
    "try:\n",
    "    print(\"nation\")\n",
    "except KeyboardInterrupt:\n",
    "    print(\"Intrupt\")\n",
    "else:\n",
    "    print(\" Else Statement Executed \")   # else statement occurs\n",
    "    #if there is no exception is found in try"
   ]
  },
  {
   "cell_type": "markdown",
   "metadata": {},
   "source": [
    "##### All the child process will get different process id if we include line 14 as there is a time sleep. Due to which the pc will shift its focus to another process meanwhile"
   ]
  },
  {
   "cell_type": "code",
   "execution_count": null,
   "metadata": {},
   "outputs": [],
   "source": [
    "import queue as Q\n",
    "import time\n",
    "def task_scheduler(done_process, to_be_done_process):\n",
    "    while True:\n",
    "        #will run until the process list is not empty\n",
    "        try:\n",
    "            task = to_be_done_process.get_nowait()\n",
    "        except Q.Empty:\n",
    "            break\n",
    "        else:\n",
    "            # will be executed if there is no exception \n",
    "            print(task, mp.current_process())\n",
    "            done_process.put(task)\n",
    "            time.sleep(0.5) #if there is a time --> then the process will shift to another\n",
    "            #since there is a waiting time --> theory confirmed"
   ]
  },
  {
   "cell_type": "code",
   "execution_count": null,
   "metadata": {},
   "outputs": [],
   "source": [
    "done_process = mp.Queue()\n",
    "to_be_done_process = mp.Queue()\n",
    "\n",
    "for i in range(10):\n",
    "    to_be_done_process.put(i)\n",
    "    \n",
    "processes = []\n",
    "for i in range(10):\n",
    "    proc = mp.Process(target= task_scheduler, args=(done_process, to_be_done_process))\n",
    "    processes.append(proc)\n",
    "    proc.start()\n",
    "    \n",
    "for proc in processes:\n",
    "    proc.join()\n",
    "\n",
    "while True:\n",
    "    try:\n",
    "        print(\" executed process {}\".format(done_process.get_nowait()))\n",
    "    except Q.Empty:\n",
    "        break"
   ]
  },
  {
   "cell_type": "markdown",
   "metadata": {},
   "source": [
    "## Pooling Process\n",
    "Basically dividing each of the process to multiple pools --> load balancing \n",
    "* the same is used for creating a pool of parallel process such that it keeps on accepting the argument till the list is not over."
   ]
  },
  {
   "cell_type": "code",
   "execution_count": null,
   "metadata": {},
   "outputs": [],
   "source": [
    "work = [['A',2],['B',3],['C',1],['D',2],['F',1],['G',1]]\n",
    "\n",
    "def workdone(working_data):\n",
    "    print('working for {} for timming {}'.format(working_data[0],working_data[1]))\n",
    "    print(mp.current_process())\n",
    "    time.sleep(working_data[1])\n",
    "    print(' Process finished {} with current id {}'.format(working_data[0], mp.current_process()))\n",
    "    return mp.current_process().pid"
   ]
  },
  {
   "cell_type": "code",
   "execution_count": null,
   "metadata": {},
   "outputs": [],
   "source": [
    "def pool_handler():\n",
    "    p = mp.Pool(3)  #means 2 process will be executing parallely\n",
    "    h = p.map(workdone, work)  #maping workdone function to argument work\n",
    "    print(list(h))\n",
    "pool_handler()"
   ]
  },
  {
   "cell_type": "markdown",
   "metadata": {},
   "source": [
    "### Testing if the same can be used with gym "
   ]
  },
  {
   "cell_type": "code",
   "execution_count": null,
   "metadata": {},
   "outputs": [],
   "source": [
    "import gym\n",
    "gym.logger.set_level(40)\n",
    "# from collections import namedtuple\n",
    "import multiprocessing as mp\n",
    "\n",
    "data_storage = mp.Queue()\n",
    "# exp = namedtuple('Experience',['process_id','next_state','reward'])\n"
   ]
  },
  {
   "cell_type": "code",
   "execution_count": null,
   "metadata": {},
   "outputs": [],
   "source": [
    "def worker(data_af):\n",
    "    data = []\n",
    "    exp = namedtuple('Experience',['process_id'])\n",
    "    print(\"Process started for pid \",mp.current_process().pid)\n",
    "    env = gym.make('CartPole-v0')\n",
    "    state = env.reset()\n",
    "    while True:\n",
    "        action = env.action_space.sample()\n",
    "        next_state, reward, done, _ = env.step(action)\n",
    "#         data.append(exp(mp.current_process(), next_state, reward))\n",
    "        data.append([mp.current_process().pid,next_state,reward])\n",
    "        state = next_state\n",
    "        if done:\n",
    "            break\n",
    "    data_af.put(data) "
   ]
  },
  {
   "cell_type": "code",
   "execution_count": null,
   "metadata": {},
   "outputs": [],
   "source": [
    "processes = []\n",
    "nos = 20\n",
    "for i in range(nos):\n",
    "    proc = mp.Process(target=worker, args=(data_storage,))\n",
    "    processes.append(proc)\n",
    "    proc.start()\n",
    "    \n",
    "for proc in processes:\n",
    "    proc.join()\n",
    "    \n",
    "while not data_storage.empty():\n",
    "    g  = data_storage.get_nowait()\n",
    "    print(len(g))\n",
    "    print()\n",
    "    print(g)\n",
    "    print()\n"
   ]
  },
  {
   "cell_type": "markdown",
   "metadata": {},
   "source": [
    "## Multiple rendering using multiple process"
   ]
  },
  {
   "cell_type": "code",
   "execution_count": null,
   "metadata": {},
   "outputs": [],
   "source": [
    "import gym\n",
    "gym.logger.set_level(40)\n",
    "# from collections import namedtuple\n",
    "import multiprocessing as mp\n",
    "# exp = namedtuple('Experience',['process_id','next_state','reward'])"
   ]
  },
  {
   "cell_type": "code",
   "execution_count": null,
   "metadata": {},
   "outputs": [],
   "source": [
    "data_storage = mp.Queue()\n",
    "def worker(data_af):\n",
    "    data = []\n",
    "    print(\"Process started for pid \",mp.current_process().pid)\n",
    "    env = gym.make('CartPole-v0')\n",
    "    for i in range(10):\n",
    "        state = env.reset()\n",
    "        while True:\n",
    "            env.render()\n",
    "            action = env.action_space.sample()\n",
    "            next_state, reward, done, _ = env.step(action)\n",
    "    #         data.append(exp(mp.current_process(), next_state, reward))\n",
    "            data.append([mp.current_process().pid,next_state,reward])\n",
    "            state = next_state\n",
    "            if done:\n",
    "                break\n",
    "        print('\\n {} length \\n'.format(len(data)))\n",
    "    env.close()\n",
    "    data_af.put(data)"
   ]
  },
  {
   "cell_type": "code",
   "execution_count": null,
   "metadata": {},
   "outputs": [],
   "source": [
    "processes = []\n",
    "nos = 1\n",
    "for i in range(nos):\n",
    "    proc = mp.Process(target=worker, args=(data_storage,))\n",
    "    processes.append(proc)\n",
    "    proc.start()\n",
    "    \n",
    "while not data_storage.empty():\n",
    "    g  = data_storage.get_nowait()\n",
    "    print(len(g))\n",
    "    print()\n",
    "    print(g)\n",
    "    print()\n",
    "    \n",
    "for proc in processes:\n",
    "    proc.join()"
   ]
  },
  {
   "cell_type": "markdown",
   "metadata": {},
   "source": [
    "* Data is not being passed from the queue as there is limit in queue ( the amount of data that can be stored in a queue at a time is fixed).\n",
    "* Thus before we can add the data, data should be removed so that function can be stored properly\n",
    "* Global datas are not acessible by the every child and parent. if any modifiction made by the child process may not be accessibe to parent process\n",
    "* We can use shared memeory such as queue, pipe, and manager."
   ]
  },
  {
   "cell_type": "markdown",
   "metadata": {},
   "source": [
    "## Communication using Manager "
   ]
  },
  {
   "cell_type": "markdown",
   "metadata": {},
   "source": [
    "* `Multiprocessing`, Whenever process starts, another set of process startes namely Manger process.\n",
    "* Any new process which parent process wants to create can be done by communicating with the manager.\n",
    "* The data which is stored and maintained by the manager is accessible by remaining remainied set of process.\n",
    "* Manger is not an effective way of communicaton\n",
    "* Thus for this `Queue` and `pipe` is always an effective way of communicaiton"
   ]
  },
  {
   "cell_type": "code",
   "execution_count": null,
   "metadata": {},
   "outputs": [],
   "source": [
    "## testing manager\n",
    "import multiprocessing as mp\n",
    "\n",
    "def printing(data):\n",
    "    print(' Printing {} by child process {}'.format(data,mp.current_process().pid))\n",
    "    \n",
    "def insert_record(record, records):\n",
    "    records.append(record)\n",
    "    \n",
    "with mp.Manager() as manager:\n",
    "    record = ['general',11]\n",
    "    records = manager.list([('Sam', 10), ('Adam', 9), ('Kevin',9)]) \n",
    "    p1 = mp.Process(target = insert_record, args=(record, records,))\n",
    "    p2 = mp.Process(target = printing, args=(record,))\n",
    "    p1.start()\n",
    "    p1.join()\n",
    "    p2.start()\n",
    "    p2.join()\n",
    "    print(records)\n",
    "    "
   ]
  },
  {
   "cell_type": "markdown",
   "metadata": {},
   "source": [
    "### Creating Multiple instance of gym environment parallely and storing in another process and making data globally available "
   ]
  },
  {
   "cell_type": "code",
   "execution_count": null,
   "metadata": {},
   "outputs": [],
   "source": [
    "import multiprocessing as mp\n",
    "from collections import namedtuple\n",
    "\n",
    "def worker(data_af):\n",
    "    print(\"Process started for pid \",mp.current_process().pid)\n",
    "    env = gym.make('CartPole-v0')\n",
    "    for i in range(10):\n",
    "        state = env.reset()\n",
    "        while True:\n",
    "            env.render()\n",
    "            action = env.action_space.sample()\n",
    "            next_state, reward, done, _ = env.step(action)\n",
    "    #         data.append(exp(mp.current_process(), next_state, reward))\n",
    "            data_af.append([mp.current_process().pid,state,next_state,reward,action])\n",
    "            state = next_state\n",
    "            if done:\n",
    "                break\n",
    "    env.close()"
   ]
  },
  {
   "cell_type": "code",
   "execution_count": null,
   "metadata": {},
   "outputs": [],
   "source": [
    "nos = 10\n",
    "process = []\n",
    "data = [] \n",
    "exp = namedtuple('Experience',['pid','state','next_state','reward','action'])\n",
    "with mp.Manager() as manager:\n",
    "    records = manager.list([]) \n",
    "    for i in range(nos):\n",
    "        proc = mp.Process(target = worker, args=(records,))\n",
    "        process.append(proc)\n",
    "        proc.start()\n",
    "    \n",
    "    for proc in process:\n",
    "        proc.join()\n",
    "\n",
    "    print(len(records))\n",
    "    data = [exp(x[0],x[1],x[2],x[3],x[4]) for x in records]"
   ]
  },
  {
   "cell_type": "markdown",
   "metadata": {},
   "source": [
    "## Pipes "
   ]
  },
  {
   "cell_type": "code",
   "execution_count": null,
   "metadata": {},
   "outputs": [],
   "source": [
    "import multiprocessing as mp"
   ]
  },
  {
   "cell_type": "code",
   "execution_count": null,
   "metadata": {},
   "outputs": [],
   "source": [
    "import multiprocessing as mp\n",
    "from collections import namedtuple\n",
    "import gym\n",
    "gym.logger.set_level(40)\n",
    "\n",
    "for_nos = 10\n",
    "\n",
    "def worker(env,child):\n",
    "    global for_nos \n",
    "    print(\"Process started for pid \",mp.current_process().pid)\n",
    "#     exp = namedtuple('experience',['state','next_state','reward','action','done'])\n",
    "    for i in range(for_nos):\n",
    "        state = env.reset()\n",
    "        while True:\n",
    "            action = env.action_space.sample()\n",
    "            next_state, reward, done, _ = env.step(action)\n",
    "            child.send([state, next_state, reward, action, done])\n",
    "            state = next_state\n",
    "            if done:\n",
    "                env.close()\n",
    "                break\n",
    "    env.close()"
   ]
  },
  {
   "cell_type": "code",
   "execution_count": null,
   "metadata": {},
   "outputs": [],
   "source": [
    "parent,child = mp.Pipe()\n",
    "env = gym.make('CartPole-v0')\n",
    "proc = mp.Process(target = worker, args = (env,child,))\n",
    "proc.start()\n",
    "for i in range(10):\n",
    "    while True:\n",
    "        data = parent.recv()\n",
    "        print(data)\n",
    "        if data[-1] is True:\n",
    "            break\n",
    "proc.join()"
   ]
  },
  {
   "cell_type": "markdown",
   "metadata": {},
   "source": [
    "### Process to run multiple processes and collect data in one part\n",
    "\n",
    "* The following code will first aggrigate all the data of single interation from multiplie process and then insert it into a single list\n",
    "* The same can be used for A2C Reinforcmet Policy Network"
   ]
  },
  {
   "cell_type": "code",
   "execution_count": null,
   "metadata": {},
   "outputs": [],
   "source": [
    "import multiprocessing as mp\n",
    "from collections import namedtuple\n",
    "import gym\n",
    "gym.logger.set_level(40)\n",
    "\n",
    "for_nos = 10\n",
    "\n",
    "def worker(env,child):\n",
    "    global for_nos \n",
    "    print(\"Process started for pid \",mp.current_process().pid)\n",
    "    for i in range(for_nos):\n",
    "        state = env.reset()\n",
    "        while True:\n",
    "            action = env.action_space.sample()\n",
    "            next_state, reward, done, _ = env.step(action)\n",
    "            child.send([state, next_state, reward, action, done])\n",
    "            state = next_state\n",
    "            if done:\n",
    "                env.close()\n",
    "                break\n",
    "    env.close()"
   ]
  },
  {
   "cell_type": "code",
   "execution_count": null,
   "metadata": {},
   "outputs": [],
   "source": [
    "nos = 50\n",
    "process = []\n",
    "parent_collection = []\n",
    "main_data = [] \n",
    "for i in range(nos):\n",
    "    parenti,child = mp.Pipe()\n",
    "    env = gym.make('CartPole-v0')\n",
    "    proc = mp.Process(target = worker, args = (env,child,))\n",
    "    proc.daemon = True\n",
    "    proc.start()\n",
    "    process.append(proc)\n",
    "    parent_collection.append(parenti)\n",
    "\n",
    "flag = True\n",
    "while flag:\n",
    "    try:\n",
    "        main_data.append([data.recv() for data in parent_collection])\n",
    "    except EOFError:\n",
    "        break\n"
   ]
  },
  {
   "cell_type": "code",
   "execution_count": null,
   "metadata": {},
   "outputs": [],
   "source": [
    "main_data[0]"
   ]
  },
  {
   "cell_type": "markdown",
   "metadata": {},
   "source": [
    "## Testing "
   ]
  },
  {
   "cell_type": "code",
   "execution_count": 1,
   "metadata": {},
   "outputs": [],
   "source": [
    "import multiprocessing as mp\n",
    "from collections import namedtuple\n",
    "import gym\n",
    "gym.logger.set_level(40)\n",
    "\n",
    "for_nos = 10\n",
    "\n",
    "def worker(env,child):\n",
    "    global for_nos \n",
    "    count = 0\n",
    "    print(\"Process started for pid \",mp.current_process().pid)\n",
    "    for i in range(for_nos):\n",
    "        state = env.reset()\n",
    "        while True:\n",
    "            action = env.action_space.sample()\n",
    "            next_state, reward, done, _ = env.step(action)\n",
    "            child.send([state, next_state, reward, action, done])\n",
    "            state = next_state\n",
    "            if done:\n",
    "                count += 1\n",
    "                child.send([count])\n",
    "                env.close()\n",
    "                break\n",
    "    env.close()"
   ]
  },
  {
   "cell_type": "code",
   "execution_count": null,
   "metadata": {},
   "outputs": [],
   "source": [
    "nos = 50\n",
    "process = []\n",
    "parent_collection = []\n",
    "main_data = [] \n",
    "for i in range(nos):\n",
    "    parenti,child = mp.Pipe()\n",
    "    env = gym.make('CartPole-v0')\n",
    "    proc = mp.Process(target = worker, args = (env,child,))\n",
    "    proc.daemon = True\n",
    "    proc.start()\n",
    "    process.append(proc)\n",
    "    parent_collection.append(parenti)\n",
    "\n",
    "flag = True\n",
    "while flag:\n",
    "    try:\n",
    "        main_data.append([data.recv() for data in parent_collection])\n",
    "    except EOFError:\n",
    "        break\n"
   ]
  },
  {
   "cell_type": "code",
   "execution_count": null,
   "metadata": {},
   "outputs": [],
   "source": [
    "flag = True:\n",
    "while flag:\n",
    "    try:\n",
    "        for para in parent_collection:\n",
    "            temp = data.recv()\n",
    "            if()\n",
    "        "
   ]
  }
 ],
 "metadata": {
  "kernelspec": {
   "display_name": "Python 3",
   "language": "python",
   "name": "python3"
  },
  "language_info": {
   "codemirror_mode": {
    "name": "ipython",
    "version": 3
   },
   "file_extension": ".py",
   "mimetype": "text/x-python",
   "name": "python",
   "nbconvert_exporter": "python",
   "pygments_lexer": "ipython3",
   "version": "3.7.3"
  }
 },
 "nbformat": 4,
 "nbformat_minor": 2
}
