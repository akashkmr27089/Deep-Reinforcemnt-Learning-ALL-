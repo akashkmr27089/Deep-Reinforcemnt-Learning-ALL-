{
 "cells": [
  {
   "cell_type": "markdown",
   "metadata": {},
   "source": [
    "## Multiprocessing "
   ]
  },
  {
   "cell_type": "code",
   "execution_count": 1,
   "metadata": {},
   "outputs": [
    {
     "name": "stdout",
     "output_type": "stream",
     "text": [
      "number of cpu : 8\n"
     ]
    }
   ],
   "source": [
    "import multiprocessing as mp\n",
    "print(\"number of cpu :\", mp.cpu_count())"
   ]
  },
  {
   "cell_type": "code",
   "execution_count": 2,
   "metadata": {},
   "outputs": [],
   "source": [
    "def printing(data = 'asia'):\n",
    "    print(data)"
   ]
  },
  {
   "cell_type": "markdown",
   "metadata": {},
   "source": [
    "###  Creating a single process parallelly\n",
    "\n",
    "1. Need to used start to start the process \n",
    "2. Need to use join to wait for the program to stoop and when its done, close the program otherwise need to kill with the task manager"
   ]
  },
  {
   "cell_type": "code",
   "execution_count": 3,
   "metadata": {},
   "outputs": [
    {
     "name": "stdout",
     "output_type": "stream",
     "text": [
      "asia\n"
     ]
    }
   ],
   "source": [
    "proc = mp.Process(target = printing)\n",
    "proc.start()\n",
    "proc.join()"
   ]
  },
  {
   "cell_type": "markdown",
   "metadata": {},
   "source": [
    "### Creating a multiple process all printing differnet names \n",
    "\n",
    "1. The following implementation may not work parallely as it waits afterward for ending of one process .. and than going to another loop"
   ]
  },
  {
   "cell_type": "code",
   "execution_count": 4,
   "metadata": {},
   "outputs": [
    {
     "name": "stdout",
     "output_type": "stream",
     "text": [
      "asia\n",
      "africa\n",
      "india\n",
      "antarctica\n"
     ]
    }
   ],
   "source": [
    "names = ['asia', 'africa', 'india', 'antarctica']\n",
    "for name in names:\n",
    "    proc = mp.Process(target = printing, args=(name,))\n",
    "    proc.start();\n",
    "    proc.join()"
   ]
  },
  {
   "cell_type": "markdown",
   "metadata": {},
   "source": [
    "2. The following implementaion may work as the process are waited for after all the process have started "
   ]
  },
  {
   "cell_type": "code",
   "execution_count": 5,
   "metadata": {},
   "outputs": [
    {
     "name": "stdout",
     "output_type": "stream",
     "text": [
      "asia\n",
      "africa\n",
      "india\n",
      "antarctica\n"
     ]
    }
   ],
   "source": [
    "names = ['asia', 'africa', 'india', 'antarctica']\n",
    "prolist = []\n",
    "for name in names:\n",
    "    proc = mp.Process(target = printing, args=(name,))\n",
    "    proc.start();\n",
    "    prolist.append(proc)\n",
    "    \n",
    "for proc in prolist:\n",
    "    proc.join()"
   ]
  },
  {
   "cell_type": "markdown",
   "metadata": {},
   "source": [
    "## For better demonstartion \n",
    "1. Below are some interating functions which are created for giving insights on more about the same problem as mentioned "
   ]
  },
  {
   "cell_type": "code",
   "execution_count": 6,
   "metadata": {},
   "outputs": [],
   "source": [
    "def printing(fixed = 'my', data = 5):\n",
    "    for i in range(data): print(fixed, i)"
   ]
  },
  {
   "cell_type": "code",
   "execution_count": 7,
   "metadata": {},
   "outputs": [
    {
     "name": "stdout",
     "output_type": "stream",
     "text": [
      "data0 0\n",
      "data0 1\n",
      "data0 2\n",
      "data0 3\n",
      "data0 4\n",
      "data1 0\n",
      "data1 1\n",
      "data1 2\n",
      "data1 3\n",
      "data1 4\n",
      "data2 0\n",
      "data2 1\n",
      "data2 2\n",
      "data2 3\n",
      "data2 4\n",
      "data3 0\n",
      "data3 1\n",
      "data3 2\n",
      "data3 3\n",
      "data3 4\n"
     ]
    }
   ],
   "source": [
    "for i in range(4):\n",
    "    proc = mp.Process(target = printing, args = ('data'+str(i),5,))\n",
    "    proc.start()\n",
    "    proc.join()\n"
   ]
  },
  {
   "cell_type": "markdown",
   "metadata": {},
   "source": [
    "2. Below is the correct implementation of process which are working multiple program"
   ]
  },
  {
   "cell_type": "code",
   "execution_count": 8,
   "metadata": {},
   "outputs": [
    {
     "name": "stdout",
     "output_type": "stream",
     "text": [
      "data0 0\n",
      "data0 1\n",
      "data0 2\n",
      "data1 0\n",
      "data0 3\n",
      "data1 1\n",
      "data0 4\n",
      "data2 0\n",
      "data1 2\n",
      "data2 1\n",
      "data3 0\n",
      "data2 2\n",
      "data3 1\n",
      "data1 3\n",
      "data2 3\n",
      "data1 4\n",
      "data3 2\n",
      "data2 4\n",
      "data3 3\n",
      "data3 4\n"
     ]
    }
   ],
   "source": [
    "prolist = []\n",
    "for i in range(4):\n",
    "    proc = mp.Process(target = printing, args = ('data'+str(i),5,))\n",
    "    prolist.append(proc)\n",
    "    proc.start()\n",
    "    \n",
    "for proc in prolist:\n",
    "    proc.join()"
   ]
  },
  {
   "cell_type": "markdown",
   "metadata": {},
   "source": [
    "## Queue in Multiprocessing\n",
    "\n",
    "->this queue is used by multiprocessing library which keeps on waiting for get() until something is not being put() --> wheare as in normal queue(), this thing is not possible, it will simply say that the queue is empty.\n",
    "\n",
    "Wheaas same thing could be replicated like that of normal queue by queue().get_nowait()"
   ]
  },
  {
   "cell_type": "code",
   "execution_count": 9,
   "metadata": {},
   "outputs": [],
   "source": [
    "import queue as Q\n",
    "queue = mp.Queue()\n",
    "for i in range(5):\n",
    "    queue.put(i)\n",
    "while not queue.empty():\n",
    "    print(queue.get())\n",
    "while(True):\n",
    "    try:\n",
    "        print(queue.get_nowait())\n",
    "    except Q.Empty:  #this acts like queue is ended \n",
    "        break"
   ]
  },
  {
   "cell_type": "markdown",
   "metadata": {},
   "source": [
    "### Lock\n",
    "\n",
    "--> if there are multipule process using same segment of code, then one can use lock so than only the one who aquired the lock can access the code.\n",
    "\n",
    "--> Remaining can only access the code only when realeased\n",
    "\n",
    "acquire() and release()"
   ]
  },
  {
   "cell_type": "code",
   "execution_count": 10,
   "metadata": {},
   "outputs": [
    {
     "name": "stdout",
     "output_type": "stream",
     "text": [
      "nation\n",
      " Else Statement Executed \n"
     ]
    }
   ],
   "source": [
    "try:\n",
    "    print(\"nation\")\n",
    "except KeyboardInterrupt:\n",
    "    print(\"Intrupt\")\n",
    "else:\n",
    "    print(\" Else Statement Executed \")   # else statement occurs\n",
    "    #if there is no exception is found in try"
   ]
  },
  {
   "cell_type": "markdown",
   "metadata": {},
   "source": [
    "##### All the child process will get different process id if we include line 14 as there is a time sleep. Due to which the pc will shift its focus to another process meanwhile"
   ]
  },
  {
   "cell_type": "code",
   "execution_count": 23,
   "metadata": {},
   "outputs": [],
   "source": [
    "import queue as Q\n",
    "import time\n",
    "def task_scheduler(done_process, to_be_done_process):\n",
    "    while True:\n",
    "        #will run until the process list is not empty\n",
    "        try:\n",
    "            task = to_be_done_process.get_nowait()\n",
    "        except Q.Empty:\n",
    "            break\n",
    "        else:\n",
    "            # will be executed if there is no exception \n",
    "            print(task, mp.current_process())\n",
    "            done_process.put(task)\n",
    "            time.sleep(0.5) #if there is a time --> then the process will shift to another\n",
    "            #since there is a waiting time --> theory confirmed"
   ]
  },
  {
   "cell_type": "code",
   "execution_count": 22,
   "metadata": {},
   "outputs": [
    {
     "name": "stdout",
     "output_type": "stream",
     "text": [
      "0 <Process(Process-58, started)>\n",
      "1 <Process(Process-59, started)>\n",
      "2 <Process(Process-60, started)>\n",
      "3 <Process(Process-61, started)>\n",
      "4 <Process(Process-62, started)>\n",
      "5 <Process(Process-63, started)>\n",
      "6 <Process(Process-64, started)>\n",
      "7 <Process(Process-65, started)>\n",
      "8 <Process(Process-66, started)>\n",
      "9 <Process(Process-67, started)>\n",
      " executed process 0\n",
      " executed process 1\n",
      " executed process 2\n",
      " executed process 3\n",
      " executed process 4\n",
      " executed process 5\n",
      " executed process 6\n",
      " executed process 7\n",
      " executed process 8\n",
      " executed process 9\n"
     ]
    }
   ],
   "source": [
    "done_process = mp.Queue()\n",
    "to_be_done_process = mp.Queue()\n",
    "\n",
    "for i in range(10):\n",
    "    to_be_done_process.put(i)\n",
    "    \n",
    "processes = []\n",
    "for i in range(10):\n",
    "    proc = mp.Process(target= task_scheduler, args=(done_process, to_be_done_process))\n",
    "    processes.append(proc)\n",
    "    proc.start()\n",
    "    \n",
    "for proc in processes:\n",
    "    proc.join()\n",
    "\n",
    "while True:\n",
    "    try:\n",
    "        print(\" executed process {}\".format(done_process.get_nowait()))\n",
    "    except Q.Empty:\n",
    "        break"
   ]
  },
  {
   "cell_type": "markdown",
   "metadata": {},
   "source": [
    "## Pooling Process\n",
    "Basically dividing each of the process to multiple pools --> load balancing \n",
    "* the same is used for creating a pool of parallel process such that it keeps on accepting the argument till the list is not over."
   ]
  },
  {
   "cell_type": "code",
   "execution_count": 207,
   "metadata": {},
   "outputs": [],
   "source": [
    "work = [['A',2],['B',3],['C',1],['D',2],['F',1],['G',1]]\n",
    "\n",
    "def workdone(working_data):\n",
    "    print('working for {} for timming {}'.format(working_data[0],working_data[1]))\n",
    "    print(mp.current_process())\n",
    "    time.sleep(working_data[1])\n",
    "    print(' Process finished {} with current id {}'.format(working_data[0], mp.current_process()))\n",
    "    return mp.current_process().pid"
   ]
  },
  {
   "cell_type": "code",
   "execution_count": 208,
   "metadata": {},
   "outputs": [
    {
     "name": "stdout",
     "output_type": "stream",
     "text": [
      "working for B for timming 3\n",
      "working for A for timming 2\n",
      "working for C for timming 1\n",
      "<ForkProcess(ForkPoolWorker-1174, started daemon)>\n",
      "<ForkProcess(ForkPoolWorker-1176, started daemon)>\n",
      "<ForkProcess(ForkPoolWorker-1175, started daemon)>\n",
      " Process finished C with current id <ForkProcess(ForkPoolWorker-1176, started daemon)>\n",
      "working for D for timming 2\n",
      "<ForkProcess(ForkPoolWorker-1176, started daemon)>\n",
      " Process finished A with current id <ForkProcess(ForkPoolWorker-1174, started daemon)>\n",
      "working for F for timming 1\n",
      "<ForkProcess(ForkPoolWorker-1174, started daemon)>\n",
      " Process finished B with current id <ForkProcess(ForkPoolWorker-1175, started daemon)>\n",
      "working for G for timming 1\n",
      "<ForkProcess(ForkPoolWorker-1175, started daemon)>\n",
      " Process finished F with current id <ForkProcess(ForkPoolWorker-1174, started daemon)>\n",
      " Process finished D with current id <ForkProcess(ForkPoolWorker-1176, started daemon)>\n",
      " Process finished G with current id <ForkProcess(ForkPoolWorker-1175, started daemon)>\n",
      "[26525, 26526, 26527, 26527, 26525, 26526]\n"
     ]
    },
    {
     "name": "stderr",
     "output_type": "stream",
     "text": [
      "Process ForkPoolWorker-1175:\n",
      "Process ForkPoolWorker-1174:\n",
      "Process ForkPoolWorker-1176:\n",
      "  File \"/home/oxygen/anaconda3/lib/python3.7/multiprocessing/process.py\", line 297, in _bootstrap\n",
      "    self.run()\n",
      "Traceback (most recent call last):\n",
      "Traceback (most recent call last):\n",
      "Traceback (most recent call last):\n",
      "  File \"/home/oxygen/anaconda3/lib/python3.7/multiprocessing/process.py\", line 297, in _bootstrap\n",
      "    self.run()\n",
      "  File \"/home/oxygen/anaconda3/lib/python3.7/multiprocessing/process.py\", line 297, in _bootstrap\n",
      "    self.run()\n",
      "  File \"/home/oxygen/anaconda3/lib/python3.7/multiprocessing/process.py\", line 99, in run\n",
      "    self._target(*self._args, **self._kwargs)\n",
      "  File \"/home/oxygen/anaconda3/lib/python3.7/multiprocessing/process.py\", line 99, in run\n",
      "    self._target(*self._args, **self._kwargs)\n",
      "  File \"/home/oxygen/anaconda3/lib/python3.7/multiprocessing/pool.py\", line 110, in worker\n",
      "    task = get()\n",
      "  File \"/home/oxygen/anaconda3/lib/python3.7/multiprocessing/pool.py\", line 110, in worker\n",
      "    task = get()\n",
      "  File \"/home/oxygen/anaconda3/lib/python3.7/multiprocessing/process.py\", line 99, in run\n",
      "    self._target(*self._args, **self._kwargs)\n",
      "  File \"/home/oxygen/anaconda3/lib/python3.7/multiprocessing/queues.py\", line 352, in get\n",
      "    res = self._reader.recv_bytes()\n",
      "  File \"/home/oxygen/anaconda3/lib/python3.7/multiprocessing/pool.py\", line 110, in worker\n",
      "    task = get()\n",
      "  File \"/home/oxygen/anaconda3/lib/python3.7/multiprocessing/queues.py\", line 351, in get\n",
      "    with self._rlock:\n",
      "  File \"/home/oxygen/anaconda3/lib/python3.7/multiprocessing/queues.py\", line 351, in get\n",
      "    with self._rlock:\n",
      "  File \"/home/oxygen/anaconda3/lib/python3.7/multiprocessing/connection.py\", line 216, in recv_bytes\n",
      "    buf = self._recv_bytes(maxlength)\n",
      "  File \"/home/oxygen/anaconda3/lib/python3.7/multiprocessing/synchronize.py\", line 95, in __enter__\n",
      "    return self._semlock.__enter__()\n",
      "  File \"/home/oxygen/anaconda3/lib/python3.7/multiprocessing/synchronize.py\", line 95, in __enter__\n",
      "    return self._semlock.__enter__()\n",
      "  File \"/home/oxygen/anaconda3/lib/python3.7/multiprocessing/connection.py\", line 407, in _recv_bytes\n",
      "    buf = self._recv(4)\n",
      "  File \"/home/oxygen/anaconda3/lib/python3.7/multiprocessing/connection.py\", line 379, in _recv\n",
      "    chunk = read(handle, remaining)\n",
      "KeyboardInterrupt\n",
      "KeyboardInterrupt\n",
      "KeyboardInterrupt\n"
     ]
    }
   ],
   "source": [
    "def pool_handler():\n",
    "    p = mp.Pool(3)  #means 2 process will be executing parallely\n",
    "    h = p.map(workdone, work)  #maping workdone function to argument work\n",
    "    print(list(h))\n",
    "pool_handler()"
   ]
  },
  {
   "cell_type": "markdown",
   "metadata": {},
   "source": [
    "### Testing if the same can be used with gym "
   ]
  },
  {
   "cell_type": "code",
   "execution_count": 192,
   "metadata": {},
   "outputs": [],
   "source": [
    "import gym\n",
    "gym.logger.set_level(40)\n",
    "# from collections import namedtuple\n",
    "import multiprocessing as mp\n",
    "\n",
    "data_storage = mp.Queue()\n",
    "# exp = namedtuple('Experience',['process_id','next_state','reward'])\n"
   ]
  },
  {
   "cell_type": "code",
   "execution_count": 193,
   "metadata": {},
   "outputs": [],
   "source": [
    "def worker(data_af):\n",
    "    data = []\n",
    "    exp = namedtuple('Experience',['process_id'])\n",
    "    print(\"Process started for pid \",mp.current_process().pid)\n",
    "    env = gym.make('CartPole-v0')\n",
    "    state = env.reset()\n",
    "    while True:\n",
    "        action = env.action_space.sample()\n",
    "        next_state, reward, done, _ = env.step(action)\n",
    "#         data.append(exp(mp.current_process(), next_state, reward))\n",
    "        data.append([mp.current_process().pid,next_state,reward])\n",
    "        state = next_state\n",
    "        if done:\n",
    "            break\n",
    "    data_af.put(data) "
   ]
  },
  {
   "cell_type": "code",
   "execution_count": 194,
   "metadata": {},
   "outputs": [
    {
     "name": "stdout",
     "output_type": "stream",
     "text": [
      "Process started for pid  26255\n",
      "Process started for pid  26258\n",
      "Process started for pid  26259\n",
      "Process started for pid  26264\n",
      "Process started for pid  26267\n",
      "Process started for pid  26270\n",
      "Process started for pid  26277\n",
      "Process started for pid  26273\n",
      "Process started for pid  26283\n",
      "Process started for pid  26286\n",
      "Process started for pid  26289\n",
      "Process started for pid  26298\n",
      "Process started for pid  26292\n",
      "Process started for pid  26294\n",
      "Process started for pid  26306\n",
      "Process started for pid  26307\n",
      "Process started for pid  26316\n",
      "Process started for pid  26311\n",
      "Process started for pid  26314\n",
      "Process started for pid  26324\n",
      "8\n",
      "\n",
      "[[26255, array([ 0.02186186, -0.23642184,  0.04666768,  0.34097024]), 1.0], [26255, array([ 0.01713342, -0.43217564,  0.05348708,  0.64799657]), 1.0], [26255, array([ 0.00848991, -0.62800036,  0.06644701,  0.95703128]), 1.0], [26255, array([-0.0040701 , -0.82394991,  0.08558764,  1.26982803]), 1.0], [26255, array([-0.0205491 , -1.020054  ,  0.1109842 ,  1.58803949]), 1.0], [26255, array([-0.04095018, -1.21630593,  0.14274499,  1.91316866]), 1.0], [26255, array([-0.0652763 , -1.4126486 ,  0.18100836,  2.24651189]), 1.0], [26255, array([-0.09352927, -1.21963756,  0.2259386 ,  2.01465158]), 1.0]]\n",
      "\n",
      "28\n",
      "\n",
      "[[26258, array([-0.01229775,  0.19033194, -0.0292453 , -0.28309597]), 1.0], [26258, array([-0.00849111,  0.38585855, -0.03490722, -0.58485737]), 1.0], [26258, array([-7.73943234e-04,  5.81451636e-01, -4.66043678e-02, -8.88328908e-01]), 1.0], [26258, array([ 0.01085509,  0.77717404, -0.06437095, -1.19529048]), 1.0], [26258, array([ 0.02639857,  0.97306765, -0.08827676, -1.5074343 ]), 1.0], [26258, array([ 0.04585992,  0.77912   , -0.11842544, -1.24356531]), 1.0], [26258, array([ 0.06144232,  0.58569991, -0.14329675, -0.99020303]), 1.0], [26258, array([ 0.07315632,  0.39275634, -0.16310081, -0.74573922]), 1.0], [26258, array([ 0.08101145,  0.20021559, -0.17801559, -0.50850037]), 1.0], [26258, array([ 0.08501576,  0.00798941, -0.1881856 , -0.27677833]), 1.0], [26258, array([ 0.08517555, -0.18401923, -0.19372117, -0.04885074]), 1.0], [26258, array([ 0.08149516, -0.37591201, -0.19469818,  0.17700583]), 1.0], [26258, array([ 0.07397692, -0.17861411, -0.19115807, -0.17022973]), 1.0], [26258, array([ 0.07040464, -0.37055925, -0.19456266,  0.0565847 ]), 1.0], [26258, array([ 0.06299346, -0.17325711, -0.19343097, -0.29062577]), 1.0], [26258, array([ 0.05952831, -0.36517062, -0.19924348, -0.06463889]), 1.0], [26258, array([ 0.0522249 , -0.55696119, -0.20053626,  0.15916478]), 1.0], [26258, array([ 0.04108568, -0.7487318 , -0.19735296,  0.38249274]), 1.0], [26258, array([ 0.02611104, -0.94058463, -0.18970311,  0.60704006]), 1.0], [26258, array([ 0.00729935, -1.13261893, -0.17756231,  0.83448513]), 1.0], [26258, array([-0.01535303, -0.93557348, -0.1608726 ,  0.49163469]), 1.0], [26258, array([-0.0340645 , -0.73859156, -0.15103991,  0.15288419]), 1.0], [26258, array([-0.04883633, -0.54166593, -0.14798223, -0.1833784 ]), 1.0], [26258, array([-0.05966965, -0.34477058, -0.1516498 , -0.51884166]), 1.0], [26258, array([-0.06656506, -0.14787541, -0.16202663, -0.85520916]), 1.0], [26258, array([-0.06952257,  0.04903972, -0.17913081, -1.19414085]), 1.0], [26258, array([-0.06854177,  0.24597074, -0.20301363, -1.53719398]), 1.0], [26258, array([-0.06362236,  0.0537878 , -0.23375751, -1.31411661]), 1.0]]\n",
      "\n",
      "13\n",
      "\n",
      "[[26259, array([ 0.04602605, -0.16539506,  0.03977457,  0.28589898]), 1.0], [26259, array([ 0.04271815, -0.36106103,  0.04549255,  0.59085644]), 1.0], [26259, array([ 0.03549693, -0.16660454,  0.05730968,  0.31284369]), 1.0], [26259, array([ 0.03216484, -0.3624941 ,  0.06356656,  0.62303546]), 1.0], [26259, array([ 0.02491496, -0.16831461,  0.07602726,  0.35103047]), 1.0], [26259, array([ 0.02154867, -0.36443079,  0.08304787,  0.66668546]), 1.0], [26259, array([ 0.01426005, -0.17055605,  0.09638158,  0.40126364]), 1.0], [26259, array([ 0.01084893, -0.36690354,  0.10440686,  0.72271031]), 1.0], [26259, array([ 0.00351086, -0.56330279,  0.11886106,  1.04634484]), 1.0], [26259, array([-0.0077552 , -0.75978456,  0.13978796,  1.37385095]), 1.0], [26259, array([-0.02295089, -0.95634946,  0.16726498,  1.70678618]), 1.0], [26259, array([-0.04207788, -0.7634998 ,  0.2014007 ,  1.47049578]), 1.0], [26259, array([-0.05734787, -0.57132943,  0.23081062,  1.24687896]), 1.0]]\n",
      "\n",
      "17\n",
      "\n",
      "[[26264, array([ 0.0490162 ,  0.20293225, -0.00499945, -0.31778196]), 1.0], [26264, array([ 0.05307485,  0.00788186, -0.01135509, -0.02667986]), 1.0], [26264, array([ 0.05323248, -0.18707543, -0.01188868,  0.26239889]), 1.0], [26264, array([ 0.04949097, -0.38202568, -0.00664071,  0.55130841]), 1.0], [26264, array([ 0.04185046, -0.57705373,  0.00438546,  0.84189169]), 1.0], [26264, array([ 0.03030939, -0.77223527,  0.0212233 ,  1.1359505 ]), 1.0], [26264, array([ 0.01486468, -0.5773973 ,  0.04394231,  0.84999855]), 1.0], [26264, array([ 0.00331673, -0.38290124,  0.06094228,  0.57145095]), 1.0], [26264, array([-0.00434129, -0.18868444,  0.0723713 ,  0.29857251]), 1.0], [26264, array([-0.00811498, -0.38475938,  0.07834275,  0.61317362]), 1.0], [26264, array([-0.01581017, -0.1908146 ,  0.09060622,  0.34615797]), 1.0], [26264, array([-0.01962646, -0.38710071,  0.09752938,  0.66598121]), 1.0], [26264, array([-0.02736847, -0.58343417,  0.110849  ,  0.98771008]), 1.0], [26264, array([-0.03903716, -0.77985171,  0.1306032 ,  1.31305103]), 1.0], [26264, array([-0.05463419, -0.97636254,  0.15686422,  1.64359519]), 1.0], [26264, array([-0.07416144, -0.78338641,  0.18973613,  1.40361421]), 1.0], [26264, array([-0.08982917, -0.59105878,  0.21780841,  1.17574835]), 1.0]]\n",
      "\n",
      "21\n",
      "\n",
      "[[26270, array([-0.04827848,  0.23982134,  0.02630979, -0.32454065]), 1.0], [26270, array([-0.04348206,  0.04433485,  0.01981898, -0.02367821]), 1.0], [26270, array([-0.04259536, -0.15106564,  0.01934541,  0.27519136]), 1.0], [26270, array([-0.04561667,  0.04377504,  0.02484924, -0.01132777]), 1.0], [26270, array([-0.04474117, -0.15169431,  0.02462268,  0.28909065]), 1.0], [26270, array([-0.04777506,  0.04306803,  0.0304045 ,  0.00427404]), 1.0], [26270, array([-0.0469137 ,  0.23774104,  0.03048998, -0.27866297]), 1.0], [26270, array([-0.04215888,  0.0421977 ,  0.02491672,  0.02347838]), 1.0], [26270, array([-0.04131492,  0.23695362,  0.02538629, -0.26124007]), 1.0], [26270, array([-0.03657585,  0.43170416,  0.02016149, -0.54580898]), 1.0], [26270, array([-0.02794177,  0.62653711,  0.00924531, -0.83207194]), 1.0], [26270, array([-0.01541102,  0.8215315 , -0.00739613, -1.12183294]), 1.0], [26270, array([ 1.01960638e-03,  1.01674966e+00, -2.98327916e-02, -1.41682661e+00]), 1.0], [26270, array([ 0.0213546 ,  0.82200956, -0.05816932, -1.13361598]), 1.0], [26270, array([ 0.03779479,  1.01784255, -0.08084164, -1.44396076]), 1.0], [26270, array([ 0.05815164,  0.82380326, -0.10972086, -1.17759397]), 1.0], [26270, array([ 0.07462771,  0.63026392, -0.13327274, -0.92122393]), 1.0], [26270, array([ 0.08723299,  0.82691057, -0.15169722, -1.2526445 ]), 1.0], [26270, array([ 0.1037712 ,  0.63402193, -0.17675011, -1.01106235]), 1.0], [26270, array([ 0.11645164,  0.44164221, -0.19697135, -0.77868298]), 1.0], [26270, array([ 0.12528448,  0.63884811, -0.21254501, -1.12630785]), 1.0]]\n",
      "\n",
      "11\n",
      "\n",
      "[[26277, array([-0.02527338, -0.23347622, -0.02541736,  0.23828959]), 1.0], [26277, array([-0.02994291, -0.42822601, -0.02065156,  0.52284802]), 1.0], [26277, array([-0.03850743, -0.6230513 , -0.0101946 ,  0.80895251]), 1.0], [26277, array([-0.05096845, -0.81803208,  0.00598445,  1.09841132]), 1.0], [26277, array([-0.0673291 , -1.0132323 ,  0.02795267,  1.39296582]), 1.0], [26277, array([-0.08759374, -0.81846924,  0.05581199,  1.10915239]), 1.0], [26277, array([-0.10396313, -1.01427842,  0.07799504,  1.41880903]), 1.0], [26277, array([-0.1242487 , -1.21027432,  0.10637122,  1.73481641]), 1.0], [26277, array([-0.14845418, -1.40643678,  0.14106755,  2.05861121]), 1.0], [26277, array([-0.17658292, -1.21300968,  0.18223977,  1.81268912]), 1.0], [26277, array([-0.20084311, -1.40963421,  0.21849355,  2.15602424]), 1.0]]\n",
      "\n",
      "15\n",
      "\n",
      "[[26267, array([-0.04255672,  0.16338411, -0.0398635 , -0.34254628]), 1.0], [26267, array([-0.03928904, -0.0311487 , -0.04671443, -0.06269565]), 1.0], [26267, array([-0.03991201,  0.16461082, -0.04796834, -0.36974364]), 1.0], [26267, array([-0.03661979,  0.36038032, -0.05536321, -0.67715739]), 1.0], [26267, array([-0.02941219,  0.556226  , -0.06890636, -0.9867443 ]), 1.0], [26267, array([-0.01828767,  0.36209108, -0.08864125, -0.71647541]), 1.0], [26267, array([-0.01104584,  0.16830052, -0.10297076, -0.45295723]), 1.0], [26267, array([-0.00767983,  0.36471638, -0.1120299 , -0.77624039]), 1.0], [26267, array([-3.85507063e-04,  1.71298855e-01, -1.27554709e-01, -5.20800780e-01]), 1.0], [26267, array([ 0.00304047,  0.36796382, -0.13797072, -0.85080113]), 1.0], [26267, array([ 0.01039975,  0.17496555, -0.15498675, -0.6044896 ]), 1.0], [26267, array([ 0.01389906,  0.37187645, -0.16707654, -0.94169946]), 1.0], [26267, array([ 0.02133659,  0.17935199, -0.18591053, -0.70582638]), 1.0], [26267, array([ 0.02492363,  0.37649647, -0.20002706, -1.05079078]), 1.0], [26267, array([ 0.03245356,  0.57362768, -0.22104287, -1.39900834]), 1.0]]\n",
      "\n",
      "22\n",
      "\n",
      "[[26273, array([-0.04532536,  0.18829802,  0.03199314, -0.28373823]), 1.0], [26273, array([-0.0415594 ,  0.38294939,  0.02631838, -0.5661615 ]), 1.0], [26273, array([-0.03390042,  0.1874683 ,  0.01499515, -0.2653047 ]), 1.0], [26273, array([-0.03015105,  0.38237306,  0.00968905, -0.55322056]), 1.0], [26273, array([-0.02250359,  0.1871164 , -0.00137536, -0.25750078]), 1.0], [26273, array([-0.01876126, -0.00798589, -0.00652537,  0.03474803]), 1.0], [26273, array([-0.01892098,  0.18722902, -0.00583041, -0.25998656]), 1.0], [26273, array([-0.0151764 ,  0.38243372, -0.01103015, -0.55450276]), 1.0], [26273, array([-0.00752772,  0.5777088 , -0.0221202 , -0.85064036]), 1.0], [26273, array([ 0.00402645,  0.38289534, -0.03913301, -0.56499447]), 1.0], [26273, array([ 0.01168436,  0.18834364, -0.0504329 , -0.28489252]), 1.0], [26273, array([ 0.01545123, -0.0060241 , -0.05613075, -0.00853259]), 1.0], [26273, array([ 0.01533075,  0.18985604, -0.0563014 , -0.31838384]), 1.0], [26273, array([ 0.01912787,  0.38573279, -0.06266908, -0.62827727]), 1.0], [26273, array([ 0.02684253,  0.5816708 , -0.07523462, -0.94001998]), 1.0], [26273, array([ 0.03847594,  0.38763917, -0.09403502, -0.67189396]), 1.0], [26273, array([ 0.04622873,  0.19394148, -0.1074729 , -0.41023665]), 1.0], [26273, array([ 0.05010756,  0.39040989, -0.11567763, -0.73477517]), 1.0], [26273, array([ 0.05791575,  0.58692372, -0.13037314, -1.06150933]), 1.0], [26273, array([ 0.06965423,  0.78350827, -0.15160332, -1.39210488]), 1.0], [26273, array([ 0.08532439,  0.98015756, -0.17944542, -1.72809636]), 1.0], [26273, array([ 0.10492754,  0.78748333, -0.21400735, -1.4962    ]), 1.0]]\n",
      "\n",
      "21\n",
      "\n",
      "[[26286, array([-0.04217398,  0.23257591, -0.00243626, -0.29093719]), 1.0], [26286, array([-0.03752247,  0.03748878, -0.008255  ,  0.00097638]), 1.0], [26286, array([-0.03677269, -0.15751381, -0.00823547,  0.29104336]), 1.0], [26286, array([-0.03992297,  0.03772459, -0.00241461, -0.00422552]), 1.0], [26286, array([-0.03916847,  0.23288109, -0.00249912, -0.2976693 ]), 1.0], [26286, array([-0.03451085,  0.42803858, -0.0084525 , -0.59113936]), 1.0], [26286, array([-0.02595008,  0.23303598, -0.02027529, -0.30113092]), 1.0], [26286, array([-0.02128936,  0.03820879, -0.02629791, -0.01491073]), 1.0], [26286, array([-0.02052519, -0.15652634, -0.02659612,  0.26936027]), 1.0], [26286, array([-0.02365571,  0.03896486, -0.02120892, -0.03159117]), 1.0], [26286, array([-0.02287641,  0.23438444, -0.02184074, -0.33088956]), 1.0], [26286, array([-0.01818873,  0.42981037, -0.02845853, -0.63037921]), 1.0], [26286, array([-0.00959252,  0.62531762, -0.04106612, -0.93188702]), 1.0], [26286, array([ 0.00291383,  0.82096895, -0.05970386, -1.23718662]), 1.0], [26286, array([ 0.01933321,  0.62666272, -0.08444759, -0.9637891 ]), 1.0], [26286, array([ 0.03186647,  0.82281147, -0.10372337, -1.28176184]), 1.0], [26286, array([ 0.0483227 ,  0.62915237, -0.12935861, -1.02327442]), 1.0], [26286, array([ 0.06090574,  0.43596843, -0.1498241 , -0.77384508]), 1.0], [26286, array([ 0.06962511,  0.63279898, -0.165301  , -1.10966705]), 1.0], [26286, array([ 0.08228109,  0.82966094, -0.18749434, -1.44931229]), 1.0], [26286, array([ 0.09887431,  0.63727248, -0.21648059, -1.22058812]), 1.0]]\n",
      "\n",
      "9\n",
      "\n",
      "[[26283, array([ 0.03530165, -0.18942465,  0.03892303,  0.29936169]), 1.0], [26283, array([ 0.03151316, -0.38507917,  0.04491026,  0.60406167]), 1.0], [26283, array([ 0.02381157, -0.58079949,  0.05699149,  0.91054531]), 1.0], [26283, array([ 0.01219558, -0.77664445,  0.0752024 ,  1.22058222]), 1.0], [26283, array([-0.00333731, -0.97265069,  0.09961404,  1.53584927]), 1.0], [26283, array([-0.02279032, -0.7788593 ,  0.13033103,  1.27584135]), 1.0], [26283, array([-0.03836751, -0.97538003,  0.15584786,  1.60633132]), 1.0], [26283, array([-0.05787511, -1.17196376,  0.18797448,  1.94326712]), 1.0], [26283, array([-0.08131438, -0.97927846,  0.22683983,  1.71427008]), 1.0]]\n",
      "\n",
      "24\n",
      "\n",
      "[[26289, array([-0.03516499,  0.2397398 ,  0.00710002, -0.27519473]), 1.0], [26289, array([-0.03037019,  0.04451727,  0.00159612,  0.01971906]), 1.0], [26289, array([-0.02947985, -0.15062754,  0.0019905 ,  0.31290516]), 1.0], [26289, array([-0.0324924 , -0.34577779,  0.00824861,  0.60621516]), 1.0], [26289, array([-0.03940796, -0.15077214,  0.02037291,  0.31614171]), 1.0], [26289, array([-0.0424234 ,  0.04405378,  0.02669574,  0.02995269]), 1.0], [26289, array([-0.04154232,  0.23878293,  0.0272948 , -0.25418934]), 1.0], [26289, array([-0.03676666,  0.43350474,  0.02221101, -0.53813958]), 1.0], [26289, array([-0.02809657,  0.6283075 ,  0.01144822, -0.82374215]), 1.0], [26289, array([-0.01553042,  0.43303083, -0.00502662, -0.52748064]), 1.0], [26289, array([-0.0068698 ,  0.23797996, -0.01557624, -0.23638585]), 1.0], [26289, array([-0.0021102 ,  0.43332095, -0.02030395, -0.53394102]), 1.0], [26289, array([ 0.00655622,  0.62872247, -0.03098277, -0.83295183]), 1.0], [26289, array([ 0.01913067,  0.82425378, -0.04764181, -1.13521551]), 1.0], [26289, array([ 0.03561574,  0.62978644, -0.07034612, -0.85784688]), 1.0], [26289, array([ 0.04821147,  0.43568973, -0.08750306, -0.5880866 ]), 1.0], [26289, array([ 0.05692526,  0.63192106, -0.09926479, -0.90700053]), 1.0], [26289, array([ 0.06956369,  0.438273  , -0.1174048 , -0.64709429]), 1.0], [26289, array([ 0.07832915,  0.63481811, -0.13034669, -0.97432018]), 1.0], [26289, array([ 0.09102551,  0.44166281, -0.14983309, -0.72525857]), 1.0], [26289, array([ 0.09985876,  0.63850403, -0.16433826, -1.06109859]), 1.0], [26289, array([ 0.11262884,  0.44589423, -0.18556023, -0.82417474]), 1.0], [26289, array([ 0.12154673,  0.25372917, -0.20204373, -0.59511765]), 1.0], [26289, array([ 0.12662131,  0.06192243, -0.21394608, -0.37225754]), 1.0]]\n",
      "\n",
      "58\n",
      "\n",
      "[[26292, array([ 0.02466496, -0.24239945, -0.01892105,  0.32059264]), 1.0], [26292, array([ 0.01981697, -0.04701322, -0.01250919,  0.02200331]), 1.0], [26292, array([ 0.01887671, -0.24195356, -0.01206913,  0.31071334]), 1.0], [26292, array([ 0.01403763, -0.4369015 , -0.00585486,  0.59956571]), 1.0], [26292, array([ 0.0052996 , -0.24169813,  0.00613645,  0.30504435]), 1.0], [26292, array([ 0.00046564, -0.04666416,  0.01223734,  0.01430301]), 1.0], [26292, array([-0.00046764, -0.24195945,  0.0125234 ,  0.3108217 ]), 1.0], [26292, array([-0.00530683, -0.04701815,  0.01873983,  0.02211445]), 1.0], [26292, array([-0.00624719, -0.24240376,  0.01918212,  0.32065061]), 1.0], [26292, array([-0.01109527, -0.04756016,  0.02559513,  0.03407818]), 1.0], [26292, array([-0.01204647,  0.14718557,  0.0262767 , -0.2504206 ]), 1.0], [26292, array([-0.00910276,  0.34192262,  0.02126829, -0.53470088]), 1.0], [26292, array([-0.00226431,  0.53673913,  0.01057427, -0.82060715]), 1.0], [26292, array([ 0.00847047,  0.34147409, -0.00583787, -0.52461717]), 1.0], [26292, array([ 0.01529996,  0.14643478, -0.01633022, -0.23377952]), 1.0], [26292, array([ 0.01822865,  0.3417862 , -0.02100581, -0.53156846]), 1.0], [26292, array([ 0.02506438,  0.14696591, -0.03163718, -0.24557775]), 1.0], [26292, array([ 0.02800369,  0.34252511, -0.03654873, -0.54806953]), 1.0], [26292, array([ 0.0348542 ,  0.53814094, -0.04751012, -0.85204025]), 1.0], [26292, array([ 0.04561702,  0.34369778, -0.06455093, -0.57466735]), 1.0], [26292, array([ 0.05249097,  0.53966247, -0.07604427, -0.88696697]), 1.0], [26292, array([ 0.06328422,  0.34565053, -0.09378361, -0.61912557]), 1.0], [26292, array([ 0.07019723,  0.15195497, -0.10616613, -0.357391  ]), 1.0], [26292, array([ 0.07323633, -0.04151007, -0.11331395, -0.09998159]), 1.0], [26292, array([ 0.07240613, -0.23484105, -0.11531358,  0.15491203]), 1.0], [26292, array([ 0.06770931, -0.42813931, -0.11221534,  0.4091067 ]), 1.0], [26292, array([ 0.05914652, -0.2316201 , -0.1040332 ,  0.0832598 ]), 1.0], [26292, array([ 0.05451412, -0.42510883, -0.10236801,  0.34139311]), 1.0], [26292, array([ 0.04601194, -0.61863666, -0.09554014,  0.6001215 ]), 1.0], [26292, array([ 0.03363921, -0.81230131, -0.08353771,  0.86124758]), 1.0], [26292, array([ 0.01739318, -1.00619238, -0.06631276,  1.12653843]), 1.0], [26292, array([-0.00273066, -1.20038575, -0.04378199,  1.39770659]), 1.0], [26292, array([-0.02673838, -1.00474754, -0.01582786,  1.0916627 ]), 1.0], [26292, array([-0.04683333, -0.80942061,  0.00600539,  0.79405582]), 1.0], [26292, array([-0.06302174, -0.61438161,  0.02188651,  0.50326816]), 1.0], [26292, array([-0.07530937, -0.41957486,  0.03195187,  0.21756214]), 1.0], [26292, array([-0.08370087, -0.22492389,  0.03630311, -0.06487303]), 1.0], [26292, array([-0.08819935, -0.03034073,  0.03500565, -0.34588469]), 1.0], [26292, array([-0.08880616,  0.16426624,  0.02808796, -0.62732675]), 1.0], [26292, array([-0.08552084,  0.35898513,  0.01554142, -0.9110331 ]), 1.0], [26292, array([-0.07834114,  0.55389337, -0.00267924, -1.19879115]), 1.0], [26292, array([-0.06726327,  0.35880619, -0.02665506, -0.90694913]), 1.0], [26292, array([-0.06008715,  0.16405506, -0.04479404, -0.62276187]), 1.0], [26292, array([-0.05680604, -0.03041375, -0.05724928, -0.3445163 ]), 1.0], [26292, array([-0.05741432,  0.1654739 , -0.06413961, -0.65468849]), 1.0], [26292, array([-0.05410484, -0.02869915, -0.07723338, -0.38287193]), 1.0], [26292, array([-0.05467882, -0.22264442, -0.08489081, -0.11550531]), 1.0], [26292, array([-0.05913171, -0.4164539 , -0.08720092,  0.1492341 ]), 1.0], [26292, array([-0.06746079, -0.2201985 , -0.08421624, -0.16963505]), 1.0], [26292, array([-0.07186476, -0.02397842, -0.08760894, -0.48765236]), 1.0], [26292, array([-0.07234433, -0.2177621 , -0.09736199, -0.22381574]), 1.0], [26292, array([-0.07669957, -0.02139317, -0.1018383 , -0.54555337]), 1.0], [26292, array([-0.07712743,  0.17500118, -0.11274937, -0.86850733]), 1.0], [26292, array([-0.07362741, -0.01842109, -0.13011952, -0.61329425]), 1.0], [26292, array([-0.07399583,  0.17825607, -0.1423854 , -0.94396333]), 1.0], [26292, array([-0.07043071,  0.37497933, -0.16126467, -1.27778205]), 1.0], [26292, array([-0.06293112,  0.5717472 , -0.18682031, -1.61631085]), 1.0], [26292, array([-0.05149618,  0.76851644, -0.21914653, -1.9609352 ]), 1.0]]\n",
      "\n",
      "14\n",
      "\n",
      "[[26298, array([-0.02003274,  0.18250534, -0.01157817, -0.28620592]), 1.0], [26298, array([-0.01638263,  0.37779048, -0.01730229, -0.58251791]), 1.0], [26298, array([-0.00882682,  0.57315052, -0.02895264, -0.88060072]), 1.0], [26298, array([ 0.00263619,  0.3784336 , -0.04656466, -0.59715863]), 1.0], [26298, array([ 0.01020486,  0.57417516, -0.05850783, -0.90413778]), 1.0], [26298, array([ 0.02168836,  0.37989236, -0.07659059, -0.63040372]), 1.0], [26298, array([ 0.02928621,  0.18591797, -0.08919866, -0.36279075]), 1.0], [26298, array([ 0.03300457,  0.38218698, -0.09645448, -0.6822135 ]), 1.0], [26298, array([ 0.04064831,  0.57850671, -0.11009875, -1.00363798]), 1.0], [26298, array([ 0.05221844,  0.38501396, -0.13017151, -0.74745985]), 1.0], [26298, array([ 0.05991872,  0.58166854, -0.1451207 , -1.07810851]), 1.0], [26298, array([ 0.07155209,  0.77837765, -0.16668287, -1.41258649]), 1.0], [26298, array([ 0.08711964,  0.97512677, -0.1949346 , -1.75239809]), 1.0], [26298, array([ 0.10662218,  1.17185366, -0.22998257, -2.098848  ]), 1.0]]\n",
      "\n",
      "33\n",
      "\n",
      "[[26294, array([-0.04899059, -0.16207468, -0.01215993,  0.33523392]), 1.0], [26294, array([-0.05223208,  0.0332182 , -0.00545525,  0.03874133]), 1.0], [26294, array([-0.05156772, -0.1618251 , -0.00468042,  0.32969809]), 1.0], [26294, array([-0.05480422, -0.35688011,  0.00191354,  0.62090137]), 1.0], [26294, array([-0.06194183, -0.16178494,  0.01433156,  0.32882172]), 1.0], [26294, array([-0.06517752,  0.03313009,  0.020908  ,  0.04069254]), 1.0], [26294, array([-0.06451492, -0.16228534,  0.02172185,  0.33989812]), 1.0], [26294, array([-0.06776063, -0.35770953,  0.02851981,  0.63935097]), 1.0], [26294, array([-0.07491482, -0.16299658,  0.04130683,  0.35578401]), 1.0], [26294, array([-0.07817475,  0.03151447,  0.04842251,  0.07640706]), 1.0], [26294, array([-0.07754446, -0.16426701,  0.04995065,  0.38396571]), 1.0], [26294, array([-0.0808298 , -0.36006123,  0.05762997,  0.69197013]), 1.0], [26294, array([-0.08803103, -0.16578421,  0.07146937,  0.41797221]), 1.0], [26294, array([-0.09134671,  0.02825603,  0.07982881,  0.148649  ]), 1.0], [26294, array([-0.09078159,  0.22214948,  0.08280179, -0.1178202 ]), 1.0], [26294, array([-0.0863386 ,  0.41599345,  0.08044539, -0.38327404]), 1.0], [26294, array([-0.07801873,  0.60988657,  0.07277991, -0.6495477 ]), 1.0], [26294, array([-0.065821  ,  0.80392329,  0.05978896, -0.91845387]), 1.0], [26294, array([-0.04974253,  0.60804627,  0.04141988, -0.60759585]), 1.0], [26294, array([-0.03758161,  0.41237044,  0.02926796, -0.30215989]), 1.0], [26294, array([-0.0293342 ,  0.21684384,  0.02322476, -0.00039205]), 1.0], [26294, array([-0.02499732,  0.41162515,  0.02321692, -0.28565775]), 1.0], [26294, array([-0.01676482,  0.60640842,  0.01750377, -0.57092876]), 1.0], [26294, array([-0.00463665,  0.80128059,  0.00608519, -0.85804639]), 1.0], [26294, array([ 0.01138896,  0.99631911, -0.01107574, -1.14880972]), 1.0], [26294, array([ 0.03131534,  1.19158388, -0.03405193, -1.44494511]), 1.0], [26294, array([ 0.05514702,  0.99689707, -0.06295083, -1.16309352]), 1.0], [26294, array([ 0.07508496,  1.1927797 , -0.0862127 , -1.47483079]), 1.0], [26294, array([ 0.09894055,  0.99881055, -0.11570932, -1.21027282]), 1.0], [26294, array([ 0.11891677,  1.19522063, -0.13991477, -1.53686057]), 1.0], [26294, array([ 0.14282118,  1.00203274, -0.17065199, -1.29091138]), 1.0], [26294, array([ 0.16286183,  1.19886338, -0.19647021, -1.63179719]), 1.0], [26294, array([ 0.1868391 ,  1.39567517, -0.22910616, -1.97872675]), 1.0]]\n",
      "\n",
      "18\n",
      "\n",
      "[[26306, array([-0.01576119,  0.24235531, -0.02651593, -0.27522354]), 1.0], [26306, array([-0.01091408,  0.04762151, -0.0320204 ,  0.0089797 ]), 1.0], [26306, array([-0.00996165, -0.14702694, -0.03184081,  0.29139032]), 1.0], [26306, array([-0.01290219,  0.04853421, -0.026013  , -0.01116233]), 1.0], [26306, array([-0.01193151, -0.14620521, -0.02623625,  0.27320101]), 1.0], [26306, array([-0.01485561, -0.34094317, -0.02077223,  0.55749485]), 1.0], [26306, array([-0.02167448, -0.53576745, -0.00962233,  0.84356163]), 1.0], [26306, array([-0.03238982, -0.34051551,  0.0072489 ,  0.54786836]), 1.0], [26306, array([-0.03920013, -0.14549615,  0.01820627,  0.25747815]), 1.0], [26306, array([-0.04211006, -0.34087323,  0.02335583,  0.55584755]), 1.0], [26306, array([-0.04892752, -0.53631518,  0.03447278,  0.85579651]), 1.0], [26306, array([-0.05965383, -0.34167951,  0.05158871,  0.57414946]), 1.0], [26306, array([-0.06648742, -0.53748533,  0.0630717 ,  0.88262779]), 1.0], [26306, array([-0.07723712, -0.73340457,  0.08072426,  1.1944531 ]), 1.0], [26306, array([-0.09190521, -0.92947368,  0.10461332,  1.5113062 ]), 1.0], [26306, array([-0.11049469, -1.12569577,  0.13483944,  1.83473047]), 1.0], [26306, array([-0.1330086 , -1.32202706,  0.17153405,  2.16607701]), 1.0], [26306, array([-0.15944914, -1.12894747,  0.21485559,  1.93089212]), 1.0]]\n",
      "\n",
      "20\n",
      "\n",
      "[[26307, array([-0.00055919,  0.22514183,  0.0289241 , -0.33262097]), 1.0], [26307, array([ 0.00394364,  0.02962039,  0.02227168, -0.03095897]), 1.0], [26307, array([ 0.00453605,  0.22441599,  0.0216525 , -0.31653257]), 1.0], [26307, array([ 0.00902437,  0.02899242,  0.01532185, -0.0171006 ]), 1.0], [26307, array([ 0.00960422, -0.16634587,  0.01497984,  0.2803769 ]), 1.0], [26307, array([ 0.0062773 , -0.36167827,  0.02058738,  0.57774652]), 1.0], [26307, array([-0.00095626, -0.16685082,  0.03214231,  0.29161955]), 1.0], [26307, array([-0.00429328, -0.36241598,  0.0379747 ,  0.59426397]), 1.0], [26307, array([-0.0115416 , -0.55804831,  0.04985998,  0.89866278]), 1.0], [26307, array([-0.02270256, -0.3636363 ,  0.06783323,  0.62205994]), 1.0], [26307, array([-0.02997529, -0.16952386,  0.08027443,  0.35148859]), 1.0], [26307, array([-0.03336577, -0.36569017,  0.0873042 ,  0.66836583]), 1.0], [26307, array([-0.04067957, -0.56191068,  0.10067152,  0.98721045]), 1.0], [26307, array([-0.05191778, -0.36827032,  0.12041573,  0.72776801]), 1.0], [26307, array([-0.05928319, -0.56483295,  0.13497109,  1.05579366]), 1.0], [26307, array([-0.07057985, -0.37173276,  0.15608696,  0.8083388 ]), 1.0], [26307, array([-0.07801451, -0.17905475,  0.17225374,  0.56853878]), 1.0], [26307, array([-0.0815956 , -0.37612081,  0.18362451,  0.91015582]), 1.0], [26307, array([-0.08911802, -0.57318908,  0.20182763,  1.25447139]), 1.0], [26307, array([-0.1005818 , -0.38114058,  0.22691706,  1.03118129]), 1.0]]\n",
      "\n",
      "25\n",
      "\n",
      "[[26316, array([-0.00919597, -0.21886238, -0.03370351,  0.28588386]), 1.0], [26316, array([-0.01357322, -0.02327637, -0.02798583, -0.01723549]), 1.0], [26316, array([-0.01403874,  0.17223552, -0.02833054, -0.31861525]), 1.0], [26316, array([-0.01059403,  0.36774927, -0.03470284, -0.62009626]), 1.0], [26316, array([-0.00323905,  0.17312873, -0.04710477, -0.33854181]), 1.0], [26316, array([ 2.23527130e-04,  3.68888211e-01, -5.38756044e-02, -6.45698998e-01]), 1.0], [26316, array([ 0.00760129,  0.56471787, -0.06678958, -0.95484905]), 1.0], [26316, array([ 0.01889565,  0.37055485, -0.08588657, -0.68387541]), 1.0], [26316, array([ 0.02630675,  0.17672381, -0.09956407, -0.41942016]), 1.0], [26316, array([ 0.02984122, -0.01685678, -0.10795248, -0.15971082]), 1.0], [26316, array([ 0.02950409, -0.21028092, -0.11114669,  0.09706003]), 1.0], [26316, array([ 0.02529847, -0.40364891, -0.10920549,  0.35271237]), 1.0], [26316, array([ 0.01722549, -0.20715722, -0.10215125,  0.02768796]), 1.0], [26316, array([ 0.01308235, -0.01072997, -0.10159749, -0.29539724]), 1.0], [26316, array([ 0.01286775,  0.18568256, -0.10750543, -0.61831511]), 1.0], [26316, array([ 0.0165814 , -0.0077865 , -0.11987173, -0.36133266]), 1.0], [26316, array([ 0.01642567, -0.20101877, -0.12709839, -0.10872216]), 1.0], [26316, array([ 0.01240529, -0.00432632, -0.12927283, -0.43864742]), 1.0], [26316, array([ 0.01231877, -0.19740431, -0.13804578, -0.18934747]), 1.0], [26316, array([ 0.00837068, -0.00060512, -0.14183273, -0.52219464]), 1.0], [26316, array([ 0.00835858,  0.19619839, -0.15227662, -0.8559948 ]), 1.0], [26316, array([ 0.01228254,  0.0034428 , -0.16939652, -0.61480368]), 1.0], [26316, array([ 0.0123514 ,  0.20047601, -0.18169259, -0.95568793]), 1.0], [26316, array([ 0.01636092,  0.00820117, -0.20080635, -0.72514735]), 1.0], [26316, array([ 0.01652494,  0.20544966, -0.2153093 , -1.07371595]), 1.0]]\n",
      "\n",
      "32\n",
      "\n",
      "[[26324, array([-0.04286806, -0.24409278,  0.01364316,  0.3429272 ]), 1.0], [26324, array([-0.04774992, -0.43940615,  0.0205017 ,  0.63988095]), 1.0], [26324, array([-0.05653804, -0.24457594,  0.03329932,  0.35372413]), 1.0], [26324, array([-0.06142956, -0.04994292,  0.04037381,  0.07172464]), 1.0], [26324, array([-0.06242842, -0.24561973,  0.0418083 ,  0.37686735]), 1.0], [26324, array([-0.06734081, -0.05111574,  0.04934565,  0.09765437]), 1.0], [26324, array([-0.06836313,  0.14326552,  0.05129873, -0.17906087]), 1.0], [26324, array([-0.06549782, -0.05255156,  0.04771752,  0.12935357]), 1.0], [26324, array([-0.06654885,  0.1418555 ,  0.05030459, -0.14790147]), 1.0], [26324, array([-0.06371174,  0.33622234,  0.04734656, -0.4242996 ]), 1.0], [26324, array([-0.05698729,  0.53064274,  0.03886057, -0.70168869]), 1.0], [26324, array([-0.04637444,  0.7252051 ,  0.02482679, -0.98188978]), 1.0], [26324, array([-0.03187034,  0.52975941,  0.005189  , -0.68151326]), 1.0], [26324, array([-0.02127515,  0.72480891, -0.00844127, -0.97255801]), 1.0], [26324, array([-0.00677897,  0.52980124, -0.02789243, -0.68253863]), 1.0], [26324, array([ 0.00381705,  0.7252992 , -0.0415432 , -0.98387082]), 1.0], [26324, array([ 0.01832304,  0.92095234, -0.06122062, -1.28930751]), 1.0], [26324, array([ 0.03674209,  0.72666019, -0.08700677, -1.01640287]), 1.0], [26324, array([ 0.05127529,  0.53279928, -0.10733483, -0.75225922]), 1.0], [26324, array([ 0.06193127,  0.33930821, -0.12238001, -0.49518877]), 1.0], [26324, array([ 0.06871744,  0.14610536, -0.13228379, -0.24344195]), 1.0], [26324, array([ 0.07163955, -0.04690343, -0.13715262,  0.00476374]), 1.0], [26324, array([ 0.07070148, -0.23981912, -0.13705735,  0.25122328]), 1.0], [26324, array([ 0.0659051 , -0.04303329, -0.13203288, -0.0813562 ]), 1.0], [26324, array([ 0.06504443, -0.23603972, -0.13366001,  0.16692865]), 1.0], [26324, array([ 0.06032364, -0.03928293, -0.13032144, -0.1647533 ]), 1.0], [26324, array([ 0.05953798,  0.1574404 , -0.1336165 , -0.49554217]), 1.0], [26324, array([ 0.06268678,  0.3541685 , -0.14352734, -0.8271705 ]), 1.0], [26324, array([ 0.06977015,  0.55093066, -0.16007075, -1.16133127]), 1.0], [26324, array([ 0.08078877,  0.35821386, -0.18329738, -0.9228117 ]), 1.0], [26324, array([ 0.08795304,  0.55527559, -0.20175361, -1.2670407 ]), 1.0], [26324, array([ 0.09905856,  0.75232029, -0.22709443, -1.61552666]), 1.0]]\n",
      "\n",
      "18\n",
      "\n",
      "[[26314, array([ 0.027761  , -0.16276467, -0.03555711,  0.25085993]), 1.0], [26314, array([ 0.02450571,  0.03284653, -0.03053991, -0.05282298]), 1.0], [26314, array([ 0.02516264, -0.16182451, -0.03159637,  0.23007007]), 1.0], [26314, array([ 0.02192615,  0.03373436, -0.02699497, -0.07240962]), 1.0], [26314, array([ 0.02260084, -0.16099039, -0.02844317,  0.21163553]), 1.0], [26314, array([ 0.01938103,  0.03452645, -0.02421045, -0.08988227]), 1.0], [26314, array([ 0.02007156,  0.22998691, -0.0260081 , -0.39010421]), 1.0], [26314, array([ 0.0246713 ,  0.42546815, -0.03381018, -0.69087243]), 1.0], [26314, array([ 0.03318066,  0.62104252, -0.04762763, -0.99400463]), 1.0], [26314, array([ 0.04560151,  0.42658895, -0.06750773, -0.71665226]), 1.0], [26314, array([ 0.05413329,  0.23246305, -0.08184077, -0.44595888]), 1.0], [26314, array([ 0.05878255,  0.42864169, -0.09075995, -0.76327624]), 1.0], [26314, array([ 0.06735539,  0.62488866, -0.10602547, -1.08308191]), 1.0], [26314, array([ 0.07985316,  0.82123779, -0.12768711, -1.40706484]), 1.0], [26314, array([ 0.09627791,  0.62791064, -0.15582841, -1.15687299]), 1.0], [26314, array([ 0.10883613,  0.43512462, -0.17896587, -0.91682623]), 1.0], [26314, array([ 0.11753862,  0.63215592, -0.19730239, -1.25998834]), 1.0], [26314, array([ 0.13018174,  0.44002729, -0.22250216, -1.03501793]), 1.0]]\n",
      "\n",
      "32\n",
      "\n",
      "[[26311, array([ 0.03258214,  0.16365309,  0.04185236, -0.29561631]), 1.0], [26311, array([ 0.0358552 , -0.03203975,  0.03594003,  0.0099669 ]), 1.0], [26311, array([ 0.03521441, -0.22765821,  0.03613937,  0.3137692 ]), 1.0], [26311, array([ 0.03066124, -0.03306921,  0.04241475,  0.03269895]), 1.0], [26311, array([ 0.02999986, -0.22877294,  0.04306873,  0.33845672]), 1.0], [26311, array([ 0.0254244 , -0.03428946,  0.04983787,  0.05966032]), 1.0], [26311, array([ 0.02473861,  0.16008381,  0.05103107, -0.21689129]), 1.0], [26311, array([ 0.02794029,  0.3544405 ,  0.04669325, -0.4930502 ]), 1.0], [26311, array([ 0.0350291 ,  0.54887385,  0.03683224, -0.77065951]), 1.0], [26311, array([ 0.04600657,  0.3532649 ,  0.02141905, -0.46661885]), 1.0], [26311, array([ 0.05307187,  0.15784697,  0.01208668, -0.16726247]), 1.0], [26311, array([ 0.05622881, -0.03744589,  0.00874143,  0.12920881]), 1.0], [26311, array([ 0.05547989,  0.15754976,  0.0113256 , -0.16070353]), 1.0], [26311, array([ 0.05863089, -0.03773249,  0.00811153,  0.1355307 ]), 1.0], [26311, array([ 0.05787624, -0.23296968,  0.01082215,  0.43076162]), 1.0], [26311, array([ 0.05321684, -0.03800264,  0.01943738,  0.14150983]), 1.0], [26311, array([ 0.05245679, -0.2333975 ,  0.02226758,  0.44026098]), 1.0], [26311, array([ 0.04778884, -0.03859765,  0.0310728 ,  0.15467977]), 1.0], [26311, array([ 0.04701689, -0.2341504 ,  0.03416639,  0.45700125]), 1.0], [26311, array([ 0.04233388, -0.03952772,  0.04330642,  0.17528057]), 1.0], [26311, array([ 0.04154333, -0.23524184,  0.04681203,  0.4813046 ]), 1.0], [26311, array([ 0.03683849, -0.43099222,  0.05643812,  0.78836622]), 1.0], [26311, array([ 0.02821864, -0.23668899,  0.07220544,  0.51395944]), 1.0], [26311, array([ 0.02348486, -0.43274962,  0.08248463,  0.82849404]), 1.0], [26311, array([ 0.01482987, -0.2388464 ,  0.09905451,  0.56285108]), 1.0], [26311, array([ 0.01005294, -0.04524374,  0.11031153,  0.30294504]), 1.0], [26311, array([ 0.00914807, -0.2417508 ,  0.11637044,  0.62827989]), 1.0], [26311, array([ 0.00431305, -0.43828806,  0.12893603,  0.95522764]), 1.0], [26311, array([-0.00445271, -0.63488643,  0.14804059,  1.28547958]), 1.0], [26311, array([-0.01715044, -0.4419261 ,  0.17375018,  1.04257011]), 1.0], [26311, array([-0.02598896, -0.24948365,  0.19460158,  0.80907864]), 1.0], [26311, array([-0.03097863, -0.44666353,  0.21078315,  1.15611819]), 1.0]]\n",
      "\n"
     ]
    }
   ],
   "source": [
    "processes = []\n",
    "nos = 20\n",
    "for i in range(nos):\n",
    "    proc = mp.Process(target=worker, args=(data_storage,))\n",
    "    processes.append(proc)\n",
    "    proc.start()\n",
    "    \n",
    "for proc in processes:\n",
    "    proc.join()\n",
    "    \n",
    "while not data_storage.empty():\n",
    "    g  = data_storage.get_nowait()\n",
    "    print(len(g))\n",
    "    print()\n",
    "    print(g)\n",
    "    print()\n"
   ]
  },
  {
   "cell_type": "markdown",
   "metadata": {},
   "source": [
    "## Multiple rendering using multiple process"
   ]
  },
  {
   "cell_type": "code",
   "execution_count": 12,
   "metadata": {},
   "outputs": [],
   "source": [
    "import gym\n",
    "gym.logger.set_level(40)\n",
    "# from collections import namedtuple\n",
    "import multiprocessing as mp\n",
    "# exp = namedtuple('Experience',['process_id','next_state','reward'])"
   ]
  },
  {
   "cell_type": "code",
   "execution_count": 13,
   "metadata": {},
   "outputs": [],
   "source": [
    "data_storage = mp.Queue()\n",
    "def worker(data_af):\n",
    "    data = []\n",
    "    print(\"Process started for pid \",mp.current_process().pid)\n",
    "    env = gym.make('CartPole-v0')\n",
    "    for i in range(10):\n",
    "        state = env.reset()\n",
    "        while True:\n",
    "            env.render()\n",
    "            action = env.action_space.sample()\n",
    "            next_state, reward, done, _ = env.step(action)\n",
    "    #         data.append(exp(mp.current_process(), next_state, reward))\n",
    "            data.append([mp.current_process().pid,next_state,reward])\n",
    "            state = next_state\n",
    "            if done:\n",
    "                break\n",
    "        print('\\n {} length \\n'.format(len(data)))\n",
    "    env.close()\n",
    "    data_af.put(data)"
   ]
  },
  {
   "cell_type": "code",
   "execution_count": 14,
   "metadata": {},
   "outputs": [
    {
     "name": "stdout",
     "output_type": "stream",
     "text": [
      "Process started for pid  30468\n",
      "\n",
      " 13 length \n",
      "\n",
      "\n",
      " 30 length \n",
      "\n",
      "\n",
      " 41 length \n",
      "\n",
      "\n",
      " 53 length \n",
      "\n",
      "\n",
      " 79 length \n",
      "\n",
      "\n",
      " 130 length \n",
      "\n",
      "\n",
      " 172 length \n",
      "\n",
      "\n",
      " 198 length \n",
      "\n",
      "\n",
      " 213 length \n",
      "\n",
      "\n",
      " 229 length \n",
      "\n"
     ]
    }
   ],
   "source": [
    "processes = []\n",
    "nos = 1\n",
    "for i in range(nos):\n",
    "    proc = mp.Process(target=worker, args=(data_storage,))\n",
    "    processes.append(proc)\n",
    "    proc.start()\n",
    "    \n",
    "while not data_storage.empty():\n",
    "    g  = data_storage.get_nowait()\n",
    "    print(len(g))\n",
    "    print()\n",
    "    print(g)\n",
    "    print()\n",
    "    \n",
    "for proc in processes:\n",
    "    proc.join()"
   ]
  },
  {
   "cell_type": "markdown",
   "metadata": {},
   "source": [
    "* Data is not being passed from the queue as there is limit in queue ( the amount of data that can be stored in a queue at a time is fixed).\n",
    "* Thus before we can add the data, data should be removed so that function can be stored properly\n",
    "* Global datas are not acessible by the every child and parent. if any modifiction made by the child process may not be accessibe to parent process\n",
    "* We can use shared memeory such as queue, pipe, and manager."
   ]
  },
  {
   "cell_type": "markdown",
   "metadata": {},
   "source": [
    "## Communication using Manager "
   ]
  },
  {
   "cell_type": "markdown",
   "metadata": {},
   "source": [
    "* `Multiprocessing`, Whenever process starts, another set of process startes namely Manger process.\n",
    "* Any new process which parent process wants to create can be done by communicating with the manager.\n",
    "* The data which is stored and maintained by the manager is accessible by remaining remainied set of process."
   ]
  },
  {
   "cell_type": "code",
   "execution_count": 34,
   "metadata": {},
   "outputs": [
    {
     "name": "stdout",
     "output_type": "stream",
     "text": [
      " Printing ['general', 11] by child process 986\n",
      "[('Sam', 10), ('Adam', 9), ('Kevin', 9), ['general', 11]]\n"
     ]
    }
   ],
   "source": [
    "import multiprocessing as mp\n",
    "\n",
    "def printing(data):\n",
    "    print(' Printing {} by child process {}'.format(data,mp.current_process().pid))\n",
    "    \n",
    "def insert_record(record, records):\n",
    "    records.append(record)\n",
    "    \n",
    "with mp.Manager() as manager:\n",
    "    record = ['general',11]\n",
    "    records = manager.list([('Sam', 10), ('Adam', 9), ('Kevin',9)]) \n",
    "    p1 = mp.Process(target = insert_record, args=(record, records,))\n",
    "    p2 = mp.Process(target = printing, args=(record,))\n",
    "    p1.start()\n",
    "    p1.join()\n",
    "    p2.start()\n",
    "    p2.join()\n",
    "    print(records)\n",
    "    "
   ]
  },
  {
   "cell_type": "code",
   "execution_count": null,
   "metadata": {},
   "outputs": [],
   "source": []
  },
  {
   "cell_type": "code",
   "execution_count": 36,
   "metadata": {},
   "outputs": [],
   "source": [
    "import multiprocessing as mp\n",
    "def worker(data_af):\n",
    "    data = []\n",
    "    print(\"Process started for pid \",mp.current_process().pid)\n",
    "    env = gym.make('CartPole-v0')\n",
    "    for i in range(10):\n",
    "        state = env.reset()\n",
    "        while True:\n",
    "            env.render()\n",
    "            action = env.action_space.sample()\n",
    "            next_state, reward, done, _ = env.step(action)\n",
    "    #         data.append(exp(mp.current_process(), next_state, reward))\n",
    "            data.append([mp.current_process().pid,next_state,reward])\n",
    "            state = next_state\n",
    "            if done:\n",
    "                break\n",
    "        print('\\n {} length'.format(len(data)))\n",
    "    env.close()\n",
    "    data_af.append(data)"
   ]
  },
  {
   "cell_type": "code",
   "execution_count": 37,
   "metadata": {},
   "outputs": [
    {
     "name": "stdout",
     "output_type": "stream",
     "text": [
      "Process started for pid  1084\n",
      "\n",
      " 12 length \n",
      "\n",
      "\n",
      " 54 length \n",
      "\n",
      "\n",
      " 66 length \n",
      "\n",
      "\n",
      " 99 length \n",
      "\n",
      "\n",
      " 146 length \n",
      "\n",
      "\n",
      " 169 length \n",
      "\n",
      "\n",
      " 193 length \n",
      "\n",
      "\n",
      " 228 length \n",
      "\n",
      "\n",
      " 259 length \n",
      "\n",
      "\n",
      " 275 length \n",
      "\n",
      "[[[1084, array([-0.03560508,  0.1610053 ,  0.04805648, -0.26765749]), 1.0], [1084, array([-0.03238498, -0.03476838,  0.04270333,  0.03978716]), 1.0], [1084, array([-0.03308035, -0.23047585,  0.04349907,  0.34563171]), 1.0], [1084, array([-0.03768986, -0.42618871,  0.0504117 ,  0.65170799]), 1.0], [1084, array([-0.04621364, -0.62197516,  0.06344586,  0.95982933]), 1.0], [1084, array([-0.05865314, -0.42776081,  0.08264245,  0.68773453]), 1.0], [1084, array([-0.06720836, -0.62392669,  0.09639714,  1.00524832]), 1.0], [1084, array([-0.07968689, -0.82019464,  0.11650211,  1.32658035]), 1.0], [1084, array([-0.09609078, -0.62672013,  0.14303371,  1.07251003]), 1.0], [1084, array([-0.10862519, -0.82341312,  0.16448391,  1.40644527]), 1.0], [1084, array([-0.12509345, -1.02014973,  0.19261282,  1.74570766]), 1.0], [1084, array([-0.14549644, -1.21686963,  0.22752697,  2.0916094 ]), 1.0], [1084, array([ 0.03717595, -0.19422215, -0.01618029,  0.27263438]), 1.0], [1084, array([ 0.03329151, -0.38910953, -0.0107276 ,  0.56017039]), 1.0], [1084, array([ 0.02550932, -0.19383867,  0.00047581,  0.2641271 ]), 1.0], [1084, array([ 0.02163254, -0.38896741,  0.00575835,  0.55696006]), 1.0], [1084, array([ 0.0138532 , -0.19392677,  0.01689755,  0.2660969 ]), 1.0], [1084, array([ 0.00997466,  0.00094998,  0.02221949, -0.02120887]), 1.0], [1084, array([ 0.00999366, -0.19448345,  0.02179531,  0.27840092]), 1.0], [1084, array([ 0.00610399,  0.0003209 ,  0.02736333, -0.00732889]), 1.0], [1084, array([ 0.00611041, -0.19518258,  0.02721675,  0.29386036]), 1.0], [1084, array([ 0.00220676, -0.39068178,  0.03309396,  0.59500129]), 1.0], [1084, array([-0.00560688, -0.5862509 ,  0.04499398,  0.8979222 ]), 1.0], [1084, array([-0.0173319 , -0.39176677,  0.06295243,  0.61971501]), 1.0], [1084, array([-0.02516723, -0.19757793,  0.07534673,  0.34750453]), 1.0], [1084, array([-0.02911879, -0.00360403,  0.08229682,  0.07950018]), 1.0], [1084, array([-0.02919087, -0.1998034 ,  0.08388682,  0.39697115]), 1.0], [1084, array([-0.03318694, -0.3960091 ,  0.09182624,  0.7148786 ]), 1.0], [1084, array([-0.04110712, -0.20227016,  0.10612382,  0.45245353]), 1.0], [1084, array([-0.04515252, -0.00879646,  0.11517289,  0.19501754]), 1.0], [1084, array([-0.04532845,  0.18450578,  0.11907324, -0.05922885]), 1.0], [1084, array([-0.04163834, -0.01210434,  0.11788866,  0.26852295]), 1.0], [1084, array([-0.04188042,  0.18115519,  0.12325912,  0.01522476]), 1.0], [1084, array([-0.03825732, -0.01549909,  0.12356362,  0.34411471]), 1.0], [1084, array([-0.0385673 ,  0.1776683 ,  0.13044591,  0.09280811]), 1.0], [1084, array([-0.03501394,  0.37070272,  0.13230207, -0.15604107]), 1.0], [1084, array([-0.02759988,  0.56370671,  0.12918125, -0.40423358]), 1.0], [1084, array([-0.01632575,  0.36701203,  0.12109658, -0.0737762 ]), 1.0], [1084, array([-0.00898551,  0.56020856,  0.11962105, -0.32593332]), 1.0], [1084, array([0.00221866, 0.36360462, 0.11310239, 0.00194995]), 1.0], [1084, array([0.00949076, 0.1670576 , 0.11314139, 0.32806805]), 1.0], [1084, array([0.01283191, 0.36040228, 0.11970275, 0.07309795]), 1.0], [1084, array([0.02003995, 0.16378575, 0.12116471, 0.40102094]), 1.0], [1084, array([ 0.02331567, -0.03282778,  0.12918513,  0.72931437]), 1.0], [1084, array([0.02265911, 0.16029434, 0.14377141, 0.47991993]), 1.0], [1084, array([0.025865  , 0.35312525, 0.15336981, 0.23578115]), 1.0], [1084, array([ 0.03292751,  0.5457613 ,  0.15808543, -0.004867  ]), 1.0], [1084, array([0.04384273, 0.348767  , 0.15798809, 0.3332236 ]), 1.0], [1084, array([0.05081807, 0.54132896, 0.16465257, 0.09423347]), 1.0], [1084, array([0.06164465, 0.34427689, 0.16653724, 0.43400342]), 1.0], [1084, array([0.06853019, 0.14723711, 0.1752173 , 0.77420986]), 1.0], [1084, array([0.07147493, 0.33957158, 0.1907015 , 0.5413762 ]), 1.0], [1084, array([0.07826636, 0.14235319, 0.20152903, 0.88756791]), 1.0], [1084, array([ 0.08111343, -0.05484937,  0.21928038,  1.23623447]), 1.0], [1084, array([-0.04326939,  0.17075128,  0.03910902, -0.25405151]), 1.0], [1084, array([-0.03985437, -0.02490664,  0.03402799,  0.05070606]), 1.0], [1084, array([-0.0403525 , -0.22049957,  0.03504211,  0.35392792]), 1.0], [1084, array([-0.04476249, -0.41610182,  0.04212066,  0.65745144]), 1.0], [1084, array([-0.05308453, -0.61178398,  0.05526969,  0.96309416]), 1.0], [1084, array([-0.06532021, -0.80760325,  0.07453158,  1.27261557]), 1.0], [1084, array([-0.08147227, -0.61350733,  0.09998389,  1.00417196]), 1.0], [1084, array([-0.09374242, -0.80981235,  0.12006733,  1.32650521]), 1.0], [1084, array([-0.10993867, -1.00622792,  0.14659743,  1.65422249]), 1.0], [1084, array([-0.13006323, -0.81308997,  0.17968188,  1.41056844]), 1.0], [1084, array([-0.14632502, -0.62059276,  0.20789325,  1.17901395]), 1.0], [1084, array([-0.15873688, -0.81771667,  0.23147353,  1.52901438]), 1.0], [1084, array([-0.02942233,  0.14685202,  0.00929069, -0.3027895 ]), 1.0], [1084, array([-0.02648529, -0.0484011 ,  0.0032349 , -0.00719103]), 1.0], [1084, array([-0.02745331, -0.2435693 ,  0.00309108,  0.28651079]), 1.0], [1084, array([-0.0323247 , -0.04849157,  0.0088213 , -0.00519563]), 1.0], [1084, array([-0.03329453, -0.24373891,  0.00871739,  0.29025741]), 1.0], [1084, array([-0.03816931, -0.04874234,  0.01452254,  0.00033655]), 1.0], [1084, array([-0.03914416, -0.24406952,  0.01452927,  0.29756591]), 1.0], [1084, array([-0.04402555, -0.43939554,  0.02048058,  0.59479547]), 1.0], [1084, array([-0.05281346, -0.24456614,  0.03237649,  0.30863352]), 1.0], [1084, array([-0.05770478, -0.44013409,  0.03854916,  0.61134874]), 1.0], [1084, array([-0.06650746, -0.63577303,  0.05077614,  0.91591978]), 1.0], [1084, array([-0.07922292, -0.44137313,  0.06909453,  0.63961753]), 1.0], [1084, array([-0.08805039, -0.24727909,  0.08188689,  0.36946878]), 1.0], [1084, array([-0.09299597, -0.05341029,  0.08927626,  0.10368786]), 1.0], [1084, array([-0.09406417,  0.14032636,  0.09135002, -0.1595474 ]), 1.0], [1084, array([-0.09125765,  0.33402981,  0.08815907, -0.42207154]), 1.0], [1084, array([-0.08457705,  0.52779937,  0.07971764, -0.68571191]), 1.0], [1084, array([-0.07402106,  0.33166652,  0.0660034 , -0.36903479]), 1.0], [1084, array([-0.06738773,  0.52579161,  0.05862271, -0.64019746]), 1.0], [1084, array([-0.0568719 ,  0.32990347,  0.04581876, -0.32964481]), 1.0], [1084, array([-0.05027383,  0.13416024,  0.03922586, -0.0228721 ]), 1.0], [1084, array([-0.04759063, -0.06150166,  0.03876842,  0.28192442]), 1.0], [1084, array([-0.04882066, -0.25715453,  0.04440691,  0.58657828]), 1.0], [1084, array([-0.05396375, -0.45286939,  0.05613847,  0.89291249]), 1.0], [1084, array([-0.06302114, -0.648706  ,  0.07399672,  1.20270068]), 1.0], [1084, array([-0.07599526, -0.45461469,  0.09805074,  0.9340956 ]), 1.0], [1084, array([-0.08508755, -0.26094241,  0.11673265,  0.67376328]), 1.0], [1084, array([-0.0903064 , -0.45747666,  0.13020791,  1.00079988]), 1.0], [1084, array([-0.09945593, -0.26431244,  0.15022391,  0.75167934]), 1.0], [1084, array([-0.10474218, -0.46115147,  0.1652575 ,  1.08761245]), 1.0], [1084, array([-0.11396521, -0.26854817,  0.18700975,  0.8510084 ]), 1.0], [1084, array([-0.11933617, -0.46566011,  0.20402991,  1.19618217]), 1.0], [1084, array([-0.12864938, -0.66275272,  0.22795356,  1.54525842]), 1.0], [1084, array([-0.01165246,  0.20607372, -0.00165979, -0.25880105]), 1.0], [1084, array([-0.00753099,  0.0109755 , -0.00683581,  0.03335789]), 1.0], [1084, array([-0.00731148,  0.20619481, -0.00616865, -0.26147394]), 1.0], [1084, array([-0.00318758,  0.01116146, -0.01139813,  0.02925695]), 1.0], [1084, array([-0.00296435, -0.1837952 , -0.01081299,  0.31832196]), 1.0], [1084, array([-0.00664026,  0.01147908, -0.00444655,  0.02224872]), 1.0], [1084, array([-0.00641068, -0.18357883, -0.00400158,  0.31352539]), 1.0], [1084, array([-0.01008225,  0.0115999 ,  0.00226893,  0.01958319]), 1.0], [1084, array([-0.00985025, -0.18355452,  0.00266059,  0.31298112]), 1.0], [1084, array([-0.01352135, -0.37871427,  0.00892022,  0.60650193]), 1.0], [1084, array([-0.02109563, -0.18371817,  0.02105025,  0.31664193]), 1.0], [1084, array([-0.02476999,  0.01109772,  0.02738309,  0.03067115]), 1.0], [1084, array([-0.02454804, -0.184406  ,  0.02799652,  0.33186642]), 1.0], [1084, array([-0.02823616, -0.37991504,  0.03463384,  0.63324495]), 1.0], [1084, array([-0.03583446, -0.18529292,  0.04729874,  0.35166715]), 1.0], [1084, array([-0.03954032,  0.00912562,  0.05433209,  0.07426615]), 1.0], [1084, array([-0.03935781,  0.20342826,  0.05581741, -0.20079197]), 1.0], [1084, array([-0.03528924,  0.00755427,  0.05180157,  0.10896324]), 1.0], [1084, array([-0.03513816,  0.20189712,  0.05398083, -0.16693714]), 1.0], [1084, array([-0.03110021,  0.39620648,  0.05064209, -0.44211398]), 1.0], [1084, array([-0.02317608,  0.20040586,  0.04179981, -0.13390717]), 1.0], [1084, array([-0.01916797,  0.39490491,  0.03912167, -0.41311535]), 1.0], [1084, array([-0.01126987,  0.19925089,  0.03085936, -0.10836003]), 1.0], [1084, array([-0.00728485,  0.39391734,  0.02869216, -0.39114947]), 1.0], [1084, array([ 0.0005935 ,  0.19840019,  0.02086917, -0.08956011]), 1.0], [1084, array([0.0045615 , 0.00298542, 0.01907797, 0.2096333 ]), 1.0], [1084, array([ 0.00462121, -0.19240405,  0.02327064,  0.50827276]), 1.0], [1084, array([0.00077313, 0.00238243, 0.03343609, 0.22301309]), 1.0], [1084, array([ 0.00082078,  0.19701092,  0.03789635, -0.0589381 ]), 1.0], [1084, array([ 0.00476099,  0.3915696 ,  0.03671759, -0.33942771]), 1.0], [1084, array([ 0.01259239,  0.19594495,  0.02992904, -0.03539598]), 1.0], [1084, array([0.01651129, 0.00040688, 0.02922112, 0.2665776 ]), 1.0], [1084, array([ 0.01651942,  0.19509986,  0.03455267, -0.01674741]), 1.0], [1084, array([ 0.02042142,  0.38970969,  0.03421772, -0.29833145]), 1.0], [1084, array([ 0.02821561,  0.58432759,  0.02825109, -0.58002938]), 1.0], [1084, array([ 0.03990217,  0.38882138,  0.0166505 , -0.27858236]), 1.0], [1084, array([ 0.04767859,  0.58370189,  0.01107886, -0.56596759]), 1.0], [1084, array([ 5.93526314e-02,  7.78666681e-01, -2.40495264e-04, -8.55139706e-01]), 1.0], [1084, array([ 0.07492596,  0.58354801, -0.01734329, -0.56253241]), 1.0], [1084, array([ 0.08659693,  0.77890898, -0.02859394, -0.86062848]), 1.0], [1084, array([ 0.1021751 ,  0.97440844, -0.04580651, -1.16216326]), 1.0], [1084, array([ 0.12166327,  1.17009604, -0.06904977, -1.46884917]), 1.0], [1084, array([ 0.14506519,  0.97588364, -0.09842676, -1.19850928]), 1.0], [1084, array([ 0.16458287,  1.1721317 , -0.12239694, -1.52034738]), 1.0], [1084, array([ 0.1880255 ,  1.36850202, -0.15280389, -1.84859415]), 1.0], [1084, array([ 0.21539554,  1.1753575 , -0.18977577, -1.60700283]), 1.0], [1084, array([ 0.23890269,  0.98291813, -0.22191583, -1.37898597]), 1.0], [1084, array([ 0.00720842, -0.16612666,  0.00479345,  0.31686209]), 1.0], [1084, array([0.00388589, 0.02892669, 0.01113069, 0.0256947 ]), 1.0], [1084, array([ 0.00446442,  0.22388726,  0.01164459, -0.26345569]), 1.0], [1084, array([0.00894217, 0.02860105, 0.00637547, 0.0328772 ]), 1.0], [1084, array([ 0.00951419,  0.223631  ,  0.00703302, -0.2577874 ]), 1.0], [1084, array([0.01398681, 0.02840935, 0.00187727, 0.03710552]), 1.0], [1084, array([ 0.014555  , -0.16673947,  0.00261938,  0.33038015]), 1.0], [1084, array([ 0.01122021, -0.36189861,  0.00922698,  0.62388796]), 1.0], [1084, array([ 0.00398223, -0.16690669,  0.02170474,  0.33412522]), 1.0], [1084, array([0.0006441 , 0.02789973, 0.02838725, 0.04836511]), 1.0], [1084, array([ 0.00120209, -0.16761753,  0.02935455,  0.34986757]), 1.0], [1084, array([-0.00215026, -0.3631444 ,  0.0363519 ,  0.65166051]), 1.0], [1084, array([-0.00941314, -0.16854707,  0.04938511,  0.37064248]), 1.0], [1084, array([-0.01278409,  0.02583973,  0.05679796,  0.09393109]), 1.0], [1084, array([-0.01226729, -0.17004836,  0.05867658,  0.40397902]), 1.0], [1084, array([-0.01566826,  0.02419447,  0.06675616,  0.13035722]), 1.0], [1084, array([-0.01518437, -0.17181709,  0.06936331,  0.44333142]), 1.0], [1084, array([-0.01862071, -0.36784844,  0.07822993,  0.75704782]), 1.0], [1084, array([-0.02597768, -0.56395641,  0.09337089,  1.07328626]), 1.0], [1084, array([-0.03725681, -0.76018008,  0.11483662,  1.39375084]), 1.0], [1084, array([-0.05246041, -0.95652872,  0.14271163,  1.72002175]), 1.0], [1084, array([-0.07159098, -1.15296842,  0.17711207,  2.05350071]), 1.0], [1084, array([-0.09465035, -0.96004708,  0.21818208,  1.82044477]), 1.0], [1084, array([-0.00497216,  0.18889672, -0.00500723, -0.32626013]), 1.0], [1084, array([-0.00119423,  0.3840896 , -0.01153243, -0.6205179 ]), 1.0], [1084, array([ 0.00648756,  0.5793707 , -0.02394279, -0.91681053]), 1.0], [1084, array([ 0.01807498,  0.38458053, -0.042279  , -0.63174753]), 1.0], [1084, array([ 0.02576659,  0.58026606, -0.05491395, -0.93743985]), 1.0], [1084, array([ 0.03737191,  0.38592586, -0.07366275, -0.66250555]), 1.0], [1084, array([ 0.04509043,  0.1919019 , -0.08691286, -0.39389614]), 1.0], [1084, array([ 0.04892846, -0.00188616, -0.09479078, -0.12983146]), 1.0], [1084, array([ 0.04889074,  0.19445685, -0.09738741, -0.45085058]), 1.0], [1084, array([ 0.05277988,  0.00083742, -0.10640442, -0.19038427]), 1.0], [1084, array([ 0.05279663, -0.19261413, -0.11021211,  0.06692801]), 1.0], [1084, array([ 0.04894434,  0.00390122, -0.10887355, -0.25839337]), 1.0], [1084, array([ 0.04902237, -0.18951162, -0.11404142, -0.00193749]), 1.0], [1084, array([ 0.04523214,  0.00704547, -0.11408017, -0.32831352]), 1.0], [1084, array([ 0.04537304,  0.20359102, -0.12064644, -0.65468236]), 1.0], [1084, array([ 0.04944487,  0.01033707, -0.13374008, -0.40229264]), 1.0], [1084, array([ 0.04965161,  0.20707725, -0.14178594, -0.73397009]), 1.0], [1084, array([ 0.05379315,  0.01416917, -0.15646534, -0.4890572 ]), 1.0], [1084, array([ 0.05407654, -0.17843942, -0.16624648, -0.24948693]), 1.0], [1084, array([ 0.05050775,  0.01861816, -0.17123622, -0.58964965]), 1.0], [1084, array([ 0.05088011, -0.17374484, -0.18302921, -0.35542293]), 1.0], [1084, array([ 0.04740521,  0.02344338, -0.19013767, -0.69977542]), 1.0], [1084, array([ 0.04787408,  0.22062131, -0.20413318, -1.04577633]), 1.0], [1084, array([ 0.05228651,  0.02870705, -0.22504871, -0.82348121]), 1.0], [1084, array([-0.03369783,  0.23597871, -0.00734519, -0.33353794]), 1.0], [1084, array([-0.02897825,  0.04096206, -0.01401595, -0.04318033]), 1.0], [1084, array([-0.02815901,  0.23628217, -0.01487955, -0.34025226]), 1.0], [1084, array([-0.02343337,  0.04137505, -0.0216846 , -0.05229839]), 1.0], [1084, array([-0.02260587, -0.15342936, -0.02273057,  0.23346477]), 1.0], [1084, array([-0.02567446, -0.34821928, -0.01806127,  0.51889196]), 1.0], [1084, array([-0.03263884, -0.54308236, -0.00768343,  0.80582917]), 1.0], [1084, array([-0.04350049, -0.34785593,  0.00843315,  0.51073927]), 1.0], [1084, array([-0.05045761, -0.54309566,  0.01864794,  0.80606776]), 1.0], [1084, array([-0.06131952, -0.34823422,  0.03476929,  0.5193086 ]), 1.0], [1084, array([-0.06828421, -0.54382797,  0.04515546,  0.82274202]), 1.0], [1084, array([-0.07916076, -0.34935192,  0.0616103 ,  0.54459649]), 1.0], [1084, array([-0.0861478 , -0.15514737,  0.07250223,  0.27194434]), 1.0], [1084, array([-0.08925075,  0.03886916,  0.07794112,  0.00298109]), 1.0], [1084, array([-0.08847337, -0.15727904,  0.07800074,  0.31920167]), 1.0], [1084, array([-0.09161895,  0.03665038,  0.08438478,  0.05210097]), 1.0], [1084, array([-0.09088594,  0.23046735,  0.0854268 , -0.2128103 ]), 1.0], [1084, array([-0.08627659,  0.0342345 ,  0.08117059,  0.10555052]), 1.0], [1084, array([-0.0855919 ,  0.22810508,  0.0832816 , -0.1604599 ]), 1.0], [1084, array([-0.0810298,  0.0318957,  0.0800724,  0.1572906]), 1.0], [1084, array([-0.08039189,  0.22578536,  0.08321821, -0.10909589]), 1.0], [1084, array([-0.07587618,  0.0295756 ,  0.0810363 ,  0.20863816]), 1.0], [1084, array([-0.07528467, -0.16660595,  0.08520906,  0.52574339]), 1.0], [1084, array([-0.07861679,  0.02722011,  0.09572393,  0.26108029]), 1.0], [1084, array([-0.07807239, -0.16912869,  0.10094553,  0.58235503]), 1.0], [1084, array([-0.08145496,  0.02444487,  0.11259263,  0.32310042]), 1.0], [1084, array([-0.08096606,  0.21779853,  0.11905464,  0.06793869]), 1.0], [1084, array([-0.07661009,  0.41103023,  0.12041342, -0.18493769]), 1.0], [1084, array([-0.06838949,  0.21440962,  0.11671466,  0.1431737 ]), 1.0], [1084, array([-0.06410129,  0.01782636,  0.11957814,  0.4702787 ]), 1.0], [1084, array([-0.06374477, -0.17876377,  0.12898371,  0.79813038]), 1.0], [1084, array([-0.06732004, -0.37539711,  0.14494632,  1.12844643]), 1.0], [1084, array([-0.07482799, -0.57208911,  0.16751525,  1.46285572]), 1.0], [1084, array([-0.08626977, -0.3793688 ,  0.19677236,  1.22684125]), 1.0], [1084, array([-0.09385714, -0.1872468 ,  0.22130919,  1.00169787]), 1.0], [1084, array([ 0.02224704,  0.19426052, -0.00122343, -0.3341265 ]), 1.0], [1084, array([ 0.02613225,  0.38939986, -0.00790596, -0.62719498]), 1.0], [1084, array([ 0.03392025,  0.58463126, -0.02044986, -0.92235726]), 1.0], [1084, array([ 0.04561287,  0.3897915 , -0.03889701, -0.63617057]), 1.0], [1084, array([ 0.0534087 ,  0.195233  , -0.05162042, -0.3559864 ]), 1.0], [1084, array([ 0.05731336,  0.00088153, -0.05874014, -0.08001718]), 1.0], [1084, array([ 0.05733099, -0.19335133, -0.06034049,  0.19356994]), 1.0], [1084, array([ 0.05346397,  0.00257956, -0.05646909, -0.11752086]), 1.0], [1084, array([ 0.05351556, -0.19168975, -0.05881951,  0.15682552]), 1.0], [1084, array([ 0.04968176, -0.38592238, -0.055683  ,  0.43038766]), 1.0], [1084, array([ 0.04196331, -0.19005795, -0.04707524,  0.12068403]), 1.0], [1084, array([ 0.03816215, -0.38447494, -0.04466156,  0.39815143]), 1.0], [1084, array([ 0.03047266, -0.18874878, -0.03669853,  0.09172881]), 1.0], [1084, array([ 0.02669768,  0.00687944, -0.03486396, -0.21230289]), 1.0], [1084, array([ 0.02683527, -0.18772715, -0.03911002,  0.06918168]), 1.0], [1084, array([ 0.02308073, -0.3822672 , -0.03772638,  0.34927319]), 1.0], [1084, array([ 0.01543538, -0.57683285, -0.03074092,  0.62982507]), 1.0], [1084, array([ 0.00389873, -0.38129571, -0.01814442,  0.32762154]), 1.0], [1084, array([-0.00372719, -0.18592021, -0.01159199,  0.02927236]), 1.0], [1084, array([-0.00744559, -0.38087402, -0.01100654,  0.31827546]), 1.0], [1084, array([-0.01506307, -0.5758375 , -0.00464103,  0.6074671 ]), 1.0], [1084, array([-0.02657982, -0.77089425,  0.00750831,  0.89868463]), 1.0], [1084, array([-0.04199771, -0.57587486,  0.02548201,  0.60837122]), 1.0], [1084, array([-0.05351521, -0.77134362,  0.03764943,  0.90897007]), 1.0], [1084, array([-0.06894208, -0.96695439,  0.05582883,  1.21324461]), 1.0], [1084, array([-0.08828117, -1.16275061,  0.08009372,  1.5228865 ]), 1.0], [1084, array([-0.11153618, -0.96868228,  0.11055145,  1.25623961]), 1.0], [1084, array([-0.13090982, -1.16503208,  0.13567625,  1.58140232]), 1.0], [1084, array([-0.15421047, -1.36148304,  0.16730429,  1.91313725]), 1.0], [1084, array([-0.18144013, -1.55796654,  0.20556704,  2.25270565]), 1.0], [1084, array([-0.21259946, -1.3652872 ,  0.25062115,  2.02978378]), 1.0], [1084, array([-0.03786248,  0.23206063,  0.03259021, -0.27612564]), 1.0], [1084, array([-0.03322127,  0.42670282,  0.02706769, -0.55835407]), 1.0], [1084, array([-0.02468721,  0.62143457,  0.01590061, -0.84238776]), 1.0], [1084, array([-1.22585175e-02,  8.16335920e-01, -9.47141765e-04, -1.13002825e+00]), 1.0], [1084, array([ 0.0040682 ,  0.62122639, -0.02354771, -0.83764254]), 1.0], [1084, array([ 0.01649273,  0.4264338 , -0.04030056, -0.55245706]), 1.0], [1084, array([ 0.0250214 ,  0.62209786, -0.0513497 , -0.85755999]), 1.0], [1084, array([ 0.03746336,  0.42771169, -0.0685009 , -0.58145525]), 1.0], [1084, array([ 0.0460176 ,  0.23361303, -0.08013   , -0.3111136 ]), 1.0], [1084, array([ 0.05068986,  0.42977973, -0.08635228, -0.62795251]), 1.0], [1084, array([ 0.05928545,  0.62599398, -0.09891133, -0.94653326]), 1.0], [1084, array([ 0.07180533,  0.82229885, -0.11784199, -1.26858387]), 1.0], [1084, array([ 0.08825131,  0.62886237, -0.14321367, -1.01500689]), 1.0], [1084, array([ 0.10082855,  0.82557359, -0.16351381, -1.34901399]), 1.0], [1084, array([ 0.11734003,  0.63283978, -0.19049409, -1.11162861]), 1.0], [1084, array([ 0.12999682,  0.82988292, -0.21272666, -1.45751394]), 1.0]]]\n"
     ]
    }
   ],
   "source": [
    "with mp.Manager() as manager:\n",
    "    records = manager.list([]) \n",
    "    p1 = mp.Process(target = worker, args=(records,))\n",
    "    p1.start()\n",
    "    p1.join()\n",
    "    print(records)\n",
    "    "
   ]
  },
  {
   "cell_type": "code",
   "execution_count": 32,
   "metadata": {},
   "outputs": [
    {
     "name": "stdout",
     "output_type": "stream",
     "text": [
      "<ListProxy object, typeid 'list' at 0x7f1000d89198; '__str__()' failed>\n"
     ]
    }
   ],
   "source": [
    "with mp.Manager() as manager:\n",
    "    print(records)"
   ]
  },
  {
   "cell_type": "code",
   "execution_count": null,
   "metadata": {},
   "outputs": [],
   "source": []
  }
 ],
 "metadata": {
  "kernelspec": {
   "display_name": "Python 3",
   "language": "python",
   "name": "python3"
  },
  "language_info": {
   "codemirror_mode": {
    "name": "ipython",
    "version": 3
   },
   "file_extension": ".py",
   "mimetype": "text/x-python",
   "name": "python",
   "nbconvert_exporter": "python",
   "pygments_lexer": "ipython3",
   "version": "3.7.3"
  }
 },
 "nbformat": 4,
 "nbformat_minor": 2
}
