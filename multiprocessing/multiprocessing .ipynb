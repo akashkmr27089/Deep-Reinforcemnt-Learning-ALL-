{
 "cells": [
  {
   "cell_type": "markdown",
   "metadata": {},
   "source": [
    "## Multiprocessing "
   ]
  },
  {
   "cell_type": "code",
   "execution_count": 1,
   "metadata": {},
   "outputs": [
    {
     "name": "stdout",
     "output_type": "stream",
     "text": [
      "number of cpu : 8\n"
     ]
    }
   ],
   "source": [
    "import multiprocessing as mp\n",
    "print(\"number of cpu :\", mp.cpu_count())"
   ]
  },
  {
   "cell_type": "code",
   "execution_count": 2,
   "metadata": {},
   "outputs": [],
   "source": [
    "def printing(data = 'asia'):\n",
    "    print(data)"
   ]
  },
  {
   "cell_type": "markdown",
   "metadata": {},
   "source": [
    "###  Creating a single process parallelly\n",
    "\n",
    "1. Need to used start to start the process \n",
    "2. Need to use join to wait for the program to stoop and when its done, close the program otherwise need to kill with the task manager"
   ]
  },
  {
   "cell_type": "code",
   "execution_count": 3,
   "metadata": {
    "collapsed": true
   },
   "outputs": [
    {
     "name": "stdout",
     "output_type": "stream",
     "text": [
      "asia\n"
     ]
    }
   ],
   "source": [
    "proc = mp.Process(target = printing)\n",
    "proc.start()\n",
    "proc.join()"
   ]
  },
  {
   "cell_type": "markdown",
   "metadata": {},
   "source": [
    "### Creating a multiple process all printing differnet names \n",
    "\n",
    "1. The following implementation may not work parallely as it waits afterward for ending of one process .. and than going to another loop"
   ]
  },
  {
   "cell_type": "code",
   "execution_count": 6,
   "metadata": {},
   "outputs": [
    {
     "name": "stdout",
     "output_type": "stream",
     "text": [
      "asia\n",
      "africa\n",
      "india\n",
      "antarctica\n"
     ]
    }
   ],
   "source": [
    "names = ['asia', 'africa', 'india', 'antarctica']\n",
    "for name in names:\n",
    "    proc = mp.Process(target = printing, args=(name,))\n",
    "    proc.start();\n",
    "    proc.join()"
   ]
  },
  {
   "cell_type": "markdown",
   "metadata": {},
   "source": [
    "2. The following implementaion may work as the process are waited for after all the process have started "
   ]
  },
  {
   "cell_type": "code",
   "execution_count": 8,
   "metadata": {},
   "outputs": [
    {
     "name": "stdout",
     "output_type": "stream",
     "text": [
      "asia\n",
      "africa\n",
      "india\n",
      "antarctica\n"
     ]
    }
   ],
   "source": [
    "names = ['asia', 'africa', 'india', 'antarctica']\n",
    "prolist = []\n",
    "for name in names:\n",
    "    proc = mp.Process(target = printing, args=(name,))\n",
    "    proc.start();\n",
    "    prolist.append(proc)\n",
    "    \n",
    "for proc in prolist:\n",
    "    proc.join()"
   ]
  },
  {
   "cell_type": "markdown",
   "metadata": {},
   "source": [
    "## For better demonstartion \n",
    "1. Below are some interating functions which are created for giving insights on more about the same problem as mentioned "
   ]
  },
  {
   "cell_type": "code",
   "execution_count": 24,
   "metadata": {},
   "outputs": [],
   "source": [
    "def printing(fixed = 'my', data = 5):\n",
    "    for i in range(data): print(fixed, i)"
   ]
  },
  {
   "cell_type": "code",
   "execution_count": 28,
   "metadata": {
    "collapsed": true
   },
   "outputs": [
    {
     "name": "stdout",
     "output_type": "stream",
     "text": [
      "data0 0\n",
      "data0 1\n",
      "data0 2\n",
      "data0 3\n",
      "data0 4\n",
      "data1 0\n",
      "data1 2\n",
      "data1 1\n",
      "data1 3\n",
      "data1 4\n",
      "data2 0\n",
      "data2 1\n",
      "data2 2\n",
      "data2 3\n",
      "data2 4\n",
      "data3 0\n",
      "data3 1\n",
      "data3 2\n",
      "data3 3\n",
      "data3 4\n"
     ]
    }
   ],
   "source": [
    "for i in range(4):\n",
    "    proc = mp.Process(target = printing, args = ('data'+str(i),5,))\n",
    "    proc.start()\n",
    "    proc.join()\n"
   ]
  },
  {
   "cell_type": "markdown",
   "metadata": {},
   "source": [
    "2. Below is the correct implementation of process which are working multiple program"
   ]
  },
  {
   "cell_type": "code",
   "execution_count": 29,
   "metadata": {},
   "outputs": [
    {
     "name": "stdout",
     "output_type": "stream",
     "text": [
      "data0 0\n",
      "data0 1\n",
      "data0 2\n",
      "data1 0\n",
      "data0 3\n",
      "data1 1\n",
      "data1 2\n",
      "data1 3\n",
      "data1 4\n",
      "data0 4\n",
      "data2 0\n",
      "data2 1\n",
      "data2 2\n",
      "data2 3\n",
      "data2 4\n",
      "data3 0\n",
      "data3 1\n",
      "data3 2\n",
      "data3 3\n",
      "data3 4\n"
     ]
    }
   ],
   "source": [
    "prolist = []\n",
    "for i in range(4):\n",
    "    proc = mp.Process(target = printing, args = ('data'+str(i),5,))\n",
    "    prolist.append(proc)\n",
    "    proc.start()\n",
    "    \n",
    "for proc in prolist:\n",
    "    proc.join()"
   ]
  },
  {
   "cell_type": "markdown",
   "metadata": {},
   "source": [
    "## Queue in Multiprocessing\n",
    "\n",
    "->this queue is used by multiprocessing library which keeps on waiting for get() until something is not being put() --> wheare as in normal queue(), this thing is not possible, it will simply say that the queue is empty.\n",
    "\n",
    "Wheaas same thing could be replicated like that of normal queue by queue().get_nowait()"
   ]
  },
  {
   "cell_type": "code",
   "execution_count": 51,
   "metadata": {},
   "outputs": [],
   "source": [
    "import queue as Q\n",
    "queue = mp.Queue()\n",
    "for i in range(5):\n",
    "    queue.put(i)\n",
    "while not queue.empty():\n",
    "    print(queue.get())\n",
    "while(True):\n",
    "    try:\n",
    "        print(queue.get_nowait())\n",
    "    except Q.Empty:  #this acts like queue is ended \n",
    "        break"
   ]
  },
  {
   "cell_type": "markdown",
   "metadata": {},
   "source": [
    "### Lock\n",
    "\n",
    "--> if there are multipule process using same segment of code, then one can use lock so than only the one who aquired the lock can access the code.\n",
    "\n",
    "--> Remaining can only access the code only when realeased\n",
    "\n",
    "acquire() and release()"
   ]
  },
  {
   "cell_type": "code",
   "execution_count": 54,
   "metadata": {},
   "outputs": [
    {
     "name": "stdout",
     "output_type": "stream",
     "text": [
      "nation\n",
      " Else Statement Executed \n"
     ]
    }
   ],
   "source": [
    "try:\n",
    "    print(\"nation\")\n",
    "except KeyboardInterrupt:\n",
    "    print(\"Intrupt\")\n",
    "else:\n",
    "    print(\" Else Statement Executed \")   # else statement occurs\n",
    "    #if there is no exception is found in try"
   ]
  },
  {
   "cell_type": "code",
   "execution_count": 55,
   "metadata": {},
   "outputs": [],
   "source": [
    "import queue as Q\n",
    "def task_scheduler(done_process, to_be_done_process):\n",
    "    while True:\n",
    "        #will run until the process list is not empty\n",
    "        try:\n",
    "            task = to_be_done_process.get_nowait()\n",
    "        except Q.Empty:\n",
    "            break\n",
    "        else:\n",
    "            # will be executed if there is no exception \n",
    "            print(task, mp.current_process())"
   ]
  },
  {
   "cell_type": "code",
   "execution_count": null,
   "metadata": {},
   "outputs": [],
   "source": [
    "done_process = mp.Queue()\n",
    "to_be_done_process = mp.Q"
   ]
  }
 ],
 "metadata": {
  "kernelspec": {
   "display_name": "Python 3",
   "language": "python",
   "name": "python3"
  },
  "language_info": {
   "codemirror_mode": {
    "name": "ipython",
    "version": 3
   },
   "file_extension": ".py",
   "mimetype": "text/x-python",
   "name": "python",
   "nbconvert_exporter": "python",
   "pygments_lexer": "ipython3",
   "version": "3.7.3"
  }
 },
 "nbformat": 4,
 "nbformat_minor": 2
}
