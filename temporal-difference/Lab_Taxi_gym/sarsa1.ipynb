{
 "cells": [
  {
   "cell_type": "code",
   "execution_count": 1,
   "metadata": {},
   "outputs": [],
   "source": [
    "import gym\n",
    "import numpy as np\n",
    "from bayes_opt  import BayesianOptimization\n",
    "import numpy as np\n",
    "from collections import defaultdict\n",
    "import random\n",
    "from collections import deque\n",
    "import sys\n",
    "import math"
   ]
  },
  {
   "cell_type": "code",
   "execution_count": 2,
   "metadata": {},
   "outputs": [],
   "source": [
    "env = gym.make('Taxi-v3')\n",
    "Q = defaultdict(lambda: np.zeros(env.nA))\n",
    "num_episodes = 2000"
   ]
  },
  {
   "cell_type": "code",
   "execution_count": 3,
   "metadata": {},
   "outputs": [],
   "source": [
    "class Agent:\n",
    "\n",
    "    def __init__(self, epsilon, alpha, gamma, eps_start):\n",
    "        global Q\n",
    "        self.nA = 6\n",
    "        self.Q = Q\n",
    "        self.eps_start = eps_start\n",
    "        self.eps_decay = 0.9999\n",
    "        self.epsilon = epsilon\n",
    "        self.alpha = alpha\n",
    "        self.gamma = gamma\n",
    "\n",
    "    def q_pros(self, Q_state):\n",
    "        policy = np.ones(self.nA)*(self.epsilon/self.nA)\n",
    "        best_arg = np.argmax(Q_state)\n",
    "        policy[best_arg] = (1 - self.epsilon) + (self.epsilon/self.nA)\n",
    "        return policy\n",
    "\n",
    "    def select_action(self, state):\n",
    "        if random.uniform(0,1) < self.epsilon:\n",
    "            return random.randint(0,5)\n",
    "        else:\n",
    "            return np.argmax(self.Q[state])\n",
    "\n",
    "    def step(self, state, action, next_state, next_action, next_next_state, next_next_action,reward, reward_next,done):\n",
    "        if not done:\n",
    "            reward = reward + self.gamma*reward_next\n",
    "            new_value = Q[next_state][next_action] + self.gamma*Q[next_next_state][next_next_action]\n",
    "            self.Q[state][action] = self.Q[state][action] + self.alpha*(reward + self.gamma*new_value -self.Q[state][action])\n",
    "        else:\n",
    "            self.epsilon = max(self.epsilon*self.eps_decay, self.eps_start)\n",
    "            self.Q[state][action] = self.Q[state][action] + self.alpha*(reward - self.Q[state][action])"
   ]
  },
  {
   "cell_type": "code",
   "execution_count": 4,
   "metadata": {},
   "outputs": [],
   "source": [
    "def interact(env, agent, num_episodes=20000, window=100):\n",
    "    global Q\n",
    "    avg_rewards = deque(maxlen=num_episodes)\n",
    "    best_avg_reward = -math.inf\n",
    "    samp_rewards = deque(maxlen=window)\n",
    "    for i_episode in range(1, num_episodes+1):\n",
    "        state = env.reset()\n",
    "        samp_reward = 0\n",
    "        while True:\n",
    "            action = agent.select_action(state)\n",
    "            next_state, reward, done, _ = env.step(action)\n",
    "            next_action = np.random.choice(np.arange(env.nA), p=agent.q_pros(Q[next_state]))\n",
    "            next_next_state, reward_next, done, _ = env.step(next_action)\n",
    "            next_next_action = np.random.choice(np.arange(env.nA), p=agent.q_pros(Q[next_next_state]))\n",
    "            agent.step(state, action, next_state, next_action, next_next_state, next_next_action, reward, reward_next, done)\n",
    "            samp_reward += reward\n",
    "            # update the state (s <- s') to next time step\n",
    "            state = next_state\n",
    "            if done:\n",
    "                # save final sampled reward\n",
    "                samp_rewards.append(samp_reward)\n",
    "                break\n",
    "        if (i_episode >= 100):\n",
    "            # get average reward from last 100 episodes\n",
    "            avg_reward = np.mean(samp_rewards)\n",
    "            # append to deque\n",
    "            avg_rewards.append(avg_reward)\n",
    "            # update best average reward\n",
    "            if avg_reward > best_avg_reward:\n",
    "                best_avg_reward = avg_reward\n",
    "        # monitor progress\n",
    "        print(\"\\rEpisode {}/{} || Best average reward {}\".format(i_episode, num_episodes, best_avg_reward), end=\"\")\n",
    "        sys.stdout.flush()\n",
    "        # check if task is solved (according to OpenAI Gym)\n",
    "        if best_avg_reward >= 9.7:\n",
    "            print('\\nEnvironment solved in {} episodes.'.format(i_episode), end=\"\")\n",
    "            break\n",
    "        if i_episode == num_episodes: print('\\n')\n",
    "    return avg_rewards, best_avg_reward"
   ]
  },
  {
   "cell_type": "code",
   "execution_count": 5,
   "metadata": {},
   "outputs": [],
   "source": [
    "def interact_wrapper(epsilon, alpha, gamma, eps_start):\n",
    "    agent = Agent(epsilon=epsilon, alpha=alpha, gamma=gamma, eps_start=eps_start)\n",
    "    avg_rewards, best_avg_reward = interact(env, agent, num_episodes)\n",
    "    return best_avg_reward"
   ]
  },
  {
   "cell_type": "code",
   "execution_count": 6,
   "metadata": {},
   "outputs": [
    {
     "name": "stdout",
     "output_type": "stream",
     "text": [
      "|   iter    |  target   |   alpha   | eps_start |  epsilon  |   gamma   |\n",
      "-------------------------------------------------------------------------\n",
      "Episode 2000/2000 || Best average reward -49.962\n",
      "\n",
      "| \u001b[0m 1       \u001b[0m | \u001b[0m-49.96   \u001b[0m | \u001b[0m 0.1     \u001b[0m | \u001b[0m 0.1     \u001b[0m | \u001b[0m 0.1     \u001b[0m | \u001b[0m 0.9     \u001b[0m |\n",
      "Episode 2000/2000 || Best average reward -22.24\n",
      "\n",
      "| \u001b[95m 2       \u001b[0m | \u001b[95m-22.24   \u001b[0m | \u001b[95m 0.1454  \u001b[0m | \u001b[95m 0.1952  \u001b[0m | \u001b[95m 0.07559 \u001b[0m | \u001b[95m 0.6757  \u001b[0m |\n",
      "Episode 2000/2000 || Best average reward -24.29\n",
      "\n",
      "| \u001b[0m 3       \u001b[0m | \u001b[0m-24.29   \u001b[0m | \u001b[0m 0.383   \u001b[0m | \u001b[0m 0.1619  \u001b[0m | \u001b[0m 0.0681  \u001b[0m | \u001b[0m 0.7073  \u001b[0m |\n",
      "Episode 2000/2000 || Best average reward -27.18\n",
      "\n",
      "| \u001b[0m 4       \u001b[0m | \u001b[0m-27.18   \u001b[0m | \u001b[0m 0.3824  \u001b[0m | \u001b[0m 0.05686 \u001b[0m | \u001b[0m 0.03304 \u001b[0m | \u001b[0m 0.512   \u001b[0m |\n",
      "Episode 2000/2000 || Best average reward -17.62\n",
      "\n",
      "| \u001b[95m 5       \u001b[0m | \u001b[95m-17.6    \u001b[0m | \u001b[95m 0.1395  \u001b[0m | \u001b[95m 0.06708 \u001b[0m | \u001b[95m 0.06768 \u001b[0m | \u001b[95m 0.6611  \u001b[0m |\n",
      "Episode 2000/2000 || Best average reward -18.85\n",
      "\n",
      "| \u001b[0m 6       \u001b[0m | \u001b[0m-18.85   \u001b[0m | \u001b[0m 0.1425  \u001b[0m | \u001b[0m 0.08751 \u001b[0m | \u001b[0m 0.0681  \u001b[0m | \u001b[0m 0.6573  \u001b[0m |\n",
      "Episode 2000/2000 || Best average reward -17.24\n",
      "\n",
      "| \u001b[95m 7       \u001b[0m | \u001b[95m-17.24   \u001b[0m | \u001b[95m 0.1311  \u001b[0m | \u001b[95m 0.06552 \u001b[0m | \u001b[95m 0.06905 \u001b[0m | \u001b[95m 0.67    \u001b[0m |\n",
      "Episode 2000/2000 || Best average reward -18.0\n",
      "\n",
      "| \u001b[0m 8       \u001b[0m | \u001b[0m-18.0    \u001b[0m | \u001b[0m 0.1216  \u001b[0m | \u001b[0m 0.0623  \u001b[0m | \u001b[0m 0.06828 \u001b[0m | \u001b[0m 0.6614  \u001b[0m |\n",
      "Episode 2000/2000 || Best average reward -18.61\n",
      "\n",
      "| \u001b[0m 9       \u001b[0m | \u001b[0m-18.61   \u001b[0m | \u001b[0m 0.1353  \u001b[0m | \u001b[0m 0.06551 \u001b[0m | \u001b[0m 0.05738 \u001b[0m | \u001b[0m 0.6754  \u001b[0m |\n",
      "Episode 2000/2000 || Best average reward -17.74\n",
      "\n",
      "| \u001b[0m 10      \u001b[0m | \u001b[0m-17.74   \u001b[0m | \u001b[0m 0.133   \u001b[0m | \u001b[0m 0.07019 \u001b[0m | \u001b[0m 0.0805  \u001b[0m | \u001b[0m 0.6675  \u001b[0m |\n",
      "Episode 2000/2000 || Best average reward -17.75\n",
      "\n",
      "| \u001b[0m 11      \u001b[0m | \u001b[0m-17.75   \u001b[0m | \u001b[0m 0.1295  \u001b[0m | \u001b[0m 0.07383 \u001b[0m | \u001b[0m 0.06864 \u001b[0m | \u001b[0m 0.666   \u001b[0m |\n",
      "Episode 2000/2000 || Best average reward -17.57\n",
      "\n",
      "| \u001b[0m 12      \u001b[0m | \u001b[0m-17.57   \u001b[0m | \u001b[0m 0.1347  \u001b[0m | \u001b[0m 0.05619 \u001b[0m | \u001b[0m 0.07441 \u001b[0m | \u001b[0m 0.6686  \u001b[0m |\n",
      "Episode 2000/2000 || Best average reward -16.23\n",
      "\n",
      "| \u001b[95m 13      \u001b[0m | \u001b[95m-16.23   \u001b[0m | \u001b[95m 0.3064  \u001b[0m | \u001b[95m 0.0337  \u001b[0m | \u001b[95m 0.04042 \u001b[0m | \u001b[95m 0.727   \u001b[0m |\n",
      "Episode 2000/2000 || Best average reward -17.0\n",
      "\n",
      "| \u001b[0m 14      \u001b[0m | \u001b[0m-17.0    \u001b[0m | \u001b[0m 0.4249  \u001b[0m | \u001b[0m 0.01327 \u001b[0m | \u001b[0m 0.0623  \u001b[0m | \u001b[0m 0.6802  \u001b[0m |\n",
      "Episode 2000/2000 || Best average reward -23.31\n",
      "\n",
      "| \u001b[0m 15      \u001b[0m | \u001b[0m-23.31   \u001b[0m | \u001b[0m 0.2173  \u001b[0m | \u001b[0m 0.1199  \u001b[0m | \u001b[0m 0.04749 \u001b[0m | \u001b[0m 0.7587  \u001b[0m |\n",
      "Episode 2000/2000 || Best average reward -17.67\n",
      "\n",
      "| \u001b[0m 16      \u001b[0m | \u001b[0m-17.6    \u001b[0m | \u001b[0m 0.1757  \u001b[0m | \u001b[0m 0.04389 \u001b[0m | \u001b[0m 0.04058 \u001b[0m | \u001b[0m 0.6196  \u001b[0m |\n",
      "Episode 2000/2000 || Best average reward -17.26\n",
      "\n",
      "| \u001b[0m 17      \u001b[0m | \u001b[0m-17.26   \u001b[0m | \u001b[0m 0.3158  \u001b[0m | \u001b[0m 0.03058 \u001b[0m | \u001b[0m 0.04188 \u001b[0m | \u001b[0m 0.7231  \u001b[0m |\n",
      "Episode 2000/2000 || Best average reward -17.95\n",
      "\n",
      "| \u001b[0m 18      \u001b[0m | \u001b[0m-17.95   \u001b[0m | \u001b[0m 0.3914  \u001b[0m | \u001b[0m 0.0359  \u001b[0m | \u001b[0m 0.05909 \u001b[0m | \u001b[0m 0.544   \u001b[0m |\n",
      "Episode 2000/2000 || Best average reward -17.77\n",
      "\n",
      "| \u001b[0m 19      \u001b[0m | \u001b[0m-17.77   \u001b[0m | \u001b[0m 0.1389  \u001b[0m | \u001b[0m 0.06551 \u001b[0m | \u001b[0m 0.05081 \u001b[0m | \u001b[0m 0.7211  \u001b[0m |\n",
      "Episode 2000/2000 || Best average reward -29.87\n",
      "\n",
      "| \u001b[0m 20      \u001b[0m | \u001b[0m-29.87   \u001b[0m | \u001b[0m 0.1731  \u001b[0m | \u001b[0m 0.1356  \u001b[0m | \u001b[0m 0.08887 \u001b[0m | \u001b[0m 0.9765  \u001b[0m |\n",
      "Episode 2000/2000 || Best average reward -17.84\n",
      "\n",
      "| \u001b[0m 21      \u001b[0m | \u001b[0m-17.84   \u001b[0m | \u001b[0m 0.4222  \u001b[0m | \u001b[0m 0.01174 \u001b[0m | \u001b[0m 0.06551 \u001b[0m | \u001b[0m 0.6756  \u001b[0m |\n",
      "Episode 2000/2000 || Best average reward -16.93\n",
      "\n",
      "| \u001b[0m 22      \u001b[0m | \u001b[0m-16.93   \u001b[0m | \u001b[0m 0.3013  \u001b[0m | \u001b[0m 0.02751 \u001b[0m | \u001b[0m 0.04258 \u001b[0m | \u001b[0m 0.7256  \u001b[0m |\n",
      "Episode 2000/2000 || Best average reward -17.66\n",
      "\n",
      "| \u001b[0m 23      \u001b[0m | \u001b[0m-17.66   \u001b[0m | \u001b[0m 0.3052  \u001b[0m | \u001b[0m 0.03911 \u001b[0m | \u001b[0m 0.04694 \u001b[0m | \u001b[0m 0.7274  \u001b[0m |\n",
      "Episode 2000/2000 || Best average reward -17.99\n",
      "\n",
      "| \u001b[0m 24      \u001b[0m | \u001b[0m-17.99   \u001b[0m | \u001b[0m 0.1422  \u001b[0m | \u001b[0m 0.083   \u001b[0m | \u001b[0m 0.06669 \u001b[0m | \u001b[0m 0.66    \u001b[0m |\n",
      "Episode 2000/2000 || Best average reward -23.84\n",
      "\n",
      "| \u001b[0m 25      \u001b[0m | \u001b[0m-23.84   \u001b[0m | \u001b[0m 0.3844  \u001b[0m | \u001b[0m 0.1263  \u001b[0m | \u001b[0m 0.05278 \u001b[0m | \u001b[0m 0.5438  \u001b[0m |\n",
      "Episode 962/2000 || Best average reward -34.23"
     ]
    },
    {
     "name": "stderr",
     "output_type": "stream",
     "text": [
      "C:\\ProgramData\\Anaconda3\\lib\\site-packages\\ipykernel_launcher.py:28: RuntimeWarning: overflow encountered in double_scalars\n",
      "C:\\ProgramData\\Anaconda3\\lib\\site-packages\\ipykernel_launcher.py:29: RuntimeWarning: invalid value encountered in double_scalars\n"
     ]
    },
    {
     "name": "stdout",
     "output_type": "stream",
     "text": [
      "Episode 2000/2000 || Best average reward -34.23\n",
      "\n",
      "| \u001b[0m 26      \u001b[0m | \u001b[0m-34.23   \u001b[0m | \u001b[0m 0.3614  \u001b[0m | \u001b[0m 0.08667 \u001b[0m | \u001b[0m 0.09662 \u001b[0m | \u001b[0m 0.9105  \u001b[0m |\n",
      "Episode 2000/2000 || Best average reward -55.92\n",
      "\n",
      "| \u001b[0m 27      \u001b[0m | \u001b[0m-55.92   \u001b[0m | \u001b[0m 0.1233  \u001b[0m | \u001b[0m 0.1238  \u001b[0m | \u001b[0m 0.04872 \u001b[0m | \u001b[0m 0.935   \u001b[0m |\n",
      "Episode 2000/2000 || Best average reward -32.48\n",
      "\n",
      "| \u001b[0m 28      \u001b[0m | \u001b[0m-32.4    \u001b[0m | \u001b[0m 0.3046  \u001b[0m | \u001b[0m 0.0351  \u001b[0m | \u001b[0m 0.01771 \u001b[0m | \u001b[0m 0.7338  \u001b[0m |\n",
      "Episode 2000/2000 || Best average reward -31.67\n",
      "\n",
      "| \u001b[0m 29      \u001b[0m | \u001b[0m-31.67   \u001b[0m | \u001b[0m 0.3078  \u001b[0m | \u001b[0m 0.03101 \u001b[0m | \u001b[0m 0.04453 \u001b[0m | \u001b[0m 0.7248  \u001b[0m |\n",
      "Episode 2000/2000 || Best average reward -57.52\n",
      "\n",
      "| \u001b[0m 30      \u001b[0m | \u001b[0m-57.52   \u001b[0m | \u001b[0m 0.488   \u001b[0m | \u001b[0m 0.1644  \u001b[0m | \u001b[0m 0.09396 \u001b[0m | \u001b[0m 0.8612  \u001b[0m |\n",
      "=========================================================================\n"
     ]
    }
   ],
   "source": [
    "pbounds = {'epsilon': (0.01, 0.1), 'alpha': (0.1, 0.5), 'gamma': (0.5, 1.0), 'eps_start': (0.01, 0.2)}\n",
    "\n",
    "optimizer = BayesianOptimization(\n",
    "    f=interact_wrapper,\n",
    "    pbounds=pbounds,\n",
    "    random_state=47\n",
    ")\n",
    "\n",
    "optimizer.probe(\n",
    "    params={'epsilon': 0.1, 'alpha': 0.1, 'gamma': 0.9, 'eps_start': 0.1},\n",
    "    lazy=True,\n",
    ")\n",
    "\n",
    "optimizer.maximize(\n",
    "    init_points=4,\n",
    "    n_iter=25\n",
    ")"
   ]
  },
  {
   "cell_type": "code",
   "execution_count": 9,
   "metadata": {},
   "outputs": [],
   "source": [
    "import time\n",
    "import IPython\n",
    "IPython.display.clear_output()\n",
    "num_episodes2 = 20000"
   ]
  },
  {
   "cell_type": "code",
   "execution_count": 10,
   "metadata": {},
   "outputs": [
    {
     "name": "stdout",
     "output_type": "stream",
     "text": [
      "Episode 20000/20000 || Best average reward -31.21\n",
      "\n"
     ]
    }
   ],
   "source": [
    "agent = Agent(alpha = 0.3064 , eps_start = 0.0337, epsilon = 0.04042, gamma = 0.727)\n",
    "avg_rewards, best_avg_reward = interact(env, agent, num_episodes2) "
   ]
  },
  {
   "cell_type": "code",
   "execution_count": null,
   "metadata": {},
   "outputs": [],
   "source": [
    " 0.3064   |  0.0337   |  0.04042  |  0.727    |"
   ]
  },
  {
   "cell_type": "code",
   "execution_count": null,
   "metadata": {},
   "outputs": [],
   "source": [
    "Q[0]"
   ]
  },
  {
   "cell_type": "code",
   "execution_count": null,
   "metadata": {},
   "outputs": [],
   "source": []
  }
 ],
 "metadata": {
  "kernelspec": {
   "display_name": "Python 3",
   "language": "python",
   "name": "python3"
  },
  "language_info": {
   "codemirror_mode": {
    "name": "ipython",
    "version": 3
   },
   "file_extension": ".py",
   "mimetype": "text/x-python",
   "name": "python",
   "nbconvert_exporter": "python",
   "pygments_lexer": "ipython3",
   "version": "3.6.4"
  }
 },
 "nbformat": 4,
 "nbformat_minor": 2
}
