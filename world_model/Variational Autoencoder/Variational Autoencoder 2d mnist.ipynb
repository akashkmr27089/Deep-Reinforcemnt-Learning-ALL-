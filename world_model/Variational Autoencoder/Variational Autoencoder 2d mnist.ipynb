{
 "cells": [
  {
   "cell_type": "code",
   "execution_count": 1,
   "metadata": {},
   "outputs": [],
   "source": [
    "import torch\n",
    "import torchvision\n",
    "from torch import nn\n",
    "from torch.autograd import Variable\n",
    "from torch.utils.data import DataLoader\n",
    "from torchvision import transforms\n",
    "from torchvision.utils import save_image\n",
    "from torchvision.datasets import MNIST\n",
    "import os\n",
    "import numpy as np\n",
    "from torchsummary import summary #for summary\n",
    "import matplotlib.pyplot as plt\n",
    "\n",
    "if not os.path.exists('./dc_img'):\n",
    "    os.mkdir('./dc_img')\n",
    "\n",
    "device = 'cuda' if torch.cuda.is_available() else 'cpu'\n",
    "np.random.seed = 23"
   ]
  },
  {
   "cell_type": "code",
   "execution_count": 4,
   "metadata": {},
   "outputs": [],
   "source": [
    "def to_img(x):\n",
    "    x = 0.5 * (x + 1)\n",
    "    x = x.clamp(0, 1)\n",
    "    x = x.view(x.size(0), 1, 28, 28)\n",
    "    return x\n",
    "  \n",
    "\n",
    "num_epochs = 100\n",
    "batch_size = 32\n",
    "learning_rate = 1e-3\n",
    "\n",
    "img_transform = transforms.Compose([\n",
    "    transforms.ToTensor(),\n",
    "    transforms.Normalize((0.5), (0.5))\n",
    "])\n",
    "\n",
    "dataset = MNIST('./data', transform=img_transform, download=False)\n",
    "dataloader = DataLoader(dataset, batch_size=batch_size, shuffle=True)"
   ]
  },
  {
   "cell_type": "code",
   "execution_count": 47,
   "metadata": {},
   "outputs": [
    {
     "name": "stdout",
     "output_type": "stream",
     "text": [
      "----------------------------------------------------------------\n",
      "        Layer (type)               Output Shape         Param #\n",
      "================================================================\n",
      "            Conv2d-1           [-1, 16, 10, 10]             160\n",
      "              ReLU-2           [-1, 16, 10, 10]               0\n",
      "         MaxPool2d-3             [-1, 16, 5, 5]               0\n",
      "            Conv2d-4              [-1, 8, 3, 3]           1,160\n",
      "              ReLU-5              [-1, 8, 3, 3]               0\n",
      "         MaxPool2d-6              [-1, 8, 2, 2]               0\n",
      "================================================================\n",
      "Total params: 1,320\n",
      "Trainable params: 1,320\n",
      "Non-trainable params: 0\n",
      "----------------------------------------------------------------\n",
      "Input size (MB): 0.00\n",
      "Forward/backward pass size (MB): 0.03\n",
      "Params size (MB): 0.01\n",
      "Estimated Total Size (MB): 0.04\n",
      "----------------------------------------------------------------\n",
      "----------------------------------------------------------------\n",
      "        Layer (type)               Output Shape         Param #\n",
      "================================================================\n",
      "   ConvTranspose2d-1             [-1, 16, 5, 5]           1,168\n",
      "              ReLU-2             [-1, 16, 5, 5]               0\n",
      "   ConvTranspose2d-3            [-1, 8, 15, 15]           3,208\n",
      "              ReLU-4            [-1, 8, 15, 15]               0\n",
      "   ConvTranspose2d-5            [-1, 1, 28, 28]              33\n",
      "              Tanh-6            [-1, 1, 28, 28]               0\n",
      "================================================================\n",
      "Total params: 4,409\n",
      "Trainable params: 4,409\n",
      "Non-trainable params: 0\n",
      "----------------------------------------------------------------\n",
      "Input size (MB): 0.00\n",
      "Forward/backward pass size (MB): 0.05\n",
      "Params size (MB): 0.02\n",
      "Estimated Total Size (MB): 0.06\n",
      "----------------------------------------------------------------\n"
     ]
    }
   ],
   "source": [
    "class encoder(nn.Module):\n",
    "    def __init__(self):\n",
    "        super(encoder, self).__init__()\n",
    "        self.encoder = nn.Sequential(\n",
    "            nn.Conv2d(1, 16, 3, stride=3, padding=1),  # b, 16, 10, 10\n",
    "            nn.ReLU(True),\n",
    "            nn.MaxPool2d(2, stride=2),  # b, 16, 5, 5\n",
    "            nn.Conv2d(16, 8, 3, stride=2, padding=1),  # b, 8, 3, 3\n",
    "            nn.ReLU(True),\n",
    "            nn.MaxPool2d(2, stride=1)  # b, 8, 2, 2\n",
    "        )\n",
    "        \n",
    "    def forward(self, data):\n",
    "        return self.encoder(data)\n",
    "    \n",
    "class decoder(nn.Module):\n",
    "    def __init__(self):\n",
    "        super(decoder, self).__init__()\n",
    "        self.decoder = nn.Sequential(\n",
    "            nn.ConvTranspose2d(8, 16, 3, stride=2),  # b, 16, 5, 5\n",
    "            nn.ReLU(True),\n",
    "            nn.ConvTranspose2d(16, 8, 5, stride=3, padding=1),  # b, 8, 15, 15\n",
    "            nn.ReLU(True),\n",
    "            nn.ConvTranspose2d(8, 1, 2, stride=2, padding=1),  # b, 1, 28, 28\n",
    "            nn.Tanh()\n",
    "        )\n",
    "    \n",
    "    def forward(self,data):\n",
    "        return self.decoder(data)\n",
    "    \n",
    "\n",
    "class VariationalAutoencoder(nn.Module):\n",
    "    def __init__(self):\n",
    "        super(VariationalAutoencoder, self).__init__()\n",
    "        self.input_size = 32\n",
    "        self.output_size = 32\n",
    "        self.encoder_model = encoder().to(device)\n",
    "        self.decoder_model  = decoder().to(device)\n",
    "        self.fc1 = nn.Linear(32,32).to(device)\n",
    "        self.fc2 = nn.Linear(32,32).to(device)\n",
    "        \n",
    "    def forward(self, data):\n",
    "        x = self.encoder_model(data)\n",
    "        encoder_out = x.reshape([batch_size, 32]).to(device)\n",
    "        self.mean_out = self.fc1(encoder_out)\n",
    "        self.log_sigma = self.fc1(encoder_out)\n",
    "        self.std_div = torch.exp(self.log_sigma)\n",
    "        noraml_values = torch.from_numpy(np.random.normal(0,1,size=self.std_div.size())).float().to(device)\n",
    "        latent_out = self.std_div*Variable(noraml_values, requires_grad = False) + self.mean_out\n",
    "        return self.decoder_model(latent_out.reshape(batch_size, 8, 2, 2).float().to(device))\n",
    "    \n",
    "# encoder_model = encoder().to(device)\n",
    "# decoder_model = decoder().to(device)\n",
    "\n",
    "# summary(encoder_model, (1,28,28))\n",
    "# summary(decoder_model, (8,2,2))\n",
    "\n",
    "vae = VariationalAutoencoder().to(device)"
   ]
  },
  {
   "cell_type": "code",
   "execution_count": 75,
   "metadata": {},
   "outputs": [],
   "source": [
    "def latent_loss(mean, std_div, beta):\n",
    "    mean_sq = mean*mean\n",
    "    std_div_sq = std_div*std_div\n",
    "    return beta*torch.mean(mean_sq + std_div_sq + torch.log(std_div) - 1)\n",
    "\n",
    "criterion = nn.MSELoss()\n",
    "optimizer = torch.optim.Adam(vae.parameters(), lr=learning_rate)"
   ]
  },
  {
   "cell_type": "code",
   "execution_count": null,
   "metadata": {},
   "outputs": [
    {
     "name": "stdout",
     "output_type": "stream",
     "text": [
      "epoch [1/100], loss:-0.1671\n",
      "epoch [2/100], loss:-0.2195\n"
     ]
    }
   ],
   "source": [
    "num_epochs = 100\n",
    "beta = 0.5\n",
    "input_dim = 28*28\n",
    "\n",
    "for epoch in range(num_epochs):\n",
    "    for data in dataloader:\n",
    "        img, _ = data\n",
    "        img = img.to(device)\n",
    "        \n",
    "        # ===================forward=====================\n",
    "        output = vae.forward(img)\n",
    "        ll = latent_loss(vae.mean_out, vae.std_div, beta)\n",
    "        loss = criterion(output, img) + ll\n",
    "        # ===================backward====================\n",
    "        optimizer.zero_grad()\n",
    "        loss.backward()\n",
    "        optimizer.step()\n",
    "    # ===================log========================\n",
    "    print('epoch [{}/{}], loss:{:.4f}'\n",
    "          .format(epoch+1, num_epochs, loss.item()))\n",
    "    if epoch % 2 == 0:\n",
    "        pic = to_img(output.cpu().data)\n",
    "        save_image(pic, './dc_img/image_{}.png'.format(epoch))"
   ]
  },
  {
   "cell_type": "code",
   "execution_count": 73,
   "metadata": {},
   "outputs": [
    {
     "name": "stdout",
     "output_type": "stream",
     "text": [
      "torch.Size([32, 8, 2, 2])\n",
      "torch.Size([32, 32])\n",
      "torch.Size([32, 32])\n"
     ]
    },
    {
     "data": {
      "text/plain": [
       "torch.Size([32, 8, 2, 2])"
      ]
     },
     "execution_count": 73,
     "metadata": {},
     "output_type": "execute_result"
    }
   ],
   "source": [
    "img, _ = next(iter(dataloader))\n",
    "input_data = encoder_model(img.to(device))\n",
    "print(input_data.shape)\n",
    "input_data = input_data.reshape([batch_size, 32]).to(device)\n",
    "print(input_data.shape)\n",
    "encoded_data = layer(input_data)\n",
    "print(encoded_data.size())\n",
    "normal = torch.from_numpy(np.random.normal(0,1,encoded_data.size()))"
   ]
  },
  {
   "cell_type": "code",
   "execution_count": 44,
   "metadata": {},
   "outputs": [
    {
     "data": {
      "text/plain": [
       "torch.Size([32, 8, 2, 2])"
      ]
     },
     "execution_count": 44,
     "metadata": {},
     "output_type": "execute_result"
    }
   ],
   "source": [
    "layer = nn.Linear(8*2*2, 8*2*2).to(device)\n",
    "enc_out = encoder_model.forward(data.to(device))\n",
    "enc_out.shape"
   ]
  },
  {
   "cell_type": "code",
   "execution_count": 45,
   "metadata": {},
   "outputs": [
    {
     "data": {
      "text/plain": [
       "tensor([[ 0.2834,  0.0593, -0.0584,  ..., -0.4114,  0.5587,  0.3705],\n",
       "        [ 0.2333, -0.0044, -0.1336,  ..., -0.3824,  0.5866,  0.3876],\n",
       "        [ 0.1708,  0.0519, -0.1551,  ..., -0.5465,  0.6063,  0.4515],\n",
       "        ...,\n",
       "        [ 0.2414,  0.0509, -0.2027,  ..., -0.4368,  0.6115,  0.4508],\n",
       "        [ 0.2497,  0.0652, -0.1223,  ..., -0.4324,  0.5980,  0.3732],\n",
       "        [ 0.1742,  0.0337, -0.1588,  ..., -0.4366,  0.6183,  0.3893]],\n",
       "       device='cuda:0', grad_fn=<AddmmBackward>)"
      ]
     },
     "execution_count": 45,
     "metadata": {},
     "output_type": "execute_result"
    }
   ],
   "source": [
    "input_data = enc_out.reshape([32,32])\n",
    "layer(input_data)"
   ]
  },
  {
   "cell_type": "code",
   "execution_count": 46,
   "metadata": {},
   "outputs": [
    {
     "data": {
      "text/plain": [
       "tensor([[[0.8675, 0.8675],\n",
       "         [0.8675, 0.8675]],\n",
       "\n",
       "        [[0.4330, 0.4330],\n",
       "         [0.3076, 0.2940]],\n",
       "\n",
       "        [[0.1922, 0.1922],\n",
       "         [0.1922, 0.1922]],\n",
       "\n",
       "        [[0.4651, 0.4239],\n",
       "         [0.4559, 0.4239]],\n",
       "\n",
       "        [[0.1980, 0.4056],\n",
       "         [0.1980, 0.4056]],\n",
       "\n",
       "        [[0.0000, 0.0000],\n",
       "         [0.1321, 0.0290]],\n",
       "\n",
       "        [[0.1538, 0.2983],\n",
       "         [0.1538, 0.2983]],\n",
       "\n",
       "        [[0.0000, 0.0544],\n",
       "         [0.0641, 0.1146]]], device='cuda:0', grad_fn=<ViewBackward>)"
      ]
     },
     "execution_count": 46,
     "metadata": {},
     "output_type": "execute_result"
    }
   ],
   "source": [
    "enc_out[0].reshape([8,2,2])"
   ]
  },
  {
   "cell_type": "code",
   "execution_count": null,
   "metadata": {},
   "outputs": [],
   "source": []
  }
 ],
 "metadata": {
  "kernelspec": {
   "display_name": "Python 3",
   "language": "python",
   "name": "python3"
  },
  "language_info": {
   "codemirror_mode": {
    "name": "ipython",
    "version": 3
   },
   "file_extension": ".py",
   "mimetype": "text/x-python",
   "name": "python",
   "nbconvert_exporter": "python",
   "pygments_lexer": "ipython3",
   "version": "3.7.7"
  }
 },
 "nbformat": 4,
 "nbformat_minor": 4
}
