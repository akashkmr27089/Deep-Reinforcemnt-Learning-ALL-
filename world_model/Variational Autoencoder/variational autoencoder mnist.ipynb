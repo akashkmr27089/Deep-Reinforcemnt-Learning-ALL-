{
 "cells": [
  {
   "cell_type": "code",
   "execution_count": 98,
   "metadata": {},
   "outputs": [],
   "source": [
    "import torch\n",
    "import torchvision\n",
    "from torch import nn\n",
    "from torch.autograd import Variable\n",
    "from torch.utils.data import DataLoader\n",
    "from torchvision import transforms\n",
    "from torchvision.utils import save_image\n",
    "from torchvision.datasets import MNIST\n",
    "import os\n",
    "import numpy as np\n",
    "from torchsummary import summary #for summary\n",
    "import matplotlib.pyplot as plt\n",
    "\n",
    "if not os.path.exists('./dc_img'):\n",
    "    os.mkdir('./dc_img')\n",
    "\n",
    "device = 'cuda' if torch.cuda.is_available() else 'cpu'\n",
    "np.random.seed = 23"
   ]
  },
  {
   "cell_type": "code",
   "execution_count": 99,
   "metadata": {},
   "outputs": [],
   "source": [
    "def to_img(x):\n",
    "    x = 0.5 * (x + 1)\n",
    "    x = x.clamp(0, 1)\n",
    "    x = x.view(x.size(0), 1, 28, 28)\n",
    "    return x\n",
    "  \n",
    "\n",
    "num_epochs = 100\n",
    "batch_size = 128\n",
    "learning_rate = 1e-3\n",
    "\n",
    "img_transform = transforms.Compose([\n",
    "    transforms.ToTensor(),\n",
    "    transforms.Normalize((0.5), (0.5))\n",
    "])\n",
    "\n",
    "dataset = MNIST('./data', transform=img_transform, download=False)\n",
    "dataloader = DataLoader(dataset, batch_size=batch_size, shuffle=True)"
   ]
  },
  {
   "cell_type": "code",
   "execution_count": 233,
   "metadata": {
    "scrolled": true
   },
   "outputs": [
    {
     "name": "stdout",
     "output_type": "stream",
     "text": [
      "----------------------------------------------------------------\n",
      "        Layer (type)               Output Shape         Param #\n",
      "================================================================\n",
      "            Linear-1               [-1, 1, 100]          78,500\n",
      "            Linear-2               [-1, 1, 100]          10,100\n",
      "================================================================\n",
      "Total params: 88,600\n",
      "Trainable params: 88,600\n",
      "Non-trainable params: 0\n",
      "----------------------------------------------------------------\n",
      "Input size (MB): 0.00\n",
      "Forward/backward pass size (MB): 0.00\n",
      "Params size (MB): 0.34\n",
      "Estimated Total Size (MB): 0.34\n",
      "----------------------------------------------------------------\n",
      "----------------------------------------------------------------\n",
      "        Layer (type)               Output Shape         Param #\n",
      "================================================================\n",
      "            Linear-1             [-1, 100, 100]          10,100\n",
      "            Linear-2             [-1, 100, 784]          79,184\n",
      "================================================================\n",
      "Total params: 89,284\n",
      "Trainable params: 89,284\n",
      "Non-trainable params: 0\n",
      "----------------------------------------------------------------\n",
      "Input size (MB): 0.04\n",
      "Forward/backward pass size (MB): 0.67\n",
      "Params size (MB): 0.34\n",
      "Estimated Total Size (MB): 1.05\n",
      "----------------------------------------------------------------\n"
     ]
    }
   ],
   "source": [
    "class encoder(nn.Module):\n",
    "    def __init__(self, input_size, hidden_size, output_size):\n",
    "        super(encoder, self).__init__()\n",
    "        self.encoder = nn.Sequential(\n",
    "            nn.Linear(input_size, hidden_size),\n",
    "            nn.Linear(hidden_size, output_size)\n",
    "        )\n",
    "        \n",
    "    def forward(self, data):\n",
    "        return self.encoder(data)\n",
    "    \n",
    "class decoder(nn.Module):\n",
    "    def __init__(self, input_size, hidden_size, output_size):\n",
    "        super(decoder, self).__init__()\n",
    "        self.decoder = nn.Sequential(\n",
    "            nn.Linear(input_size, hidden_size),\n",
    "            nn.Linear(hidden_size, output_size)\n",
    "        )\n",
    "    \n",
    "    def forward(self,data):\n",
    "        return self.decoder(data)\n",
    "    \n",
    "\n",
    "class VariationalAutoencoder(nn.Module):\n",
    "    def __init__(self, input_size, hidden_size, output_size):\n",
    "        super(VariationalAutoencoder, self).__init__()\n",
    "        self.input_size = 100\n",
    "        self.output_size = 8\n",
    "        self.encoder_model = encoder(input_size, hidden_size, output_size).to(device)\n",
    "        self.decoder_model  = decoder(self.output_size, hidden_size, input_size).to(device)\n",
    "        self.fc1 = nn.Linear(self.input_size, self.output_size).to(device)\n",
    "        self.fc2 = nn.Linear(self.input_size, self.output_size).to(device)\n",
    "        \n",
    "    def forward(self, data):\n",
    "        x = self.encoder_model(data)\n",
    "        encoder_out = x.to(device)\n",
    "        self.mean_out = self.fc1(encoder_out)\n",
    "        self.std_div = self.fc1(encoder_out)\n",
    "        noraml_values = torch.from_numpy(np.random.normal(0,1,size=self.output_size)).to(device)\n",
    "        self.std_div = torch.exp(self.std_div)\n",
    "        latent_out = torch.mul(noraml_values, self.std_div) + self.mean_out\n",
    "        return self.decoder_model(latent_out.float().to(device))\n",
    "    \n",
    "\n",
    "encoder_model = encoder(28*28, 100, 100).to(device)\n",
    "decoder_model = decoder(100,100,28*28).to(device)\n",
    "\n",
    "summary(encoder_model, (1,28*28))\n",
    "summary(decoder_model, (100,100))\n",
    "\n",
    "vae = VariationalAutoencoder(28*28, 100, 100).to(device)"
   ]
  },
  {
   "cell_type": "code",
   "execution_count": 241,
   "metadata": {},
   "outputs": [],
   "source": [
    "def latent_loss(mean, std_div, beta):\n",
    "    mean_sq = mean**2\n",
    "    std_div_sq = std_div**2\n",
    "    return beta*torch.mean(mean_sq + std_div_sq + torch.log(std_div) - 1)\n",
    "\n",
    "criterion = nn.MSELoss()\n",
    "optimizer = torch.optim.Adam(vae.parameters(), lr=0.001)"
   ]
  },
  {
   "cell_type": "code",
   "execution_count": 242,
   "metadata": {},
   "outputs": [],
   "source": [
    "# test = img[0].reshape([1,1,28,28]).to(device)\n",
    "# output = vae.forward(test)\n",
    "# plt.imshow(output.reshape([28,28]).cpu().detach().numpy())"
   ]
  },
  {
   "cell_type": "code",
   "execution_count": null,
   "metadata": {},
   "outputs": [
    {
     "name": "stdout",
     "output_type": "stream",
     "text": [
      "epoch [1/100], loss:-0.2084\n",
      "epoch [2/100], loss:-0.2130\n",
      "epoch [3/100], loss:-0.2024\n",
      "epoch [4/100], loss:-0.1995\n",
      "epoch [5/100], loss:-0.2151\n",
      "epoch [6/100], loss:-0.2131\n",
      "epoch [7/100], loss:-0.2250\n",
      "epoch [8/100], loss:-0.2089\n",
      "epoch [9/100], loss:-0.2066\n",
      "epoch [10/100], loss:-0.2139\n",
      "epoch [11/100], loss:-0.2137\n",
      "epoch [12/100], loss:-0.2069\n",
      "epoch [13/100], loss:-0.2148\n",
      "epoch [14/100], loss:-0.2230\n",
      "epoch [15/100], loss:-0.2131\n",
      "epoch [16/100], loss:-0.2076\n"
     ]
    }
   ],
   "source": [
    "num_epochs = 100\n",
    "beta = 0.5\n",
    "input_dim = 28*28\n",
    "\n",
    "for epoch in range(num_epochs):\n",
    "    for data in dataloader:\n",
    "        img, _ = data\n",
    "        img = Variable(img.resize_(batch_size, input_dim)).to(device)\n",
    "        \n",
    "        # ===================forward=====================\n",
    "        output = vae.forward(img)\n",
    "        ll = latent_loss(vae.mean_out, vae.std_div, beta)\n",
    "        loss = criterion(output, img) + ll\n",
    "        # ===================backward====================\n",
    "        optimizer.zero_grad()\n",
    "        loss.backward()\n",
    "        optimizer.step()\n",
    "    # ===================log========================\n",
    "    print('epoch [{}/{}], loss:{:.4f}'\n",
    "          .format(epoch+1, num_epochs, loss.item()))\n",
    "    if epoch % 10 == 0:\n",
    "        pic = to_img(output.cpu().data)\n",
    "        save_image(pic, './dc_img/image_{}.png'.format(epoch))"
   ]
  },
  {
   "cell_type": "code",
   "execution_count": 79,
   "metadata": {},
   "outputs": [],
   "source": [
    "enc_output = encoder_model(img[0].reshape([1,1,28,28]).to(device))"
   ]
  },
  {
   "cell_type": "code",
   "execution_count": 80,
   "metadata": {},
   "outputs": [
    {
     "data": {
      "text/plain": [
       "tensor([0.3479, 0.3849, 0.0849, 0.0282, 0.0926, 0.0526, 0.0926, 0.0526, 0.0951,\n",
       "        0.0472, 0.0191, 0.0472, 0.4813, 0.4813, 0.4813, 0.4813, 0.0495, 0.0000,\n",
       "        0.0000, 0.0000, 0.3361, 0.3361, 0.2729, 0.2729, 0.2045, 0.2068, 0.1166,\n",
       "        0.2068, 0.0679, 0.0000, 0.0000, 0.0000], device='cuda:0')"
      ]
     },
     "execution_count": 80,
     "metadata": {},
     "output_type": "execute_result"
    }
   ],
   "source": [
    "enc_output.flatten().detach().to(device)"
   ]
  },
  {
   "cell_type": "code",
   "execution_count": 84,
   "metadata": {},
   "outputs": [],
   "source": [
    "layer = nn.Linear(32,32).to(device)"
   ]
  },
  {
   "cell_type": "code",
   "execution_count": 85,
   "metadata": {},
   "outputs": [
    {
     "data": {
      "text/plain": [
       "tensor([ 0.0222, -0.3375, -0.2784,  0.0292,  0.1685, -0.1493,  0.0920, -0.1439,\n",
       "         0.3920, -0.1440, -0.1780,  0.2583,  0.0262, -0.0262,  0.0156, -0.3385,\n",
       "        -0.1810, -0.2492, -0.1742, -0.0213, -0.0862,  0.1431, -0.0735,  0.0294,\n",
       "         0.1364, -0.1996,  0.2904,  0.2791, -0.1360,  0.0877,  0.3254,  0.2780],\n",
       "       device='cuda:0', grad_fn=<AddBackward0>)"
      ]
     },
     "execution_count": 85,
     "metadata": {},
     "output_type": "execute_result"
    }
   ],
   "source": [
    "layer(enc_output.flatten())"
   ]
  },
  {
   "cell_type": "code",
   "execution_count": 34,
   "metadata": {},
   "outputs": [
    {
     "data": {
      "text/plain": [
       "tensor([4.7437e-03, 4.7437e-03, 1.0842e-01, 1.0734e-01, 1.1454e-01, 0.0000e+00,\n",
       "        1.1454e-01, 0.0000e+00, 1.4589e-01, 8.1845e-02, 1.7316e-01, 1.7316e-01,\n",
       "        8.2318e-02, 8.2318e-02, 3.3016e-02, 0.0000e+00, 1.9837e-01, 0.0000e+00,\n",
       "        1.1395e-01, 0.0000e+00, 4.4489e-01, 4.4489e-01, 4.4489e-01, 4.4489e-01,\n",
       "        0.0000e+00, 0.0000e+00, 1.2180e-04, 0.0000e+00, 1.6094e-01, 0.0000e+00,\n",
       "        1.6094e-01, 5.9207e-03], device='cuda:0')"
      ]
     },
     "execution_count": 34,
     "metadata": {},
     "output_type": "execute_result"
    }
   ],
   "source": [
    "enc_output.flatten().detach().to(device)"
   ]
  },
  {
   "cell_type": "code",
   "execution_count": 77,
   "metadata": {},
   "outputs": [],
   "source": [
    "data = layer(enc_output.flatten())"
   ]
  },
  {
   "cell_type": "code",
   "execution_count": 88,
   "metadata": {},
   "outputs": [
    {
     "data": {
      "text/plain": [
       "torch.Size([32])"
      ]
     },
     "execution_count": 88,
     "metadata": {},
     "output_type": "execute_result"
    }
   ],
   "source": [
    "data.shape"
   ]
  },
  {
   "cell_type": "code",
   "execution_count": 66,
   "metadata": {},
   "outputs": [
    {
     "data": {
      "text/plain": [
       "tensor([ 0.2172, -0.1450, -0.0567,  0.0502, -0.2140,  0.0199, -0.1157,  0.2501,\n",
       "        -0.0427,  0.0933,  0.0981,  0.1532, -0.1105,  0.1093,  0.0033, -0.0025,\n",
       "         0.1739, -0.0625,  0.0688,  0.0779,  0.3500,  0.0966,  0.2517, -0.1722,\n",
       "        -0.0403,  0.2566, -0.1326, -0.1173, -0.1251,  0.1015,  0.1532,  0.3012],\n",
       "       device='cuda:0', grad_fn=<AddBackward0>)"
      ]
     },
     "execution_count": 66,
     "metadata": {},
     "output_type": "execute_result"
    }
   ],
   "source": [
    "torch.mul(data,data) +data"
   ]
  },
  {
   "cell_type": "code",
   "execution_count": null,
   "metadata": {},
   "outputs": [],
   "source": []
  }
 ],
 "metadata": {
  "kernelspec": {
   "display_name": "Python 3",
   "language": "python",
   "name": "python3"
  },
  "language_info": {
   "codemirror_mode": {
    "name": "ipython",
    "version": 3
   },
   "file_extension": ".py",
   "mimetype": "text/x-python",
   "name": "python",
   "nbconvert_exporter": "python",
   "pygments_lexer": "ipython3",
   "version": "3.7.7"
  }
 },
 "nbformat": 4,
 "nbformat_minor": 4
}
